{
 "cells": [
  {
   "cell_type": "markdown",
   "metadata": {},
   "source": [
    "## Inheritance\n",
    "\n",
    "* Inheritance allows us to create a clssification-subclassfication hierarchy.\n",
    "* A class may inherit from another class.\n",
    "* This relationship has two classes.\n",
    "* Class being Inherited.\n",
    "    * generally referred as\n",
    "        * base class\n",
    "        * **super class** <-- **PREFERRED**\n",
    "\n",
    "    * No special requiremen for designing this class.\n",
    "    * Any class can be a potential super class.\n",
    "\n",
    "* Class that inherits another class\n",
    "    * generally referred to as \n",
    "        * derived class\n",
    "        * **sub class** <-- **PREFERRED**\n",
    "\n",
    "### Inheritance forms a classification-sublcassification Hierarchy\n",
    "\n",
    "* We should inherit to implement **subclass is a typeof superclass**  model."
   ]
  },
  {
   "cell_type": "markdown",
   "metadata": {},
   "source": [
    "### Let us create a class that will act as super class.\n",
    "\n",
    "* Note there is no special requirements for being super class."
   ]
  },
  {
   "cell_type": "code",
   "execution_count": 2,
   "metadata": {},
   "outputs": [],
   "source": [
    "class Animal:\n",
    "    pass"
   ]
  },
  {
   "cell_type": "markdown",
   "metadata": {},
   "source": [
    "#### Let us create a sub class.\n",
    "\n",
    "* We pass the super class refernce as parameter to sub class"
   ]
  },
  {
   "cell_type": "code",
   "execution_count": 3,
   "metadata": {},
   "outputs": [],
   "source": [
    "class Dog(Animal):\n",
    "    pass"
   ]
  },
  {
   "cell_type": "markdown",
   "metadata": {},
   "source": [
    "### What does Inheritance Do?\n",
    "\n",
    "* It forms a relationship between the two class that can be checked using **issubclass** "
   ]
  },
  {
   "cell_type": "code",
   "execution_count": 4,
   "metadata": {},
   "outputs": [
    {
     "name": "stdout",
     "output_type": "stream",
     "text": [
      "True\n",
      "False\n",
      "False\n"
     ]
    }
   ],
   "source": [
    "print( issubclass(Dog,Animal)) #True\n",
    "print(issubclass(Dog,tuple)) #False\n",
    "print(issubclass(Animal,Dog)) #False. Animal is subclass"
   ]
  },
  {
   "cell_type": "markdown",
   "metadata": {},
   "source": [
    "### And it creates relationship between object of sub class and super class\n",
    "\n",
    "* inheritance forms **is a type of** relationship.\n",
    "* An object of the sub class is automtically considered object of superclass\n",
    "    * A Dog is an Animal."
   ]
  },
  {
   "cell_type": "code",
   "execution_count": 5,
   "metadata": {},
   "outputs": [
    {
     "name": "stdout",
     "output_type": "stream",
     "text": [
      "Dog\n"
     ]
    }
   ],
   "source": [
    "d=Dog()\n",
    "print(type(d).__name__)"
   ]
  },
  {
   "cell_type": "code",
   "execution_count": 6,
   "metadata": {},
   "outputs": [
    {
     "name": "stdout",
     "output_type": "stream",
     "text": [
      "True\n"
     ]
    }
   ],
   "source": [
    "print( isinstance(d,Dog)) #True"
   ]
  },
  {
   "cell_type": "code",
   "execution_count": 7,
   "metadata": {},
   "outputs": [
    {
     "data": {
      "text/plain": [
       "True"
      ]
     },
     "execution_count": 7,
     "metadata": {},
     "output_type": "execute_result"
    }
   ],
   "source": [
    "isinstance(d, Animal)"
   ]
  },
  {
   "cell_type": "markdown",
   "metadata": {},
   "source": [
    "### This relationship can extend to Multiple Levels"
   ]
  },
  {
   "cell_type": "code",
   "execution_count": 8,
   "metadata": {},
   "outputs": [],
   "source": [
    "class Animal:\n",
    "    pass\n",
    "\n",
    "class Mammal(Animal): # Mammal is a type of Animal\n",
    "    pass\n",
    "\n",
    "class Cat(Mammal):\n",
    "    pass\n",
    "\n",
    "class Tiger(Cat):\n",
    "    pass\n",
    "\n",
    "class Leopard(Cat):\n",
    "    pass\n",
    "\n",
    "class Dog(Mammal):\n",
    "    pass\n",
    "\n",
    "class Cow(Mammal): \n",
    "    pass\n",
    "\n",
    "\n",
    "class Reptile(Animal):\n",
    "    pass\n",
    "\n",
    "class Crocodile(Reptile):\n",
    "    pass\n",
    "\n",
    "class Snake(Reptile):\n",
    "    pass"
   ]
  },
  {
   "cell_type": "code",
   "execution_count": 9,
   "metadata": {},
   "outputs": [],
   "source": [
    "tiger=Tiger()\n",
    "snake=Snake()\n",
    "crocodile=Crocodile()\n",
    "cow=Cow()\n",
    "leopard=Leopard()\n",
    "dog=Dog()"
   ]
  },
  {
   "cell_type": "code",
   "execution_count": 10,
   "metadata": {},
   "outputs": [],
   "source": [
    "def check_subclass(obj,Type):\n",
    "    relationship= \"is a\" if isinstance(obj,Type) else \"is not a\"\n",
    "    print(f'{type(obj).__name__} {relationship} {Type.__name__}' )\n",
    "\n",
    "    "
   ]
  },
  {
   "cell_type": "code",
   "execution_count": 11,
   "metadata": {},
   "outputs": [
    {
     "name": "stdout",
     "output_type": "stream",
     "text": [
      "Tiger is a Tiger\n",
      "Tiger is a Cat\n",
      "Tiger is a Mammal\n",
      "Tiger is a Animal\n",
      "Tiger is not a Reptile\n",
      "Tiger is not a Snake\n"
     ]
    }
   ],
   "source": [
    "check_subclass(tiger, Tiger)\n",
    "check_subclass(tiger, Cat)\n",
    "check_subclass(tiger, Mammal)\n",
    "check_subclass(tiger, Animal)\n",
    "check_subclass(tiger, Reptile)\n",
    "check_subclass(tiger, Snake)"
   ]
  },
  {
   "cell_type": "markdown",
   "metadata": {},
   "source": [
    "### A subclass inherits all the properties of the super class."
   ]
  },
  {
   "cell_type": "code",
   "execution_count": 12,
   "metadata": {},
   "outputs": [],
   "source": [
    "class Employee:\n",
    "    _last_id=0\n",
    "    def __init__(self,name, salary):\n",
    "        Employee._last_id+=1\n",
    "        self.id=Employee._last_id\n",
    "        self.name=name\n",
    "        self.salary=salary\n",
    "\n",
    "    def info(self):\n",
    "        return f'Employee\\t {self.id}\\t{self.name}\\t{self.salary}'\n",
    "    \n",
    "    def work(self):\n",
    "        print(f'Employee works wih employee id {self.id}')"
   ]
  },
  {
   "cell_type": "code",
   "execution_count": 13,
   "metadata": {},
   "outputs": [
    {
     "name": "stdout",
     "output_type": "stream",
     "text": [
      "Employee works wih employee id 1\n",
      "Employee\t 1\tSanjay\t200000\n"
     ]
    }
   ],
   "source": [
    "e= Employee('Sanjay',200000)\n",
    "e.work()\n",
    "print(e.info())"
   ]
  },
  {
   "cell_type": "markdown",
   "metadata": {},
   "source": [
    "#### Let us now define a Manager subclass\n",
    "\n",
    "* by default Manager will inherit all the Employee properties including\n",
    "    * \\_last\\_id\n",
    "    * \\_\\_init\\_\\_()\n",
    "    * work()\n",
    "    * info()\n",
    "\n",
    "\n",
    "#### Note:\n",
    "\n",
    "* unlike c++ style language where constructor is NOT inherited, in python \\_\\_init\\_\\_ method is inherited.\n",
    "    "
   ]
  },
  {
   "cell_type": "code",
   "execution_count": 14,
   "metadata": {},
   "outputs": [],
   "source": [
    "class Manager(Employee):\n",
    "    pass"
   ]
  },
  {
   "cell_type": "code",
   "execution_count": 15,
   "metadata": {},
   "outputs": [
    {
     "name": "stdout",
     "output_type": "stream",
     "text": [
      "Employee works wih employee id 2\n",
      "Employee\t 2\tPrabhat\t50000\n"
     ]
    }
   ],
   "source": [
    "m=Manager('Prabhat',50000)\n",
    "m.work()\n",
    "print(m.info())"
   ]
  },
  {
   "cell_type": "markdown",
   "metadata": {},
   "source": [
    "### But we don't need a subclass which is exactly same as the super class.\n",
    "\n",
    "* we may need to add additional behavior.\n",
    "* we may want to modify current behavior.\n",
    "\n",
    "\n",
    "#### Manager may need a function to add new member to it's team."
   ]
  },
  {
   "cell_type": "code",
   "execution_count": 16,
   "metadata": {},
   "outputs": [],
   "source": [
    "class Manager(Employee):\n",
    "    def add_to_team(self,member):\n",
    "        print(f'Adding {member} to the team')"
   ]
  },
  {
   "cell_type": "code",
   "execution_count": 17,
   "metadata": {},
   "outputs": [
    {
     "name": "stdout",
     "output_type": "stream",
     "text": [
      "Adding Sanjay to the team\n",
      "Adding Vivek to the team\n",
      "Employee works wih employee id 3\n",
      "Employee\t 3\tPrabhat\t50000\n"
     ]
    }
   ],
   "source": [
    "m=Manager('Prabhat', 50000)\n",
    "m.add_to_team('Sanjay')\n",
    "m.add_to_team('Vivek')\n",
    "\n",
    "m.work()\n",
    "\n",
    "print(m.info())"
   ]
  },
  {
   "cell_type": "markdown",
   "metadata": {},
   "source": [
    "### we may want to modify info() to print the work \"Manager\" instead of Employee\n",
    "\n",
    "* To Modify an exisitng behavior, all we need to is to redefine a new method with same name"
   ]
  },
  {
   "cell_type": "code",
   "execution_count": 18,
   "metadata": {},
   "outputs": [],
   "source": [
    "class Manager(Employee):\n",
    "    def add_to_team(self,member):\n",
    "        print(f'Adding {member} to the team')\n",
    "\n",
    "    def info(self):\n",
    "        return f'Manager\\t {self.id}\\t{self.name}\\t{self.salary}'"
   ]
  },
  {
   "cell_type": "code",
   "execution_count": 19,
   "metadata": {},
   "outputs": [
    {
     "name": "stdout",
     "output_type": "stream",
     "text": [
      "Manager\t 4\tPrabhat\t50000\n"
     ]
    }
   ],
   "source": [
    "m=Manager('Prabhat', 50000)\n",
    "print(m.info())"
   ]
  },
  {
   "cell_type": "markdown",
   "metadata": {},
   "source": [
    "### But there is a lot of redundnat code between Employee.info() and Manager.info()\n",
    "\n",
    "* infact we just changed the word.\n",
    "* can't be re-use the original Employee.info() and then modify the output?\n",
    "\n",
    "\n",
    "#### What will NOT work?\n",
    "\n",
    "* The below code will become recursive and NOT work."
   ]
  },
  {
   "cell_type": "code",
   "execution_count": 20,
   "metadata": {},
   "outputs": [],
   "source": [
    "class Manager(Employee):\n",
    "    def add_to_team(self,member):\n",
    "        print(f'Adding {member} to the team')\n",
    "\n",
    "    def info(self):\n",
    "        str=self.info() #recursive call to itself.\n",
    "        return str.replace('Employee','Manager')"
   ]
  },
  {
   "cell_type": "code",
   "execution_count": 21,
   "metadata": {},
   "outputs": [
    {
     "ename": "RecursionError",
     "evalue": "maximum recursion depth exceeded",
     "output_type": "error",
     "traceback": [
      "\u001b[1;31m---------------------------------------------------------------------------\u001b[0m",
      "\u001b[1;31mRecursionError\u001b[0m                            Traceback (most recent call last)",
      "\u001b[1;32md:\\works\\corporate\\202311-bosch-python2\\simple_demos\\notebooks\\13_inheritance.ipynb Cell 31\u001b[0m line \u001b[0;36m3\n\u001b[0;32m      <a href='vscode-notebook-cell:/d%3A/works/corporate/202311-bosch-python2/simple_demos/notebooks/13_inheritance.ipynb#X44sZmlsZQ%3D%3D?line=0'>1</a>\u001b[0m m\u001b[39m=\u001b[39mManager(\u001b[39m'\u001b[39m\u001b[39mPrabhat\u001b[39m\u001b[39m'\u001b[39m,\u001b[39m50000\u001b[39m)\n\u001b[1;32m----> <a href='vscode-notebook-cell:/d%3A/works/corporate/202311-bosch-python2/simple_demos/notebooks/13_inheritance.ipynb#X44sZmlsZQ%3D%3D?line=2'>3</a>\u001b[0m \u001b[39mprint\u001b[39m(m\u001b[39m.\u001b[39;49minfo())\n",
      "\u001b[1;32md:\\works\\corporate\\202311-bosch-python2\\simple_demos\\notebooks\\13_inheritance.ipynb Cell 31\u001b[0m line \u001b[0;36m6\n\u001b[0;32m      <a href='vscode-notebook-cell:/d%3A/works/corporate/202311-bosch-python2/simple_demos/notebooks/13_inheritance.ipynb#X44sZmlsZQ%3D%3D?line=4'>5</a>\u001b[0m \u001b[39mdef\u001b[39;00m \u001b[39minfo\u001b[39m(\u001b[39mself\u001b[39m):\n\u001b[1;32m----> <a href='vscode-notebook-cell:/d%3A/works/corporate/202311-bosch-python2/simple_demos/notebooks/13_inheritance.ipynb#X44sZmlsZQ%3D%3D?line=5'>6</a>\u001b[0m     \u001b[39mstr\u001b[39m\u001b[39m=\u001b[39m\u001b[39mself\u001b[39;49m\u001b[39m.\u001b[39;49minfo() \u001b[39m#recursive call to itself.\u001b[39;00m\n\u001b[0;32m      <a href='vscode-notebook-cell:/d%3A/works/corporate/202311-bosch-python2/simple_demos/notebooks/13_inheritance.ipynb#X44sZmlsZQ%3D%3D?line=6'>7</a>\u001b[0m     \u001b[39mreturn\u001b[39;00m \u001b[39mstr\u001b[39m\u001b[39m.\u001b[39mreplace(\u001b[39m'\u001b[39m\u001b[39mEmployee\u001b[39m\u001b[39m'\u001b[39m,\u001b[39m'\u001b[39m\u001b[39mManager\u001b[39m\u001b[39m'\u001b[39m)\n",
      "\u001b[1;32md:\\works\\corporate\\202311-bosch-python2\\simple_demos\\notebooks\\13_inheritance.ipynb Cell 31\u001b[0m line \u001b[0;36m6\n\u001b[0;32m      <a href='vscode-notebook-cell:/d%3A/works/corporate/202311-bosch-python2/simple_demos/notebooks/13_inheritance.ipynb#X44sZmlsZQ%3D%3D?line=4'>5</a>\u001b[0m \u001b[39mdef\u001b[39;00m \u001b[39minfo\u001b[39m(\u001b[39mself\u001b[39m):\n\u001b[1;32m----> <a href='vscode-notebook-cell:/d%3A/works/corporate/202311-bosch-python2/simple_demos/notebooks/13_inheritance.ipynb#X44sZmlsZQ%3D%3D?line=5'>6</a>\u001b[0m     \u001b[39mstr\u001b[39m\u001b[39m=\u001b[39m\u001b[39mself\u001b[39;49m\u001b[39m.\u001b[39;49minfo() \u001b[39m#recursive call to itself.\u001b[39;00m\n\u001b[0;32m      <a href='vscode-notebook-cell:/d%3A/works/corporate/202311-bosch-python2/simple_demos/notebooks/13_inheritance.ipynb#X44sZmlsZQ%3D%3D?line=6'>7</a>\u001b[0m     \u001b[39mreturn\u001b[39;00m \u001b[39mstr\u001b[39m\u001b[39m.\u001b[39mreplace(\u001b[39m'\u001b[39m\u001b[39mEmployee\u001b[39m\u001b[39m'\u001b[39m,\u001b[39m'\u001b[39m\u001b[39mManager\u001b[39m\u001b[39m'\u001b[39m)\n",
      "    \u001b[1;31m[... skipping similar frames: Manager.info at line 6 (2975 times)]\u001b[0m\n",
      "\u001b[1;32md:\\works\\corporate\\202311-bosch-python2\\simple_demos\\notebooks\\13_inheritance.ipynb Cell 31\u001b[0m line \u001b[0;36m6\n\u001b[0;32m      <a href='vscode-notebook-cell:/d%3A/works/corporate/202311-bosch-python2/simple_demos/notebooks/13_inheritance.ipynb#X44sZmlsZQ%3D%3D?line=4'>5</a>\u001b[0m \u001b[39mdef\u001b[39;00m \u001b[39minfo\u001b[39m(\u001b[39mself\u001b[39m):\n\u001b[1;32m----> <a href='vscode-notebook-cell:/d%3A/works/corporate/202311-bosch-python2/simple_demos/notebooks/13_inheritance.ipynb#X44sZmlsZQ%3D%3D?line=5'>6</a>\u001b[0m     \u001b[39mstr\u001b[39m\u001b[39m=\u001b[39m\u001b[39mself\u001b[39;49m\u001b[39m.\u001b[39;49minfo() \u001b[39m#recursive call to itself.\u001b[39;00m\n\u001b[0;32m      <a href='vscode-notebook-cell:/d%3A/works/corporate/202311-bosch-python2/simple_demos/notebooks/13_inheritance.ipynb#X44sZmlsZQ%3D%3D?line=6'>7</a>\u001b[0m     \u001b[39mreturn\u001b[39;00m \u001b[39mstr\u001b[39m\u001b[39m.\u001b[39mreplace(\u001b[39m'\u001b[39m\u001b[39mEmployee\u001b[39m\u001b[39m'\u001b[39m,\u001b[39m'\u001b[39m\u001b[39mManager\u001b[39m\u001b[39m'\u001b[39m)\n",
      "\u001b[1;31mRecursionError\u001b[0m: maximum recursion depth exceeded"
     ]
    }
   ],
   "source": [
    "m=Manager('Prabhat',50000)\n",
    "\n",
    "print(m.info())"
   ]
  },
  {
   "cell_type": "markdown",
   "metadata": {},
   "source": [
    "### How to call methods of super class after overwriting it?\n",
    "\n",
    "* There are two ways to do it.\n",
    "\n",
    "#### Approach #1 \n",
    "\n",
    "* HINT: Remember methods belong to the class.\n",
    "* using **self** is just an added convinience\n",
    "\n",
    "\n",
    "##### Assignment 4.5  How can we reuse overwritten super method wihout making it recursive."
   ]
  },
  {
   "cell_type": "code",
   "execution_count": 22,
   "metadata": {},
   "outputs": [],
   "source": [
    "class Manager(Employee):\n",
    "    def add_to_team(self,member):\n",
    "        print(f'Adding {member} to the team')\n",
    "\n",
    "    def info(self):\n",
    "        str=Employee.info(self) \n",
    "        return str.replace('Employee','Manager')"
   ]
  },
  {
   "cell_type": "code",
   "execution_count": 23,
   "metadata": {},
   "outputs": [
    {
     "name": "stdout",
     "output_type": "stream",
     "text": [
      "Manager\t 6\tPrabhat\t50000\n"
     ]
    }
   ],
   "source": [
    "m=Manager('Prabhat',50000)\n",
    "\n",
    "print(m.info())"
   ]
  },
  {
   "cell_type": "markdown",
   "metadata": {},
   "source": [
    "### Approach #2 super()\n",
    "\n",
    "* python provides a special funciton **super()** that can help you access super class methods.\n",
    "* it can be used in two differents format\n",
    "    * Tradional python#2 style.\n",
    "        * works in python 3\n",
    "    * simpler python#3 style\n",
    "\n",
    "\n",
    "##### Approach #2.1 Legacy super()"
   ]
  },
  {
   "cell_type": "code",
   "execution_count": 26,
   "metadata": {},
   "outputs": [],
   "source": [
    "class Manager(Employee):\n",
    "    def add_to_team(self,member):\n",
    "        print(f'Adding {member} to the team')\n",
    "\n",
    "    \n",
    "    def info(self):\n",
    "        str=super(Manager,self).info() #legacy syntax\n",
    "        return str.replace('Employee','Manager')"
   ]
  },
  {
   "cell_type": "code",
   "execution_count": 27,
   "metadata": {},
   "outputs": [
    {
     "name": "stdout",
     "output_type": "stream",
     "text": [
      "Manager\t 8\tPrabhat\t50000\n"
     ]
    }
   ],
   "source": [
    "m=Manager('Prabhat',50000)\n",
    "\n",
    "print(m.info())"
   ]
  },
  {
   "cell_type": "markdown",
   "metadata": {},
   "source": [
    "##### Apporoach #2.2 Python 3+"
   ]
  },
  {
   "cell_type": "code",
   "execution_count": 28,
   "metadata": {},
   "outputs": [],
   "source": [
    "class Manager(Employee):\n",
    "    def add_to_team(self,member):\n",
    "        print(f'Adding {member} to the team')\n",
    "\n",
    "    \n",
    "    def info(self):\n",
    "        str=super().info() #legacy syntax\n",
    "        return str.replace('Employee','Manager')"
   ]
  },
  {
   "cell_type": "code",
   "execution_count": 29,
   "metadata": {},
   "outputs": [
    {
     "name": "stdout",
     "output_type": "stream",
     "text": [
      "Manager\t 9\tPrabhat\t50000\n"
     ]
    }
   ],
   "source": [
    "m=Manager('Prabhat',50000)\n",
    "\n",
    "print(m.info())"
   ]
  },
  {
   "cell_type": "markdown",
   "metadata": {},
   "source": [
    "### When we inherit, we inherit class level properties and NOT object properties.\n",
    "\n",
    "* Inheritance is a relationship between classes. (not objects)\n",
    "* Class Manager Inherits everything defined in the Employee class like\n",
    "    * \\_\\_init\\_\\_()\n",
    "    * info()\n",
    "    * work()\n",
    "\n",
    "* But it can't inherit properties that are not defined in the Employee class like\n",
    "    * id\n",
    "    * name\n",
    "    * salary\n",
    "\n",
    "#### If we don't inherit id,name, salary, how are they present in manager objec?"
   ]
  },
  {
   "cell_type": "code",
   "execution_count": 31,
   "metadata": {},
   "outputs": [],
   "source": [
    "def object_info(object):\n",
    "    return [prop for prop in dir(object) if not prop.endswith(\"__\")]"
   ]
  },
  {
   "cell_type": "code",
   "execution_count": 32,
   "metadata": {},
   "outputs": [
    {
     "data": {
      "text/plain": [
       "['_last_id', 'add_to_team', 'id', 'info', 'name', 'salary', 'work']"
      ]
     },
     "execution_count": 32,
     "metadata": {},
     "output_type": "execute_result"
    }
   ],
   "source": [
    "m=Manager('Prabhat',50000)\n",
    "object_info(m)"
   ]
  },
  {
   "cell_type": "markdown",
   "metadata": {},
   "source": [
    "### Are object properties inherited or NOT\n",
    "\n",
    "* object properties are not part of class definition.\n",
    "* they are NOT inherited.\n",
    "* but \\_\\_init\\_\\_ method is inherited.\n",
    "    * and this method is responsibile for initializing the fields.\n",
    "    * it gives an impression that fields are inherited.\n",
    "* but if we replace \\_\\_init\\_\\_ method, we lose all the fields.\n",
    "\n",
    "#### Manager needs to have a team"
   ]
  },
  {
   "cell_type": "code",
   "execution_count": 33,
   "metadata": {},
   "outputs": [],
   "source": [
    "class Manager(Employee):\n",
    "    def __init__(self,name,salary):\n",
    "        self.team=[]\n",
    "\n",
    "    def add_to_team(self,member):\n",
    "        self.team.append(member)\n",
    "\n",
    "    def get_team(self):\n",
    "        return self.team\n"
   ]
  },
  {
   "cell_type": "code",
   "execution_count": 34,
   "metadata": {},
   "outputs": [
    {
     "name": "stdout",
     "output_type": "stream",
     "text": [
      "['Sanjay', 'Sumit', 'Vinod']\n"
     ]
    }
   ],
   "source": [
    "m=Manager('Prabhat',50000)\n",
    "\n",
    "m.add_to_team('Sanjay')\n",
    "m.add_to_team('Sumit')\n",
    "m.add_to_team('Vinod')\n",
    "\n",
    "print(m.get_team())"
   ]
  },
  {
   "cell_type": "code",
   "execution_count": 35,
   "metadata": {},
   "outputs": [
    {
     "ename": "AttributeError",
     "evalue": "'Manager' object has no attribute 'id'",
     "output_type": "error",
     "traceback": [
      "\u001b[1;31m---------------------------------------------------------------------------\u001b[0m",
      "\u001b[1;31mAttributeError\u001b[0m                            Traceback (most recent call last)",
      "\u001b[1;32md:\\works\\corporate\\202311-bosch-python2\\simple_demos\\notebooks\\13_inheritance.ipynb Cell 47\u001b[0m line \u001b[0;36m1\n\u001b[1;32m----> <a href='vscode-notebook-cell:/d%3A/works/corporate/202311-bosch-python2/simple_demos/notebooks/13_inheritance.ipynb#X66sZmlsZQ%3D%3D?line=0'>1</a>\u001b[0m m\u001b[39m.\u001b[39;49mwork()\n",
      "\u001b[1;32md:\\works\\corporate\\202311-bosch-python2\\simple_demos\\notebooks\\13_inheritance.ipynb Cell 47\u001b[0m line \u001b[0;36m1\n\u001b[0;32m     <a href='vscode-notebook-cell:/d%3A/works/corporate/202311-bosch-python2/simple_demos/notebooks/13_inheritance.ipynb#X66sZmlsZQ%3D%3D?line=11'>12</a>\u001b[0m \u001b[39mdef\u001b[39;00m \u001b[39mwork\u001b[39m(\u001b[39mself\u001b[39m):\n\u001b[1;32m---> <a href='vscode-notebook-cell:/d%3A/works/corporate/202311-bosch-python2/simple_demos/notebooks/13_inheritance.ipynb#X66sZmlsZQ%3D%3D?line=12'>13</a>\u001b[0m     \u001b[39mprint\u001b[39m(\u001b[39mf\u001b[39m\u001b[39m'\u001b[39m\u001b[39mEmployee works wih employee id \u001b[39m\u001b[39m{\u001b[39;00m\u001b[39mself\u001b[39;49m\u001b[39m.\u001b[39;49mid\u001b[39m}\u001b[39;00m\u001b[39m'\u001b[39m)\n",
      "\u001b[1;31mAttributeError\u001b[0m: 'Manager' object has no attribute 'id'"
     ]
    }
   ],
   "source": [
    "m.work()"
   ]
  },
  {
   "cell_type": "code",
   "execution_count": 36,
   "metadata": {},
   "outputs": [
    {
     "data": {
      "text/plain": [
       "['_last_id', 'add_to_team', 'get_team', 'info', 'team', 'work']"
      ]
     },
     "execution_count": 36,
     "metadata": {},
     "output_type": "execute_result"
    }
   ],
   "source": [
    "object_info(m)"
   ]
  },
  {
   "cell_type": "markdown",
   "metadata": {},
   "source": [
    "#### Explanation\n",
    "\n",
    "* if we write a new \\_\\_init\\_\\_ it replaces the Employee.\\_\\_init\\_\n",
    "* since Employee.\\_\\_init\\_\\_ is not called. it didn't set the field name, id , salary.\n",
    "\n",
    "\n",
    "### Solution\n",
    "\n",
    "* Whenever we create a new \\_\\_init\\_\\_, we should pass the parameter to super class init"
   ]
  },
  {
   "cell_type": "code",
   "execution_count": 39,
   "metadata": {},
   "outputs": [],
   "source": [
    "class Manager(Employee):\n",
    "    def __init__(self,name,salary):\n",
    "        super().__init__(name,salary)\n",
    "        self.team=[]\n",
    "\n",
    "    def add_to_team(self,member):\n",
    "        self.team.append(member)\n",
    "\n",
    "    def get_team(self):\n",
    "        return self.team\n",
    "    \n",
    "    def work(self):\n",
    "        super().work()\n",
    "        print(f'\\t Manages a team of {len(self.team)} members')\n",
    "\n",
    "    def info(self):\n",
    "        str=super().info()\n",
    "        str=str.replace(\"Employee\",\"Manager\")\n",
    "        str+=f'\\tTeam Size: {len(self.team)}'\n",
    "        return str\n"
   ]
  },
  {
   "cell_type": "code",
   "execution_count": 40,
   "metadata": {},
   "outputs": [
    {
     "name": "stdout",
     "output_type": "stream",
     "text": [
      "Employee works wih employee id 12\n",
      "\t Manages a team of 2 members\n",
      "Manager\t 12\tPrabhat\t50000\tTeam Size: 2\n"
     ]
    }
   ],
   "source": [
    "m=Manager('Prabhat',50000)\n",
    "m.add_to_team('Sanjay')\n",
    "m.add_to_team('Vinod')\n",
    "\n",
    "m.work()\n",
    "\n",
    "print(m.info())"
   ]
  },
  {
   "cell_type": "markdown",
   "metadata": {},
   "source": [
    "### object class.\n",
    "\n",
    "* like java, python has a predefined class called \"object\"\n",
    "* this class is the super class fo all other classes in python\n",
    "    * predefined\n",
    "    * user defined.\n",
    "* any class that doesn't inherit some class, implicitly inherits object.\n",
    "* most special methods are inherited from this class."
   ]
  },
  {
   "cell_type": "code",
   "execution_count": 47,
   "metadata": {},
   "outputs": [
    {
     "name": "stdout",
     "output_type": "stream",
     "text": [
      "Tiger is a object\n",
      "Crocodile is a object\n",
      "str is a object\n",
      "int is a object\n",
      "NoneType is a object\n"
     ]
    }
   ],
   "source": [
    "t=Tiger()\n",
    "c=Crocodile()\n",
    "\n",
    "\n",
    "check_subclass(t, object)\n",
    "\n",
    "check_subclass(c, object)\n",
    "check_subclass(\"hello world\", object)\n",
    "check_subclass(20, object)\n",
    "check_subclass(None, object)"
   ]
  },
  {
   "cell_type": "markdown",
   "metadata": {},
   "source": [
    "### Multiple Inheritance\n",
    "\n",
    "* Unlike Java/C# and Like C++, Python allows inheritance from Multiple super classes\n",
    "\n",
    "* This is however not a recommended approach for programming."
   ]
  },
  {
   "cell_type": "code",
   "execution_count": 41,
   "metadata": {},
   "outputs": [],
   "source": [
    "class TechnicalPerson:\n",
    "    def __init__(self, qualification, specialization):\n",
    "        self.qualification = qualification\n",
    "        self.specialization = specialization\n",
    "\n",
    "    def info(self):\n",
    "        return f'TechnicalInfo \\tqualification={self.qualification}\\tspecialization={self.specialization}'"
   ]
  },
  {
   "cell_type": "markdown",
   "metadata": {},
   "source": [
    "### Now we may have an engineer who is an Employee and a TechnicalPerson"
   ]
  },
  {
   "cell_type": "code",
   "execution_count": 48,
   "metadata": {},
   "outputs": [],
   "source": [
    "class Employee:\n",
    "    pass\n",
    "\n",
    "class TechnicalPerson:\n",
    "    pass\n",
    "\n",
    "class Engineer(Employee,TechnicalPerson):\n",
    "    pass"
   ]
  },
  {
   "cell_type": "code",
   "execution_count": 49,
   "metadata": {},
   "outputs": [
    {
     "name": "stdout",
     "output_type": "stream",
     "text": [
      "Engineer is a Engineer\n",
      "Engineer is a TechnicalPerson\n",
      "Engineer is a Employee\n"
     ]
    }
   ],
   "source": [
    "e=Engineer()\n",
    "\n",
    "check_subclass(e, Engineer)\n",
    "check_subclass(e, TechnicalPerson)\n",
    "check_subclass(e, Employee)"
   ]
  },
  {
   "cell_type": "markdown",
   "metadata": {},
   "source": [
    "### MRO (Method Resolution Order) in Python (specially Multi Inheritance)\n",
    "\n",
    "#### How does python locates x.action() in any given object.\n",
    "\n",
    "```python\n",
    "    class A:\n",
    "        def action():\n",
    "            print('action A')\n",
    "    class B:\n",
    "        def action():\n",
    "            print('action B')\n",
    "\n",
    "    class X(B,A):\n",
    "        pass\n",
    "\n",
    "    x=X()\n",
    "    x.action()\n",
    "\n",
    "```\n",
    "\n",
    "\n",
    "1. python first checks type(x) to get the class of this object.\n",
    "    \n",
    "2. It checks if class X has an action method defined.\n",
    "    * if found it executes it.\n",
    "3. if class X doesn't have an action it looks for the action method in the super class.\n",
    "\n",
    "4. In our case both super class A and B has an action method defined\n",
    "    * It will look for the action method in the same order as super classes are defined during the createion of X\n",
    "    * it will first check for action() method in class B and then A\n",
    "    * will execute the first method found.\n",
    "    "
   ]
  },
  {
   "cell_type": "code",
   "execution_count": 50,
   "metadata": {},
   "outputs": [],
   "source": [
    "class Employee:\n",
    "    def work(self):\n",
    "        print(f'Employee works')\n",
    "\n",
    "    def info(self):\n",
    "        return (f'Employee.info()')\n",
    "    \n",
    "    def get_identity(self):\n",
    "        return f'Employee'\n",
    "    \n",
    "class TechnicalPerson:\n",
    "    def experiment(self):\n",
    "        print(f'TechnicalPerson.experiment()')\n",
    "\n",
    "    def info(self):\n",
    "        return (f'TechnicalPerson.info()')\n",
    "\n",
    "    def get_identity(self):\n",
    "        return f'TechnicalPerson'\n",
    "    \n",
    "class Engineer(Employee,TechnicalPerson):\n",
    "    def get_identity(self):\n",
    "        return f'Engineer'"
   ]
  },
  {
   "cell_type": "code",
   "execution_count": 51,
   "metadata": {},
   "outputs": [],
   "source": [
    "e=Engineer()"
   ]
  },
  {
   "cell_type": "code",
   "execution_count": 52,
   "metadata": {},
   "outputs": [
    {
     "data": {
      "text/plain": [
       "'Engineer'"
      ]
     },
     "execution_count": 52,
     "metadata": {},
     "output_type": "execute_result"
    }
   ],
   "source": [
    "e.get_identity() # Engineer.get_identity()"
   ]
  },
  {
   "cell_type": "code",
   "execution_count": 53,
   "metadata": {},
   "outputs": [
    {
     "name": "stdout",
     "output_type": "stream",
     "text": [
      "Employee works\n"
     ]
    }
   ],
   "source": [
    "e.work() # not found in Engineer. Located in first super class Employee"
   ]
  },
  {
   "cell_type": "code",
   "execution_count": 55,
   "metadata": {},
   "outputs": [
    {
     "name": "stdout",
     "output_type": "stream",
     "text": [
      "TechnicalPerson.experiment()\n"
     ]
    }
   ],
   "source": [
    "e.experiment() # not found in Engineer and Employee. located in second super class \n"
   ]
  },
  {
   "cell_type": "code",
   "execution_count": 56,
   "metadata": {},
   "outputs": [
    {
     "data": {
      "text/plain": [
       "'Employee.info()'"
      ]
     },
     "execution_count": 56,
     "metadata": {},
     "output_type": "execute_result"
    }
   ],
   "source": [
    "e.info() # not found in engineer. located in Employee. TechnicalPerson NOT searched."
   ]
  },
  {
   "cell_type": "markdown",
   "metadata": {},
   "source": [
    "#### Challenge --> \\_\\_init\\_\\_ call.\n",
    "\n",
    "* like every other method \\_\\_init\\_\\_ also follows MRO\n",
    "* that means super() call in \\_\\_init\\_\\_ will call the \\_\\_init\\_\\_ of first super class only."
   ]
  },
  {
   "cell_type": "code",
   "execution_count": 60,
   "metadata": {},
   "outputs": [],
   "source": [
    "class Employee:\n",
    "    def __init__(self):\n",
    "        print(f'Employee.__init__ called')\n",
    "\n",
    "class TechnicalPerson:\n",
    "    def __init__(self):\n",
    "        print(f'Technical.__init__ called')\n",
    "\n",
    "class Engineer(Employee,TechnicalPerson):\n",
    "    def __init__(self):\n",
    "        print(f'Engineer.__init__ call started')\n",
    "        super().__init__()\n",
    "        print(f'Engineer.__init__ call completed')\n"
   ]
  },
  {
   "cell_type": "code",
   "execution_count": 61,
   "metadata": {},
   "outputs": [
    {
     "name": "stdout",
     "output_type": "stream",
     "text": [
      "Engineer.__init__ call started\n",
      "Employee.__init__ called\n",
      "Engineer.__init__ call completed\n"
     ]
    }
   ],
   "source": [
    "e=Engineer()"
   ]
  },
  {
   "cell_type": "markdown",
   "metadata": {},
   "source": [
    "#### How do we call the constructor of second super class?\n",
    "\n",
    "* This is slightly confusing.\n",
    "* you need to call the super().__init__() from first super class\n",
    "    * in case of multiple inheritance, this call will be directed to second method in chain."
   ]
  },
  {
   "cell_type": "code",
   "execution_count": 62,
   "metadata": {},
   "outputs": [],
   "source": [
    "class Employee:\n",
    "    def __init__(self):\n",
    "        print(f'Employee.__init__ call started')\n",
    "        super().__init__()\n",
    "        print(f'Employee.__init__ call finished')\n",
    "\n",
    "class TechnicalPerson:\n",
    "    def __init__(self):\n",
    "        print(f'Technical.__init__ called')\n",
    "\n",
    "class Engineer(Employee,TechnicalPerson):\n",
    "    def __init__(self):\n",
    "        print(f'Engineer.__init__ call started')\n",
    "        super().__init__()\n",
    "        print(f'Engineer.__init__ call completed')\n"
   ]
  },
  {
   "cell_type": "code",
   "execution_count": 63,
   "metadata": {},
   "outputs": [
    {
     "name": "stdout",
     "output_type": "stream",
     "text": [
      "Engineer.__init__ call started\n",
      "Employee.__init__ call started\n",
      "Technical.__init__ called\n",
      "Employee.__init__ call finished\n",
      "Engineer.__init__ call completed\n"
     ]
    },
    {
     "data": {
      "text/plain": [
       "<__main__.Engineer at 0x24deb8d62a0>"
      ]
     },
     "execution_count": 63,
     "metadata": {},
     "output_type": "execute_result"
    }
   ],
   "source": [
    "Engineer()"
   ]
  },
  {
   "cell_type": "markdown",
   "metadata": {},
   "source": [
    "### Challenge: Parameterized \\_\\_init\\_\\_\n",
    "\n",
    "* Both of my super class will need different initialization parameters.\n",
    "* How do we pass those information?"
   ]
  },
  {
   "cell_type": "code",
   "execution_count": 66,
   "metadata": {},
   "outputs": [],
   "source": [
    "class Employee:\n",
    "    def __init__(self, id, name, salary):\n",
    "        print(f'Employee.__init__ call started')\n",
    "        self.id=id\n",
    "        self.name=name\n",
    "        self.salary=salary\n",
    "        super().__init__() #where will I get qualification and specialization?\n",
    "        print(f'Employee.__init__ call finished')\n",
    "\n",
    "class TechnicalPerson:\n",
    "    def __init__(self, qualification, specialization):\n",
    "\n",
    "        print(f'Technical.__init__ called')\n",
    "        self.qualification=qualification\n",
    "        self.specialization=specialization\n",
    "\n",
    "\n",
    "\n",
    "\n",
    "\n",
    "        \n",
    "\n",
    "        "
   ]
  },
  {
   "cell_type": "markdown",
   "metadata": {},
   "source": [
    "### How will Engineer constructor pass information to both super class\n",
    "\n",
    "* Engineer calls super constructor of the first super class only (Engineer)\n",
    "    * It doesn't directly call super constructor of second super class.\n",
    "        * first super class calls super constructor of second super class\n",
    "\n",
    "#### How many parameters should Engineer pass to super().__init__()?\n",
    "\n",
    "##### If I pass only Employee details like id,name,salary\n",
    "\n",
    "* How will Employee constructor pass qualifcation and specialization to TechnicalPerson\n",
    "\n",
    "##### If I pass all the parameters to Employee constructor\n",
    "* The code will fail because Employee constructor doesn't take qualifcation and specialization"
   ]
  },
  {
   "cell_type": "code",
   "execution_count": 67,
   "metadata": {},
   "outputs": [],
   "source": [
    "class Engineer(Employee,TechnicalPerson):\n",
    "    def __init__(self, id,name,qualification,specialization,salary,project):\n",
    "        self.project=project\n",
    "        # Approach #1 Pass only employee details\n",
    "        super().__init__(id,name,salary)"
   ]
  },
  {
   "cell_type": "code",
   "execution_count": 68,
   "metadata": {},
   "outputs": [
    {
     "name": "stdout",
     "output_type": "stream",
     "text": [
      "Employee.__init__ call started\n"
     ]
    },
    {
     "ename": "TypeError",
     "evalue": "TechnicalPerson.__init__() missing 2 required positional arguments: 'qualification' and 'specialization'",
     "output_type": "error",
     "traceback": [
      "\u001b[1;31m---------------------------------------------------------------------------\u001b[0m",
      "\u001b[1;31mTypeError\u001b[0m                                 Traceback (most recent call last)",
      "\u001b[1;32md:\\works\\corporate\\202311-bosch-python2\\simple_demos\\notebooks\\13_inheritance.ipynb Cell 76\u001b[0m line \u001b[0;36m1\n\u001b[1;32m----> <a href='vscode-notebook-cell:/d%3A/works/corporate/202311-bosch-python2/simple_demos/notebooks/13_inheritance.ipynb#Y140sZmlsZQ%3D%3D?line=0'>1</a>\u001b[0m Engineer(\u001b[39m1\u001b[39;49m,\u001b[39m'\u001b[39;49m\u001b[39mPrabhat\u001b[39;49m\u001b[39m'\u001b[39;49m,\u001b[39m'\u001b[39;49m\u001b[39mBE\u001b[39;49m\u001b[39m'\u001b[39;49m,\u001b[39m'\u001b[39;49m\u001b[39mAI\u001b[39;49m\u001b[39m'\u001b[39;49m,\u001b[39m200000\u001b[39;49m,\u001b[39m'\u001b[39;49m\u001b[39mAI Master\u001b[39;49m\u001b[39m'\u001b[39;49m)\n",
      "\u001b[1;32md:\\works\\corporate\\202311-bosch-python2\\simple_demos\\notebooks\\13_inheritance.ipynb Cell 76\u001b[0m line \u001b[0;36m5\n\u001b[0;32m      <a href='vscode-notebook-cell:/d%3A/works/corporate/202311-bosch-python2/simple_demos/notebooks/13_inheritance.ipynb#Y140sZmlsZQ%3D%3D?line=2'>3</a>\u001b[0m \u001b[39mself\u001b[39m\u001b[39m.\u001b[39mproject\u001b[39m=\u001b[39mproject\n\u001b[0;32m      <a href='vscode-notebook-cell:/d%3A/works/corporate/202311-bosch-python2/simple_demos/notebooks/13_inheritance.ipynb#Y140sZmlsZQ%3D%3D?line=3'>4</a>\u001b[0m \u001b[39m# Approach #1 Pass only employee details\u001b[39;00m\n\u001b[1;32m----> <a href='vscode-notebook-cell:/d%3A/works/corporate/202311-bosch-python2/simple_demos/notebooks/13_inheritance.ipynb#Y140sZmlsZQ%3D%3D?line=4'>5</a>\u001b[0m \u001b[39msuper\u001b[39;49m()\u001b[39m.\u001b[39;49m\u001b[39m__init__\u001b[39;49m(\u001b[39mid\u001b[39;49m,name,salary)\n",
      "\u001b[1;32md:\\works\\corporate\\202311-bosch-python2\\simple_demos\\notebooks\\13_inheritance.ipynb Cell 76\u001b[0m line \u001b[0;36m7\n\u001b[0;32m      <a href='vscode-notebook-cell:/d%3A/works/corporate/202311-bosch-python2/simple_demos/notebooks/13_inheritance.ipynb#Y140sZmlsZQ%3D%3D?line=4'>5</a>\u001b[0m \u001b[39mself\u001b[39m\u001b[39m.\u001b[39mname\u001b[39m=\u001b[39mname\n\u001b[0;32m      <a href='vscode-notebook-cell:/d%3A/works/corporate/202311-bosch-python2/simple_demos/notebooks/13_inheritance.ipynb#Y140sZmlsZQ%3D%3D?line=5'>6</a>\u001b[0m \u001b[39mself\u001b[39m\u001b[39m.\u001b[39msalary\u001b[39m=\u001b[39msalary\n\u001b[1;32m----> <a href='vscode-notebook-cell:/d%3A/works/corporate/202311-bosch-python2/simple_demos/notebooks/13_inheritance.ipynb#Y140sZmlsZQ%3D%3D?line=6'>7</a>\u001b[0m \u001b[39msuper\u001b[39;49m()\u001b[39m.\u001b[39;49m\u001b[39m__init__\u001b[39;49m() \u001b[39m#where will I get qualification and specialization?\u001b[39;00m\n\u001b[0;32m      <a href='vscode-notebook-cell:/d%3A/works/corporate/202311-bosch-python2/simple_demos/notebooks/13_inheritance.ipynb#Y140sZmlsZQ%3D%3D?line=7'>8</a>\u001b[0m \u001b[39mprint\u001b[39m(\u001b[39mf\u001b[39m\u001b[39m'\u001b[39m\u001b[39mEmployee.__init__ call finished\u001b[39m\u001b[39m'\u001b[39m)\n",
      "\u001b[1;31mTypeError\u001b[0m: TechnicalPerson.__init__() missing 2 required positional arguments: 'qualification' and 'specialization'"
     ]
    }
   ],
   "source": [
    "Engineer(1,'Prabhat','BE','AI',200000,'AI Master')"
   ]
  },
  {
   "cell_type": "code",
   "execution_count": 69,
   "metadata": {},
   "outputs": [],
   "source": [
    "class Engineer(Employee,TechnicalPerson):\n",
    "    def __init__(self, id,name,qualification,specialization,salary,project):\n",
    "        self.project=project\n",
    "        # Approach #2 Pass all parameters\n",
    "        super().__init__(id,name,salary,qualification,specialization)"
   ]
  },
  {
   "cell_type": "code",
   "execution_count": 70,
   "metadata": {},
   "outputs": [
    {
     "ename": "TypeError",
     "evalue": "Engineer.__init__() missing 6 required positional arguments: 'id', 'name', 'qualification', 'specialization', 'salary', and 'project'",
     "output_type": "error",
     "traceback": [
      "\u001b[1;31m---------------------------------------------------------------------------\u001b[0m",
      "\u001b[1;31mTypeError\u001b[0m                                 Traceback (most recent call last)",
      "\u001b[1;32md:\\works\\corporate\\202311-bosch-python2\\simple_demos\\notebooks\\13_inheritance.ipynb Cell 78\u001b[0m line \u001b[0;36m1\n\u001b[1;32m----> <a href='vscode-notebook-cell:/d%3A/works/corporate/202311-bosch-python2/simple_demos/notebooks/13_inheritance.ipynb#Y142sZmlsZQ%3D%3D?line=0'>1</a>\u001b[0m Engineer()\n",
      "\u001b[1;31mTypeError\u001b[0m: Engineer.__init__() missing 6 required positional arguments: 'id', 'name', 'qualification', 'specialization', 'salary', and 'project'"
     ]
    }
   ],
   "source": [
    "Engineer()"
   ]
  },
  {
   "cell_type": "markdown",
   "metadata": {},
   "source": [
    "## Solution #1 (THE BEST AND MOST RECOMMENDED OPTION)\n",
    "\n",
    "* DO NOT USE MULTIPLE INHERITANCE.\n",
    "\n",
    "### Solution #2 (My Second Favorite, if you must use multiple inheritance)\n",
    "\n",
    "* DO NOT USE MULTIPLE INHERITANCE\n",
    "* IF YOU MUST\n",
    "    * DO NOT USER super().__init__()\n",
    "    * Call super class constructor by using class name"
   ]
  },
  {
   "cell_type": "markdown",
   "metadata": {},
   "source": []
  },
  {
   "cell_type": "code",
   "execution_count": 71,
   "metadata": {},
   "outputs": [],
   "source": [
    "class Employee:\n",
    "    def __init__(self, id, name, salary):\n",
    "        print(f'Employee.__init__ call started')\n",
    "        self.id=id\n",
    "        self.name=name\n",
    "        self.salary=salary\n",
    "        super().__init__() #calls object.__init__()\n",
    "        print(f'Employee.__init__ call finished')\n",
    "\n",
    "class TechnicalPerson:\n",
    "    def __init__(self, qualification, specialization):\n",
    "        print(f'Technical.__init__ called')\n",
    "        self.qualification=qualification\n",
    "        self.specialization=specialization\n",
    "\n",
    "\n",
    "class Engineer(Employee,TechnicalPerson):\n",
    "    def __init__(self, id,name,qualification,specialization,salary,project):\n",
    "        self.project=project\n",
    "        # Approach #2 Pass all parameters\n",
    "        #super().__init__(id,name,salary,qualification,specialization)\n",
    "\n",
    "        #use init of the super classes explicitly and pass information.\n",
    "        Employee.__init__(self,id,name,salary)\n",
    "        TechnicalPerson.__init__(self,qualification, specialization)\n",
    "\n",
    "\n",
    "\n",
    "        \n",
    "\n",
    "        "
   ]
  },
  {
   "cell_type": "markdown",
   "metadata": {},
   "source": [
    "#### Solution #3 (Popular in python community)\n",
    "\n",
    "* pass parameters using \\*\\*kwargs\n",
    "* let each super class take what they need."
   ]
  },
  {
   "cell_type": "code",
   "execution_count": 77,
   "metadata": {},
   "outputs": [],
   "source": [
    "class Employee:\n",
    "    def __init__(self, **kwargs):\n",
    "        print(f'Employee.__init__ call started')\n",
    "        \n",
    "        self.id=kwargs[\"id\"] #required\n",
    "        self.name=kwargs[\"name\"] #required\n",
    "        self.salary=kwargs[\"salary\"] #required\n",
    "\n",
    "        super().__init__(**kwargs) #pass to next super class.\n",
    "        print(f'Employee.__init__ call finished')\n",
    "\n",
    "class TechnicalPerson:\n",
    "    def __init__(self, **kwargs):\n",
    "        print(f'Technical.__init__ called')\n",
    "        self.qualification=kwargs[\"qualification\"] #required\n",
    "        self.specialization=kwargs.get(\"specialization\",\"n/a\") #optional.\n",
    "\n",
    "\n",
    "class Engineer(Employee,TechnicalPerson):\n",
    "    # Approach #3 Use **kwargs.\n",
    "    def __init__(self, **kwargs):\n",
    "        self.project=kwargs.get(\"project\") # may be optional\n",
    "        #pass the parameter set to super class.\n",
    "        super().__init__(**kwargs) \n",
    "\n",
    "\n",
    "    def info(self):\n",
    "        return f'Engineer\\tid={self.id}\\tname={self.name}\\tsalary={self.salary}\\t'+\\\n",
    "               f'project={self.project}\\tspecialization={self.specialization}\\t'+\\\n",
    "               f'qualification={self.qualification}'\n",
    "\n",
    "\n",
    "\n",
    "        \n",
    "\n",
    "        "
   ]
  },
  {
   "cell_type": "code",
   "execution_count": 78,
   "metadata": {},
   "outputs": [
    {
     "name": "stdout",
     "output_type": "stream",
     "text": [
      "Employee.__init__ call started\n",
      "Technical.__init__ called\n",
      "Employee.__init__ call finished\n",
      "Engineer\tid=1\tname=Prabhat\tsalary=200000\tproject=AI\tspecialization=n/a\tqualification=BE\n"
     ]
    }
   ],
   "source": [
    "e=Engineer(id=1, name='Prabhat', qualification='BE', project='AI', salary=200000)\n",
    "print(e.info())"
   ]
  },
  {
   "cell_type": "code",
   "execution_count": 79,
   "metadata": {},
   "outputs": [
    {
     "name": "stdout",
     "output_type": "stream",
     "text": [
      "Employee.__init__ call started\n"
     ]
    },
    {
     "ename": "KeyError",
     "evalue": "'id'",
     "output_type": "error",
     "traceback": [
      "\u001b[1;31m---------------------------------------------------------------------------\u001b[0m",
      "\u001b[1;31mKeyError\u001b[0m                                  Traceback (most recent call last)",
      "\u001b[1;32md:\\works\\corporate\\202311-bosch-python2\\simple_demos\\notebooks\\13_inheritance.ipynb Cell 85\u001b[0m line \u001b[0;36m1\n\u001b[1;32m----> <a href='vscode-notebook-cell:/d%3A/works/corporate/202311-bosch-python2/simple_demos/notebooks/13_inheritance.ipynb#Y152sZmlsZQ%3D%3D?line=0'>1</a>\u001b[0m e\u001b[39m=\u001b[39mEngineer(name\u001b[39m=\u001b[39;49m\u001b[39m'\u001b[39;49m\u001b[39mFagun\u001b[39;49m\u001b[39m'\u001b[39;49m, salary\u001b[39m=\u001b[39;49m\u001b[39m2000\u001b[39;49m, qualification\u001b[39m=\u001b[39;49m\u001b[39m'\u001b[39;49m\u001b[39mBE\u001b[39;49m\u001b[39m'\u001b[39;49m)\n",
      "\u001b[1;32md:\\works\\corporate\\202311-bosch-python2\\simple_demos\\notebooks\\13_inheritance.ipynb Cell 85\u001b[0m line \u001b[0;36m2\n\u001b[0;32m     <a href='vscode-notebook-cell:/d%3A/works/corporate/202311-bosch-python2/simple_demos/notebooks/13_inheritance.ipynb#Y152sZmlsZQ%3D%3D?line=21'>22</a>\u001b[0m \u001b[39mself\u001b[39m\u001b[39m.\u001b[39mproject\u001b[39m=\u001b[39mkwargs\u001b[39m.\u001b[39mget(\u001b[39m\"\u001b[39m\u001b[39mproject\u001b[39m\u001b[39m\"\u001b[39m) \u001b[39m# may be optional\u001b[39;00m\n\u001b[0;32m     <a href='vscode-notebook-cell:/d%3A/works/corporate/202311-bosch-python2/simple_demos/notebooks/13_inheritance.ipynb#Y152sZmlsZQ%3D%3D?line=22'>23</a>\u001b[0m \u001b[39m#pass the parameter set to super class.\u001b[39;00m\n\u001b[1;32m---> <a href='vscode-notebook-cell:/d%3A/works/corporate/202311-bosch-python2/simple_demos/notebooks/13_inheritance.ipynb#Y152sZmlsZQ%3D%3D?line=23'>24</a>\u001b[0m \u001b[39msuper\u001b[39;49m()\u001b[39m.\u001b[39;49m\u001b[39m__init__\u001b[39;49m(\u001b[39m*\u001b[39;49m\u001b[39m*\u001b[39;49mkwargs)\n",
      "\u001b[1;32md:\\works\\corporate\\202311-bosch-python2\\simple_demos\\notebooks\\13_inheritance.ipynb Cell 85\u001b[0m line \u001b[0;36m5\n\u001b[0;32m      <a href='vscode-notebook-cell:/d%3A/works/corporate/202311-bosch-python2/simple_demos/notebooks/13_inheritance.ipynb#Y152sZmlsZQ%3D%3D?line=1'>2</a>\u001b[0m \u001b[39mdef\u001b[39;00m \u001b[39m__init__\u001b[39m(\u001b[39mself\u001b[39m, \u001b[39m*\u001b[39m\u001b[39m*\u001b[39mkwargs):\n\u001b[0;32m      <a href='vscode-notebook-cell:/d%3A/works/corporate/202311-bosch-python2/simple_demos/notebooks/13_inheritance.ipynb#Y152sZmlsZQ%3D%3D?line=2'>3</a>\u001b[0m     \u001b[39mprint\u001b[39m(\u001b[39mf\u001b[39m\u001b[39m'\u001b[39m\u001b[39mEmployee.__init__ call started\u001b[39m\u001b[39m'\u001b[39m)\n\u001b[1;32m----> <a href='vscode-notebook-cell:/d%3A/works/corporate/202311-bosch-python2/simple_demos/notebooks/13_inheritance.ipynb#Y152sZmlsZQ%3D%3D?line=4'>5</a>\u001b[0m     \u001b[39mself\u001b[39m\u001b[39m.\u001b[39mid\u001b[39m=\u001b[39mkwargs[\u001b[39m\"\u001b[39;49m\u001b[39mid\u001b[39;49m\u001b[39m\"\u001b[39;49m] \u001b[39m#required\u001b[39;00m\n\u001b[0;32m      <a href='vscode-notebook-cell:/d%3A/works/corporate/202311-bosch-python2/simple_demos/notebooks/13_inheritance.ipynb#Y152sZmlsZQ%3D%3D?line=5'>6</a>\u001b[0m     \u001b[39mself\u001b[39m\u001b[39m.\u001b[39mname\u001b[39m=\u001b[39mkwargs[\u001b[39m\"\u001b[39m\u001b[39mname\u001b[39m\u001b[39m\"\u001b[39m] \u001b[39m#required\u001b[39;00m\n\u001b[0;32m      <a href='vscode-notebook-cell:/d%3A/works/corporate/202311-bosch-python2/simple_demos/notebooks/13_inheritance.ipynb#Y152sZmlsZQ%3D%3D?line=6'>7</a>\u001b[0m     \u001b[39mself\u001b[39m\u001b[39m.\u001b[39msalary\u001b[39m=\u001b[39mkwargs[\u001b[39m\"\u001b[39m\u001b[39msalary\u001b[39m\u001b[39m\"\u001b[39m] \u001b[39m#required\u001b[39;00m\n",
      "\u001b[1;31mKeyError\u001b[0m: 'id'"
     ]
    }
   ],
   "source": [
    "e=Engineer(name='Fagun', salary=2000, qualification='BE')"
   ]
  },
  {
   "cell_type": "code",
   "execution_count": null,
   "metadata": {},
   "outputs": [],
   "source": []
  }
 ],
 "metadata": {
  "kernelspec": {
   "display_name": "Python 3",
   "language": "python",
   "name": "python3"
  },
  "language_info": {
   "codemirror_mode": {
    "name": "ipython",
    "version": 3
   },
   "file_extension": ".py",
   "mimetype": "text/x-python",
   "name": "python",
   "nbconvert_exporter": "python",
   "pygments_lexer": "ipython3",
   "version": "3.12.0"
  }
 },
 "nbformat": 4,
 "nbformat_minor": 2
}
