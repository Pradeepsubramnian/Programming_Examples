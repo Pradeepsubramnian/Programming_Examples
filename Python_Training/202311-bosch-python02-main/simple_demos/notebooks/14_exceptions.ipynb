{
 "cells": [
  {
   "cell_type": "markdown",
   "metadata": {},
   "source": [
    "### Python Error Management.\n",
    "\n",
    "* Python represents all sorts of error (runtime and semantic) using standard exception process.\n",
    "* Exceptions are objects that represent the \"error condition\" or \"error information\"\n",
    "* They are raised rather than returned.\n",
    "    * raise is equivalent to **throw** in other programming languages\n",
    "\n",
    "* python has several exceptions builtin\n",
    "\n",
    "\n",
    "#### Looking at few exceptions."
   ]
  },
  {
   "cell_type": "code",
   "execution_count": 1,
   "metadata": {},
   "outputs": [
    {
     "ename": "IndexError",
     "evalue": "list index out of range",
     "output_type": "error",
     "traceback": [
      "\u001b[1;31m---------------------------------------------------------------------------\u001b[0m",
      "\u001b[1;31mIndexError\u001b[0m                                Traceback (most recent call last)",
      "\u001b[1;32md:\\works\\corporate\\202311-bosch-python2\\simple_demos\\notebooks\\14_exceptions.ipynb Cell 2\u001b[0m line \u001b[0;36m2\n\u001b[0;32m      <a href='vscode-notebook-cell:/d%3A/works/corporate/202311-bosch-python2/simple_demos/notebooks/14_exceptions.ipynb#W3sZmlsZQ%3D%3D?line=0'>1</a>\u001b[0m numbers\u001b[39m=\u001b[39m[\u001b[39m1\u001b[39m,\u001b[39m2\u001b[39m,\u001b[39m3\u001b[39m,\u001b[39m4\u001b[39m]\n\u001b[1;32m----> <a href='vscode-notebook-cell:/d%3A/works/corporate/202311-bosch-python2/simple_demos/notebooks/14_exceptions.ipynb#W3sZmlsZQ%3D%3D?line=1'>2</a>\u001b[0m numbers[\u001b[39m20\u001b[39;49m]\n",
      "\u001b[1;31mIndexError\u001b[0m: list index out of range"
     ]
    }
   ],
   "source": [
    "numbers=[1,2,3,4]\n",
    "numbers[20]"
   ]
  },
  {
   "cell_type": "code",
   "execution_count": 2,
   "metadata": {},
   "outputs": [
    {
     "ename": "KeyError",
     "evalue": "'PK'",
     "output_type": "error",
     "traceback": [
      "\u001b[1;31m---------------------------------------------------------------------------\u001b[0m",
      "\u001b[1;31mKeyError\u001b[0m                                  Traceback (most recent call last)",
      "\u001b[1;32md:\\works\\corporate\\202311-bosch-python2\\simple_demos\\notebooks\\14_exceptions.ipynb Cell 3\u001b[0m line \u001b[0;36m3\n\u001b[0;32m      <a href='vscode-notebook-cell:/d%3A/works/corporate/202311-bosch-python2/simple_demos/notebooks/14_exceptions.ipynb#W4sZmlsZQ%3D%3D?line=0'>1</a>\u001b[0m country_info\u001b[39m=\u001b[39m{\u001b[39m\"\u001b[39m\u001b[39mIN\u001b[39m\u001b[39m\"\u001b[39m:\u001b[39m\"\u001b[39m\u001b[39mIndia\u001b[39m\u001b[39m\"\u001b[39m,\u001b[39m\"\u001b[39m\u001b[39mJP\u001b[39m\u001b[39m\"\u001b[39m:\u001b[39m\"\u001b[39m\u001b[39mJapan\u001b[39m\u001b[39m\"\u001b[39m}\n\u001b[1;32m----> <a href='vscode-notebook-cell:/d%3A/works/corporate/202311-bosch-python2/simple_demos/notebooks/14_exceptions.ipynb#W4sZmlsZQ%3D%3D?line=2'>3</a>\u001b[0m country_info[\u001b[39m'\u001b[39;49m\u001b[39mPK\u001b[39;49m\u001b[39m'\u001b[39;49m]\n",
      "\u001b[1;31mKeyError\u001b[0m: 'PK'"
     ]
    }
   ],
   "source": [
    "country_info={\"IN\":\"India\",\"JP\":\"Japan\"}\n",
    "\n",
    "country_info['PK']"
   ]
  },
  {
   "cell_type": "code",
   "execution_count": 3,
   "metadata": {},
   "outputs": [
    {
     "ename": "IndentationError",
     "evalue": "unexpected indent (3726019892.py, line 2)",
     "output_type": "error",
     "traceback": [
      "\u001b[1;36m  Cell \u001b[1;32mIn[3], line 2\u001b[1;36m\u001b[0m\n\u001b[1;33m    y=30\u001b[0m\n\u001b[1;37m    ^\u001b[0m\n\u001b[1;31mIndentationError\u001b[0m\u001b[1;31m:\u001b[0m unexpected indent\n"
     ]
    }
   ],
   "source": [
    "x=20\n",
    "    y=30"
   ]
  },
  {
   "cell_type": "code",
   "execution_count": 4,
   "metadata": {},
   "outputs": [
    {
     "ename": "NameError",
     "evalue": "name 'a_function_that_doesnt_exist' is not defined",
     "output_type": "error",
     "traceback": [
      "\u001b[1;31m---------------------------------------------------------------------------\u001b[0m",
      "\u001b[1;31mNameError\u001b[0m                                 Traceback (most recent call last)",
      "\u001b[1;32md:\\works\\corporate\\202311-bosch-python2\\simple_demos\\notebooks\\14_exceptions.ipynb Cell 5\u001b[0m line \u001b[0;36m1\n\u001b[1;32m----> <a href='vscode-notebook-cell:/d%3A/works/corporate/202311-bosch-python2/simple_demos/notebooks/14_exceptions.ipynb#W6sZmlsZQ%3D%3D?line=0'>1</a>\u001b[0m a_function_that_doesnt_exist()\n",
      "\u001b[1;31mNameError\u001b[0m: name 'a_function_that_doesnt_exist' is not defined"
     ]
    }
   ],
   "source": [
    "a_function_that_doesnt_exist()"
   ]
  },
  {
   "cell_type": "code",
   "execution_count": 5,
   "metadata": {},
   "outputs": [
    {
     "ename": "AttributeError",
     "evalue": "'Triangle' object has no attribute 's1'",
     "output_type": "error",
     "traceback": [
      "\u001b[1;31m---------------------------------------------------------------------------\u001b[0m",
      "\u001b[1;31mAttributeError\u001b[0m                            Traceback (most recent call last)",
      "\u001b[1;32md:\\works\\corporate\\202311-bosch-python2\\simple_demos\\notebooks\\14_exceptions.ipynb Cell 6\u001b[0m line \u001b[0;36m5\n\u001b[0;32m      <a href='vscode-notebook-cell:/d%3A/works/corporate/202311-bosch-python2/simple_demos/notebooks/14_exceptions.ipynb#X10sZmlsZQ%3D%3D?line=1'>2</a>\u001b[0m     \u001b[39mpass\u001b[39;00m\n\u001b[0;32m      <a href='vscode-notebook-cell:/d%3A/works/corporate/202311-bosch-python2/simple_demos/notebooks/14_exceptions.ipynb#X10sZmlsZQ%3D%3D?line=3'>4</a>\u001b[0m t\u001b[39m=\u001b[39mTriangle()\n\u001b[1;32m----> <a href='vscode-notebook-cell:/d%3A/works/corporate/202311-bosch-python2/simple_demos/notebooks/14_exceptions.ipynb#X10sZmlsZQ%3D%3D?line=4'>5</a>\u001b[0m \u001b[39mprint\u001b[39m(t\u001b[39m.\u001b[39;49ms1)\n",
      "\u001b[1;31mAttributeError\u001b[0m: 'Triangle' object has no attribute 's1'"
     ]
    }
   ],
   "source": [
    "class Triangle:\n",
    "    pass\n",
    "\n",
    "t=Triangle()\n",
    "print(t.s1)"
   ]
  },
  {
   "cell_type": "markdown",
   "metadata": {},
   "source": [
    "### Exception Handling.\n",
    "\n",
    "* By default, when an exception is raised, it aborts the application after printing exception details."
   ]
  },
  {
   "cell_type": "code",
   "execution_count": 7,
   "metadata": {},
   "outputs": [],
   "source": [
    "def get_lucky_message(lucky_number):\n",
    "    messages=[None, \"You have a lucky day ahead\",\"You will have success soon\",\\\n",
    "              \"Be careful today\",\"Planning makes perfect\"]\n",
    "    if lucky_number<0:\n",
    "        return negative_luck\n",
    "    elif lucky_number==0:\n",
    "        return 1/0\n",
    "    else:\n",
    "        return messages[lucky_number]\n",
    "    \n",
    "\n",
    "def fetch_luck_message(lucky_number):\n",
    "    message=get_lucky_message(lucky_number)\n",
    "    return message\n",
    "\n",
    "def fortune_teller(lucky_number):\n",
    "    message=fetch_luck_message(lucky_number)\n",
    "    print('Your Luck:',message)"
   ]
  },
  {
   "cell_type": "markdown",
   "metadata": {},
   "source": [
    "#### Code may work without a problem"
   ]
  },
  {
   "cell_type": "code",
   "execution_count": 8,
   "metadata": {},
   "outputs": [
    {
     "name": "stdout",
     "output_type": "stream",
     "text": [
      "Your Luck: You will have success soon\n",
      "Your Luck: Planning makes perfect\n"
     ]
    }
   ],
   "source": [
    "fortune_teller(2)\n",
    "fortune_teller(4)"
   ]
  },
  {
   "cell_type": "markdown",
   "metadata": {},
   "source": [
    "#### Or things may go wrong based on the input"
   ]
  },
  {
   "cell_type": "code",
   "execution_count": 9,
   "metadata": {},
   "outputs": [
    {
     "ename": "IndexError",
     "evalue": "list index out of range",
     "output_type": "error",
     "traceback": [
      "\u001b[1;31m---------------------------------------------------------------------------\u001b[0m",
      "\u001b[1;31mIndexError\u001b[0m                                Traceback (most recent call last)",
      "\u001b[1;32md:\\works\\corporate\\202311-bosch-python2\\simple_demos\\notebooks\\14_exceptions.ipynb Cell 12\u001b[0m line \u001b[0;36m1\n\u001b[1;32m----> <a href='vscode-notebook-cell:/d%3A/works/corporate/202311-bosch-python2/simple_demos/notebooks/14_exceptions.ipynb#X13sZmlsZQ%3D%3D?line=0'>1</a>\u001b[0m fortune_teller(\u001b[39m20\u001b[39;49m)\n",
      "\u001b[1;32md:\\works\\corporate\\202311-bosch-python2\\simple_demos\\notebooks\\14_exceptions.ipynb Cell 12\u001b[0m line \u001b[0;36m1\n\u001b[0;32m     <a href='vscode-notebook-cell:/d%3A/works/corporate/202311-bosch-python2/simple_demos/notebooks/14_exceptions.ipynb#X13sZmlsZQ%3D%3D?line=15'>16</a>\u001b[0m \u001b[39mdef\u001b[39;00m \u001b[39mfortune_teller\u001b[39m(lucky_number):\n\u001b[1;32m---> <a href='vscode-notebook-cell:/d%3A/works/corporate/202311-bosch-python2/simple_demos/notebooks/14_exceptions.ipynb#X13sZmlsZQ%3D%3D?line=16'>17</a>\u001b[0m     message\u001b[39m=\u001b[39mfetch_luck_message(lucky_number)\n\u001b[0;32m     <a href='vscode-notebook-cell:/d%3A/works/corporate/202311-bosch-python2/simple_demos/notebooks/14_exceptions.ipynb#X13sZmlsZQ%3D%3D?line=17'>18</a>\u001b[0m     \u001b[39mprint\u001b[39m(\u001b[39m'\u001b[39m\u001b[39mYour Luck:\u001b[39m\u001b[39m'\u001b[39m,message)\n",
      "\u001b[1;32md:\\works\\corporate\\202311-bosch-python2\\simple_demos\\notebooks\\14_exceptions.ipynb Cell 12\u001b[0m line \u001b[0;36m1\n\u001b[0;32m     <a href='vscode-notebook-cell:/d%3A/works/corporate/202311-bosch-python2/simple_demos/notebooks/14_exceptions.ipynb#X13sZmlsZQ%3D%3D?line=11'>12</a>\u001b[0m \u001b[39mdef\u001b[39;00m \u001b[39mfetch_luck_message\u001b[39m(lucky_number):\n\u001b[1;32m---> <a href='vscode-notebook-cell:/d%3A/works/corporate/202311-bosch-python2/simple_demos/notebooks/14_exceptions.ipynb#X13sZmlsZQ%3D%3D?line=12'>13</a>\u001b[0m     message\u001b[39m=\u001b[39mget_lucky_message(lucky_number)\n\u001b[0;32m     <a href='vscode-notebook-cell:/d%3A/works/corporate/202311-bosch-python2/simple_demos/notebooks/14_exceptions.ipynb#X13sZmlsZQ%3D%3D?line=13'>14</a>\u001b[0m     \u001b[39mreturn\u001b[39;00m message\n",
      "\u001b[1;32md:\\works\\corporate\\202311-bosch-python2\\simple_demos\\notebooks\\14_exceptions.ipynb Cell 12\u001b[0m line \u001b[0;36m9\n\u001b[0;32m      <a href='vscode-notebook-cell:/d%3A/works/corporate/202311-bosch-python2/simple_demos/notebooks/14_exceptions.ipynb#X13sZmlsZQ%3D%3D?line=6'>7</a>\u001b[0m     \u001b[39mreturn\u001b[39;00m \u001b[39m1\u001b[39m\u001b[39m/\u001b[39m\u001b[39m0\u001b[39m\n\u001b[0;32m      <a href='vscode-notebook-cell:/d%3A/works/corporate/202311-bosch-python2/simple_demos/notebooks/14_exceptions.ipynb#X13sZmlsZQ%3D%3D?line=7'>8</a>\u001b[0m \u001b[39melse\u001b[39;00m:\n\u001b[1;32m----> <a href='vscode-notebook-cell:/d%3A/works/corporate/202311-bosch-python2/simple_demos/notebooks/14_exceptions.ipynb#X13sZmlsZQ%3D%3D?line=8'>9</a>\u001b[0m     \u001b[39mreturn\u001b[39;00m messages[lucky_number]\n",
      "\u001b[1;31mIndexError\u001b[0m: list index out of range"
     ]
    }
   ],
   "source": [
    "fortune_teller(20)"
   ]
  },
  {
   "cell_type": "code",
   "execution_count": 10,
   "metadata": {},
   "outputs": [
    {
     "ename": "NameError",
     "evalue": "name 'negative_luck' is not defined",
     "output_type": "error",
     "traceback": [
      "\u001b[1;31m---------------------------------------------------------------------------\u001b[0m",
      "\u001b[1;31mNameError\u001b[0m                                 Traceback (most recent call last)",
      "\u001b[1;32md:\\works\\corporate\\202311-bosch-python2\\simple_demos\\notebooks\\14_exceptions.ipynb Cell 13\u001b[0m line \u001b[0;36m1\n\u001b[1;32m----> <a href='vscode-notebook-cell:/d%3A/works/corporate/202311-bosch-python2/simple_demos/notebooks/14_exceptions.ipynb#X15sZmlsZQ%3D%3D?line=0'>1</a>\u001b[0m fortune_teller(\u001b[39m-\u001b[39;49m\u001b[39m1\u001b[39;49m)\n",
      "\u001b[1;32md:\\works\\corporate\\202311-bosch-python2\\simple_demos\\notebooks\\14_exceptions.ipynb Cell 13\u001b[0m line \u001b[0;36m1\n\u001b[0;32m     <a href='vscode-notebook-cell:/d%3A/works/corporate/202311-bosch-python2/simple_demos/notebooks/14_exceptions.ipynb#X15sZmlsZQ%3D%3D?line=15'>16</a>\u001b[0m \u001b[39mdef\u001b[39;00m \u001b[39mfortune_teller\u001b[39m(lucky_number):\n\u001b[1;32m---> <a href='vscode-notebook-cell:/d%3A/works/corporate/202311-bosch-python2/simple_demos/notebooks/14_exceptions.ipynb#X15sZmlsZQ%3D%3D?line=16'>17</a>\u001b[0m     message\u001b[39m=\u001b[39mfetch_luck_message(lucky_number)\n\u001b[0;32m     <a href='vscode-notebook-cell:/d%3A/works/corporate/202311-bosch-python2/simple_demos/notebooks/14_exceptions.ipynb#X15sZmlsZQ%3D%3D?line=17'>18</a>\u001b[0m     \u001b[39mprint\u001b[39m(\u001b[39m'\u001b[39m\u001b[39mYour Luck:\u001b[39m\u001b[39m'\u001b[39m,message)\n",
      "\u001b[1;32md:\\works\\corporate\\202311-bosch-python2\\simple_demos\\notebooks\\14_exceptions.ipynb Cell 13\u001b[0m line \u001b[0;36m1\n\u001b[0;32m     <a href='vscode-notebook-cell:/d%3A/works/corporate/202311-bosch-python2/simple_demos/notebooks/14_exceptions.ipynb#X15sZmlsZQ%3D%3D?line=11'>12</a>\u001b[0m \u001b[39mdef\u001b[39;00m \u001b[39mfetch_luck_message\u001b[39m(lucky_number):\n\u001b[1;32m---> <a href='vscode-notebook-cell:/d%3A/works/corporate/202311-bosch-python2/simple_demos/notebooks/14_exceptions.ipynb#X15sZmlsZQ%3D%3D?line=12'>13</a>\u001b[0m     message\u001b[39m=\u001b[39mget_lucky_message(lucky_number)\n\u001b[0;32m     <a href='vscode-notebook-cell:/d%3A/works/corporate/202311-bosch-python2/simple_demos/notebooks/14_exceptions.ipynb#X15sZmlsZQ%3D%3D?line=13'>14</a>\u001b[0m     \u001b[39mreturn\u001b[39;00m message\n",
      "\u001b[1;32md:\\works\\corporate\\202311-bosch-python2\\simple_demos\\notebooks\\14_exceptions.ipynb Cell 13\u001b[0m line \u001b[0;36m5\n\u001b[0;32m      <a href='vscode-notebook-cell:/d%3A/works/corporate/202311-bosch-python2/simple_demos/notebooks/14_exceptions.ipynb#X15sZmlsZQ%3D%3D?line=1'>2</a>\u001b[0m messages\u001b[39m=\u001b[39m[\u001b[39mNone\u001b[39;00m, \u001b[39m\"\u001b[39m\u001b[39mYou have a lucky day ahead\u001b[39m\u001b[39m\"\u001b[39m,\u001b[39m\"\u001b[39m\u001b[39mYou will have success soon\u001b[39m\u001b[39m\"\u001b[39m,\\\n\u001b[0;32m      <a href='vscode-notebook-cell:/d%3A/works/corporate/202311-bosch-python2/simple_demos/notebooks/14_exceptions.ipynb#X15sZmlsZQ%3D%3D?line=2'>3</a>\u001b[0m           \u001b[39m\"\u001b[39m\u001b[39mBe careful today\u001b[39m\u001b[39m\"\u001b[39m,\u001b[39m\"\u001b[39m\u001b[39mPlanning makes perfect\u001b[39m\u001b[39m\"\u001b[39m]\n\u001b[0;32m      <a href='vscode-notebook-cell:/d%3A/works/corporate/202311-bosch-python2/simple_demos/notebooks/14_exceptions.ipynb#X15sZmlsZQ%3D%3D?line=3'>4</a>\u001b[0m \u001b[39mif\u001b[39;00m lucky_number\u001b[39m<\u001b[39m\u001b[39m0\u001b[39m:\n\u001b[1;32m----> <a href='vscode-notebook-cell:/d%3A/works/corporate/202311-bosch-python2/simple_demos/notebooks/14_exceptions.ipynb#X15sZmlsZQ%3D%3D?line=4'>5</a>\u001b[0m     \u001b[39mreturn\u001b[39;00m negative_luck\n\u001b[0;32m      <a href='vscode-notebook-cell:/d%3A/works/corporate/202311-bosch-python2/simple_demos/notebooks/14_exceptions.ipynb#X15sZmlsZQ%3D%3D?line=5'>6</a>\u001b[0m \u001b[39melif\u001b[39;00m lucky_number\u001b[39m==\u001b[39m\u001b[39m0\u001b[39m:\n\u001b[0;32m      <a href='vscode-notebook-cell:/d%3A/works/corporate/202311-bosch-python2/simple_demos/notebooks/14_exceptions.ipynb#X15sZmlsZQ%3D%3D?line=6'>7</a>\u001b[0m     \u001b[39mreturn\u001b[39;00m \u001b[39m1\u001b[39m\u001b[39m/\u001b[39m\u001b[39m0\u001b[39m\n",
      "\u001b[1;31mNameError\u001b[0m: name 'negative_luck' is not defined"
     ]
    }
   ],
   "source": [
    "fortune_teller(-1)"
   ]
  },
  {
   "cell_type": "code",
   "execution_count": 11,
   "metadata": {},
   "outputs": [
    {
     "ename": "ZeroDivisionError",
     "evalue": "division by zero",
     "output_type": "error",
     "traceback": [
      "\u001b[1;31m---------------------------------------------------------------------------\u001b[0m",
      "\u001b[1;31mZeroDivisionError\u001b[0m                         Traceback (most recent call last)",
      "\u001b[1;32md:\\works\\corporate\\202311-bosch-python2\\simple_demos\\notebooks\\14_exceptions.ipynb Cell 14\u001b[0m line \u001b[0;36m1\n\u001b[1;32m----> <a href='vscode-notebook-cell:/d%3A/works/corporate/202311-bosch-python2/simple_demos/notebooks/14_exceptions.ipynb#X16sZmlsZQ%3D%3D?line=0'>1</a>\u001b[0m fortune_teller(\u001b[39m0\u001b[39;49m)\n",
      "\u001b[1;32md:\\works\\corporate\\202311-bosch-python2\\simple_demos\\notebooks\\14_exceptions.ipynb Cell 14\u001b[0m line \u001b[0;36m1\n\u001b[0;32m     <a href='vscode-notebook-cell:/d%3A/works/corporate/202311-bosch-python2/simple_demos/notebooks/14_exceptions.ipynb#X16sZmlsZQ%3D%3D?line=15'>16</a>\u001b[0m \u001b[39mdef\u001b[39;00m \u001b[39mfortune_teller\u001b[39m(lucky_number):\n\u001b[1;32m---> <a href='vscode-notebook-cell:/d%3A/works/corporate/202311-bosch-python2/simple_demos/notebooks/14_exceptions.ipynb#X16sZmlsZQ%3D%3D?line=16'>17</a>\u001b[0m     message\u001b[39m=\u001b[39mfetch_luck_message(lucky_number)\n\u001b[0;32m     <a href='vscode-notebook-cell:/d%3A/works/corporate/202311-bosch-python2/simple_demos/notebooks/14_exceptions.ipynb#X16sZmlsZQ%3D%3D?line=17'>18</a>\u001b[0m     \u001b[39mprint\u001b[39m(\u001b[39m'\u001b[39m\u001b[39mYour Luck:\u001b[39m\u001b[39m'\u001b[39m,message)\n",
      "\u001b[1;32md:\\works\\corporate\\202311-bosch-python2\\simple_demos\\notebooks\\14_exceptions.ipynb Cell 14\u001b[0m line \u001b[0;36m1\n\u001b[0;32m     <a href='vscode-notebook-cell:/d%3A/works/corporate/202311-bosch-python2/simple_demos/notebooks/14_exceptions.ipynb#X16sZmlsZQ%3D%3D?line=11'>12</a>\u001b[0m \u001b[39mdef\u001b[39;00m \u001b[39mfetch_luck_message\u001b[39m(lucky_number):\n\u001b[1;32m---> <a href='vscode-notebook-cell:/d%3A/works/corporate/202311-bosch-python2/simple_demos/notebooks/14_exceptions.ipynb#X16sZmlsZQ%3D%3D?line=12'>13</a>\u001b[0m     message\u001b[39m=\u001b[39mget_lucky_message(lucky_number)\n\u001b[0;32m     <a href='vscode-notebook-cell:/d%3A/works/corporate/202311-bosch-python2/simple_demos/notebooks/14_exceptions.ipynb#X16sZmlsZQ%3D%3D?line=13'>14</a>\u001b[0m     \u001b[39mreturn\u001b[39;00m message\n",
      "\u001b[1;32md:\\works\\corporate\\202311-bosch-python2\\simple_demos\\notebooks\\14_exceptions.ipynb Cell 14\u001b[0m line \u001b[0;36m7\n\u001b[0;32m      <a href='vscode-notebook-cell:/d%3A/works/corporate/202311-bosch-python2/simple_demos/notebooks/14_exceptions.ipynb#X16sZmlsZQ%3D%3D?line=4'>5</a>\u001b[0m     \u001b[39mreturn\u001b[39;00m negative_luck\n\u001b[0;32m      <a href='vscode-notebook-cell:/d%3A/works/corporate/202311-bosch-python2/simple_demos/notebooks/14_exceptions.ipynb#X16sZmlsZQ%3D%3D?line=5'>6</a>\u001b[0m \u001b[39melif\u001b[39;00m lucky_number\u001b[39m==\u001b[39m\u001b[39m0\u001b[39m:\n\u001b[1;32m----> <a href='vscode-notebook-cell:/d%3A/works/corporate/202311-bosch-python2/simple_demos/notebooks/14_exceptions.ipynb#X16sZmlsZQ%3D%3D?line=6'>7</a>\u001b[0m     \u001b[39mreturn\u001b[39;00m \u001b[39m1\u001b[39;49m\u001b[39m/\u001b[39;49m\u001b[39m0\u001b[39;49m\n\u001b[0;32m      <a href='vscode-notebook-cell:/d%3A/works/corporate/202311-bosch-python2/simple_demos/notebooks/14_exceptions.ipynb#X16sZmlsZQ%3D%3D?line=7'>8</a>\u001b[0m \u001b[39melse\u001b[39;00m:\n\u001b[0;32m      <a href='vscode-notebook-cell:/d%3A/works/corporate/202311-bosch-python2/simple_demos/notebooks/14_exceptions.ipynb#X16sZmlsZQ%3D%3D?line=8'>9</a>\u001b[0m     \u001b[39mreturn\u001b[39;00m messages[lucky_number]\n",
      "\u001b[1;31mZeroDivisionError\u001b[0m: division by zero"
     ]
    }
   ],
   "source": [
    "fortune_teller(0)"
   ]
  },
  {
   "cell_type": "code",
   "execution_count": 12,
   "metadata": {},
   "outputs": [
    {
     "ename": "TypeError",
     "evalue": "'<' not supported between instances of 'str' and 'int'",
     "output_type": "error",
     "traceback": [
      "\u001b[1;31m---------------------------------------------------------------------------\u001b[0m",
      "\u001b[1;31mTypeError\u001b[0m                                 Traceback (most recent call last)",
      "\u001b[1;32md:\\works\\corporate\\202311-bosch-python2\\simple_demos\\notebooks\\14_exceptions.ipynb Cell 15\u001b[0m line \u001b[0;36m1\n\u001b[1;32m----> <a href='vscode-notebook-cell:/d%3A/works/corporate/202311-bosch-python2/simple_demos/notebooks/14_exceptions.ipynb#X20sZmlsZQ%3D%3D?line=0'>1</a>\u001b[0m fortune_teller(\u001b[39m'\u001b[39;49m\u001b[39mHi\u001b[39;49m\u001b[39m'\u001b[39;49m)\n",
      "\u001b[1;32md:\\works\\corporate\\202311-bosch-python2\\simple_demos\\notebooks\\14_exceptions.ipynb Cell 15\u001b[0m line \u001b[0;36m1\n\u001b[0;32m     <a href='vscode-notebook-cell:/d%3A/works/corporate/202311-bosch-python2/simple_demos/notebooks/14_exceptions.ipynb#X20sZmlsZQ%3D%3D?line=15'>16</a>\u001b[0m \u001b[39mdef\u001b[39;00m \u001b[39mfortune_teller\u001b[39m(lucky_number):\n\u001b[1;32m---> <a href='vscode-notebook-cell:/d%3A/works/corporate/202311-bosch-python2/simple_demos/notebooks/14_exceptions.ipynb#X20sZmlsZQ%3D%3D?line=16'>17</a>\u001b[0m     message\u001b[39m=\u001b[39mfetch_luck_message(lucky_number)\n\u001b[0;32m     <a href='vscode-notebook-cell:/d%3A/works/corporate/202311-bosch-python2/simple_demos/notebooks/14_exceptions.ipynb#X20sZmlsZQ%3D%3D?line=17'>18</a>\u001b[0m     \u001b[39mprint\u001b[39m(\u001b[39m'\u001b[39m\u001b[39mYour Luck:\u001b[39m\u001b[39m'\u001b[39m,message)\n",
      "\u001b[1;32md:\\works\\corporate\\202311-bosch-python2\\simple_demos\\notebooks\\14_exceptions.ipynb Cell 15\u001b[0m line \u001b[0;36m1\n\u001b[0;32m     <a href='vscode-notebook-cell:/d%3A/works/corporate/202311-bosch-python2/simple_demos/notebooks/14_exceptions.ipynb#X20sZmlsZQ%3D%3D?line=11'>12</a>\u001b[0m \u001b[39mdef\u001b[39;00m \u001b[39mfetch_luck_message\u001b[39m(lucky_number):\n\u001b[1;32m---> <a href='vscode-notebook-cell:/d%3A/works/corporate/202311-bosch-python2/simple_demos/notebooks/14_exceptions.ipynb#X20sZmlsZQ%3D%3D?line=12'>13</a>\u001b[0m     message\u001b[39m=\u001b[39mget_lucky_message(lucky_number)\n\u001b[0;32m     <a href='vscode-notebook-cell:/d%3A/works/corporate/202311-bosch-python2/simple_demos/notebooks/14_exceptions.ipynb#X20sZmlsZQ%3D%3D?line=13'>14</a>\u001b[0m     \u001b[39mreturn\u001b[39;00m message\n",
      "\u001b[1;32md:\\works\\corporate\\202311-bosch-python2\\simple_demos\\notebooks\\14_exceptions.ipynb Cell 15\u001b[0m line \u001b[0;36m4\n\u001b[0;32m      <a href='vscode-notebook-cell:/d%3A/works/corporate/202311-bosch-python2/simple_demos/notebooks/14_exceptions.ipynb#X20sZmlsZQ%3D%3D?line=0'>1</a>\u001b[0m \u001b[39mdef\u001b[39;00m \u001b[39mget_lucky_message\u001b[39m(lucky_number):\n\u001b[0;32m      <a href='vscode-notebook-cell:/d%3A/works/corporate/202311-bosch-python2/simple_demos/notebooks/14_exceptions.ipynb#X20sZmlsZQ%3D%3D?line=1'>2</a>\u001b[0m     messages\u001b[39m=\u001b[39m[\u001b[39mNone\u001b[39;00m, \u001b[39m\"\u001b[39m\u001b[39mYou have a lucky day ahead\u001b[39m\u001b[39m\"\u001b[39m,\u001b[39m\"\u001b[39m\u001b[39mYou will have success soon\u001b[39m\u001b[39m\"\u001b[39m,\\\n\u001b[0;32m      <a href='vscode-notebook-cell:/d%3A/works/corporate/202311-bosch-python2/simple_demos/notebooks/14_exceptions.ipynb#X20sZmlsZQ%3D%3D?line=2'>3</a>\u001b[0m               \u001b[39m\"\u001b[39m\u001b[39mBe careful today\u001b[39m\u001b[39m\"\u001b[39m,\u001b[39m\"\u001b[39m\u001b[39mPlanning makes perfect\u001b[39m\u001b[39m\"\u001b[39m]\n\u001b[1;32m----> <a href='vscode-notebook-cell:/d%3A/works/corporate/202311-bosch-python2/simple_demos/notebooks/14_exceptions.ipynb#X20sZmlsZQ%3D%3D?line=3'>4</a>\u001b[0m     \u001b[39mif\u001b[39;00m lucky_number\u001b[39m<\u001b[39;49m\u001b[39m0\u001b[39;49m:\n\u001b[0;32m      <a href='vscode-notebook-cell:/d%3A/works/corporate/202311-bosch-python2/simple_demos/notebooks/14_exceptions.ipynb#X20sZmlsZQ%3D%3D?line=4'>5</a>\u001b[0m         \u001b[39mreturn\u001b[39;00m negative_luck\n\u001b[0;32m      <a href='vscode-notebook-cell:/d%3A/works/corporate/202311-bosch-python2/simple_demos/notebooks/14_exceptions.ipynb#X20sZmlsZQ%3D%3D?line=5'>6</a>\u001b[0m     \u001b[39melif\u001b[39;00m lucky_number\u001b[39m==\u001b[39m\u001b[39m0\u001b[39m:\n",
      "\u001b[1;31mTypeError\u001b[0m: '<' not supported between instances of 'str' and 'int'"
     ]
    }
   ],
   "source": [
    "fortune_teller('Hi')"
   ]
  },
  {
   "cell_type": "markdown",
   "metadata": {},
   "source": [
    "#### Understanding Exception Stack Trace.\n",
    "\n",
    "* consider the last use case : fortune_teller(\"Hi\")\n",
    "* The actual error occurs in **get_lucky_message** \n",
    "    * It **raise**s TypeError\n",
    "\n",
    "* since the error was not handled by the code, it porpagates to  parent function\n",
    "    * **fetch_luck_message()**\n",
    "    * the error message includes this point also\n",
    "    \n",
    "* since the error was not handled even in **fetch_luck_message()** it **propagates** to forutne_teller\n",
    "    * this information is also present in the error stack trace\n",
    "\n",
    "* since the error was not hadnled here it propagates to the parent\n",
    "    * which is python global code \n",
    "    \n",
    "* since it is not handled here, it finally reaches python runtime.\n",
    "    * python runtime handles this exception by\n",
    "        * printing the error message\n",
    "        * terminating the program.\n",
    "\n",
    "\n",
    "### How the function was called.\n",
    "\n",
    "python ---> fortune_teller('hello') ---> fetch_luck_message('hello') --> get_lucky_message() --> error raised \n",
    "\n",
    "\n",
    "### The Exception can be hadnled at any point in the whole chain.\n",
    "\n",
    "* Generally we shouldn't handle it at the point of error.\n",
    "* The whole idea is to forward the error message to right authority to handle it.\n",
    "    * you don't handle where the error occurs but at some parent level.\n",
    "\n",
    "### How to Handle Error\n",
    "\n",
    "## try-except-finally block.\n",
    "\n",
    "### try\n",
    "\n",
    "* A block of code that calls a function that may raise the exception.\n",
    "\n",
    "### except\n",
    "* A block of code that handles (takes action on) the exception\n",
    "\n",
    "### finally block\n",
    "* used for cleanup.\n",
    "\n",
    "\n",
    "### Note on try-except.\n",
    "\n",
    "* A try is NOT related to raising exception.\n",
    "    * we generally NEVER raise exception directly within try.\n",
    "    * we call a function that may raise.\n",
    "\n",
    "* try is associated with except.\n",
    "    * A try may be followed by 0 or more except and 0 or 1 finally \n",
    "    * A try must be followed by at least one item\n",
    "        * except or finally\n",
    "\n",
    "    * except/finally can't be written without a try."
   ]
  },
  {
   "cell_type": "code",
   "execution_count": 14,
   "metadata": {},
   "outputs": [
    {
     "name": "stdout",
     "output_type": "stream",
     "text": [
      "Your Luck: You have a lucky day ahead\n",
      "something went wrong\n",
      "We managed it without error\n"
     ]
    }
   ],
   "source": [
    "try:\n",
    "    fortune_teller(1) # works fine.\n",
    "    fortune_teller(20) # raises here.\n",
    "    fortune_teller(2) # never reaches here.\n",
    "except:\n",
    "    print('something went wrong')\n",
    "finally:\n",
    "    print('We managed it without error')"
   ]
  },
  {
   "cell_type": "markdown",
   "metadata": {},
   "source": [
    "#### How to know what went wrong?\n",
    "* something went wrong is not good enough.\n",
    "* we may need to know exactly what went wrong?\n",
    "* except can take the exception object that can tell us the details."
   ]
  },
  {
   "cell_type": "code",
   "execution_count": 15,
   "metadata": {},
   "outputs": [],
   "source": [
    "def fortune_teller(lucky_number):\n",
    "    try:\n",
    "        message=fetch_luck_message(lucky_number)\n",
    "        print('Prediction:',message)\n",
    "    except Exception as e:\n",
    "        print(f'Error in prediction:{type(e).__name__}\\t{e}')"
   ]
  },
  {
   "cell_type": "code",
   "execution_count": 16,
   "metadata": {},
   "outputs": [
    {
     "name": "stdout",
     "output_type": "stream",
     "text": [
      "Prediction: Planning makes perfect\n"
     ]
    }
   ],
   "source": [
    "fortune_teller(4)"
   ]
  },
  {
   "cell_type": "code",
   "execution_count": 17,
   "metadata": {},
   "outputs": [
    {
     "name": "stdout",
     "output_type": "stream",
     "text": [
      "Prediction: You have a lucky day ahead\n"
     ]
    }
   ],
   "source": [
    "fortune_teller(1)"
   ]
  },
  {
   "cell_type": "code",
   "execution_count": 18,
   "metadata": {},
   "outputs": [
    {
     "name": "stdout",
     "output_type": "stream",
     "text": [
      "Error in prediction:IndexError\tlist index out of range\n"
     ]
    }
   ],
   "source": [
    "fortune_teller(20)"
   ]
  },
  {
   "cell_type": "code",
   "execution_count": 19,
   "metadata": {},
   "outputs": [
    {
     "name": "stdout",
     "output_type": "stream",
     "text": [
      "Error in prediction:TypeError\t'<' not supported between instances of 'str' and 'int'\n"
     ]
    }
   ],
   "source": [
    "fortune_teller('hi')"
   ]
  },
  {
   "cell_type": "markdown",
   "metadata": {},
   "source": [
    "### We may need to handle different errors differently to make it more contextual.\n",
    "\n",
    "* A try can be followed my multiple except handling different types.\n",
    "* we can have multiple try block in the whole call path"
   ]
  },
  {
   "cell_type": "code",
   "execution_count": 23,
   "metadata": {},
   "outputs": [],
   "source": [
    "def get_lucky_message(lucky_number):\n",
    "    messages=[None, \"You have a lucky day ahead\",\"You will have success soon\",\\\n",
    "              \"Be careful today\",\"Planning makes perfect\"]\n",
    "    if lucky_number<0:\n",
    "        return negative_luck\n",
    "    elif lucky_number==0:\n",
    "        return 1/0\n",
    "    else:\n",
    "        return messages[lucky_number]\n",
    "    \n",
    "\n",
    "def fetch_luck_message(lucky_number):\n",
    "    try:\n",
    "        message=get_lucky_message(lucky_number)\n",
    "    except TypeError:\n",
    "        message=\"Learning Maths would be of great help...\"\n",
    "    finally:\n",
    "        print('I have done my part. May God be with you...')\n",
    "\n",
    "    #any other exception will propagate as if no try is available.\n",
    "\n",
    "    return message\n",
    "\n",
    "def fortune_teller(lucky_number):\n",
    "    try:\n",
    "        message=fetch_luck_message(lucky_number)\n",
    "        print('Prediction:',message)\n",
    "    except IndexError:\n",
    "        print('XPrediction: You are over ambitious')\n",
    "    except NameError:\n",
    "        print('XPrediction: There is too much negativity around you')\n",
    "    except ZeroDivisionError:\n",
    "        print('XPrediction: You have No luck!')"
   ]
  },
  {
   "cell_type": "code",
   "execution_count": 24,
   "metadata": {},
   "outputs": [
    {
     "name": "stdout",
     "output_type": "stream",
     "text": [
      "I have done my part. May God be with you...\n",
      "Prediction: You have a lucky day ahead\n"
     ]
    }
   ],
   "source": [
    "fortune_teller(1)"
   ]
  },
  {
   "cell_type": "code",
   "execution_count": 25,
   "metadata": {},
   "outputs": [
    {
     "name": "stdout",
     "output_type": "stream",
     "text": [
      "I have done my part. May God be with you...\n",
      "XPrediction: You are over ambitious\n"
     ]
    }
   ],
   "source": [
    "fortune_teller(20)"
   ]
  },
  {
   "cell_type": "code",
   "execution_count": 26,
   "metadata": {},
   "outputs": [
    {
     "name": "stdout",
     "output_type": "stream",
     "text": [
      "I have done my part. May God be with you...\n",
      "Prediction: Learning Maths would be of great help...\n"
     ]
    }
   ],
   "source": [
    "fortune_teller('Hi')"
   ]
  },
  {
   "cell_type": "markdown",
   "metadata": {},
   "source": [
    "### User Defined Exceptions\n",
    "\n",
    "* so far we have used predfined exception.\n",
    "* they are not always meaningful\n",
    "* we may need to include some details of exception\n",
    "* we may have a complex requirement\n",
    "\n",
    "### Creating an exception \n",
    "\n",
    "* An exception is a subclass of Exception class.\n",
    "* we can also create our own exception Hierarchy"
   ]
  },
  {
   "cell_type": "code",
   "execution_count": 27,
   "metadata": {},
   "outputs": [],
   "source": [
    "class FortuneError(Exception):\n",
    "    def __init__(self,lucky_number,message='Forutne Error'):\n",
    "        super().__init__(message)\n",
    "        self.lucky_number = lucky_number\n",
    "\n",
    "class ZeroLuckError(FortuneError):\n",
    "    pass\n",
    "\n",
    "class NegativeLuckError(FortuneError):\n",
    "    pass\n",
    "\n",
    "class PoorMathError(FortuneError):\n",
    "    pass\n",
    "\n",
    "class OverAmbitionError(FortuneError):\n",
    "    pass"
   ]
  },
  {
   "cell_type": "code",
   "execution_count": 34,
   "metadata": {},
   "outputs": [],
   "source": [
    "def get_lucky_message(lucky_number):\n",
    "    messages=[None, \"You have a lucky day ahead\",\"You will have success soon\",\\\n",
    "              \"Be careful today\",\"Planning makes perfect\"]\n",
    "    if lucky_number<0:\n",
    "        raise NegativeLuckError(lucky_number,\"You have too much of negativity\")\n",
    "    elif lucky_number==0:\n",
    "        raise ZeroLuckError(0,'You have no luck')\n",
    "    else:\n",
    "        return messages[lucky_number]\n",
    "    \n",
    "\n",
    "def fetch_luck_message(lucky_number):\n",
    "    try:\n",
    "        message=get_lucky_message(lucky_number)\n",
    "    except TypeError:\n",
    "        raise PoorMathError(lucky_number,\"A good knowledge of mathematics can help\")\n",
    "    except IndexError:\n",
    "        raise OverAmbitionError(lucky_number,\"You are over ambitious\")\n",
    "    finally:\n",
    "        print('I have done my part. May God be with you...')\n",
    "\n",
    "    #any other exception will propagate as if no try is available.\n",
    "\n",
    "    return message\n",
    "\n",
    "def fortune_teller(lucky_number):\n",
    "    try:\n",
    "        message=fetch_luck_message(lucky_number)\n",
    "        print(f'Prediction for {lucky_number}: {message}')\n",
    "    except FortuneError as e:\n",
    "        print(f'XPrediction: {e.lucky_number}\\t {e}')\n",
    "    print()"
   ]
  },
  {
   "cell_type": "code",
   "execution_count": 35,
   "metadata": {},
   "outputs": [
    {
     "name": "stdout",
     "output_type": "stream",
     "text": [
      "I have done my part. May God be with you...\n",
      "Prediction for 1: You have a lucky day ahead\n",
      "\n",
      "I have done my part. May God be with you...\n",
      "Prediction for 4: Planning makes perfect\n",
      "\n"
     ]
    }
   ],
   "source": [
    "fortune_teller(1)\n",
    "fortune_teller(4)"
   ]
  },
  {
   "cell_type": "code",
   "execution_count": 36,
   "metadata": {},
   "outputs": [
    {
     "name": "stdout",
     "output_type": "stream",
     "text": [
      "I have done my part. May God be with you...\n",
      "XPrediction: 20\t You are over ambitious\n",
      "\n",
      "I have done my part. May God be with you...\n",
      "XPrediction: -1\t You have too much of negativity\n",
      "\n",
      "I have done my part. May God be with you...\n",
      "XPrediction: 0\t You have no luck\n",
      "\n",
      "I have done my part. May God be with you...\n",
      "XPrediction: Hi\t A good knowledge of mathematics can help\n",
      "\n"
     ]
    }
   ],
   "source": [
    "fortune_teller(20)\n",
    "fortune_teller(-1)\n",
    "fortune_teller(0)\n",
    "fortune_teller('Hi')"
   ]
  },
  {
   "cell_type": "markdown",
   "metadata": {},
   "source": [
    "#### Note\n",
    "\n",
    "* we have handled all fortune related exception is a single except block that takes super class.\n",
    "    * this is the advantage of inheritance hierarchy here\n",
    "\n",
    "* but if we want we can handle them separately also in their own exception block\n"
   ]
  },
  {
   "cell_type": "code",
   "execution_count": null,
   "metadata": {},
   "outputs": [],
   "source": []
  }
 ],
 "metadata": {
  "kernelspec": {
   "display_name": "Python 3",
   "language": "python",
   "name": "python3"
  },
  "language_info": {
   "codemirror_mode": {
    "name": "ipython",
    "version": 3
   },
   "file_extension": ".py",
   "mimetype": "text/x-python",
   "name": "python",
   "nbconvert_exporter": "python",
   "pygments_lexer": "ipython3",
   "version": "3.12.0"
  }
 },
 "nbformat": 4,
 "nbformat_minor": 2
}
