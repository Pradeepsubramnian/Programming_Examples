{
 "cells": [
  {
   "cell_type": "markdown",
   "metadata": {},
   "source": [
    "### Working with formatted data\n",
    "\n",
    "* we often need to keep the information in some data format\n",
    "* we also need a way to access the in my application.\n",
    "* while a simple file i/o may work it will required addtional works\n",
    "\n",
    "\n",
    "### Reading a CSV file.\n",
    "\n",
    "* CSV is a comma spearated values\n",
    "* generally contains first row with field names."
   ]
  },
  {
   "cell_type": "code",
   "execution_count": 1,
   "metadata": {},
   "outputs": [
    {
     "name": "stdout",
     "output_type": "stream",
     "text": [
      "Writing books.csv\n"
     ]
    }
   ],
   "source": [
    "%%file books.csv\n",
    "title,author,price,rating\n",
    "The Accursed God, Vivek Dutta Mishra, 299, 4.6\n",
    "Rashmirathi, Ramdhari Singh Dinkar, 109, 4.8\n",
    "Kurukshetra,Ramdhari Singh Dinkar, 99, 4.1\n",
    "Manas, Vivek Dutta Mishra,199, 4.2\n",
    "Asura, Anant Neelkanthan,499,3.6\n",
    " "
   ]
  },
  {
   "cell_type": "markdown",
   "metadata": {},
   "source": [
    "#### We can read and use the data without any additional module"
   ]
  },
  {
   "cell_type": "code",
   "execution_count": 4,
   "metadata": {},
   "outputs": [],
   "source": [
    "def read_csv(file):\n",
    "    rows=[]\n",
    "    \n",
    "    with open(file) as file:\n",
    "        for line in file.readlines():\n",
    "            rows.append( line.strip().split(','))\n",
    "    \n",
    "    return {\n",
    "        'header': rows[0],\n",
    "        'data': rows[1:]\n",
    "    }"
   ]
  },
  {
   "cell_type": "code",
   "execution_count": 5,
   "metadata": {},
   "outputs": [
    {
     "name": "stdout",
     "output_type": "stream",
     "text": [
      "{'header': ['title', 'author', 'price', 'rating'], 'data': [['The Accursed God', ' Vivek Dutta Mishra', ' 299', ' 4.6'], ['Rashmirathi', ' Ramdhari Singh Dinkar', ' 109', ' 4.8'], ['Kurukshetra', 'Ramdhari Singh Dinkar', ' 99', ' 4.1'], ['Manas', ' Vivek Dutta Mishra', '199', ' 4.2'], ['Asura', ' Anant Neelkanthan', '499', '3.6'], ['']]}\n"
     ]
    }
   ],
   "source": [
    "books= read_csv('books.csv')\n",
    "print(books)"
   ]
  },
  {
   "cell_type": "code",
   "execution_count": 7,
   "metadata": {},
   "outputs": [
    {
     "name": "stdout",
     "output_type": "stream",
     "text": [
      "title The Accursed God\n",
      "author  Vivek Dutta Mishra\n",
      "price  299\n",
      "rating  4.6\n",
      "\n",
      "title Rashmirathi\n",
      "author  Ramdhari Singh Dinkar\n",
      "price  109\n",
      "rating  4.8\n",
      "\n",
      "title Kurukshetra\n",
      "author Ramdhari Singh Dinkar\n",
      "price  99\n",
      "rating  4.1\n",
      "\n",
      "title Manas\n",
      "author  Vivek Dutta Mishra\n",
      "price 199\n",
      "rating  4.2\n",
      "\n",
      "title Asura\n",
      "author  Anant Neelkanthan\n",
      "price 499\n",
      "rating 3.6\n",
      "\n",
      "title \n",
      "\n"
     ]
    }
   ],
   "source": [
    "for book in books[\"data\"]:\n",
    "    for i in range(len(book)):\n",
    "        print(books[\"header\"][i],book[i])\n",
    "    print()"
   ]
  },
  {
   "cell_type": "markdown",
   "metadata": {},
   "source": [
    "#### But a specialized library can help us access it more properly.\n",
    "\n",
    "* python support csv module."
   ]
  },
  {
   "cell_type": "code",
   "execution_count": 8,
   "metadata": {},
   "outputs": [],
   "source": [
    "import csv"
   ]
  },
  {
   "cell_type": "code",
   "execution_count": 9,
   "metadata": {},
   "outputs": [
    {
     "name": "stdout",
     "output_type": "stream",
     "text": [
      "['Dialect', 'DictReader', 'DictWriter', 'Error', 'QUOTE_ALL', 'QUOTE_MINIMAL', 'QUOTE_NONE', 'QUOTE_NONNUMERIC', 'QUOTE_NOTNULL', 'QUOTE_STRINGS', 'Sniffer', 'StringIO', '_Dialect', '__all__', '__builtins__', '__cached__', '__doc__', '__file__', '__loader__', '__name__', '__package__', '__spec__', '__version__', 'excel', 'excel_tab', 'field_size_limit', 'get_dialect', 'list_dialects', 're', 'reader', 'register_dialect', 'types', 'unix_dialect', 'unregister_dialect', 'writer']\n"
     ]
    }
   ],
   "source": [
    "print(dir(csv))"
   ]
  },
  {
   "cell_type": "code",
   "execution_count": 10,
   "metadata": {},
   "outputs": [
    {
     "name": "stdout",
     "output_type": "stream",
     "text": [
      "Help on built-in function reader in module _csv:\n",
      "\n",
      "reader(...)\n",
      "    csv_reader = reader(iterable [, dialect='excel']\n",
      "                            [optional keyword args])\n",
      "        for row in csv_reader:\n",
      "            process(row)\n",
      "\n",
      "    The \"iterable\" argument can be any object that returns a line\n",
      "    of input for each iteration, such as a file object or a list.  The\n",
      "    optional \"dialect\" parameter is discussed below.  The function\n",
      "    also accepts optional keyword arguments which override settings\n",
      "    provided by the dialect.\n",
      "\n",
      "    The returned object is an iterator.  Each iteration returns a row\n",
      "    of the CSV file (which can span multiple input lines).\n",
      "\n"
     ]
    }
   ],
   "source": [
    "help(csv.reader)"
   ]
  },
  {
   "cell_type": "code",
   "execution_count": 12,
   "metadata": {},
   "outputs": [],
   "source": [
    "def read_csv(path):\n",
    "    with open(path) as file:\n",
    "        reader=csv.reader(file)\n",
    "        for row in reader:\n",
    "            print(row)"
   ]
  },
  {
   "cell_type": "code",
   "execution_count": 13,
   "metadata": {},
   "outputs": [
    {
     "name": "stdout",
     "output_type": "stream",
     "text": [
      "['title', 'author', 'price', 'rating']\n",
      "['The Accursed God', ' Vivek Dutta Mishra', ' 299', ' 4.6']\n",
      "['Rashmirathi', ' Ramdhari Singh Dinkar', ' 109', ' 4.8']\n",
      "['Kurukshetra', 'Ramdhari Singh Dinkar', ' 99', ' 4.1']\n",
      "['Manas', ' Vivek Dutta Mishra', '199', ' 4.2']\n",
      "['Asura', ' Anant Neelkanthan', '499', '3.6']\n",
      "[' ']\n"
     ]
    }
   ],
   "source": [
    "read_csv('books.csv')"
   ]
  },
  {
   "cell_type": "markdown",
   "metadata": {},
   "source": [
    "### Advantages of csv over plain file\n",
    "\n",
    "* we don't need to split or strip\n",
    "* it can identify and work with different delimeters.\n",
    "* sometimes we use other delimeter than comma."
   ]
  },
  {
   "cell_type": "code",
   "execution_count": 16,
   "metadata": {},
   "outputs": [],
   "source": [
    "def copy_csv(source, target, source_delimeter=',', target_delimeter=','):\n",
    "    with open(source) as sfile:\n",
    "        with open(target, 'w') as tfile:\n",
    "            reader=csv.reader(sfile, delimiter= source_delimeter)\n",
    "            writer=csv.writer(tfile, delimiter= target_delimeter)\n",
    "            for data in reader:\n",
    "                writer.writerow(data)"
   ]
  },
  {
   "cell_type": "code",
   "execution_count": 17,
   "metadata": {},
   "outputs": [],
   "source": [
    "copy_csv('books.csv','books2.csv',target_delimeter=\"|\")"
   ]
  },
  {
   "cell_type": "markdown",
   "metadata": {},
   "source": [
    "### Csv also has dict reader and writer that can help us read the data in dictionary"
   ]
  },
  {
   "cell_type": "code",
   "execution_count": 28,
   "metadata": {},
   "outputs": [],
   "source": [
    "def read_csv(file, delimiter=\",\"):\n",
    "    with open(file) as file:\n",
    "        lines = file.readlines()\n",
    "\n",
    "        fieldNames= lines[0].strip().split(delimiter)\n",
    "\n",
    "        reader=csv.DictReader(lines[1:],delimiter=delimiter,fieldnames=fieldNames)\n",
    "        items=[]\n",
    "        for data in reader:\n",
    "            items.append(data)\n",
    "\n",
    "        return items"
   ]
  },
  {
   "cell_type": "code",
   "execution_count": 29,
   "metadata": {},
   "outputs": [
    {
     "name": "stdout",
     "output_type": "stream",
     "text": [
      "[{'title': 'The Accursed God', 'author': ' Vivek Dutta Mishra', 'price': ' 299', 'rating': ' 4.6'}, {'title': 'Rashmirathi', 'author': ' Ramdhari Singh Dinkar', 'price': ' 109', 'rating': ' 4.8'}, {'title': 'Kurukshetra', 'author': 'Ramdhari Singh Dinkar', 'price': ' 99', 'rating': ' 4.1'}, {'title': 'Manas', 'author': ' Vivek Dutta Mishra', 'price': '199', 'rating': ' 4.2'}, {'title': 'Asura', 'author': ' Anant Neelkanthan', 'price': '499', 'rating': '3.6'}]\n"
     ]
    }
   ],
   "source": [
    "books=read_csv('books.csv')\n",
    "print(books)"
   ]
  },
  {
   "cell_type": "code",
   "execution_count": 30,
   "metadata": {},
   "outputs": [
    {
     "name": "stdout",
     "output_type": "stream",
     "text": [
      "title The Accursed God\n",
      "author  Vivek Dutta Mishra\n",
      "price  299\n",
      "rating  4.6\n",
      "\n",
      "title Rashmirathi\n",
      "author  Ramdhari Singh Dinkar\n",
      "price  109\n",
      "rating  4.8\n",
      "\n",
      "title Kurukshetra\n",
      "author Ramdhari Singh Dinkar\n",
      "price  99\n",
      "rating  4.1\n",
      "\n",
      "title Manas\n",
      "author  Vivek Dutta Mishra\n",
      "price 199\n",
      "rating  4.2\n",
      "\n",
      "title Asura\n",
      "author  Anant Neelkanthan\n",
      "price 499\n",
      "rating 3.6\n",
      "\n"
     ]
    }
   ],
   "source": [
    "for book in books:\n",
    "    for key,value in book.items():\n",
    "        print(key,value)\n",
    "    print()"
   ]
  },
  {
   "cell_type": "markdown",
   "metadata": {},
   "source": [
    "#### JSON file\n",
    "\n",
    "* in current programming JSON is perhaps one of the most important data exchange format.\n",
    "* it is important to be able to access and read json files.\n",
    "* pyhton provides a module **json** just to work with json files.\n",
    "* It allows us to \n",
    "    * read json as python object \n",
    "        * by default reads as list and dict\n",
    "    * write python list and dictionary as json\n",
    "\n",
    "* There are 4 important functions\n",
    "\n",
    "#### read() and reads()\n",
    "\n",
    "* both reads json data and saves in python object\n",
    "* read reads from a file\n",
    "* reads reads from a string\n",
    "\n",
    "\n",
    "##### write and writes()\n",
    "\n",
    "* both writes pyhton objects as json\n",
    "* write writes to a file\n",
    "* writes writes to a string.\n",
    "\n"
   ]
  },
  {
   "cell_type": "code",
   "execution_count": 31,
   "metadata": {},
   "outputs": [],
   "source": [
    "import json"
   ]
  },
  {
   "cell_type": "markdown",
   "metadata": {},
   "source": [
    "#### I can convert my books array of dictionary to json string"
   ]
  },
  {
   "cell_type": "code",
   "execution_count": 34,
   "metadata": {},
   "outputs": [
    {
     "name": "stdout",
     "output_type": "stream",
     "text": [
      "[\n",
      "    {\n",
      "        \"title\": \"The Accursed God\",\n",
      "        \"author\": \" Vivek Dutta Mishra\",\n",
      "        \"price\": \" 299\",\n",
      "        \"rating\": \" 4.6\"\n",
      "    },\n",
      "    {\n",
      "        \"title\": \"Rashmirathi\",\n",
      "        \"author\": \" Ramdhari Singh Dinkar\",\n",
      "        \"price\": \" 109\",\n",
      "        \"rating\": \" 4.8\"\n",
      "    },\n",
      "    {\n",
      "        \"title\": \"Kurukshetra\",\n",
      "        \"author\": \"Ramdhari Singh Dinkar\",\n",
      "        \"price\": \" 99\",\n",
      "        \"rating\": \" 4.1\"\n",
      "    },\n",
      "    {\n",
      "        \"title\": \"Manas\",\n",
      "        \"author\": \" Vivek Dutta Mishra\",\n",
      "        \"price\": \"199\",\n",
      "        \"rating\": \" 4.2\"\n",
      "    },\n",
      "    {\n",
      "        \"title\": \"Asura\",\n",
      "        \"author\": \" Anant Neelkanthan\",\n",
      "        \"price\": \"499\",\n",
      "        \"rating\": \"3.6\"\n",
      "    }\n",
      "]\n"
     ]
    }
   ],
   "source": [
    "json_str= json.dumps(books,indent=4)\n",
    "print(json_str)"
   ]
  },
  {
   "cell_type": "markdown",
   "metadata": {},
   "source": [
    "### Now this informatin can be saved using startndard file.write"
   ]
  },
  {
   "cell_type": "code",
   "execution_count": 37,
   "metadata": {},
   "outputs": [],
   "source": [
    "def save_json(data, path):\n",
    "    with open(path, \"w\") as file:\n",
    "        json.dump(data,file,indent=4)"
   ]
  },
  {
   "cell_type": "code",
   "execution_count": 38,
   "metadata": {},
   "outputs": [],
   "source": [
    "save_json(books, 'books.json')"
   ]
  },
  {
   "cell_type": "markdown",
   "metadata": {},
   "source": [
    "### Reading the JSON file"
   ]
  },
  {
   "cell_type": "code",
   "execution_count": 39,
   "metadata": {},
   "outputs": [],
   "source": [
    "def read_json(path):\n",
    "    with open(path) as file:\n",
    "        data = json.load(file)\n",
    "        return data"
   ]
  },
  {
   "cell_type": "code",
   "execution_count": 40,
   "metadata": {},
   "outputs": [],
   "source": [
    "books2= read_json('books.json')\n"
   ]
  },
  {
   "cell_type": "code",
   "execution_count": 41,
   "metadata": {},
   "outputs": [
    {
     "name": "stdout",
     "output_type": "stream",
     "text": [
      "[{'title': 'The Accursed God', 'author': ' Vivek Dutta Mishra', 'price': ' 299', 'rating': ' 4.6'}, {'title': 'Rashmirathi', 'author': ' Ramdhari Singh Dinkar', 'price': ' 109', 'rating': ' 4.8'}, {'title': 'Kurukshetra', 'author': 'Ramdhari Singh Dinkar', 'price': ' 99', 'rating': ' 4.1'}, {'title': 'Manas', 'author': ' Vivek Dutta Mishra', 'price': '199', 'rating': ' 4.2'}, {'title': 'Asura', 'author': ' Anant Neelkanthan', 'price': '499', 'rating': '3.6'}]\n"
     ]
    }
   ],
   "source": [
    "print(books2)"
   ]
  },
  {
   "cell_type": "markdown",
   "metadata": {},
   "source": [
    "### json can't work with user defined object\n",
    "\n",
    "* json can work with list, dict kind primitive objects \n",
    "* but it can't work with user defined objects\n",
    "* it doesn't know how to use them.\n"
   ]
  },
  {
   "cell_type": "code",
   "execution_count": 42,
   "metadata": {},
   "outputs": [],
   "source": [
    "import sys\n",
    "sys.path.append('../libs')\n",
    "import books as b"
   ]
  },
  {
   "cell_type": "code",
   "execution_count": 44,
   "metadata": {},
   "outputs": [
    {
     "name": "stdout",
     "output_type": "stream",
     "text": [
      "                                          All Books                                          \n",
      "\n",
      "---------------------------------------------------------------------------------------------\n",
      "|           Title           |           Author          |      Price      |      Rating     |\n",
      "---------------------------------------------------------------------------------------------\n",
      "|     The Acccursed God     |     Vivek Dutta Mishra    |           299   |           4.6   |\n",
      "|        Rashmirathi        |   Ramdhari Singh Dinkar   |           109   |           4.8   |\n",
      "|           Asura           |        Neelkanthan        |           499   |           3.6   |\n",
      "|           Manas           |     Vivek Dutta Mishra    |           199   |           4.5   |\n",
      "|  One Night at Call Center |       Chetan Bhagat       |           399   |           3.9   |\n",
      "|        Kuruksehtra        |   Ramdhari Singh Dinkar   |            99   |           4.1   |\n",
      "---------------------------------------------------------------------------------------------\n",
      "\n"
     ]
    }
   ],
   "source": [
    "books= b.get_books()\n",
    "b.print_books(books,\"All Books\")"
   ]
  },
  {
   "cell_type": "markdown",
   "metadata": {},
   "source": [
    "#### We can directory save this data to JSON (or even CSV)"
   ]
  },
  {
   "cell_type": "code",
   "execution_count": 46,
   "metadata": {},
   "outputs": [
    {
     "ename": "TypeError",
     "evalue": "Object of type Book is not JSON serializable",
     "output_type": "error",
     "traceback": [
      "\u001b[1;31m---------------------------------------------------------------------------\u001b[0m",
      "\u001b[1;31mTypeError\u001b[0m                                 Traceback (most recent call last)",
      "\u001b[1;32md:\\works\\corporate\\202311-bosch-python2\\simple_demos\\notebooks\\19_working_with_csv_and_json.ipynb Cell 35\u001b[0m line \u001b[0;36m1\n\u001b[1;32m----> <a href='vscode-notebook-cell:/d%3A/works/corporate/202311-bosch-python2/simple_demos/notebooks/19_working_with_csv_and_json.ipynb#X45sZmlsZQ%3D%3D?line=0'>1</a>\u001b[0m json_str\u001b[39m=\u001b[39m json\u001b[39m.\u001b[39;49mdumps(books,indent\u001b[39m=\u001b[39;49m\u001b[39m4\u001b[39;49m)\n",
      "File \u001b[1;32mc:\\Python312\\Lib\\json\\__init__.py:238\u001b[0m, in \u001b[0;36mdumps\u001b[1;34m(obj, skipkeys, ensure_ascii, check_circular, allow_nan, cls, indent, separators, default, sort_keys, **kw)\u001b[0m\n\u001b[0;32m    232\u001b[0m \u001b[39mif\u001b[39;00m \u001b[39mcls\u001b[39m \u001b[39mis\u001b[39;00m \u001b[39mNone\u001b[39;00m:\n\u001b[0;32m    233\u001b[0m     \u001b[39mcls\u001b[39m \u001b[39m=\u001b[39m JSONEncoder\n\u001b[0;32m    234\u001b[0m \u001b[39mreturn\u001b[39;00m \u001b[39mcls\u001b[39;49m(\n\u001b[0;32m    235\u001b[0m     skipkeys\u001b[39m=\u001b[39;49mskipkeys, ensure_ascii\u001b[39m=\u001b[39;49mensure_ascii,\n\u001b[0;32m    236\u001b[0m     check_circular\u001b[39m=\u001b[39;49mcheck_circular, allow_nan\u001b[39m=\u001b[39;49mallow_nan, indent\u001b[39m=\u001b[39;49mindent,\n\u001b[0;32m    237\u001b[0m     separators\u001b[39m=\u001b[39;49mseparators, default\u001b[39m=\u001b[39;49mdefault, sort_keys\u001b[39m=\u001b[39;49msort_keys,\n\u001b[1;32m--> 238\u001b[0m     \u001b[39m*\u001b[39;49m\u001b[39m*\u001b[39;49mkw)\u001b[39m.\u001b[39;49mencode(obj)\n",
      "File \u001b[1;32mc:\\Python312\\Lib\\json\\encoder.py:202\u001b[0m, in \u001b[0;36mJSONEncoder.encode\u001b[1;34m(self, o)\u001b[0m\n\u001b[0;32m    200\u001b[0m chunks \u001b[39m=\u001b[39m \u001b[39mself\u001b[39m\u001b[39m.\u001b[39miterencode(o, _one_shot\u001b[39m=\u001b[39m\u001b[39mTrue\u001b[39;00m)\n\u001b[0;32m    201\u001b[0m \u001b[39mif\u001b[39;00m \u001b[39mnot\u001b[39;00m \u001b[39misinstance\u001b[39m(chunks, (\u001b[39mlist\u001b[39m, \u001b[39mtuple\u001b[39m)):\n\u001b[1;32m--> 202\u001b[0m     chunks \u001b[39m=\u001b[39m \u001b[39mlist\u001b[39;49m(chunks)\n\u001b[0;32m    203\u001b[0m \u001b[39mreturn\u001b[39;00m \u001b[39m'\u001b[39m\u001b[39m'\u001b[39m\u001b[39m.\u001b[39mjoin(chunks)\n",
      "File \u001b[1;32mc:\\Python312\\Lib\\json\\encoder.py:430\u001b[0m, in \u001b[0;36m_make_iterencode.<locals>._iterencode\u001b[1;34m(o, _current_indent_level)\u001b[0m\n\u001b[0;32m    428\u001b[0m     \u001b[39myield\u001b[39;00m _floatstr(o)\n\u001b[0;32m    429\u001b[0m \u001b[39melif\u001b[39;00m \u001b[39misinstance\u001b[39m(o, (\u001b[39mlist\u001b[39m, \u001b[39mtuple\u001b[39m)):\n\u001b[1;32m--> 430\u001b[0m     \u001b[39myield from\u001b[39;00m _iterencode_list(o, _current_indent_level)\n\u001b[0;32m    431\u001b[0m \u001b[39melif\u001b[39;00m \u001b[39misinstance\u001b[39m(o, \u001b[39mdict\u001b[39m):\n\u001b[0;32m    432\u001b[0m     \u001b[39myield from\u001b[39;00m _iterencode_dict(o, _current_indent_level)\n",
      "File \u001b[1;32mc:\\Python312\\Lib\\json\\encoder.py:326\u001b[0m, in \u001b[0;36m_make_iterencode.<locals>._iterencode_list\u001b[1;34m(lst, _current_indent_level)\u001b[0m\n\u001b[0;32m    324\u001b[0m         \u001b[39melse\u001b[39;00m:\n\u001b[0;32m    325\u001b[0m             chunks \u001b[39m=\u001b[39m _iterencode(value, _current_indent_level)\n\u001b[1;32m--> 326\u001b[0m         \u001b[39myield from\u001b[39;00m chunks\n\u001b[0;32m    327\u001b[0m \u001b[39mif\u001b[39;00m newline_indent \u001b[39mis\u001b[39;00m \u001b[39mnot\u001b[39;00m \u001b[39mNone\u001b[39;00m:\n\u001b[0;32m    328\u001b[0m     _current_indent_level \u001b[39m-\u001b[39m\u001b[39m=\u001b[39m \u001b[39m1\u001b[39m\n",
      "File \u001b[1;32mc:\\Python312\\Lib\\json\\encoder.py:439\u001b[0m, in \u001b[0;36m_make_iterencode.<locals>._iterencode\u001b[1;34m(o, _current_indent_level)\u001b[0m\n\u001b[0;32m    437\u001b[0m         \u001b[39mraise\u001b[39;00m \u001b[39mValueError\u001b[39;00m(\u001b[39m\"\u001b[39m\u001b[39mCircular reference detected\u001b[39m\u001b[39m\"\u001b[39m)\n\u001b[0;32m    438\u001b[0m     markers[markerid] \u001b[39m=\u001b[39m o\n\u001b[1;32m--> 439\u001b[0m o \u001b[39m=\u001b[39m _default(o)\n\u001b[0;32m    440\u001b[0m \u001b[39myield from\u001b[39;00m _iterencode(o, _current_indent_level)\n\u001b[0;32m    441\u001b[0m \u001b[39mif\u001b[39;00m markers \u001b[39mis\u001b[39;00m \u001b[39mnot\u001b[39;00m \u001b[39mNone\u001b[39;00m:\n",
      "File \u001b[1;32mc:\\Python312\\Lib\\json\\encoder.py:180\u001b[0m, in \u001b[0;36mJSONEncoder.default\u001b[1;34m(self, o)\u001b[0m\n\u001b[0;32m    161\u001b[0m \u001b[39mdef\u001b[39;00m \u001b[39mdefault\u001b[39m(\u001b[39mself\u001b[39m, o):\n\u001b[0;32m    162\u001b[0m \u001b[39m    \u001b[39m\u001b[39m\"\"\"Implement this method in a subclass such that it returns\u001b[39;00m\n\u001b[0;32m    163\u001b[0m \u001b[39m    a serializable object for ``o``, or calls the base implementation\u001b[39;00m\n\u001b[0;32m    164\u001b[0m \u001b[39m    (to raise a ``TypeError``).\u001b[39;00m\n\u001b[1;32m   (...)\u001b[0m\n\u001b[0;32m    178\u001b[0m \n\u001b[0;32m    179\u001b[0m \u001b[39m    \"\"\"\u001b[39;00m\n\u001b[1;32m--> 180\u001b[0m     \u001b[39mraise\u001b[39;00m \u001b[39mTypeError\u001b[39;00m(\u001b[39mf\u001b[39m\u001b[39m'\u001b[39m\u001b[39mObject of type \u001b[39m\u001b[39m{\u001b[39;00mo\u001b[39m.\u001b[39m\u001b[39m__class__\u001b[39m\u001b[39m.\u001b[39m\u001b[39m__name__\u001b[39m\u001b[39m}\u001b[39;00m\u001b[39m \u001b[39m\u001b[39m'\u001b[39m\n\u001b[0;32m    181\u001b[0m                     \u001b[39mf\u001b[39m\u001b[39m'\u001b[39m\u001b[39mis not JSON serializable\u001b[39m\u001b[39m'\u001b[39m)\n",
      "\u001b[1;31mTypeError\u001b[0m: Object of type Book is not JSON serializable"
     ]
    }
   ],
   "source": [
    "json_str= json.dumps(books,indent=4)"
   ]
  },
  {
   "cell_type": "markdown",
   "metadata": {},
   "source": [
    "### A python Feature\n",
    "\n",
    "* python store all attributes of an object in  a special dictionary inside the object\n",
    "* this dictionary is __dict__ "
   ]
  },
  {
   "cell_type": "code",
   "execution_count": 47,
   "metadata": {},
   "outputs": [
    {
     "data": {
      "text/plain": [
       "{}"
      ]
     },
     "execution_count": 47,
     "metadata": {},
     "output_type": "execute_result"
    }
   ],
   "source": [
    "class Triangle:\n",
    "    pass\n",
    "\n",
    "t=Triangle()\n",
    "t.__dict__"
   ]
  },
  {
   "cell_type": "code",
   "execution_count": 48,
   "metadata": {},
   "outputs": [
    {
     "data": {
      "text/plain": [
       "{'s1': 3, 's2': 4, 's3': 5}"
      ]
     },
     "execution_count": 48,
     "metadata": {},
     "output_type": "execute_result"
    }
   ],
   "source": [
    "t.s1=3\n",
    "t.s2=4\n",
    "t.s3=5\n",
    "\n",
    "t.__dict__"
   ]
  },
  {
   "cell_type": "code",
   "execution_count": 49,
   "metadata": {},
   "outputs": [
    {
     "data": {
      "text/plain": [
       "{'title': 'The Acccursed God',\n",
       " 'author': 'Vivek Dutta Mishra',\n",
       " 'price': 299,\n",
       " 'rating': 4.6}"
      ]
     },
     "execution_count": 49,
     "metadata": {},
     "output_type": "execute_result"
    }
   ],
   "source": [
    "books[0].__dict__"
   ]
  },
  {
   "cell_type": "markdown",
   "metadata": {},
   "source": [
    "### We can use this features to save our python object to json"
   ]
  },
  {
   "cell_type": "code",
   "execution_count": 50,
   "metadata": {},
   "outputs": [],
   "source": [
    "def save_object_list(objects, path):\n",
    "    with open(path, 'w') as file:\n",
    "        data=[ obj.__dict__ for obj in objects ]\n",
    "        json.dump(data,file, indent=4)"
   ]
  },
  {
   "cell_type": "code",
   "execution_count": 51,
   "metadata": {},
   "outputs": [],
   "source": [
    "save_object_list(books, 'books2.json')"
   ]
  },
  {
   "cell_type": "code",
   "execution_count": null,
   "metadata": {},
   "outputs": [],
   "source": []
  }
 ],
 "metadata": {
  "kernelspec": {
   "display_name": "Python 3",
   "language": "python",
   "name": "python3"
  },
  "language_info": {
   "codemirror_mode": {
    "name": "ipython",
    "version": 3
   },
   "file_extension": ".py",
   "mimetype": "text/x-python",
   "name": "python",
   "nbconvert_exporter": "python",
   "pygments_lexer": "ipython3",
   "version": "3.12.0"
  }
 },
 "nbformat": 4,
 "nbformat_minor": 2
}
