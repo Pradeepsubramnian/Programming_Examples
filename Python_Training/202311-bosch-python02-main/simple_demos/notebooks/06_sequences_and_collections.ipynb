{
 "cells": [
  {
   "cell_type": "markdown",
   "metadata": {},
   "source": [
    "## Sequence\n",
    "\n",
    "* A sequence represents a series or group of data that can be accessed sequentially.\n",
    "    * Accessed doesn't mean they are stored sequentially.\n",
    "\n",
    "* Ability to process a  large set of data is a key requirement in any programming language\n",
    "    * python is one of he preferred languages for data processing/data sciennce and related technologies.\n",
    "    * As such sequence becomes quite important.\n",
    "* In simple terms a sequence is somethign that can be accessed using for loop.\n",
    "\n",
    "* A sequence can either be \n",
    "    * stored\n",
    "    * computed\n",
    "\n",
    "### Stored Sequences a.k.a collections.\n",
    "\n",
    "* Most programming languages uses the term \"collection\" to describe stored sequences\n",
    "    * they are like STL containters of C++\n",
    "\n",
    "* Common collections include\n",
    "    * list ---> dynamic array of values\n",
    "    * tuple --> readonly fixed array.\n",
    "    * set --> collection of unqiue values\n",
    "    * dict ---> collection of key-value pairs\n",
    "    * string --> collection of characters."
   ]
  },
  {
   "cell_type": "markdown",
   "metadata": {},
   "source": [
    "### for loop\n",
    "\n",
    "* python for loop is different from C styoe for loop.\n",
    "* it is NOT designed to run from i=0 to i=10\n",
    "* it core job is to return all items of a sequence one by one.\n",
    "    * it is like for-each loop of other languages.\n",
    "\n",
    "```python\n",
    "for item in sequence:\n",
    "    use(item)\n",
    "```\n",
    "\n",
    "### Common Sequence funcgtionalities\n",
    "\n",
    "* some functionalities are common across all sequences\n",
    "    1. **len(sequence)** to return the total items in the sequence\n",
    "    2. **for-loop** The all can be accessed using for loop\n",
    "    3. **in** operator\n",
    "        * can help us check if a given item is part of the sequence."
   ]
  },
  {
   "cell_type": "markdown",
   "metadata": {},
   "source": [
    "### Let us define a sequence helper function"
   ]
  },
  {
   "cell_type": "code",
   "execution_count": 1,
   "metadata": {},
   "outputs": [],
   "source": [
    "def show(seq):\n",
    "    print(f'type:{type(seq)}\\tid={id(seq)}\\tlength={len(seq)}')\n",
    "\n",
    "    for value in seq:\n",
    "        print(value,end='\\t')\n",
    "    print()"
   ]
  },
  {
   "cell_type": "markdown",
   "metadata": {},
   "source": [
    "### String is a sequence of characters."
   ]
  },
  {
   "cell_type": "code",
   "execution_count": 2,
   "metadata": {},
   "outputs": [
    {
     "name": "stdout",
     "output_type": "stream",
     "text": [
      "type:<class 'str'>\tid=1740750361456\tlength=11\n",
      "H\te\tl\tl\to\t \tW\to\tr\tl\td\t\n"
     ]
    }
   ],
   "source": [
    "str1= \"Hello World\"\n",
    "show(str1)"
   ]
  },
  {
   "cell_type": "code",
   "execution_count": 3,
   "metadata": {},
   "outputs": [
    {
     "name": "stdout",
     "output_type": "stream",
     "text": [
      "False\n",
      "True\n"
     ]
    }
   ],
   "source": [
    "print('i' in str1) # False\n",
    "print('o' in str1) # True\n"
   ]
  },
  {
   "cell_type": "markdown",
   "metadata": {},
   "source": [
    "## 2. list\n",
    "\n",
    "* list is equivalent to array of most programming languages\n",
    "    * unlike an array list is dynamic.\n",
    "    * It can be compared to \n",
    "        * vector of c++\n",
    "        * ArrayList of java\n",
    "        * List of c#\n",
    "\n",
    "* It is \n",
    "    * linear\n",
    "    * indexed\n",
    "    * mutable\n",
    "    \n",
    "* It supports\n",
    "    * len()\n",
    "    * in\n",
    "    * indexer \n",
    "    * slicer\n",
    "* Additional methods\n",
    "    * append\n",
    "        * add an item at the end\n",
    "    * insert\n",
    "        * insert and item in between\n",
    "\n",
    "    * remove \n",
    "        * avalue\n",
    "    * pop\n",
    "        * remove value from a position\n",
    "\n",
    "    * count\n",
    "        * returns the total count of a given value in the list\n",
    "\n",
    "\n",
    "### Creating a List\n",
    "\n",
    "* we create a list by enclosing values in bracket."
   ]
  },
  {
   "cell_type": "code",
   "execution_count": 4,
   "metadata": {},
   "outputs": [
    {
     "name": "stdout",
     "output_type": "stream",
     "text": [
      "type:<class 'list'>\tid=1740750300416\tlength=5\n",
      "2\t3\t9\t2\t6\t\n"
     ]
    }
   ],
   "source": [
    "numbers=[2,3,9,2,6]\n",
    "show(numbers)"
   ]
  },
  {
   "cell_type": "markdown",
   "metadata": {},
   "source": [
    "### common list operations"
   ]
  },
  {
   "cell_type": "code",
   "execution_count": 5,
   "metadata": {},
   "outputs": [
    {
     "name": "stdout",
     "output_type": "stream",
     "text": [
      "True\n",
      "False\n"
     ]
    }
   ],
   "source": [
    "print(2 in  numbers) # True\n",
    "print(21 in numbers) # False"
   ]
  },
  {
   "cell_type": "code",
   "execution_count": 6,
   "metadata": {},
   "outputs": [
    {
     "name": "stdout",
     "output_type": "stream",
     "text": [
      "2\n",
      "1\n",
      "0\n"
     ]
    }
   ],
   "source": [
    "print( numbers.count(2)) # 2\n",
    "print( numbers.count(3)) # 1\n",
    "print(numbers.count(5))  # 0"
   ]
  },
  {
   "cell_type": "markdown",
   "metadata": {},
   "source": [
    "### we can access items using indexer."
   ]
  },
  {
   "cell_type": "code",
   "execution_count": 7,
   "metadata": {},
   "outputs": [
    {
     "name": "stdout",
     "output_type": "stream",
     "text": [
      "2  3  9  2  6  "
     ]
    }
   ],
   "source": [
    "numbers=[2,3,9,2,6]\n",
    "\n",
    "x=0\n",
    "while x<len(numbers):\n",
    "    print(numbers[x],end='  ')\n",
    "    x=x+1"
   ]
  },
  {
   "cell_type": "code",
   "execution_count": 8,
   "metadata": {},
   "outputs": [
    {
     "name": "stdout",
     "output_type": "stream",
     "text": [
      "[2, 3, 9, 20, 6]\n"
     ]
    }
   ],
   "source": [
    "numbers[3]=20\n",
    "print(numbers)"
   ]
  },
  {
   "cell_type": "markdown",
   "metadata": {},
   "source": [
    "### We can add new items using append or insert function"
   ]
  },
  {
   "cell_type": "code",
   "execution_count": 9,
   "metadata": {},
   "outputs": [
    {
     "name": "stdout",
     "output_type": "stream",
     "text": [
      "[2, 3, 5, 9, 2, 6, 11]\n"
     ]
    }
   ],
   "source": [
    "numbers=[2,3,9,2,6]\n",
    "\n",
    "numbers.append(11) # goes to the end\n",
    "numbers.insert(2,5) # inserts '5' at index 2 (between 3 and 9)\n",
    "print(numbers)"
   ]
  },
  {
   "cell_type": "markdown",
   "metadata": {},
   "source": [
    "##### Appdending another List"
   ]
  },
  {
   "cell_type": "code",
   "execution_count": 10,
   "metadata": {},
   "outputs": [],
   "source": [
    "list1=[1,2,3,4,5]\n",
    "list2=[6,7,8,9,10]\n",
    "\n",
    "list1.append(list2)"
   ]
  },
  {
   "cell_type": "markdown",
   "metadata": {},
   "source": [
    "##### What is the lengh of list1 now?"
   ]
  },
  {
   "cell_type": "code",
   "execution_count": 11,
   "metadata": {},
   "outputs": [
    {
     "name": "stdout",
     "output_type": "stream",
     "text": [
      "6\n",
      "[1, 2, 3, 4, 5, [6, 7, 8, 9, 10]]\n"
     ]
    }
   ],
   "source": [
    "print(len(list1))\n",
    "print(list1)"
   ]
  },
  {
   "cell_type": "markdown",
   "metadata": {},
   "source": [
    "### Explanation\n",
    "\n",
    "* In python a list we don't have a list of numbers or strings.\n",
    "    * every list is a list of object.\n",
    "* A list can hold items of different types.\n",
    "* Even a list is an object\n",
    "* so we can append a list into another just like any other object.\n"
   ]
  },
  {
   "cell_type": "code",
   "execution_count": 12,
   "metadata": {},
   "outputs": [],
   "source": [
    "items=[2,\"Hi\",False, None, [2,4,5]]"
   ]
  },
  {
   "cell_type": "code",
   "execution_count": 13,
   "metadata": {},
   "outputs": [
    {
     "name": "stdout",
     "output_type": "stream",
     "text": [
      "HI\n",
      "5\n"
     ]
    }
   ],
   "source": [
    "print(items[1].upper()) \n",
    "print(items[4][2]) #5"
   ]
  },
  {
   "cell_type": "markdown",
   "metadata": {},
   "source": [
    "### If you want to copy values from one array to anothe you should call \"extend\" "
   ]
  },
  {
   "cell_type": "code",
   "execution_count": 14,
   "metadata": {},
   "outputs": [
    {
     "name": "stdout",
     "output_type": "stream",
     "text": [
      "type:<class 'list'>\tid=1740750300416\tlength=10\n",
      "1\t2\t3\t4\t5\t6\t7\t8\t9\t10\t\n"
     ]
    }
   ],
   "source": [
    "list1=[1,2,3,4,5]\n",
    "list2=[6,7,8,9,10]\n",
    "\n",
    "list1.extend(list2)\n",
    "show(list1)"
   ]
  },
  {
   "cell_type": "markdown",
   "metadata": {},
   "source": [
    "### Removing Items from a list\n",
    "\n",
    "#### 1. remove by value"
   ]
  },
  {
   "cell_type": "code",
   "execution_count": 15,
   "metadata": {},
   "outputs": [
    {
     "name": "stdout",
     "output_type": "stream",
     "text": [
      "[2, 3, 2, 6]\n"
     ]
    }
   ],
   "source": [
    "items=[2,3,9,2,6]\n",
    "items.remove(9)\n",
    "print(items)"
   ]
  },
  {
   "cell_type": "code",
   "execution_count": 16,
   "metadata": {},
   "outputs": [
    {
     "ename": "ValueError",
     "evalue": "list.remove(x): x not in list",
     "output_type": "error",
     "traceback": [
      "\u001b[1;31m---------------------------------------------------------------------------\u001b[0m",
      "\u001b[1;31mValueError\u001b[0m                                Traceback (most recent call last)",
      "\u001b[1;32md:\\works\\corporate\\202311-bosch-python2\\simple_demos\\notebooks\\06_sequences_and_collections.ipynb Cell 29\u001b[0m line \u001b[0;36m1\n\u001b[1;32m----> <a href='vscode-notebook-cell:/d%3A/works/corporate/202311-bosch-python2/simple_demos/notebooks/06_sequences_and_collections.ipynb#X44sZmlsZQ%3D%3D?line=0'>1</a>\u001b[0m items\u001b[39m.\u001b[39;49mremove(\u001b[39m20\u001b[39;49m)\n",
      "\u001b[1;31mValueError\u001b[0m: list.remove(x): x not in list"
     ]
    }
   ],
   "source": [
    "items.remove(20)"
   ]
  },
  {
   "cell_type": "markdown",
   "metadata": {},
   "source": [
    "#### 2 remove by position\n",
    "\n",
    "* we have two different functions for the same.\n",
    "\n",
    "##### 2.1 pop()\n",
    "\n",
    "* removes an item by position.\n",
    "* returns the removed item."
   ]
  },
  {
   "cell_type": "code",
   "execution_count": 17,
   "metadata": {},
   "outputs": [
    {
     "name": "stdout",
     "output_type": "stream",
     "text": [
      "3\n",
      "6\n",
      "[2, 9, 2]\n"
     ]
    }
   ],
   "source": [
    "items=[2,3,9,2,6]\n",
    "\n",
    "print(items.pop(1)) # removes 3\n",
    "print(items.pop()) # removes last item 6\n",
    "\n",
    "print(items)"
   ]
  },
  {
   "cell_type": "markdown",
   "metadata": {},
   "source": [
    "##### 2.2 del keyword\n",
    "\n",
    "* python has **del** keyword to delete an object\n",
    "* unlike pop() it doesn't return the deleted item.\n",
    "\n"
   ]
  },
  {
   "cell_type": "code",
   "execution_count": 18,
   "metadata": {},
   "outputs": [
    {
     "name": "stdout",
     "output_type": "stream",
     "text": [
      "[2, 2, 6]\n"
     ]
    }
   ],
   "source": [
    "items=[2,3,9,2,6]\n",
    "\n",
    "del items[1] #removes 3\n",
    "del items[1] # removes 9\n",
    "\n",
    "print(items)"
   ]
  },
  {
   "cell_type": "markdown",
   "metadata": {},
   "source": [
    "### Indexers in python\n",
    "\n",
    "* python indexers are lot more flexible than indexers in most programming languages.\n",
    "* it supports\n",
    "\n",
    "##### Negative indexer \n",
    "\n",
    "* we can access the items from the end using negative indexer\n",
    "    * -1 last item\n",
    "    * -2 is second last item"
   ]
  },
  {
   "cell_type": "code",
   "execution_count": 19,
   "metadata": {},
   "outputs": [
    {
     "name": "stdout",
     "output_type": "stream",
     "text": [
      "6\n",
      "9\n",
      "2\n"
     ]
    }
   ],
   "source": [
    "items=[2,3,9,2,6]\n",
    "\n",
    "print(items[-1]) # 6\n",
    "print(items[-3]) # 9\n",
    "print(items[-len(items)]) #2 (first item)"
   ]
  },
  {
   "cell_type": "markdown",
   "metadata": {},
   "source": [
    "### accessing invalid index is error"
   ]
  },
  {
   "cell_type": "code",
   "execution_count": 20,
   "metadata": {},
   "outputs": [
    {
     "ename": "IndexError",
     "evalue": "list index out of range",
     "output_type": "error",
     "traceback": [
      "\u001b[1;31m---------------------------------------------------------------------------\u001b[0m",
      "\u001b[1;31mIndexError\u001b[0m                                Traceback (most recent call last)",
      "\u001b[1;32md:\\works\\corporate\\202311-bosch-python2\\simple_demos\\notebooks\\06_sequences_and_collections.ipynb Cell 37\u001b[0m line \u001b[0;36m1\n\u001b[1;32m----> <a href='vscode-notebook-cell:/d%3A/works/corporate/202311-bosch-python2/simple_demos/notebooks/06_sequences_and_collections.ipynb#X54sZmlsZQ%3D%3D?line=0'>1</a>\u001b[0m items[\u001b[39m100\u001b[39;49m]\n",
      "\u001b[1;31mIndexError\u001b[0m: list index out of range"
     ]
    }
   ],
   "source": [
    "items[100]"
   ]
  },
  {
   "cell_type": "code",
   "execution_count": 21,
   "metadata": {},
   "outputs": [
    {
     "ename": "IndexError",
     "evalue": "list index out of range",
     "output_type": "error",
     "traceback": [
      "\u001b[1;31m---------------------------------------------------------------------------\u001b[0m",
      "\u001b[1;31mIndexError\u001b[0m                                Traceback (most recent call last)",
      "\u001b[1;32md:\\works\\corporate\\202311-bosch-python2\\simple_demos\\notebooks\\06_sequences_and_collections.ipynb Cell 38\u001b[0m line \u001b[0;36m1\n\u001b[1;32m----> <a href='vscode-notebook-cell:/d%3A/works/corporate/202311-bosch-python2/simple_demos/notebooks/06_sequences_and_collections.ipynb#X51sZmlsZQ%3D%3D?line=0'>1</a>\u001b[0m items[\u001b[39m-\u001b[39;49m\u001b[39m50\u001b[39;49m]\n",
      "\u001b[1;31mIndexError\u001b[0m: list index out of range"
     ]
    }
   ],
   "source": [
    "items[-50]"
   ]
  },
  {
   "cell_type": "markdown",
   "metadata": {},
   "source": [
    "### Slicers\n",
    "\n",
    "* We can use indexer with range syntax to slice a list\n",
    "* Here we can supply upto three parameters separated with colon\n",
    "    * start index (by default 0)\n",
    "    * end index is exclusive by default len(list)\n",
    "    * step/gap by default 1\n",
    "\n",
    "* slicer creates a new list."
   ]
  },
  {
   "cell_type": "code",
   "execution_count": 22,
   "metadata": {},
   "outputs": [
    {
     "name": "stdout",
     "output_type": "stream",
     "text": [
      "type:<class 'list'>\tid=1740756656192\tlength=21\n",
      "0\t1\t2\t3\t4\t5\t6\t7\t8\t9\t10\t11\t12\t13\t14\t15\t16\t17\t18\t19\t20\t\n"
     ]
    }
   ],
   "source": [
    "numbers=[0,1,2,3,4,5,6,7,8,9,10,11,12,13,14,15,16,17,18,19,20]\n",
    "show(numbers)"
   ]
  },
  {
   "cell_type": "markdown",
   "metadata": {},
   "source": [
    "##### take all items from index 5 (Inclusive) to 15(Exclusive)"
   ]
  },
  {
   "cell_type": "code",
   "execution_count": 23,
   "metadata": {},
   "outputs": [
    {
     "name": "stdout",
     "output_type": "stream",
     "text": [
      "type:<class 'list'>\tid=1740756772800\tlength=10\n",
      "5\t6\t7\t8\t9\t10\t11\t12\t13\t14\t\n"
     ]
    }
   ],
   "source": [
    "x= numbers[5:15]\n",
    "show(x)"
   ]
  },
  {
   "cell_type": "markdown",
   "metadata": {},
   "source": [
    "### get every third value between index 4 and 18(excluding)"
   ]
  },
  {
   "cell_type": "code",
   "execution_count": 24,
   "metadata": {},
   "outputs": [
    {
     "name": "stdout",
     "output_type": "stream",
     "text": [
      "type:<class 'list'>\tid=1740756533312\tlength=5\n",
      "4\t7\t10\t13\t16\t\n"
     ]
    }
   ],
   "source": [
    "x= numbers[4:18:3]\n",
    "show(x)"
   ]
  },
  {
   "cell_type": "markdown",
   "metadata": {},
   "source": [
    "### Get All items starting from index 5 (upto the last)"
   ]
  },
  {
   "cell_type": "code",
   "execution_count": 25,
   "metadata": {},
   "outputs": [
    {
     "name": "stdout",
     "output_type": "stream",
     "text": [
      "[5, 6, 7, 8, 9, 10, 11, 12, 13, 14, 15, 16, 17, 18, 19, 20]\n"
     ]
    }
   ],
   "source": [
    "x=numbers[5:]\n",
    "print(x)"
   ]
  },
  {
   "cell_type": "markdown",
   "metadata": {},
   "source": [
    "### Get every third from the list\n",
    "* note we must provide two colons to identify 3 represents the gap"
   ]
  },
  {
   "cell_type": "code",
   "execution_count": 26,
   "metadata": {},
   "outputs": [
    {
     "name": "stdout",
     "output_type": "stream",
     "text": [
      "[0, 3, 6, 9, 12, 15, 18]\n"
     ]
    }
   ],
   "source": [
    "x= numbers[::3]\n",
    "print(x)"
   ]
  },
  {
   "cell_type": "markdown",
   "metadata": {},
   "source": [
    "#### Make a duplicate of the list taking all items"
   ]
  },
  {
   "cell_type": "code",
   "execution_count": 27,
   "metadata": {},
   "outputs": [
    {
     "name": "stdout",
     "output_type": "stream",
     "text": [
      "[0, 1, 2, 3, 4, 5, 6, 7, 8, 9, 10, 11, 12, 13, 14, 15, 16, 17, 18, 19, 20]\n"
     ]
    }
   ],
   "source": [
    "x= numbers[:]\n",
    "print(x)"
   ]
  },
  {
   "cell_type": "code",
   "execution_count": 28,
   "metadata": {},
   "outputs": [
    {
     "name": "stdout",
     "output_type": "stream",
     "text": [
      "type:<class 'list'>\tid=1740756656192\tlength=21\n",
      "0\t1\t2\t3\t4\t5\t6\t7\t8\t9\t10\t11\t12\t13\t14\t15\t16\t17\t18\t19\t20\t\n",
      "type:<class 'list'>\tid=1740756764736\tlength=21\n",
      "0\t1\t2\t3\t4\t5\t6\t7\t8\t9\t10\t11\t12\t13\t14\t15\t16\t17\t18\t19\t20\t\n"
     ]
    }
   ],
   "source": [
    "show(numbers)\n",
    "show(x)"
   ]
  },
  {
   "cell_type": "markdown",
   "metadata": {},
   "source": [
    "### Equals vs is\n",
    "\n",
    "* **is** identifies if we are talking about the **exact same object**\n",
    "* **==** idenfies of the two objects can be **treated equal** to each other\n",
    "\n",
    "* In the above example numbes and x have same values\n",
    "    * they can be considered equal (==)\n",
    "* But they are not same object\n",
    "    * they can be considered same."
   ]
  },
  {
   "cell_type": "markdown",
   "metadata": {},
   "source": []
  },
  {
   "cell_type": "code",
   "execution_count": 29,
   "metadata": {},
   "outputs": [
    {
     "data": {
      "text/plain": [
       "True"
      ]
     },
     "execution_count": 29,
     "metadata": {},
     "output_type": "execute_result"
    }
   ],
   "source": [
    "numbers==x"
   ]
  },
  {
   "cell_type": "code",
   "execution_count": 30,
   "metadata": {},
   "outputs": [
    {
     "data": {
      "text/plain": [
       "False"
      ]
     },
     "execution_count": 30,
     "metadata": {},
     "output_type": "execute_result"
    }
   ],
   "source": [
    "numbers is x"
   ]
  },
  {
   "cell_type": "markdown",
   "metadata": {},
   "source": [
    "### Reverse a List"
   ]
  },
  {
   "cell_type": "code",
   "execution_count": 31,
   "metadata": {},
   "outputs": [
    {
     "name": "stdout",
     "output_type": "stream",
     "text": [
      "[20, 19, 18, 17, 16, 15, 14, 13, 12, 11, 10, 9, 8, 7, 6, 5, 4, 3, 2, 1, 0]\n"
     ]
    }
   ],
   "source": [
    "r= numbers[::-1]\n",
    "print(r)"
   ]
  },
  {
   "cell_type": "markdown",
   "metadata": {},
   "source": [
    "### Tuple \n",
    "\n",
    "* is a \n",
    "    * linear\n",
    "    * indexed\n",
    "    * **immutable**\n",
    "    * collection \n",
    "\n",
    "* It is a like a readonly fixed size array\n",
    "\n",
    "* it supports\n",
    "    * indexer to read values\n",
    "    * negative indexer\n",
    "    * slicer\n",
    "    * in\n",
    "    * count\n",
    "    * for-loop\n",
    "\n",
    "* It doesn't support\n",
    "    * indexer to set value\n",
    "    * append\n",
    "    * extend\n",
    "    * index\n",
    "    * remove\n",
    "    * pop   \n",
    "    * del \n",
    "\n",
    "### Creating a tuple.\n",
    "\n",
    "* A tuple is created by wrapping a values in parentheses."
   ]
  },
  {
   "cell_type": "code",
   "execution_count": 32,
   "metadata": {},
   "outputs": [
    {
     "name": "stdout",
     "output_type": "stream",
     "text": [
      "type:<class 'tuple'>\tid=1740756752784\tlength=5\n",
      "2\t3\t9\t2\t6\t\n"
     ]
    }
   ],
   "source": [
    "list=(2,3,9,2,6)\n",
    "show(list)"
   ]
  },
  {
   "cell_type": "code",
   "execution_count": 33,
   "metadata": {},
   "outputs": [
    {
     "name": "stdout",
     "output_type": "stream",
     "text": [
      "True\n",
      "False\n",
      "2\n",
      "0\n"
     ]
    }
   ],
   "source": [
    "print( 2 in list) # True\n",
    "print( 5 in list) # False\n",
    "print(list.count(2)) #2\n",
    "print(list.count(5)) #0"
   ]
  },
  {
   "cell_type": "code",
   "execution_count": 34,
   "metadata": {},
   "outputs": [
    {
     "data": {
      "text/plain": [
       "6"
      ]
     },
     "execution_count": 34,
     "metadata": {},
     "output_type": "execute_result"
    }
   ],
   "source": [
    "list[-1]"
   ]
  },
  {
   "cell_type": "code",
   "execution_count": 35,
   "metadata": {},
   "outputs": [
    {
     "data": {
      "text/plain": [
       "(6, 2, 9, 3, 2)"
      ]
     },
     "execution_count": 35,
     "metadata": {},
     "output_type": "execute_result"
    }
   ],
   "source": [
    "list[::-1]"
   ]
  },
  {
   "cell_type": "code",
   "execution_count": 36,
   "metadata": {},
   "outputs": [
    {
     "ename": "TypeError",
     "evalue": "'tuple' object does not support item assignment",
     "output_type": "error",
     "traceback": [
      "\u001b[1;31m---------------------------------------------------------------------------\u001b[0m",
      "\u001b[1;31mTypeError\u001b[0m                                 Traceback (most recent call last)",
      "\u001b[1;32md:\\works\\corporate\\202311-bosch-python2\\simple_demos\\notebooks\\06_sequences_and_collections.ipynb Cell 63\u001b[0m line \u001b[0;36m1\n\u001b[1;32m----> <a href='vscode-notebook-cell:/d%3A/works/corporate/202311-bosch-python2/simple_demos/notebooks/06_sequences_and_collections.ipynb#Y120sZmlsZQ%3D%3D?line=0'>1</a>\u001b[0m \u001b[39mlist\u001b[39;49m[\u001b[39m0\u001b[39;49m]\u001b[39m=\u001b[39m\u001b[39m10\u001b[39m\n",
      "\u001b[1;31mTypeError\u001b[0m: 'tuple' object does not support item assignment"
     ]
    }
   ],
   "source": [
    "list[0]=10"
   ]
  },
  {
   "cell_type": "code",
   "execution_count": 37,
   "metadata": {},
   "outputs": [
    {
     "ename": "AttributeError",
     "evalue": "'tuple' object has no attribute 'append'",
     "output_type": "error",
     "traceback": [
      "\u001b[1;31m---------------------------------------------------------------------------\u001b[0m",
      "\u001b[1;31mAttributeError\u001b[0m                            Traceback (most recent call last)",
      "\u001b[1;32md:\\works\\corporate\\202311-bosch-python2\\simple_demos\\notebooks\\06_sequences_and_collections.ipynb Cell 64\u001b[0m line \u001b[0;36m1\n\u001b[1;32m----> <a href='vscode-notebook-cell:/d%3A/works/corporate/202311-bosch-python2/simple_demos/notebooks/06_sequences_and_collections.ipynb#Y116sZmlsZQ%3D%3D?line=0'>1</a>\u001b[0m \u001b[39mlist\u001b[39;49m\u001b[39m.\u001b[39;49mappend(\u001b[39m5\u001b[39m)\n",
      "\u001b[1;31mAttributeError\u001b[0m: 'tuple' object has no attribute 'append'"
     ]
    }
   ],
   "source": [
    "list.append(5)"
   ]
  },
  {
   "cell_type": "code",
   "execution_count": 38,
   "metadata": {},
   "outputs": [
    {
     "ename": "TypeError",
     "evalue": "'tuple' object doesn't support item deletion",
     "output_type": "error",
     "traceback": [
      "\u001b[1;31m---------------------------------------------------------------------------\u001b[0m",
      "\u001b[1;31mTypeError\u001b[0m                                 Traceback (most recent call last)",
      "\u001b[1;32md:\\works\\corporate\\202311-bosch-python2\\simple_demos\\notebooks\\06_sequences_and_collections.ipynb Cell 65\u001b[0m line \u001b[0;36m1\n\u001b[1;32m----> <a href='vscode-notebook-cell:/d%3A/works/corporate/202311-bosch-python2/simple_demos/notebooks/06_sequences_and_collections.ipynb#Y123sZmlsZQ%3D%3D?line=0'>1</a>\u001b[0m \u001b[39mdel\u001b[39;00m \u001b[39mlist\u001b[39;49m[\u001b[39m1\u001b[39;49m]\n",
      "\u001b[1;31mTypeError\u001b[0m: 'tuple' object doesn't support item deletion"
     ]
    }
   ],
   "source": [
    "del list[1]"
   ]
  },
  {
   "cell_type": "markdown",
   "metadata": {},
   "source": [
    "### Special cases in Tuple\n",
    "\n",
    "* How to create a tuple of 1 item?"
   ]
  },
  {
   "cell_type": "code",
   "execution_count": 39,
   "metadata": {},
   "outputs": [
    {
     "name": "stdout",
     "output_type": "stream",
     "text": [
      "<class 'int'> 1\n"
     ]
    }
   ],
   "source": [
    "list=(1) # this is not a tuple but an expression with value 1\n",
    "\n",
    "print(type(list),list)"
   ]
  },
  {
   "cell_type": "markdown",
   "metadata": {},
   "source": [
    "### spcial syntax: tuple of 1 item"
   ]
  },
  {
   "cell_type": "code",
   "execution_count": 40,
   "metadata": {},
   "outputs": [
    {
     "name": "stdout",
     "output_type": "stream",
     "text": [
      "type:<class 'tuple'>\tid=1740752081952\tlength=1\n",
      "1\t\n"
     ]
    }
   ],
   "source": [
    "list=(1,) # a trailing comma indeicates a tuple\n",
    "\n",
    "show(list)"
   ]
  },
  {
   "cell_type": "code",
   "execution_count": 41,
   "metadata": {},
   "outputs": [
    {
     "data": {
      "text/plain": [
       "(1,)"
      ]
     },
     "execution_count": 41,
     "metadata": {},
     "output_type": "execute_result"
    }
   ],
   "source": [
    "list"
   ]
  },
  {
   "cell_type": "markdown",
   "metadata": {},
   "source": [
    "### set\n",
    "\n",
    "* A set is a \n",
    "    * non linear\n",
    "    * mutable\n",
    "    * collection of unqiue values.\n",
    "\n",
    "* It supports\n",
    "    * for loop\n",
    "    * in\n",
    "    * add\n",
    "        * duplicate values are silently ignored.\n",
    "        * no error\n",
    "    * remove (value)\n",
    "\n",
    "* It doesn't support\n",
    "    * indexer in any form.\n",
    "        * ~~get/set~~\n",
    "        * ~~negative~~\n",
    "        * ~~slicer~~\n",
    "    * count\n",
    "    * delete from position (pop,del)\n",
    "\n",
    "* Special Set opertations\n",
    "    * supports common operations from set theory\n",
    "        * union\n",
    "        * intersection\n",
    "        * difference\n",
    "        * issubset\n",
    "        * isdisjoint\n",
    "\n",
    "### Creating a set\n",
    "\n",
    "* we create a set by enclosing values in braces.\n",
    "* the order of storage is NOT guranteed\n",
    "* Ineternally it uses Hash data structure\n",
    "    * it will have very fast performance in terms of searching the presence of an item using **in**"
   ]
  },
  {
   "cell_type": "code",
   "execution_count": 42,
   "metadata": {},
   "outputs": [
    {
     "name": "stdout",
     "output_type": "stream",
     "text": [
      "type:<class 'set'>\tid=1740750532480\tlength=4\n",
      "9\t2\t3\t6\t\n"
     ]
    }
   ],
   "source": [
    "s1={2,3,9,2,6} #duplicates will be removed.\n",
    "\n",
    "show(s1)"
   ]
  },
  {
   "cell_type": "code",
   "execution_count": 43,
   "metadata": {},
   "outputs": [],
   "source": [
    "s1.add(5) # will be added\n",
    "s1.add(6) # will not be added"
   ]
  },
  {
   "cell_type": "code",
   "execution_count": 44,
   "metadata": {},
   "outputs": [
    {
     "name": "stdout",
     "output_type": "stream",
     "text": [
      "type:<class 'set'>\tid=1740750532480\tlength=5\n",
      "2\t3\t5\t6\t9\t\n"
     ]
    }
   ],
   "source": [
    "show(s1)"
   ]
  },
  {
   "cell_type": "code",
   "execution_count": 45,
   "metadata": {},
   "outputs": [
    {
     "ename": "TypeError",
     "evalue": "'set' object is not subscriptable",
     "output_type": "error",
     "traceback": [
      "\u001b[1;31m---------------------------------------------------------------------------\u001b[0m",
      "\u001b[1;31mTypeError\u001b[0m                                 Traceback (most recent call last)",
      "\u001b[1;32md:\\works\\corporate\\202311-bosch-python2\\simple_demos\\notebooks\\06_sequences_and_collections.ipynb Cell 75\u001b[0m line \u001b[0;36m1\n\u001b[1;32m----> <a href='vscode-notebook-cell:/d%3A/works/corporate/202311-bosch-python2/simple_demos/notebooks/06_sequences_and_collections.ipynb#Y141sZmlsZQ%3D%3D?line=0'>1</a>\u001b[0m s1[\u001b[39m0\u001b[39;49m]\n",
      "\u001b[1;31mTypeError\u001b[0m: 'set' object is not subscriptable"
     ]
    }
   ],
   "source": [
    "s1[0]"
   ]
  },
  {
   "cell_type": "markdown",
   "metadata": {},
   "source": [
    "### common set theory operators."
   ]
  },
  {
   "cell_type": "code",
   "execution_count": 46,
   "metadata": {},
   "outputs": [],
   "source": [
    "U={1,2,3,4,5,6,7,8,9,10}\n",
    "evens={0,2,4,6,8,10}\n",
    "odds={1,3,5,7,9}\n",
    "f5={5,10}"
   ]
  },
  {
   "cell_type": "code",
   "execution_count": 47,
   "metadata": {},
   "outputs": [
    {
     "data": {
      "text/plain": [
       "True"
      ]
     },
     "execution_count": 47,
     "metadata": {},
     "output_type": "execute_result"
    }
   ],
   "source": [
    "odds.issubset(U) # odds is subset of U"
   ]
  },
  {
   "cell_type": "code",
   "execution_count": 48,
   "metadata": {},
   "outputs": [
    {
     "data": {
      "text/plain": [
       "False"
      ]
     },
     "execution_count": 48,
     "metadata": {},
     "output_type": "execute_result"
    }
   ],
   "source": [
    "evens.issubset(U) # False. evens has an extra item 0"
   ]
  },
  {
   "cell_type": "code",
   "execution_count": 49,
   "metadata": {},
   "outputs": [
    {
     "data": {
      "text/plain": [
       "True"
      ]
     },
     "execution_count": 49,
     "metadata": {},
     "output_type": "execute_result"
    }
   ],
   "source": [
    "evens.isdisjoint(odds) #True"
   ]
  },
  {
   "cell_type": "code",
   "execution_count": 50,
   "metadata": {},
   "outputs": [
    {
     "data": {
      "text/plain": [
       "False"
      ]
     },
     "execution_count": 50,
     "metadata": {},
     "output_type": "execute_result"
    }
   ],
   "source": [
    "evens.isdisjoint(f5) #False. 10 is a common item "
   ]
  },
  {
   "cell_type": "code",
   "execution_count": 51,
   "metadata": {},
   "outputs": [
    {
     "data": {
      "text/plain": [
       "{0, 2, 4, 5, 6, 8, 10}"
      ]
     },
     "execution_count": 51,
     "metadata": {},
     "output_type": "execute_result"
    }
   ],
   "source": [
    "evens.union(f5) # all unqiue items from 2 sets"
   ]
  },
  {
   "cell_type": "code",
   "execution_count": 52,
   "metadata": {},
   "outputs": [
    {
     "data": {
      "text/plain": [
       "{10}"
      ]
     },
     "execution_count": 52,
     "metadata": {},
     "output_type": "execute_result"
    }
   ],
   "source": [
    "evens.intersection(f5) # all common items from 2 sets"
   ]
  },
  {
   "cell_type": "code",
   "execution_count": 53,
   "metadata": {},
   "outputs": [
    {
     "data": {
      "text/plain": [
       "{0, 2, 4, 6, 8}"
      ]
     },
     "execution_count": 53,
     "metadata": {},
     "output_type": "execute_result"
    }
   ],
   "source": [
    "evens.difference(f5) # all items in present in evens but not in f5"
   ]
  },
  {
   "cell_type": "code",
   "execution_count": 54,
   "metadata": {},
   "outputs": [
    {
     "data": {
      "text/plain": [
       "{5}"
      ]
     },
     "execution_count": 54,
     "metadata": {},
     "output_type": "execute_result"
    }
   ],
   "source": [
    "f5.difference(evens) # all items present in f5 but not in evens"
   ]
  },
  {
   "cell_type": "markdown",
   "metadata": {},
   "source": [
    "## dict (Dictionary)\n",
    "\n",
    "* It is \n",
    "    * non-linear\n",
    "    * mutable\n",
    "    * collection of key-value pairs\n",
    "* keys must be unqiue\n",
    "    * key can be any object\n",
    "\n",
    "* It supports\n",
    "    * indexer with 'key' as index\n",
    "    * add\n",
    "    * remove key\n",
    "    * in to see if key is present\n",
    "\n",
    "### Creating a dict\n",
    "\n",
    "* we enclose key value pairs separated with colon in  brace"
   ]
  },
  {
   "cell_type": "code",
   "execution_count": 55,
   "metadata": {},
   "outputs": [
    {
     "name": "stdout",
     "output_type": "stream",
     "text": [
      "{'IN': 'India', 'UK': 'United Kingdom', 'JP': 'Japan', 91: 'India'}\n"
     ]
    }
   ],
   "source": [
    "country_info={ 'IN':'India', 'UK':'United Kingdom', 'JP':'Japan', 91: \"India\"}\n",
    "\n",
    "print(country_info)"
   ]
  },
  {
   "cell_type": "markdown",
   "metadata": {},
   "source": [
    "#### for loop loops over keys (by default)"
   ]
  },
  {
   "cell_type": "code",
   "execution_count": 56,
   "metadata": {},
   "outputs": [
    {
     "name": "stdout",
     "output_type": "stream",
     "text": [
      "IN\tUK\tJP\t91\t"
     ]
    }
   ],
   "source": [
    "for x in country_info:\n",
    "    print(x, end='\\t')"
   ]
  },
  {
   "cell_type": "markdown",
   "metadata": {},
   "source": [
    "#### in searches for key not value"
   ]
  },
  {
   "cell_type": "code",
   "execution_count": 57,
   "metadata": {},
   "outputs": [
    {
     "name": "stdout",
     "output_type": "stream",
     "text": [
      "True\n",
      "True\n",
      "False\n"
     ]
    }
   ],
   "source": [
    "print( 'JP' in country_info) #True\n",
    "print( 91 in country_info) # True\n",
    "print('Japan' in country_info) #False. Only key is searched."
   ]
  },
  {
   "cell_type": "markdown",
   "metadata": {},
   "source": []
  },
  {
   "cell_type": "markdown",
   "metadata": {},
   "source": [
    "### We can access or modify using indexer"
   ]
  },
  {
   "cell_type": "code",
   "execution_count": 58,
   "metadata": {},
   "outputs": [
    {
     "name": "stdout",
     "output_type": "stream",
     "text": [
      "India\n",
      "India\n",
      "Japan\n"
     ]
    }
   ],
   "source": [
    "print(country_info['IN']) #India\n",
    "print(country_info[91]) #India\n",
    "print(country_info['JP'])   #Japan"
   ]
  },
  {
   "cell_type": "markdown",
   "metadata": {},
   "source": [
    "### Invalid key leads to Key Error"
   ]
  },
  {
   "cell_type": "code",
   "execution_count": 59,
   "metadata": {},
   "outputs": [
    {
     "ename": "KeyError",
     "evalue": "'PK'",
     "output_type": "error",
     "traceback": [
      "\u001b[1;31m---------------------------------------------------------------------------\u001b[0m",
      "\u001b[1;31mKeyError\u001b[0m                                  Traceback (most recent call last)",
      "\u001b[1;32md:\\works\\corporate\\202311-bosch-python2\\simple_demos\\notebooks\\06_sequences_and_collections.ipynb Cell 96\u001b[0m line \u001b[0;36m1\n\u001b[1;32m----> <a href='vscode-notebook-cell:/d%3A/works/corporate/202311-bosch-python2/simple_demos/notebooks/06_sequences_and_collections.ipynb#Y163sZmlsZQ%3D%3D?line=0'>1</a>\u001b[0m country_info[\u001b[39m'\u001b[39;49m\u001b[39mPK\u001b[39;49m\u001b[39m'\u001b[39;49m]\n",
      "\u001b[1;31mKeyError\u001b[0m: 'PK'"
     ]
    }
   ],
   "source": [
    "country_info['PK']"
   ]
  },
  {
   "cell_type": "markdown",
   "metadata": {},
   "source": [
    "### We can add / update values using indexer"
   ]
  },
  {
   "cell_type": "code",
   "execution_count": 60,
   "metadata": {},
   "outputs": [],
   "source": [
    "country_info['UK']=\"Great Britain\" # repalces prevous value for the same key\n",
    "\n",
    "country_info['FR']=\"France\" # adds new key value pair"
   ]
  },
  {
   "cell_type": "code",
   "execution_count": 61,
   "metadata": {},
   "outputs": [
    {
     "data": {
      "text/plain": [
       "{'IN': 'India',\n",
       " 'UK': 'Great Britain',\n",
       " 'JP': 'Japan',\n",
       " 91: 'India',\n",
       " 'FR': 'France'}"
      ]
     },
     "execution_count": 61,
     "metadata": {},
     "output_type": "execute_result"
    }
   ],
   "source": [
    "country_info"
   ]
  },
  {
   "cell_type": "markdown",
   "metadata": {},
   "source": [
    "### Accessing All key value using for loop\n",
    "\n",
    "* there can be couple of ways\n",
    "\n",
    "##### Approach #1 loop throug keys. access values using indexer"
   ]
  },
  {
   "cell_type": "code",
   "execution_count": 62,
   "metadata": {},
   "outputs": [
    {
     "name": "stdout",
     "output_type": "stream",
     "text": [
      "IN India\n",
      "UK Great Britain\n",
      "JP Japan\n",
      "91 India\n",
      "FR France\n"
     ]
    }
   ],
   "source": [
    "for key in country_info:\n",
    "    print(key, country_info[key])"
   ]
  },
  {
   "cell_type": "markdown",
   "metadata": {},
   "source": [
    "#### Approach #2 Access key value pair using items() function\n",
    "* item returns each key value pair as tuple"
   ]
  },
  {
   "cell_type": "code",
   "execution_count": 63,
   "metadata": {},
   "outputs": [
    {
     "name": "stdout",
     "output_type": "stream",
     "text": [
      "('IN', 'India')\n",
      "('UK', 'Great Britain')\n",
      "('JP', 'Japan')\n",
      "(91, 'India')\n",
      "('FR', 'France')\n"
     ]
    }
   ],
   "source": [
    "for item in country_info.items():\n",
    "    print(item)"
   ]
  },
  {
   "cell_type": "code",
   "execution_count": 64,
   "metadata": {},
   "outputs": [
    {
     "name": "stdout",
     "output_type": "stream",
     "text": [
      "IN India\n",
      "UK Great Britain\n",
      "JP Japan\n",
      "91 India\n",
      "FR France\n"
     ]
    }
   ],
   "source": [
    "for item in country_info.items():\n",
    "    print(item[0],item[1])"
   ]
  },
  {
   "cell_type": "markdown",
   "metadata": {},
   "source": [
    "#### destructuring a tuple\n",
    "\n",
    "* tuple value can automatically be destrcutred in variables"
   ]
  },
  {
   "cell_type": "code",
   "execution_count": 65,
   "metadata": {},
   "outputs": [
    {
     "name": "stdout",
     "output_type": "stream",
     "text": [
      "IN India\n",
      "UK Great Britain\n",
      "JP Japan\n",
      "91 India\n",
      "FR France\n"
     ]
    }
   ],
   "source": [
    "for code,name in country_info.items():\n",
    "    print(code,name)"
   ]
  },
  {
   "cell_type": "markdown",
   "metadata": {},
   "source": [
    "### To access only values"
   ]
  },
  {
   "cell_type": "code",
   "execution_count": 66,
   "metadata": {},
   "outputs": [
    {
     "name": "stdout",
     "output_type": "stream",
     "text": [
      "India\tGreat Britain\tJapan\tIndia\tFrance\t"
     ]
    }
   ],
   "source": [
    "for name in country_info.values():\n",
    "    print(name,end='\\t')"
   ]
  },
  {
   "cell_type": "markdown",
   "metadata": {},
   "source": [
    "### Accessing values using get() instead of indexer\n",
    "\n",
    "* dict provides **get** as an alternative of indexer to access values of a given key\n",
    "* both get and indexer works in the exact same way if the key is valid and present."
   ]
  },
  {
   "cell_type": "code",
   "execution_count": 67,
   "metadata": {},
   "outputs": [
    {
     "name": "stdout",
     "output_type": "stream",
     "text": [
      "India\n",
      "Japan\n"
     ]
    }
   ],
   "source": [
    "print(country_info['IN']) #India\n",
    "print(country_info.get('JP')) #Japan"
   ]
  },
  {
   "cell_type": "markdown",
   "metadata": {},
   "source": [
    "### How is get and indexer different.\n",
    "\n",
    "* If the key is NOT present\n",
    "    * indexer raises KeyError.\n",
    "    * get() can return a default value of users choice.\n",
    "        * if no default value is given it returns None."
   ]
  },
  {
   "cell_type": "code",
   "execution_count": 68,
   "metadata": {},
   "outputs": [
    {
     "ename": "KeyError",
     "evalue": "'PK'",
     "output_type": "error",
     "traceback": [
      "\u001b[1;31m---------------------------------------------------------------------------\u001b[0m",
      "\u001b[1;31mKeyError\u001b[0m                                  Traceback (most recent call last)",
      "\u001b[1;32md:\\works\\corporate\\202311-bosch-python2\\simple_demos\\notebooks\\06_sequences_and_collections.ipynb Cell 112\u001b[0m line \u001b[0;36m1\n\u001b[1;32m----> <a href='vscode-notebook-cell:/d%3A/works/corporate/202311-bosch-python2/simple_demos/notebooks/06_sequences_and_collections.ipynb#Y221sZmlsZQ%3D%3D?line=0'>1</a>\u001b[0m \u001b[39mprint\u001b[39m(country_info[\u001b[39m'\u001b[39;49m\u001b[39mPK\u001b[39;49m\u001b[39m'\u001b[39;49m])\n\u001b[0;32m      <a href='vscode-notebook-cell:/d%3A/works/corporate/202311-bosch-python2/simple_demos/notebooks/06_sequences_and_collections.ipynb#Y221sZmlsZQ%3D%3D?line=1'>2</a>\u001b[0m \u001b[39mprint\u001b[39m(country_info[\u001b[39m'\u001b[39m\u001b[39mFR\u001b[39m\u001b[39m'\u001b[39m])\n",
      "\u001b[1;31mKeyError\u001b[0m: 'PK'"
     ]
    }
   ],
   "source": [
    "print(country_info['PK'])\n",
    "print(country_info['FR'])"
   ]
  },
  {
   "cell_type": "code",
   "execution_count": 69,
   "metadata": {},
   "outputs": [
    {
     "name": "stdout",
     "output_type": "stream",
     "text": [
      "IN India\n",
      "PK <not found>\n",
      "FR France\n",
      "DE <not found>\n",
      "JP Japan\n"
     ]
    }
   ],
   "source": [
    "test_keys=['IN','PK','FR','DE','JP']\n",
    "\n",
    "for key in test_keys:\n",
    "    name = country_info.get(key, '<not found>')\n",
    "    print(key,name)"
   ]
  },
  {
   "cell_type": "code",
   "execution_count": 70,
   "metadata": {},
   "outputs": [
    {
     "name": "stdout",
     "output_type": "stream",
     "text": [
      "IN India\n",
      "PK None\n",
      "FR France\n",
      "DE None\n",
      "JP Japan\n"
     ]
    }
   ],
   "source": [
    "test_keys=['IN','PK','FR','DE','JP']\n",
    "\n",
    "for key in test_keys:\n",
    "    name = country_info.get(key)\n",
    "    print(key,name)"
   ]
  },
  {
   "cell_type": "markdown",
   "metadata": {},
   "source": [
    "## Assignment 2.2\n",
    "\n",
    "* Write a function **frequency** to create a frequencey table for a given sequence of values\n",
    "\n",
    "--- \n",
    "```python\n",
    "    values=[2,9,2,2,1,9,2,2,4,9,2,2,6]\n",
    "\n",
    "    f = frequency(values) # {2:7, 9:3, 1:1, 4:1, 6:1}\n",
    "\n",
    "```\n",
    "---\n",
    "\n",
    "* write a funcitom **print_freuqency table** to print the frequency in tabluar form\n",
    "\n",
    "\n",
    "* write a function **plot_hitogram** to plot a histogram from a given frequencey table\n",
    "\n",
    "\n",
    "--- \n",
    "```python\n",
    "    plot_histogram({2:7, 9:3, 1:1, 4:2, 6:1})\n",
    "\n",
    "```\n",
    "---\n",
    " \n",
    "<pre>\n",
    "2 | === === === === === === === 7\n",
    "9 | === === ===  3\n",
    "1 | ===  1\n",
    "4 | === ===  2\n",
    "6 | ===  1\n",
    "</pre>"
   ]
  },
  {
   "cell_type": "markdown",
   "metadata": {},
   "source": [
    "### Assignment #1\n",
    "\n",
    "* to generate frequency_distribution_table for a given series.\n",
    "* function should take\n",
    "    * list of values\n",
    "* should return a dictionary \n",
    "    * key: item\n",
    "    * value: frequency of item."
   ]
  },
  {
   "cell_type": "code",
   "execution_count": 71,
   "metadata": {},
   "outputs": [],
   "source": [
    "def count(list,item):\n",
    "    total=0\n",
    "    print(f'counting {item}',end=\" \")\n",
    "    for value in list:\n",
    "        if value==item:\n",
    "            total=total+1\n",
    "    print(f'total {total}')\n",
    "    return total\n",
    "def frequency(list):\n",
    "    result={} #empty dictionary.\n",
    "\n",
    "    for value in list:\n",
    "        result[value]= count(list,value) #list.count(value)\n",
    "\n",
    "    return result\n"
   ]
  },
  {
   "cell_type": "code",
   "execution_count": 72,
   "metadata": {},
   "outputs": [],
   "source": [
    "values=[2,9,2,2,1,9,2,2,4,6,9,2,2,6]"
   ]
  },
  {
   "cell_type": "code",
   "execution_count": 73,
   "metadata": {},
   "outputs": [
    {
     "name": "stdout",
     "output_type": "stream",
     "text": [
      "counting 2 total 7\n",
      "counting 9 total 3\n",
      "counting 2 total 7\n",
      "counting 2 total 7\n",
      "counting 1 total 1\n",
      "counting 9 total 3\n",
      "counting 2 total 7\n",
      "counting 2 total 7\n",
      "counting 4 total 1\n",
      "counting 6 total 2\n",
      "counting 9 total 3\n",
      "counting 2 total 7\n",
      "counting 2 total 7\n",
      "counting 6 total 2\n",
      "{2: 7, 9: 3, 1: 1, 4: 1, 6: 2}\n"
     ]
    }
   ],
   "source": [
    "f= frequency(values)\n",
    "print(f)"
   ]
  },
  {
   "cell_type": "markdown",
   "metadata": {},
   "source": [
    "### Problem complexiting is O(n^2)\n",
    "\n",
    "* this is worse complexity\n",
    "* for a list of n item we need n*n loo\n",
    "* for each item we loop through entire loop again.\n",
    "\n",
    "### Frequency V2\n",
    "\n",
    "* we are trying to eliminate recounting"
   ]
  },
  {
   "cell_type": "code",
   "execution_count": 74,
   "metadata": {},
   "outputs": [],
   "source": [
    "def frequency(list):\n",
    "    result={} #empty dictionary.\n",
    "\n",
    "    for value in list:\n",
    "        if  value not in result:\n",
    "            result[value]= count(list,value) #list.count(value)\n",
    "\n",
    "    return result\n"
   ]
  },
  {
   "cell_type": "code",
   "execution_count": 75,
   "metadata": {},
   "outputs": [
    {
     "name": "stdout",
     "output_type": "stream",
     "text": [
      "counting 2 total 7\n",
      "counting 9 total 3\n",
      "counting 1 total 1\n",
      "counting 4 total 1\n",
      "counting 6 total 2\n"
     ]
    },
    {
     "data": {
      "text/plain": [
       "{2: 7, 9: 3, 1: 1, 4: 1, 6: 2}"
      ]
     },
     "execution_count": 75,
     "metadata": {},
     "output_type": "execute_result"
    }
   ],
   "source": [
    "frequency(values)"
   ]
  },
  {
   "cell_type": "markdown",
   "metadata": {},
   "source": [
    "### Design benefit\n",
    "\n",
    "* If in frequency table there will be 'm' unqiue keys the complexity will be O(m*n)\n",
    "    * we loop each the entire list of \"n\" items for every unique key \"m\"\n",
    "\n",
    "* since in real world m<<n \n",
    "    m*n << n*n\n",
    "\n",
    "* for a 10 lack item distribution in months\n",
    "    * first logic will hav 10lac*10lac loop\n",
    "    * second logic will have 12*10lac loop \n",
    "\n",
    " "
   ]
  },
  {
   "cell_type": "markdown",
   "metadata": {},
   "source": [
    "### Taking the Advantage of Dictionary"
   ]
  },
  {
   "cell_type": "code",
   "execution_count": 76,
   "metadata": {},
   "outputs": [],
   "source": [
    "def frequency(values):\n",
    "    result={}\n",
    "    for value in values:\n",
    "        if value in result:\n",
    "            result[value]+=1\n",
    "        else:\n",
    "            result[value]=1\n",
    "\n",
    "    return result"
   ]
  },
  {
   "cell_type": "code",
   "execution_count": 77,
   "metadata": {},
   "outputs": [
    {
     "data": {
      "text/plain": [
       "{2: 7, 9: 3, 1: 1, 4: 1, 6: 2}"
      ]
     },
     "execution_count": 77,
     "metadata": {},
     "output_type": "execute_result"
    }
   ],
   "source": [
    "frequency(values)"
   ]
  },
  {
   "cell_type": "markdown",
   "metadata": {},
   "source": [
    "### Advantage\n",
    "\n",
    "* complexity is no O(n)\n",
    "* to loop through n items we are looping on n time.\n",
    "\n",
    "### Assignment 2 Frequency Table\n"
   ]
  },
  {
   "cell_type": "code",
   "execution_count": 82,
   "metadata": {},
   "outputs": [],
   "source": [
    "def frequency_table(f_dict):\n",
    "    print(f'{\"key\".center(20)} | {\"value\".center(20)}')\n",
    "    print('-'*43)\n",
    "    for key,value in f_dict.items():\n",
    "        \n",
    "        print(f'{str(key).rjust(20)} | {str(value).rjust(20)} ')\n",
    "    print('-'*43)"
   ]
  },
  {
   "cell_type": "code",
   "execution_count": 83,
   "metadata": {},
   "outputs": [],
   "source": [
    "x=frequency(values)"
   ]
  },
  {
   "cell_type": "code",
   "execution_count": 84,
   "metadata": {},
   "outputs": [
    {
     "name": "stdout",
     "output_type": "stream",
     "text": [
      "        key          |        value        \n",
      "-------------------------------------------\n",
      "                   2 |                    7 \n",
      "                   9 |                    3 \n",
      "                   1 |                    1 \n",
      "                   4 |                    1 \n",
      "                   6 |                    2 \n",
      "-------------------------------------------\n"
     ]
    }
   ],
   "source": [
    "frequency_table(x)"
   ]
  },
  {
   "cell_type": "code",
   "execution_count": 111,
   "metadata": {},
   "outputs": [
    {
     "ename": "TypeError",
     "evalue": "'str' object is not callable",
     "output_type": "error",
     "traceback": [
      "\u001b[1;31m---------------------------------------------------------------------------\u001b[0m",
      "\u001b[1;31mTypeError\u001b[0m                                 Traceback (most recent call last)",
      "\u001b[1;32md:\\works\\corporate\\202311-bosch-python2\\simple_demos\\notebooks\\06_sequences_and_collections.ipynb Cell 131\u001b[0m line \u001b[0;36m1\n\u001b[1;32m----> <a href='vscode-notebook-cell:/d%3A/works/corporate/202311-bosch-python2/simple_demos/notebooks/06_sequences_and_collections.ipynb#Y251sZmlsZQ%3D%3D?line=0'>1</a>\u001b[0m \u001b[39mstr\u001b[39;49m(\u001b[39m20\u001b[39;49m)\n",
      "\u001b[1;31mTypeError\u001b[0m: 'str' object is not callable"
     ]
    }
   ],
   "source": [
    "str1(20)"
   ]
  },
  {
   "cell_type": "code",
   "execution_count": 112,
   "metadata": {},
   "outputs": [
    {
     "data": {
      "text/plain": [
       "'Hello World'"
      ]
     },
     "execution_count": 112,
     "metadata": {},
     "output_type": "execute_result"
    }
   ],
   "source": [
    "str1"
   ]
  },
  {
   "cell_type": "markdown",
   "metadata": {},
   "source": [
    "### Histogram"
   ]
  },
  {
   "cell_type": "code",
   "execution_count": 85,
   "metadata": {},
   "outputs": [],
   "source": [
    "def histogram(f_table):\n",
    "    design='=== '\n",
    "    for key,value in f_table.items():\n",
    "        print(f'{key} | {design*value} {value}')"
   ]
  },
  {
   "cell_type": "code",
   "execution_count": 86,
   "metadata": {},
   "outputs": [
    {
     "name": "stdout",
     "output_type": "stream",
     "text": [
      "2 | === === === === === === ===  7\n",
      "9 | === === ===  3\n",
      "1 | ===  1\n",
      "4 | ===  1\n",
      "6 | === ===  2\n"
     ]
    }
   ],
   "source": [
    "histogram(f)"
   ]
  },
  {
   "cell_type": "markdown",
   "metadata": {},
   "source": [
    "## Computed Sequence.\n",
    "\n",
    "* A computed sequence is a sequence whose values are computed on the fly instead of being stored somewhere.\n",
    "* the value may come from\n",
    "    * some formula\n",
    "    * some external source like\n",
    "        * file\n",
    "        * network \n",
    "\n",
    "\n",
    "### range function\n",
    "\n",
    "* range returns a computed sequence of values in a given min - max (exclusive) range.\n",
    "\n",
    "* it has 3 forms\n",
    "\n",
    "\n",
    "#### range(max)\n",
    "\n",
    "* returns all values from 0 to max-1"
   ]
  },
  {
   "cell_type": "code",
   "execution_count": 87,
   "metadata": {},
   "outputs": [
    {
     "name": "stdout",
     "output_type": "stream",
     "text": [
      "range(0, 10)\n"
     ]
    }
   ],
   "source": [
    "x = range(10)\n",
    "print(x)"
   ]
  },
  {
   "cell_type": "code",
   "execution_count": 88,
   "metadata": {},
   "outputs": [
    {
     "name": "stdout",
     "output_type": "stream",
     "text": [
      "0 1 2 3 4 5 6 7 8 9 "
     ]
    }
   ],
   "source": [
    "for i in x:\n",
    "    print(i,end=\" \")"
   ]
  },
  {
   "cell_type": "markdown",
   "metadata": {},
   "source": [
    "### range(min,max)\n",
    "* min is inclusive\n",
    "* max is exclusive"
   ]
  },
  {
   "cell_type": "code",
   "execution_count": 89,
   "metadata": {},
   "outputs": [
    {
     "name": "stdout",
     "output_type": "stream",
     "text": [
      "type:<class 'range'>\tid=1740752104272\tlength=10\n",
      "10\t11\t12\t13\t14\t15\t16\t17\t18\t19\t\n"
     ]
    }
   ],
   "source": [
    "x=range(10,20)\n",
    "show(x)"
   ]
  },
  {
   "cell_type": "markdown",
   "metadata": {},
   "source": [
    "### range(min,max,gap)\n",
    "\n",
    "* the value will be incremented by gap"
   ]
  },
  {
   "cell_type": "code",
   "execution_count": 90,
   "metadata": {},
   "outputs": [
    {
     "name": "stdout",
     "output_type": "stream",
     "text": [
      "type:<class 'range'>\tid=1740733411760\tlength=20\n",
      "0\t5\t10\t15\t20\t25\t30\t35\t40\t45\t50\t55\t60\t65\t70\t75\t80\t85\t90\t95\t\n"
     ]
    }
   ],
   "source": [
    "x=range(0,100,5)\n",
    "show(x)"
   ]
  },
  {
   "cell_type": "markdown",
   "metadata": {},
   "source": [
    "### Use case: convert for loop to c like for loop"
   ]
  },
  {
   "cell_type": "code",
   "execution_count": 92,
   "metadata": {},
   "outputs": [
    {
     "name": "stdout",
     "output_type": "stream",
     "text": [
      "0 Hello World\n",
      "1 Hello World\n",
      "2 Hello World\n",
      "3 Hello World\n",
      "4 Hello World\n"
     ]
    }
   ],
   "source": [
    "for i in range(5):\n",
    "    print(i,'Hello World')"
   ]
  },
  {
   "cell_type": "markdown",
   "metadata": {},
   "source": [
    "### compact if expression.\n",
    "\n",
    "* python defines a compact if expression\n",
    "* it can be compared to C style ternary operator.\n",
    "\n",
    "#### C/Java style ternary operator\n",
    "--- \n",
    "```c\n",
    "x = condition ? true_value : false_value\n",
    "```\n",
    "--- \n",
    "\n",
    "#### Same thing can be done in python using compact if expression\n",
    "\n",
    "\n",
    "---\n",
    "```python\n",
    "x = true_value if condition else false_value\n",
    "```\n",
    "--- \n",
    "\n",
    "#### it can be used as part of some expression\n",
    "\n",
    "* unlike standard if it can be a part of some expression.\n",
    "\n"
   ]
  },
  {
   "cell_type": "markdown",
   "metadata": {},
   "source": [
    "### Compact for expression\n",
    "\n",
    "* A for expression is generally used to generate a sequence\n",
    "* the model is \n",
    "\n",
    "```python\n",
    "\n",
    "result = [ value for value in values]\n",
    "\n",
    "```\n",
    "\n",
    "* Here we are generating a list using values from another sequence.\n",
    "\n",
    "### Example #1 create a set containing all keys from country_info dict"
   ]
  },
  {
   "cell_type": "code",
   "execution_count": 95,
   "metadata": {},
   "outputs": [
    {
     "name": "stdout",
     "output_type": "stream",
     "text": [
      "{'UK', 'JP', 'FR', 'IN', 91}\n"
     ]
    }
   ],
   "source": [
    "keys= {key for key in country_info}\n",
    "\n",
    "print(keys)"
   ]
  },
  {
   "cell_type": "markdown",
   "metadata": {},
   "source": [
    "### Create a list of all values in the range"
   ]
  },
  {
   "cell_type": "code",
   "execution_count": 96,
   "metadata": {},
   "outputs": [
    {
     "name": "stdout",
     "output_type": "stream",
     "text": [
      "[20, 21, 22, 23, 24, 25, 26, 27, 28, 29, 30, 31, 32, 33, 34, 35, 36, 37, 38, 39]\n"
     ]
    }
   ],
   "source": [
    "values = [value for value in range(20,40)]\n",
    "\n",
    "print(values)"
   ]
  },
  {
   "cell_type": "markdown",
   "metadata": {},
   "source": [
    "### for and if expression can be combined."
   ]
  },
  {
   "cell_type": "code",
   "execution_count": 97,
   "metadata": {},
   "outputs": [],
   "source": [
    "values=[2,9,11,13,5,15,2,18,6,4,18,12,31]"
   ]
  },
  {
   "cell_type": "markdown",
   "metadata": {},
   "source": [
    "### How can we create a list of all primes from the above list?"
   ]
  },
  {
   "cell_type": "code",
   "execution_count": 98,
   "metadata": {},
   "outputs": [],
   "source": [
    "import primeutils as p"
   ]
  },
  {
   "cell_type": "code",
   "execution_count": 99,
   "metadata": {},
   "outputs": [],
   "source": [
    "primes = [ number for number in values if p.is_prime(number)]"
   ]
  },
  {
   "cell_type": "code",
   "execution_count": 100,
   "metadata": {},
   "outputs": [
    {
     "data": {
      "text/plain": [
       "[2, 11, 13, 5, 2, 31]"
      ]
     },
     "execution_count": 100,
     "metadata": {},
     "output_type": "execute_result"
    }
   ],
   "source": [
    "primes"
   ]
  },
  {
   "cell_type": "markdown",
   "metadata": {},
   "source": [
    "### frequency v3"
   ]
  },
  {
   "cell_type": "code",
   "execution_count": 102,
   "metadata": {},
   "outputs": [],
   "source": [
    "def frequency(values):\n",
    "    result={}\n",
    "    for value in values:\n",
    "        result[value]=result.get(value,0)+1\n",
    "\n",
    "    return result"
   ]
  },
  {
   "cell_type": "code",
   "execution_count": 104,
   "metadata": {},
   "outputs": [
    {
     "name": "stdout",
     "output_type": "stream",
     "text": [
      "2 | === === === === === === ===  7\n",
      "9 | === === ===  3\n",
      "1 | ===  1\n",
      "4 | ===  1\n",
      "6 | === ===  2\n"
     ]
    }
   ],
   "source": [
    "values=[2,9,2,2,1,9,2,2,4,6,9,2,2,6]\n",
    "\n",
    "f=frequency(values)\n",
    "\n",
    "histogram(f)"
   ]
  },
  {
   "cell_type": "code",
   "execution_count": null,
   "metadata": {},
   "outputs": [],
   "source": []
  }
 ],
 "metadata": {
  "kernelspec": {
   "display_name": "Python 3",
   "language": "python",
   "name": "python3"
  },
  "language_info": {
   "codemirror_mode": {
    "name": "ipython",
    "version": 3
   },
   "file_extension": ".py",
   "mimetype": "text/x-python",
   "name": "python",
   "nbconvert_exporter": "python",
   "pygments_lexer": "ipython3",
   "version": "3.12.0"
  }
 },
 "nbformat": 4,
 "nbformat_minor": 2
}
