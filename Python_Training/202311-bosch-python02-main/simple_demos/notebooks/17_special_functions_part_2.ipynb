{
 "cells": [
  {
   "cell_type": "markdown",
   "metadata": {},
   "source": [
    "### Let us Redefine Linked List with following features.\n",
    "\n",
    "```python\n",
    "\n",
    "lst=LinkedList(2,3,4,5,6)\n",
    "\n",
    "print(lst) # should print LinkedList(2    3    4    5    6) --> lst.__str__()\n",
    "\n",
    "print(len(lst)) # lst.__len__()\n",
    "\n",
    "x= lst[2]  # lst.__getitem__()\n",
    "\n",
    "lst[3] = 10  # lst.__setitem__(3)\n",
    "\n",
    "del lst[2] # lst.__delitem__(2)\n",
    "\n",
    "```\n",
    "\n",
    "* Note most features already exist in our code. Only thing, they should be available with a special name."
   ]
  },
  {
   "cell_type": "code",
   "execution_count": 1,
   "metadata": {},
   "outputs": [],
   "source": [
    "class Node:\n",
    "    def __init__(self,value,next=None, previous=None):\n",
    "        self.value=value\n",
    "        self.next=next\n",
    "        self.previous=previous\n",
    "\n",
    "class LinkedList:\n",
    "    def __init__(self,*args):\n",
    "        self.__first=None\n",
    "        self.__last=None\n",
    "        self.__count=0\n",
    "        self.append(*args)\n",
    "\n",
    "    def append(self, *args):\n",
    "        for value in args:\n",
    "            self._append(value)\n",
    "\n",
    "    def _append(self,value):\n",
    "        new_node=Node(value, previous=self.__last)\n",
    "        if self.__last is not None: # List is not empty\n",
    "            self.__last.next=new_node\n",
    "            #print(f'adding {value} after {self.__last.value}')\n",
    "        else:\n",
    "            #print(f'adding {value} as first node')\n",
    "            self.__first=new_node # this is the first item\n",
    "\n",
    "        self.__last=new_node\n",
    "        self.__count+=1\n",
    "\n",
    "    \n",
    "    #def size(self):\n",
    "    def __len__(self): \n",
    "        return self.__count\n",
    "    \n",
    "    #def info(self):\n",
    "    def __str__(self):\n",
    "        if self.__count==0:\n",
    "            return 'LinkedList(empty)'\n",
    "        str='LinkedList(\\t'\n",
    "        ptr=self.__first\n",
    "        while ptr:\n",
    "            str+=f'{ptr.value}\\t'\n",
    "            ptr=ptr.next\n",
    "\n",
    "        str+=\")\"\n",
    "        return str\n",
    "    \n",
    "    def _locate(self, index):\n",
    "        if index<0 or index>=self.__count:\n",
    "            raise IndexError(f'Invalid Index {index}')\n",
    "        n=self.__first\n",
    "        for x in range(index):\n",
    "            n=n.next\n",
    "        return n\n",
    "    \n",
    "\n",
    "    #def get(self, index):\n",
    "    def __getitem__(self,index):   \n",
    "        return self._locate(index).value\n",
    "    \n",
    "    #def set(self, index, value):\n",
    "    def __setitem__(self,index,value):\n",
    "        self._locate(index).value=value\n",
    "\n",
    "    def insert(self, index, value):\n",
    "        y=self._locate(index)\n",
    "        x=y.previous\n",
    "\n",
    "        new_node = Node(value, previous=x, next=y)\n",
    "        y.previous=new_node        \n",
    "\n",
    "        if index==0:\n",
    "            self.__first=new_node\n",
    "        else:\n",
    "\n",
    "            x.next=new_node\n",
    "\n",
    "        self.__count+=1\n",
    "\n",
    "    def remove(self,index):\n",
    "        d=self._locate(index)\n",
    "\n",
    "        if d.next:\n",
    "            d.next.previous=d.previous\n",
    "        else:\n",
    "            self.__last=d.previous\n",
    "\n",
    "        if d.previous:\n",
    "            d.previous.next=d.next\n",
    "        else:\n",
    "            self.__first=d.next\n",
    "\n",
    "        self.__count-=1\n",
    "\n",
    "        return d.value\n",
    "\n",
    "    def __delitem__(self,index):\n",
    "        self.remove(index)\n",
    "        \n",
    "\n",
    "\n",
    "\n"
   ]
  },
  {
   "cell_type": "code",
   "execution_count": 2,
   "metadata": {},
   "outputs": [
    {
     "name": "stdout",
     "output_type": "stream",
     "text": [
      "LinkedList(\t1\t2\t3\t4\t5\t)\n",
      "5\n"
     ]
    }
   ],
   "source": [
    "lst=LinkedList(1,2,3,4,5)\n",
    "print(lst)\n",
    "print(len(lst))"
   ]
  },
  {
   "cell_type": "code",
   "execution_count": 4,
   "metadata": {},
   "outputs": [
    {
     "name": "stdout",
     "output_type": "stream",
     "text": [
      "1\n",
      "2\n",
      "3\n",
      "4\n",
      "5\n",
      "LinkedList(\t2\t4\t6\t8\t10\t)\n"
     ]
    }
   ],
   "source": [
    "for i in range(len(lst)):\n",
    "    print(lst[i])\n",
    "    lst[i]*=2  # lst.__setitem__(2, lst.__getitem__(2)*2)\n",
    "\n",
    "print(lst)"
   ]
  },
  {
   "cell_type": "code",
   "execution_count": 5,
   "metadata": {},
   "outputs": [],
   "source": [
    "del lst[2] #6\n"
   ]
  },
  {
   "cell_type": "code",
   "execution_count": 6,
   "metadata": {},
   "outputs": [
    {
     "name": "stdout",
     "output_type": "stream",
     "text": [
      "LinkedList(\t2\t4\t8\t10\t)\n"
     ]
    }
   ],
   "source": [
    "print(lst)"
   ]
  },
  {
   "cell_type": "markdown",
   "metadata": {},
   "source": [
    "### Some more features\n",
    "\n",
    "##### 1. comparison\n",
    "\n",
    "* following result should be true, but it s false\n"
   ]
  },
  {
   "cell_type": "code",
   "execution_count": 7,
   "metadata": {},
   "outputs": [
    {
     "data": {
      "text/plain": [
       "False"
      ]
     },
     "execution_count": 7,
     "metadata": {},
     "output_type": "execute_result"
    }
   ],
   "source": [
    "l1=LinkedList(1,2,3,4,5)\n",
    "l2=LinkedList(1,2,3,4,5)\n",
    "\n",
    "l1==l2"
   ]
  },
  {
   "cell_type": "markdown",
   "metadata": {},
   "source": [
    "#### 2.Adding two lists to get larger list"
   ]
  },
  {
   "cell_type": "code",
   "execution_count": 8,
   "metadata": {},
   "outputs": [
    {
     "ename": "TypeError",
     "evalue": "unsupported operand type(s) for +: 'LinkedList' and 'LinkedList'",
     "output_type": "error",
     "traceback": [
      "\u001b[1;31m---------------------------------------------------------------------------\u001b[0m",
      "\u001b[1;31mTypeError\u001b[0m                                 Traceback (most recent call last)",
      "\u001b[1;32md:\\works\\corporate\\202311-bosch-python2\\simple_demos\\notebooks\\17_special_functions_part_2.ipynb Cell 10\u001b[0m line \u001b[0;36m4\n\u001b[0;32m      <a href='vscode-notebook-cell:/d%3A/works/corporate/202311-bosch-python2/simple_demos/notebooks/17_special_functions_part_2.ipynb#X11sZmlsZQ%3D%3D?line=0'>1</a>\u001b[0m l1\u001b[39m=\u001b[39mLinkedList(\u001b[39m1\u001b[39m,\u001b[39m2\u001b[39m,\u001b[39m3\u001b[39m,\u001b[39m4\u001b[39m,\u001b[39m5\u001b[39m,\u001b[39m6\u001b[39m)\n\u001b[0;32m      <a href='vscode-notebook-cell:/d%3A/works/corporate/202311-bosch-python2/simple_demos/notebooks/17_special_functions_part_2.ipynb#X11sZmlsZQ%3D%3D?line=1'>2</a>\u001b[0m l2\u001b[39m=\u001b[39mLinkedList(\u001b[39m7\u001b[39m,\u001b[39m8\u001b[39m,\u001b[39m9\u001b[39m,\u001b[39m10\u001b[39m)\n\u001b[1;32m----> <a href='vscode-notebook-cell:/d%3A/works/corporate/202311-bosch-python2/simple_demos/notebooks/17_special_functions_part_2.ipynb#X11sZmlsZQ%3D%3D?line=3'>4</a>\u001b[0m l3\u001b[39m=\u001b[39ml1\u001b[39m+\u001b[39;49ml2 \u001b[39m# LinkedList(1,2,3,4,5,6,7,8,9,10)\u001b[39;00m\n",
      "\u001b[1;31mTypeError\u001b[0m: unsupported operand type(s) for +: 'LinkedList' and 'LinkedList'"
     ]
    }
   ],
   "source": [
    "l1=LinkedList(1,2,3,4,5,6)\n",
    "l2=LinkedList(7,8,9,10)\n",
    "\n",
    "l3=l1+l2 # LinkedList(1,2,3,4,5,6,7,8,9,10)"
   ]
  },
  {
   "cell_type": "markdown",
   "metadata": {},
   "source": [
    "#### I want a smart syntax to append multiple items to list"
   ]
  },
  {
   "cell_type": "code",
   "execution_count": 9,
   "metadata": {},
   "outputs": [
    {
     "ename": "TypeError",
     "evalue": "unsupported operand type(s) for <<: 'LinkedList' and 'int'",
     "output_type": "error",
     "traceback": [
      "\u001b[1;31m---------------------------------------------------------------------------\u001b[0m",
      "\u001b[1;31mTypeError\u001b[0m                                 Traceback (most recent call last)",
      "\u001b[1;32md:\\works\\corporate\\202311-bosch-python2\\simple_demos\\notebooks\\17_special_functions_part_2.ipynb Cell 12\u001b[0m line \u001b[0;36m3\n\u001b[0;32m      <a href='vscode-notebook-cell:/d%3A/works/corporate/202311-bosch-python2/simple_demos/notebooks/17_special_functions_part_2.ipynb#X13sZmlsZQ%3D%3D?line=0'>1</a>\u001b[0m lst\u001b[39m=\u001b[39mLinkedList()\n\u001b[1;32m----> <a href='vscode-notebook-cell:/d%3A/works/corporate/202311-bosch-python2/simple_demos/notebooks/17_special_functions_part_2.ipynb#X13sZmlsZQ%3D%3D?line=2'>3</a>\u001b[0m lst \u001b[39m<<\u001b[39;49m \u001b[39m2\u001b[39;49m \u001b[39m<<\u001b[39m \u001b[39m3\u001b[39m \u001b[39m<<\u001b[39m \u001b[39m4\u001b[39m \u001b[39m<<\u001b[39m \u001b[39m5\u001b[39m \u001b[39m<<\u001b[39m \u001b[39m6\u001b[39m \u001b[39m<<\u001b[39m \u001b[39m7\u001b[39m \u001b[39m<<\u001b[39m \u001b[39m8\u001b[39m \n\u001b[0;32m      <a href='vscode-notebook-cell:/d%3A/works/corporate/202311-bosch-python2/simple_demos/notebooks/17_special_functions_part_2.ipynb#X13sZmlsZQ%3D%3D?line=4'>5</a>\u001b[0m \u001b[39mprint\u001b[39m(lst) \u001b[39m# LinkedList(    2   3   4   5   6   7    8  )\u001b[39;00m\n",
      "\u001b[1;31mTypeError\u001b[0m: unsupported operand type(s) for <<: 'LinkedList' and 'int'"
     ]
    }
   ],
   "source": [
    "lst=LinkedList()\n",
    "\n",
    "lst << 2 << 3 << 4 << 5 << 6 << 7 << 8 \n",
    "\n",
    "print(lst) # LinkedList(    2   3   4   5   6   7    8  )"
   ]
  },
  {
   "cell_type": "code",
   "execution_count": 10,
   "metadata": {},
   "outputs": [],
   "source": [
    "def eq(l1,l2):\n",
    "    if len(l1)!=len(l2):\n",
    "        return False\n",
    "    for i in range(len(l1)):\n",
    "        if l1[i] != l2[i]:\n",
    "            return False\n",
    "        \n",
    "    return True\n",
    "\n",
    "def add_lists(l1,l2):\n",
    "    l3=LinkedList()\n",
    "    for i in range(len(l1)):\n",
    "        l3.append(l1[i])\n",
    "    for i in range(len(l2)):\n",
    "        l3.append(l2[i])\n",
    "    return l3\n",
    "\n",
    "LinkedList.__eq__=eq\n",
    "LinkedList.__add__=add_lists\n"
   ]
  },
  {
   "cell_type": "code",
   "execution_count": 11,
   "metadata": {},
   "outputs": [],
   "source": [
    "l1=LinkedList(1,2,3,4,5)\n",
    "l2=LinkedList(1,2,3)\n",
    "l3=LinkedList(1,2,3,4,6)\n",
    "l4=LinkedList(1,2,3,4,5)"
   ]
  },
  {
   "cell_type": "code",
   "execution_count": 12,
   "metadata": {},
   "outputs": [
    {
     "name": "stdout",
     "output_type": "stream",
     "text": [
      "False\n",
      "False\n",
      "True\n"
     ]
    }
   ],
   "source": [
    "print(l1==l2) #false\n",
    "print(l1==l3) #false\n",
    "print(l1==l4) #true"
   ]
  },
  {
   "cell_type": "code",
   "execution_count": 13,
   "metadata": {},
   "outputs": [
    {
     "name": "stdout",
     "output_type": "stream",
     "text": [
      "LinkedList(\t1\t2\t3\t8\t9\t10\t)\n"
     ]
    }
   ],
   "source": [
    "l1=LinkedList(1,2,3)\n",
    "l2=LinkedList(8,9,10)\n",
    "\n",
    "l3=l1+l2\n",
    "print(l3)"
   ]
  },
  {
   "cell_type": "markdown",
   "metadata": {},
   "source": [
    "### Implement insertion syntax\n",
    "\n",
    "* Simple Use Case\n",
    "\n",
    "```python\n",
    "\n",
    "    lst=LinkedList()\n",
    "\n",
    "    lst << 5  # lst.__lshift__(5)\n",
    "\n",
    "```\n",
    "\n",
    "* How do I use it multiple times\n",
    "\n",
    "```python\n",
    "    lst=LinkedList()\n",
    "\n",
    "    lst << 5 << 7 << 9  # lst.__lshift__(5)\n",
    "\n",
    "```\n",
    "\n",
    "* the above code is equivalent to\n",
    "\n",
    "```python\n",
    "    lst=LinkedList()\n",
    "\n",
    "    ((lst << 5) << 7) << 9  # lst.__lshift__(5)\n",
    "\n",
    "```\n",
    "\n",
    "* meaning **lst<<5** should return lst.   \n",
    "\n"
   ]
  },
  {
   "cell_type": "code",
   "execution_count": 14,
   "metadata": {},
   "outputs": [],
   "source": [
    "def add(self, value):\n",
    "    self.append(value)\n",
    "    return self\n",
    "\n",
    "LinkedList.__lshift__=add\n"
   ]
  },
  {
   "cell_type": "code",
   "execution_count": 15,
   "metadata": {},
   "outputs": [
    {
     "name": "stdout",
     "output_type": "stream",
     "text": [
      "LinkedList(\t2\t3\t9\t11\t2\t)\n"
     ]
    }
   ],
   "source": [
    "lst=LinkedList()\n",
    "\n",
    "lst<<2<<3<<9<<11<<2\n",
    "\n",
    "print(lst)"
   ]
  },
  {
   "cell_type": "markdown",
   "metadata": {},
   "source": [
    "### How will for-loop work?\n",
    "\n",
    "* for loops job is to return all items in a given sequence.\n",
    "* it works if you have one of these two functionalities defined for your object\n",
    "\n",
    "### Option #1 Indexer\n",
    "\n",
    "* If you have a \\_\\_getitem\\_\\_ defined, python can use this indexer to loop through your items.\n",
    "* since my linkedlist has this function available, my list will work with for loop "
   ]
  },
  {
   "cell_type": "markdown",
   "metadata": {},
   "source": []
  },
  {
   "cell_type": "code",
   "execution_count": 16,
   "metadata": {},
   "outputs": [
    {
     "name": "stdout",
     "output_type": "stream",
     "text": [
      "2 3 9 2 6 "
     ]
    }
   ],
   "source": [
    "lst=LinkedList(2,3,9,2,6)\n",
    "\n",
    "for x in lst:\n",
    "    print(x,end=' ')"
   ]
  },
  {
   "cell_type": "code",
   "execution_count": 17,
   "metadata": {},
   "outputs": [],
   "source": [
    "getitem=LinkedList.__getitem__\n",
    "del LinkedList.__getitem__"
   ]
  },
  {
   "cell_type": "code",
   "execution_count": 18,
   "metadata": {},
   "outputs": [
    {
     "ename": "TypeError",
     "evalue": "'LinkedList' object is not iterable",
     "output_type": "error",
     "traceback": [
      "\u001b[1;31m---------------------------------------------------------------------------\u001b[0m",
      "\u001b[1;31mTypeError\u001b[0m                                 Traceback (most recent call last)",
      "\u001b[1;32md:\\works\\corporate\\202311-bosch-python2\\simple_demos\\notebooks\\17_special_functions_part_2.ipynb Cell 24\u001b[0m line \u001b[0;36m1\n\u001b[1;32m----> <a href='vscode-notebook-cell:/d%3A/works/corporate/202311-bosch-python2/simple_demos/notebooks/17_special_functions_part_2.ipynb#X34sZmlsZQ%3D%3D?line=0'>1</a>\u001b[0m \u001b[39mfor\u001b[39;49;00m x \u001b[39min\u001b[39;49;00m lst:\n\u001b[0;32m      <a href='vscode-notebook-cell:/d%3A/works/corporate/202311-bosch-python2/simple_demos/notebooks/17_special_functions_part_2.ipynb#X34sZmlsZQ%3D%3D?line=1'>2</a>\u001b[0m     \u001b[39mprint\u001b[39;49m(x,end\u001b[39m=\u001b[39;49m\u001b[39m'\u001b[39;49m\u001b[39m \u001b[39;49m\u001b[39m'\u001b[39;49m)\n",
      "\u001b[1;31mTypeError\u001b[0m: 'LinkedList' object is not iterable"
     ]
    }
   ],
   "source": [
    "for x in lst:\n",
    "    print(x,end=' ')"
   ]
  },
  {
   "cell_type": "markdown",
   "metadata": {},
   "source": [
    "\n",
    "#### Why Indexer may not be a great solution?\n",
    "\n",
    "1. Not every sequence may be indexed. (e.g. Set, Tree, Graph, Your Bag)\n",
    "2. Index may be inefficient.\n",
    "    * LinkedList index is very slow.\n",
    "        * to access 'nth' item yo uneed to move through first n-1 items.\n",
    "\n",
    "## Performance Test\n",
    "\n"
   ]
  },
  {
   "cell_type": "code",
   "execution_count": 22,
   "metadata": {},
   "outputs": [],
   "source": [
    "LinkedList.__getitem__=getitem"
   ]
  },
  {
   "cell_type": "code",
   "execution_count": 23,
   "metadata": {},
   "outputs": [],
   "source": [
    "def create_list(count):\n",
    "    lst=LinkedList()\n",
    "    for x in range(1,count+1):\n",
    "        lst.append(x)\n",
    "\n",
    "    return lst\n",
    "\n",
    "def sum_list(lst):\n",
    "    sum=0\n",
    "    for n in lst:\n",
    "        sum+=n\n",
    "    return sum"
   ]
  },
  {
   "cell_type": "code",
   "execution_count": 24,
   "metadata": {},
   "outputs": [
    {
     "name": "stdout",
     "output_type": "stream",
     "text": [
      "LinkedList(\t1\t2\t3\t4\t5\t6\t7\t8\t9\t10\t)\n",
      "55\n"
     ]
    }
   ],
   "source": [
    "lst=create_list(10)\n",
    "print(lst)\n",
    "sum=sum_list(lst)\n",
    "print(sum)"
   ]
  },
  {
   "cell_type": "markdown",
   "metadata": {},
   "source": [
    "### How much time it takes to create a list of 10000 items?"
   ]
  },
  {
   "cell_type": "code",
   "execution_count": 25,
   "metadata": {},
   "outputs": [],
   "source": [
    "import time"
   ]
  },
  {
   "cell_type": "code",
   "execution_count": 32,
   "metadata": {},
   "outputs": [],
   "source": [
    "size=100000"
   ]
  },
  {
   "cell_type": "code",
   "execution_count": 33,
   "metadata": {},
   "outputs": [
    {
     "name": "stdout",
     "output_type": "stream",
     "text": [
      "Total time taken is 0.1344139575958252\n"
     ]
    }
   ],
   "source": [
    "start=time.time()\n",
    "lst=create_list(size)\n",
    "stop=time.time()\n",
    "print(f'Total time taken is {stop-start}')"
   ]
  },
  {
   "cell_type": "code",
   "execution_count": 34,
   "metadata": {},
   "outputs": [
    {
     "name": "stdout",
     "output_type": "stream",
     "text": [
      "sum is 5000050000\n",
      "total time taken is 132.92112517356873\n"
     ]
    }
   ],
   "source": [
    "start=time.time()\n",
    "sum=sum_list(lst)\n",
    "end=time.time()\n",
    "print(f'sum is {sum}')\n",
    "print(f'total time taken is {end-start}')"
   ]
  },
  {
   "cell_type": "markdown",
   "metadata": {},
   "source": [
    "### Alternative Approach to for-loop ---> Iterator.\n",
    "\n",
    "#### 1. sequence/collection/iterable.\n",
    "\n",
    "* We have some object that has a group of data that we want to access sequentially using for-each loop.\n",
    "* This object may have stored data (e.g. LinkedList)   or computed data (prime_range)\n",
    "* We may want to access all the data from this object using for-each loop.\n",
    "* In python an object that permits such an access is known as **iterable**\n",
    "* An iterable is someone what has an **iterator**\n",
    "    * you can get that iterator by calling \n",
    "        * iter(obj)  --> obj.\\_\\_iter\\_\\_()\n",
    "\n",
    "\n",
    "#### 2. Iterator\n",
    "\n",
    "* iterator is an object that allows us to access the values of an iterable one by one.\n",
    "* Note: iterator and iterable may be two different objects\n",
    "    * Iterator is a like a pointer or a cursor inside the iterable.\n",
    "    * We can use it to access the items of iterable.\n",
    "\n",
    "* iterator can be used with **next** function\n",
    "    * next(iter) --> iter.\\_\\_next\\_\\_()\n",
    "\n",
    "* next(iter) should return \n",
    "    * 1st item on first call\n",
    "    * next item on each successive call\n",
    "    * raises StopIteration if no more item is present\n",
    "\n",
    "\n",
    "### Python's standard sequences like list,tupe,set follow this style "
   ]
  },
  {
   "cell_type": "code",
   "execution_count": 35,
   "metadata": {},
   "outputs": [],
   "source": [
    "values=[2,9,8,4]"
   ]
  },
  {
   "cell_type": "code",
   "execution_count": 36,
   "metadata": {},
   "outputs": [
    {
     "name": "stdout",
     "output_type": "stream",
     "text": [
      "<class 'list_iterator'> <list_iterator object at 0x000001C2B098A350>\n"
     ]
    }
   ],
   "source": [
    "it= iter(values)\n",
    "print(type(it),it)"
   ]
  },
  {
   "cell_type": "code",
   "execution_count": 37,
   "metadata": {},
   "outputs": [
    {
     "data": {
      "text/plain": [
       "2"
      ]
     },
     "execution_count": 37,
     "metadata": {},
     "output_type": "execute_result"
    }
   ],
   "source": [
    "next(it)"
   ]
  },
  {
   "cell_type": "code",
   "execution_count": 38,
   "metadata": {},
   "outputs": [
    {
     "name": "stdout",
     "output_type": "stream",
     "text": [
      "9\n",
      "8\n",
      "4\n"
     ]
    }
   ],
   "source": [
    "print(next(it)) #9\n",
    "print(next(it)) #8\n",
    "print(next(it)) #4"
   ]
  },
  {
   "cell_type": "code",
   "execution_count": 39,
   "metadata": {},
   "outputs": [
    {
     "ename": "StopIteration",
     "evalue": "",
     "output_type": "error",
     "traceback": [
      "\u001b[1;31m---------------------------------------------------------------------------\u001b[0m",
      "\u001b[1;31mStopIteration\u001b[0m                             Traceback (most recent call last)",
      "\u001b[1;32md:\\works\\corporate\\202311-bosch-python2\\simple_demos\\notebooks\\17_special_functions_part_2.ipynb Cell 39\u001b[0m line \u001b[0;36m1\n\u001b[1;32m----> <a href='vscode-notebook-cell:/d%3A/works/corporate/202311-bosch-python2/simple_demos/notebooks/17_special_functions_part_2.ipynb#X56sZmlsZQ%3D%3D?line=0'>1</a>\u001b[0m \u001b[39mnext\u001b[39;49m(it) \u001b[39m#raises StopIteration\u001b[39;00m\n",
      "\u001b[1;31mStopIteration\u001b[0m: "
     ]
    }
   ],
   "source": [
    "next(it) #raises StopIteration"
   ]
  },
  {
   "cell_type": "markdown",
   "metadata": {},
   "source": [
    "### How does for loop work?"
   ]
  },
  {
   "cell_type": "code",
   "execution_count": 42,
   "metadata": {},
   "outputs": [],
   "source": [
    "def for_loop( iterable, action):\n",
    "    it=iter(iterable)\n",
    "    try:\n",
    "        while True:\n",
    "            value=next(it)\n",
    "            action(value)\n",
    "    except StopIteration:\n",
    "        pass"
   ]
  },
  {
   "cell_type": "code",
   "execution_count": 43,
   "metadata": {},
   "outputs": [
    {
     "name": "stdout",
     "output_type": "stream",
     "text": [
      "2\n",
      "3\n",
      "9\n",
      "2\n",
      "6\n"
     ]
    }
   ],
   "source": [
    "values=[2,3,9,2,6]\n",
    "\n",
    "for_loop(values, print)"
   ]
  },
  {
   "cell_type": "markdown",
   "metadata": {},
   "source": [
    "### Implementing \\_\\_iter\\_\\_ and \\_\\_next\\_\\_ for my object\n",
    "\n",
    "* if we implement \\_\\_iter\\_\\_ and \\_\\_next\\_\\_ it will be preferred over \\_\\_getitem\\_\\_ for iteration\n",
    "* \\_\\_iter\\_\\_ should be present in LinkedList\n",
    "* \\_\\_next\\_\\_ should be present in a helper class that can help in navigation."
   ]
  },
  {
   "cell_type": "code",
   "execution_count": 45,
   "metadata": {},
   "outputs": [],
   "source": [
    "class LinkedListIterator:\n",
    "    def __init__(self,linked_list):\n",
    "        self._list=linked_list\n",
    "        self._current=None\n",
    "\n",
    "    def __next__(self):\n",
    "        if self._current==None:  # this is the first call\n",
    "            self._current=self._list._LinkedList__first  # go to first item\n",
    "        elif self._current.next:  # if there is a next item\n",
    "            self._current=self._current.next #go to the next item\n",
    "        else:\n",
    "            raise StopIteration() # end of the list\n",
    "        \n",
    "        return self._current.value\n",
    "    \n",
    "\n",
    "def get_iterator(list):\n",
    "    return LinkedListIterator(list)\n",
    "\n",
    "\n",
    "LinkedList.__iter__=get_iterator\n",
    "    \n"
   ]
  },
  {
   "cell_type": "code",
   "execution_count": 49,
   "metadata": {},
   "outputs": [
    {
     "name": "stdout",
     "output_type": "stream",
     "text": [
      "Total time taken is 0.5789058208465576\n"
     ]
    }
   ],
   "source": [
    "start=time.time()\n",
    "lst=create_list(500000)\n",
    "stop=time.time()\n",
    "print(f'Total time taken is {stop-start}')"
   ]
  },
  {
   "cell_type": "code",
   "execution_count": 50,
   "metadata": {},
   "outputs": [
    {
     "name": "stdout",
     "output_type": "stream",
     "text": [
      "sum is 125000250000\n",
      "total time taken is 0.056524038314819336\n"
     ]
    }
   ],
   "source": [
    "start=time.time()\n",
    "sum=sum_list(lst)\n",
    "end=time.time()\n",
    "print(f'sum is {sum}')\n",
    "print(f'total time taken is {end-start}')"
   ]
  },
  {
   "cell_type": "code",
   "execution_count": null,
   "metadata": {},
   "outputs": [],
   "source": []
  }
 ],
 "metadata": {
  "kernelspec": {
   "display_name": "Python 3",
   "language": "python",
   "name": "python3"
  },
  "language_info": {
   "codemirror_mode": {
    "name": "ipython",
    "version": 3
   },
   "file_extension": ".py",
   "mimetype": "text/x-python",
   "name": "python",
   "nbconvert_exporter": "python",
   "pygments_lexer": "ipython3",
   "version": "3.12.0"
  }
 },
 "nbformat": 4,
 "nbformat_minor": 2
}
