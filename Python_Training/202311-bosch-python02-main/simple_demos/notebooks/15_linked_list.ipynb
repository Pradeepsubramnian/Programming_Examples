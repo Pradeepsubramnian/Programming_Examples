{
 "cells": [
  {
   "cell_type": "markdown",
   "metadata": {},
   "source": [
    "## Linked List\n",
    "\n",
    "\n",
    "#### Node class\n"
   ]
  },
  {
   "cell_type": "code",
   "execution_count": 1,
   "metadata": {},
   "outputs": [],
   "source": [
    "class Node:\n",
    "    def __init__(self,value,next=None, previous=None):\n",
    "        self.value=value\n",
    "        self.next=next\n",
    "        self.previous=previous"
   ]
  },
  {
   "cell_type": "markdown",
   "metadata": {},
   "source": [
    "### Linked List Class\n",
    "\n",
    "* A Node class can also be defined as a inner class inside LinkedList.\n",
    "* We are NOT doing current."
   ]
  },
  {
   "cell_type": "code",
   "execution_count": 24,
   "metadata": {},
   "outputs": [],
   "source": [
    "class LinkedList:\n",
    "    def __init__(self):\n",
    "        self.__first=None\n",
    "        self.__last=None\n",
    "        self.__count=0\n",
    "\n",
    "    def append(self,value):\n",
    "        new_node=Node(value, previous=self.__last)\n",
    "        if self.__last is not None: # List is not empty\n",
    "            self.__last.next=new_node\n",
    "            #print(f'adding {value} after {self.__last.value}')\n",
    "        else:\n",
    "            #print(f'adding {value} as first node')\n",
    "            self.__first=new_node # this is the first item\n",
    "\n",
    "        self.__last=new_node\n",
    "        self.__count+=1\n",
    "\n",
    "    def size(self):\n",
    "        return self.__count\n",
    "    \n",
    "    def info(self):\n",
    "        if self.__count==0:\n",
    "            return 'LinkedList(empty)'\n",
    "        str='LinkedList(\\t'\n",
    "        ptr=self.__first\n",
    "        while ptr:\n",
    "            str+=f'{ptr.value}\\t'\n",
    "            ptr=ptr.next\n",
    "\n",
    "        str+=\")\"\n",
    "        return str\n",
    "    \n",
    "    "
   ]
  },
  {
   "cell_type": "code",
   "execution_count": 25,
   "metadata": {},
   "outputs": [
    {
     "name": "stdout",
     "output_type": "stream",
     "text": [
      "LinkedList(empty)\n"
     ]
    }
   ],
   "source": [
    "lst=LinkedList()\n",
    "print(lst.info())"
   ]
  },
  {
   "cell_type": "code",
   "execution_count": 26,
   "metadata": {},
   "outputs": [],
   "source": [
    "lst.append(2)\n",
    "lst.append(9)\n",
    "lst.append(4)\n",
    "\n"
   ]
  },
  {
   "cell_type": "code",
   "execution_count": 27,
   "metadata": {},
   "outputs": [
    {
     "name": "stdout",
     "output_type": "stream",
     "text": [
      "LinkedList(\t2\t9\t4\t)\n"
     ]
    }
   ],
   "source": [
    "print(lst.info())"
   ]
  },
  {
   "cell_type": "markdown",
   "metadata": {},
   "source": [
    "### Enchancement to existing functionality.\n",
    "\n",
    "* I want to initlize my list with a given set of values.\n",
    "* I want to be able to append multiple values in one go\n",
    "\n",
    "```python\n",
    "lst=LinkedList(2,3,4,5,6)\n",
    "lst.append(5,9,10,11,12)\n",
    "```\n",
    "\n",
    "### Add new functionalties to\n",
    "\n",
    "* get value from index\n",
    "* set value on index\n",
    "* remove value from index\n",
    "\n",
    "#### LinkedList v2\n"
   ]
  },
  {
   "cell_type": "code",
   "execution_count": 61,
   "metadata": {},
   "outputs": [],
   "source": [
    "class LinkedList:\n",
    "    def __init__(self,*args):\n",
    "        self.__first=None\n",
    "        self.__last=None\n",
    "        self.__count=0\n",
    "        self.append(*args)\n",
    "\n",
    "    def append(self, *args):\n",
    "        for value in args:\n",
    "            self._append(value)\n",
    "\n",
    "    def _append(self,value):\n",
    "        new_node=Node(value, previous=self.__last)\n",
    "        if self.__last is not None: # List is not empty\n",
    "            self.__last.next=new_node\n",
    "            #print(f'adding {value} after {self.__last.value}')\n",
    "        else:\n",
    "            #print(f'adding {value} as first node')\n",
    "            self.__first=new_node # this is the first item\n",
    "\n",
    "        self.__last=new_node\n",
    "        self.__count+=1\n",
    "\n",
    "    def size(self):\n",
    "        return self.__count\n",
    "    \n",
    "    def info(self):\n",
    "        if self.__count==0:\n",
    "            return 'LinkedList(empty)'\n",
    "        str='LinkedList(\\t'\n",
    "        ptr=self.__first\n",
    "        while ptr:\n",
    "            str+=f'{ptr.value}\\t'\n",
    "            ptr=ptr.next\n",
    "\n",
    "        str+=\")\"\n",
    "        return str\n",
    "    \n",
    "    def _locate(self, index):\n",
    "        if index<0 or index>=self.__count:\n",
    "            raise IndexError(f'Invalid Index {index}')\n",
    "        n=self.__first\n",
    "        for x in range(index):\n",
    "            n=n.next\n",
    "        return n\n",
    "    \n",
    "\n",
    "    def get(self, index):\n",
    "        \n",
    "        return self._locate(index).value\n",
    "    \n",
    "    def set(self, index, value):\n",
    "        self._locate(index).value=value\n",
    "\n",
    "    def insert(self, index, value):\n",
    "        y=self._locate(index)\n",
    "        x=y.previous\n",
    "\n",
    "        new_node = Node(value, previous=x, next=y)\n",
    "        y.previous=new_node        \n",
    "\n",
    "        if index==0:\n",
    "            self.__first=new_node\n",
    "        else:\n",
    "\n",
    "            x.next=new_node\n",
    "\n",
    "        self.__count+=1\n",
    "\n",
    "    def remove(self,index):\n",
    "        d=self._locate(index)\n",
    "\n",
    "        if d.next:\n",
    "            d.next.previous=d.previous\n",
    "        else:\n",
    "            self.__last=d.previous\n",
    "\n",
    "        if d.previous:\n",
    "            d.previous.next=d.next\n",
    "        else:\n",
    "            self.__first=d.next\n",
    "\n",
    "        self.__count-=1\n",
    "\n",
    "        return d.value\n",
    "\n",
    "        \n",
    "\n",
    "\n",
    "\n"
   ]
  },
  {
   "cell_type": "code",
   "execution_count": 62,
   "metadata": {},
   "outputs": [
    {
     "name": "stdout",
     "output_type": "stream",
     "text": [
      "LinkedList(\t2\t3\t9\t5\t8\t7\t6\t10\t)\n"
     ]
    }
   ],
   "source": [
    "lst=LinkedList(2,3,9,5)\n",
    "lst.append(8,7,6,10)\n",
    "\n",
    "print(lst.info())"
   ]
  },
  {
   "cell_type": "code",
   "execution_count": 63,
   "metadata": {},
   "outputs": [
    {
     "name": "stdout",
     "output_type": "stream",
     "text": [
      "LinkedList(\t2\t3\t9\t5\t6\t8\t7\t6\t10\t)\n",
      "9\n"
     ]
    }
   ],
   "source": [
    "lst.insert(4, 6) # between 5 and 8\n",
    "\n",
    "\n",
    "print(lst.info())\n",
    "print(lst.size())"
   ]
  },
  {
   "cell_type": "code",
   "execution_count": 64,
   "metadata": {},
   "outputs": [
    {
     "name": "stdout",
     "output_type": "stream",
     "text": [
      "LinkedList(\t1\t2\t3\t9\t5\t6\t8\t7\t6\t10\t)\n"
     ]
    }
   ],
   "source": [
    "lst.insert(0,1)\n",
    "print(lst.info())\n"
   ]
  },
  {
   "cell_type": "code",
   "execution_count": 65,
   "metadata": {},
   "outputs": [
    {
     "data": {
      "text/plain": [
       "10"
      ]
     },
     "execution_count": 65,
     "metadata": {},
     "output_type": "execute_result"
    }
   ],
   "source": [
    "lst.size()"
   ]
  },
  {
   "cell_type": "code",
   "execution_count": 66,
   "metadata": {},
   "outputs": [
    {
     "data": {
      "text/plain": [
       "1"
      ]
     },
     "execution_count": 66,
     "metadata": {},
     "output_type": "execute_result"
    }
   ],
   "source": [
    "lst.remove(0) # 1"
   ]
  },
  {
   "cell_type": "code",
   "execution_count": 67,
   "metadata": {},
   "outputs": [
    {
     "data": {
      "text/plain": [
       "10"
      ]
     },
     "execution_count": 67,
     "metadata": {},
     "output_type": "execute_result"
    }
   ],
   "source": [
    "lst.remove(8) # last item 10"
   ]
  },
  {
   "cell_type": "code",
   "execution_count": 68,
   "metadata": {},
   "outputs": [
    {
     "data": {
      "text/plain": [
       "5"
      ]
     },
     "execution_count": 68,
     "metadata": {},
     "output_type": "execute_result"
    }
   ],
   "source": [
    "lst.remove(3) # 5"
   ]
  },
  {
   "cell_type": "code",
   "execution_count": 69,
   "metadata": {},
   "outputs": [
    {
     "name": "stdout",
     "output_type": "stream",
     "text": [
      "LinkedList(\t2\t3\t9\t6\t8\t7\t6\t)\n",
      "7\n"
     ]
    }
   ],
   "source": [
    "print(lst.info())\n",
    "print(lst.size())"
   ]
  },
  {
   "cell_type": "markdown",
   "metadata": {},
   "source": [
    "### Few things that my list doesn't support\n",
    "\n",
    "\n",
    "#### Not a very meaningful print"
   ]
  },
  {
   "cell_type": "code",
   "execution_count": 70,
   "metadata": {},
   "outputs": [
    {
     "name": "stdout",
     "output_type": "stream",
     "text": [
      "[2, 3, 4, 5]\n",
      "<__main__.LinkedList object at 0x000001C823DE6090>\n"
     ]
    }
   ],
   "source": [
    "lst1= [2,3,4,5]\n",
    "lst2=LinkedList(2,3,4,5)\n",
    "\n",
    "print(lst1)\n",
    "print(lst2)"
   ]
  },
  {
   "cell_type": "markdown",
   "metadata": {},
   "source": [
    "#### for loop"
   ]
  },
  {
   "cell_type": "code",
   "execution_count": 71,
   "metadata": {},
   "outputs": [
    {
     "name": "stdout",
     "output_type": "stream",
     "text": [
      "2 3 4 5 "
     ]
    }
   ],
   "source": [
    "for x in lst1:\n",
    "    print(x, end=' ')"
   ]
  },
  {
   "cell_type": "code",
   "execution_count": 72,
   "metadata": {},
   "outputs": [
    {
     "ename": "TypeError",
     "evalue": "'LinkedList' object is not iterable",
     "output_type": "error",
     "traceback": [
      "\u001b[1;31m---------------------------------------------------------------------------\u001b[0m",
      "\u001b[1;31mTypeError\u001b[0m                                 Traceback (most recent call last)",
      "\u001b[1;32md:\\works\\corporate\\202311-bosch-python2\\simple_demos\\notebooks\\15_linked_list.ipynb Cell 22\u001b[0m line \u001b[0;36m1\n\u001b[1;32m----> <a href='vscode-notebook-cell:/d%3A/works/corporate/202311-bosch-python2/simple_demos/notebooks/15_linked_list.ipynb#X33sZmlsZQ%3D%3D?line=0'>1</a>\u001b[0m \u001b[39mfor\u001b[39;49;00m x \u001b[39min\u001b[39;49;00m lst2:\n\u001b[0;32m      <a href='vscode-notebook-cell:/d%3A/works/corporate/202311-bosch-python2/simple_demos/notebooks/15_linked_list.ipynb#X33sZmlsZQ%3D%3D?line=1'>2</a>\u001b[0m     \u001b[39mprint\u001b[39;49m(x,end\u001b[39m=\u001b[39;49m\u001b[39m'\u001b[39;49m\u001b[39m \u001b[39;49m\u001b[39m'\u001b[39;49m)\n",
      "\u001b[1;31mTypeError\u001b[0m: 'LinkedList' object is not iterable"
     ]
    }
   ],
   "source": [
    "for x in lst2:\n",
    "    print(x,end=' ')"
   ]
  },
  {
   "cell_type": "markdown",
   "metadata": {},
   "source": [
    "#### support for len() function\n",
    "\n"
   ]
  },
  {
   "cell_type": "code",
   "execution_count": 73,
   "metadata": {},
   "outputs": [
    {
     "name": "stdout",
     "output_type": "stream",
     "text": [
      "4\n"
     ]
    }
   ],
   "source": [
    "print(len(lst1))"
   ]
  },
  {
   "cell_type": "code",
   "execution_count": 74,
   "metadata": {},
   "outputs": [
    {
     "ename": "TypeError",
     "evalue": "object of type 'LinkedList' has no len()",
     "output_type": "error",
     "traceback": [
      "\u001b[1;31m---------------------------------------------------------------------------\u001b[0m",
      "\u001b[1;31mTypeError\u001b[0m                                 Traceback (most recent call last)",
      "\u001b[1;32md:\\works\\corporate\\202311-bosch-python2\\simple_demos\\notebooks\\15_linked_list.ipynb Cell 25\u001b[0m line \u001b[0;36m1\n\u001b[1;32m----> <a href='vscode-notebook-cell:/d%3A/works/corporate/202311-bosch-python2/simple_demos/notebooks/15_linked_list.ipynb#X36sZmlsZQ%3D%3D?line=0'>1</a>\u001b[0m \u001b[39mprint\u001b[39m(\u001b[39mlen\u001b[39;49m(lst2))\n",
      "\u001b[1;31mTypeError\u001b[0m: object of type 'LinkedList' has no len()"
     ]
    }
   ],
   "source": [
    "print(len(lst2))"
   ]
  },
  {
   "cell_type": "markdown",
   "metadata": {},
   "source": [
    "#### support for indexer"
   ]
  },
  {
   "cell_type": "code",
   "execution_count": 75,
   "metadata": {},
   "outputs": [
    {
     "name": "stdout",
     "output_type": "stream",
     "text": [
      "4\n"
     ]
    }
   ],
   "source": [
    "print(lst1[2])"
   ]
  },
  {
   "cell_type": "code",
   "execution_count": 76,
   "metadata": {},
   "outputs": [
    {
     "ename": "TypeError",
     "evalue": "'LinkedList' object is not subscriptable",
     "output_type": "error",
     "traceback": [
      "\u001b[1;31m---------------------------------------------------------------------------\u001b[0m",
      "\u001b[1;31mTypeError\u001b[0m                                 Traceback (most recent call last)",
      "\u001b[1;32md:\\works\\corporate\\202311-bosch-python2\\simple_demos\\notebooks\\15_linked_list.ipynb Cell 28\u001b[0m line \u001b[0;36m1\n\u001b[1;32m----> <a href='vscode-notebook-cell:/d%3A/works/corporate/202311-bosch-python2/simple_demos/notebooks/15_linked_list.ipynb#X42sZmlsZQ%3D%3D?line=0'>1</a>\u001b[0m \u001b[39mprint\u001b[39m(lst2[\u001b[39m2\u001b[39;49m])\n",
      "\u001b[1;31mTypeError\u001b[0m: 'LinkedList' object is not subscriptable"
     ]
    }
   ],
   "source": [
    "print(lst2[2])"
   ]
  },
  {
   "cell_type": "code",
   "execution_count": 77,
   "metadata": {},
   "outputs": [
    {
     "name": "stdout",
     "output_type": "stream",
     "text": [
      "4\n"
     ]
    }
   ],
   "source": [
    "print(lst2.get(2))"
   ]
  },
  {
   "cell_type": "markdown",
   "metadata": {},
   "source": [
    "#### Object as bool\n",
    "\n",
    "* normally all objects can be treated as true/false\n",
    "* by default these are the true value\n",
    "    * True\n",
    "    * Any non 0 number\n",
    "    * Any non empty string\n",
    "    * Any non empty sequence\n",
    "    * Any other object\n",
    "* By default these values are considered false\n",
    "    * False\n",
    "    * 0\n",
    "    * empty string\n",
    "    * None\n",
    "    * empty sequence"
   ]
  },
  {
   "cell_type": "code",
   "execution_count": 78,
   "metadata": {},
   "outputs": [],
   "source": [
    "def bool_info(x):\n",
    "    if x:\n",
    "        print(f'{x} is True')\n",
    "    else:\n",
    "        print(f'{x} is False')"
   ]
  },
  {
   "cell_type": "code",
   "execution_count": 79,
   "metadata": {},
   "outputs": [
    {
     "name": "stdout",
     "output_type": "stream",
     "text": [
      "20 is True\n",
      "0 is False\n",
      "Hi is True\n",
      " is False\n",
      "[] is False\n",
      "[1, 2, 3] is True\n",
      "<__main__.LinkedList object at 0x000001C823F63320> is True\n",
      "<__main__.LinkedList object at 0x000001C823F63320> is True\n"
     ]
    }
   ],
   "source": [
    "bool_info(20)\n",
    "bool_info(0)\n",
    "bool_info('Hi')\n",
    "bool_info('')\n",
    "bool_info([])\n",
    "bool_info([1,2,3])\n",
    "bool_info(LinkedList()) #empty linked list\n",
    "bool_info(LinkedList(1,2,3,4))"
   ]
  },
  {
   "cell_type": "code",
   "execution_count": null,
   "metadata": {},
   "outputs": [],
   "source": []
  }
 ],
 "metadata": {
  "kernelspec": {
   "display_name": "Python 3",
   "language": "python",
   "name": "python3"
  },
  "language_info": {
   "codemirror_mode": {
    "name": "ipython",
    "version": 3
   },
   "file_extension": ".py",
   "mimetype": "text/x-python",
   "name": "python",
   "nbconvert_exporter": "python",
   "pygments_lexer": "ipython3",
   "version": "3.12.0"
  }
 },
 "nbformat": 4,
 "nbformat_minor": 2
}
