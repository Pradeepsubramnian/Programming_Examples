{
 "cells": [
  {
   "cell_type": "markdown",
   "metadata": {},
   "source": [
    "## Positional Argument\n",
    "\n",
    "* Normally we pass arguments to a function in the same order as per parameter list.\n",
    "\n",
    "* In Python, this is known as **positional argument** "
   ]
  },
  {
   "cell_type": "code",
   "execution_count": 11,
   "metadata": {},
   "outputs": [],
   "source": [
    "def create_range(min,max,step):\n",
    "    values=[]\n",
    "    count=min\n",
    "    while count<max:\n",
    "        values.append(count)\n",
    "        count+=step\n",
    "    return values"
   ]
  },
  {
   "cell_type": "code",
   "execution_count": 12,
   "metadata": {},
   "outputs": [
    {
     "data": {
      "text/plain": [
       "[0, 3, 6, 9, 12, 15, 18]"
      ]
     },
     "execution_count": 12,
     "metadata": {},
     "output_type": "execute_result"
    }
   ],
   "source": [
    "create_range(0,20,3)"
   ]
  },
  {
   "cell_type": "code",
   "execution_count": 13,
   "metadata": {},
   "outputs": [
    {
     "data": {
      "text/plain": [
       "[]"
      ]
     },
     "execution_count": 13,
     "metadata": {},
     "output_type": "execute_result"
    }
   ],
   "source": [
    "create_range(20,0,3)"
   ]
  },
  {
   "cell_type": "code",
   "execution_count": 14,
   "metadata": {},
   "outputs": [
    {
     "ename": "TypeError",
     "evalue": "create_range() missing 1 required positional argument: 'step'",
     "output_type": "error",
     "traceback": [
      "\u001b[1;31m---------------------------------------------------------------------------\u001b[0m",
      "\u001b[1;31mTypeError\u001b[0m                                 Traceback (most recent call last)",
      "\u001b[1;32md:\\works\\corporate\\202311-bosch-python2\\simple_demos\\notebooks\\07_Function_Part2.ipynb Cell 5\u001b[0m line \u001b[0;36m1\n\u001b[1;32m----> <a href='vscode-notebook-cell:/d%3A/works/corporate/202311-bosch-python2/simple_demos/notebooks/07_Function_Part2.ipynb#X22sZmlsZQ%3D%3D?line=0'>1</a>\u001b[0m create_range(\u001b[39m0\u001b[39;49m,\u001b[39m20\u001b[39;49m)\n",
      "\u001b[1;31mTypeError\u001b[0m: create_range() missing 1 required positional argument: 'step'"
     ]
    }
   ],
   "source": [
    "create_range(0,20)"
   ]
  },
  {
   "cell_type": "markdown",
   "metadata": {},
   "source": [
    "### Keyword arguments (Named Arguments)\n",
    "\n",
    "* Python allows us to pass arguments in a different order usng keyword (named) syntax."
   ]
  },
  {
   "cell_type": "code",
   "execution_count": 15,
   "metadata": {},
   "outputs": [
    {
     "data": {
      "text/plain": [
       "[2, 6, 10, 14, 18, 22, 26]"
      ]
     },
     "execution_count": 15,
     "metadata": {},
     "output_type": "execute_result"
    }
   ],
   "source": [
    "create_range(max=30, min=2, step=4)"
   ]
  },
  {
   "cell_type": "markdown",
   "metadata": {},
   "source": [
    "### Why would I do this?\n",
    "\n",
    "* This works better with functions having default arguments.\n",
    "* consider the code where we may have default for min and step "
   ]
  },
  {
   "cell_type": "markdown",
   "metadata": {},
   "source": [
    "#"
   ]
  },
  {
   "cell_type": "code",
   "execution_count": 16,
   "metadata": {},
   "outputs": [],
   "source": [
    "def create_range(min=0,max=10,step=1):\n",
    "    values=[]\n",
    "    count=min\n",
    "    while count<max:\n",
    "        values.append(count)\n",
    "        count+=step\n",
    "    return values"
   ]
  },
  {
   "cell_type": "code",
   "execution_count": 17,
   "metadata": {},
   "outputs": [
    {
     "data": {
      "text/plain": [
       "[0, 1, 2, 3, 4, 5, 6, 7, 8, 9]"
      ]
     },
     "execution_count": 17,
     "metadata": {},
     "output_type": "execute_result"
    }
   ],
   "source": [
    "create_range(0,10,1)"
   ]
  },
  {
   "cell_type": "code",
   "execution_count": 18,
   "metadata": {},
   "outputs": [
    {
     "data": {
      "text/plain": [
       "[0, 1, 2, 3, 4, 5, 6, 7, 8, 9]"
      ]
     },
     "execution_count": 18,
     "metadata": {},
     "output_type": "execute_result"
    }
   ],
   "source": [
    "create_range(0,10) # step=1"
   ]
  },
  {
   "cell_type": "code",
   "execution_count": 19,
   "metadata": {},
   "outputs": [
    {
     "data": {
      "text/plain": [
       "[5, 6, 7, 8, 9]"
      ]
     },
     "execution_count": 19,
     "metadata": {},
     "output_type": "execute_result"
    }
   ],
   "source": [
    "create_range(5) # min=5, max=10, step=1"
   ]
  },
  {
   "cell_type": "markdown",
   "metadata": {},
   "source": [
    "#### What if we want to pass only max (popular usecase)"
   ]
  },
  {
   "cell_type": "code",
   "execution_count": 20,
   "metadata": {},
   "outputs": [
    {
     "data": {
      "text/plain": [
       "[0, 1, 2, 3, 4, 5, 6, 7, 8, 9, 10, 11, 12, 13, 14, 15, 16, 17, 18, 19]"
      ]
     },
     "execution_count": 20,
     "metadata": {},
     "output_type": "execute_result"
    }
   ],
   "source": [
    "create_range(max=20) # min=0, max=20, step=1"
   ]
  },
  {
   "cell_type": "markdown",
   "metadata": {},
   "source": [
    "### Important Note about keyword arguments.\n",
    "\n",
    "* In a function call, we can mix both named and positional syntax.\n",
    "    * we can pass few arguments by position and few by keyword (parameter name)\n",
    "\n",
    "* When combining the syntax we **MUST** first pass positional values and then keyword arguments.\n",
    "    * It is a semantic requirment "
   ]
  },
  {
   "cell_type": "code",
   "execution_count": 21,
   "metadata": {},
   "outputs": [
    {
     "data": {
      "text/plain": [
       "[5, 9, 13, 17, 21, 25, 29]"
      ]
     },
     "execution_count": 21,
     "metadata": {},
     "output_type": "execute_result"
    }
   ],
   "source": [
    "create_range(5, step=4, max=30)"
   ]
  },
  {
   "cell_type": "code",
   "execution_count": 22,
   "metadata": {},
   "outputs": [
    {
     "ename": "SyntaxError",
     "evalue": "positional argument follows keyword argument (1992280051.py, line 1)",
     "output_type": "error",
     "traceback": [
      "\u001b[1;36m  Cell \u001b[1;32mIn[22], line 1\u001b[1;36m\u001b[0m\n\u001b[1;33m    create_range(max=20, 0, 5)\u001b[0m\n\u001b[1;37m                             ^\u001b[0m\n\u001b[1;31mSyntaxError\u001b[0m\u001b[1;31m:\u001b[0m positional argument follows keyword argument\n"
     ]
    }
   ],
   "source": [
    "create_range(max=20, 0, 5)"
   ]
  },
  {
   "cell_type": "markdown",
   "metadata": {},
   "source": [
    "### Is there any other way we can tak **max** without taking **min** or **step** and without changing sequence\n",
    "\n",
    "```python\n",
    "create_range(0,10,3) # min=0, max=10, step=3\n",
    "\n",
    "create_range(10,20) # min=10, max=20, step=1\n",
    "\n",
    "create_range(20) # min=0, max=20, step=1\n",
    "```"
   ]
  },
  {
   "cell_type": "code",
   "execution_count": 23,
   "metadata": {},
   "outputs": [
    {
     "name": "stdout",
     "output_type": "stream",
     "text": [
      "0\t1\t2\t3\t4\t5\t6\t7\t8\t9\t"
     ]
    }
   ],
   "source": [
    "for x in range(10): # min=0, max=10, step=1\n",
    "    print(x,end=\"\\t\")"
   ]
  },
  {
   "cell_type": "code",
   "execution_count": 26,
   "metadata": {},
   "outputs": [],
   "source": [
    "def create_range(min=0,max=None,step=1):\n",
    "    if max is None:\n",
    "        #max=min\n",
    "        #min=0\n",
    "        min,max = 0, min\n",
    "\n",
    "    values=[]\n",
    "    count=min\n",
    "    while count<max:\n",
    "        values.append(count)\n",
    "        count+=step\n",
    "    return values"
   ]
  },
  {
   "cell_type": "code",
   "execution_count": 30,
   "metadata": {},
   "outputs": [
    {
     "data": {
      "text/plain": [
       "[2, 5, 8]"
      ]
     },
     "execution_count": 30,
     "metadata": {},
     "output_type": "execute_result"
    }
   ],
   "source": [
    "create_range(2,10,3) # min=2, max=10, step=3"
   ]
  },
  {
   "cell_type": "code",
   "execution_count": 31,
   "metadata": {},
   "outputs": [
    {
     "data": {
      "text/plain": [
       "[2, 3, 4, 5, 6, 7, 8, 9]"
      ]
     },
     "execution_count": 31,
     "metadata": {},
     "output_type": "execute_result"
    }
   ],
   "source": [
    "create_range(2,10) # min=2, max=10, step=1(default)"
   ]
  },
  {
   "cell_type": "code",
   "execution_count": 33,
   "metadata": {},
   "outputs": [
    {
     "data": {
      "text/plain": [
       "[0, 1, 2, 3, 4, 5, 6, 7, 8, 9]"
      ]
     },
     "execution_count": 33,
     "metadata": {},
     "output_type": "execute_result"
    }
   ],
   "source": [
    "create_range(10) # min=10, max=None(default), step=1(default) --> min=0, max=10, step=1(defaul) "
   ]
  },
  {
   "cell_type": "markdown",
   "metadata": {},
   "source": [
    "### Variable Argument Functions\n",
    "\n",
    "* sometimes a function may need unknown number of arguments.\n",
    "* Example #1: print()\n",
    "    * how many parameer does print takes?\n",
    "        * print(1,2,3,4)\n",
    "        * print(1,2,3,4,5,6,7)\n",
    "\n",
    "* Example #2: We may want to sum few numbers together\n",
    "    * we are not sure how many\n",
    "    * Example\n",
    "        * sum(1,2,3,4) # 10\n",
    "        * sum(1,2,3,4,5,6,7) # 28\n",
    "\n",
    "#### Approach #1 pass a sequence to the function explicitly."
   ]
  },
  {
   "cell_type": "code",
   "execution_count": 34,
   "metadata": {},
   "outputs": [],
   "source": [
    "def sum(values):\n",
    "    result=0\n",
    "    for value in values:\n",
    "        result+=value\n",
    "    return result"
   ]
  },
  {
   "cell_type": "code",
   "execution_count": 35,
   "metadata": {},
   "outputs": [
    {
     "data": {
      "text/plain": [
       "10"
      ]
     },
     "execution_count": 35,
     "metadata": {},
     "output_type": "execute_result"
    }
   ],
   "source": [
    "sum([1,2,3,4]) # pass a list of values"
   ]
  },
  {
   "cell_type": "code",
   "execution_count": 36,
   "metadata": {},
   "outputs": [
    {
     "data": {
      "text/plain": [
       "28"
      ]
     },
     "execution_count": 36,
     "metadata": {},
     "output_type": "execute_result"
    }
   ],
   "source": [
    "sum((1,2,3,4,5,6,7)) # pass a tuple of values."
   ]
  },
  {
   "cell_type": "markdown",
   "metadata": {},
   "source": [
    "### But print doesn't use this syntax.\n",
    "\n",
    "* In print() we pass values directly separated by comma\n",
    "* We don't wrap them as list or tuple"
   ]
  },
  {
   "cell_type": "code",
   "execution_count": 37,
   "metadata": {},
   "outputs": [
    {
     "name": "stdout",
     "output_type": "stream",
     "text": [
      "1 2 3 4\n",
      "1 2 3 4 5 6 7\n",
      "(1, 2, 3, 4, 5, 6, 7)\n"
     ]
    }
   ],
   "source": [
    "print(1,2,3,4)\n",
    "print(1,2,3,4,5,6,7)\n",
    "print((1,2,3,4,5,6,7))"
   ]
  },
  {
   "cell_type": "markdown",
   "metadata": {},
   "source": [
    "### Variable Arguements (args) syntax\n",
    "\n",
    "* python allows us to pass variable number of comma separated arguments.\n",
    "* To achieve this we prefix the variable with **\\*** \n",
    "     * this is often referred in different langauges as **params** syntax or **collector** syntax.\n",
    "\n",
    "* All values passed are implicitly stored in a tuple and passed to the function."
   ]
  },
  {
   "cell_type": "markdown",
   "metadata": {},
   "source": [
    "#"
   ]
  },
  {
   "cell_type": "code",
   "execution_count": 40,
   "metadata": {},
   "outputs": [],
   "source": [
    "def fn(*params):\n",
    "    print(type(params),params)"
   ]
  },
  {
   "cell_type": "code",
   "execution_count": 41,
   "metadata": {},
   "outputs": [
    {
     "name": "stdout",
     "output_type": "stream",
     "text": [
      "<class 'tuple'> (1, 2, 3, 4)\n"
     ]
    }
   ],
   "source": [
    "fn(1,2,3,4)"
   ]
  },
  {
   "cell_type": "code",
   "execution_count": 42,
   "metadata": {},
   "outputs": [
    {
     "name": "stdout",
     "output_type": "stream",
     "text": [
      "<class 'tuple'> (1, 2, 3, 4, 5, 6, 7)\n"
     ]
    }
   ],
   "source": [
    "fn(1,2,3,4,5,6,7)"
   ]
  },
  {
   "cell_type": "code",
   "execution_count": 43,
   "metadata": {},
   "outputs": [
    {
     "name": "stdout",
     "output_type": "stream",
     "text": [
      "<class 'tuple'> (1,)\n"
     ]
    }
   ],
   "source": [
    "fn(1)"
   ]
  },
  {
   "cell_type": "code",
   "execution_count": 44,
   "metadata": {},
   "outputs": [
    {
     "name": "stdout",
     "output_type": "stream",
     "text": [
      "<class 'tuple'> ()\n"
     ]
    }
   ],
   "source": [
    "fn()"
   ]
  },
  {
   "cell_type": "code",
   "execution_count": 45,
   "metadata": {},
   "outputs": [],
   "source": [
    "def sum(*numbers):\n",
    "    total=0\n",
    "    for number in numbers:\n",
    "        total+=number\n",
    "    return total"
   ]
  },
  {
   "cell_type": "code",
   "execution_count": 46,
   "metadata": {},
   "outputs": [
    {
     "data": {
      "text/plain": [
       "10"
      ]
     },
     "execution_count": 46,
     "metadata": {},
     "output_type": "execute_result"
    }
   ],
   "source": [
    "sum(1,2,3,4)\n"
   ]
  },
  {
   "cell_type": "code",
   "execution_count": 47,
   "metadata": {},
   "outputs": [
    {
     "data": {
      "text/plain": [
       "28"
      ]
     },
     "execution_count": 47,
     "metadata": {},
     "output_type": "execute_result"
    }
   ],
   "source": [
    "sum(1,2,3,4,5,6,7)"
   ]
  },
  {
   "cell_type": "markdown",
   "metadata": {},
   "source": [
    "### Python Naming Convention.\n",
    "\n",
    "* python follows some naming convention to compensate for the fact that variables don't have a type.\n",
    "* the naming approach should help us understand a little about those types.\n",
    "* These are NOT python semantical requirments\n",
    "    * they are recommendation from python community.\n",
    "    * code will work even if you break the naming convention\n",
    "* They are to make code more manageable\n",
    "    * Generally it is NOT RECOMMENDED to violate these conventions\n",
    "\n",
    "\n",
    "#### \\*args\n",
    "\n",
    "* python community recommends that when we use variable argument syntax we should call this parameter as **\\*args** \n"
   ]
  },
  {
   "cell_type": "code",
   "execution_count": 48,
   "metadata": {},
   "outputs": [],
   "source": [
    "def sum(*args):\n",
    "    total=0\n",
    "    for number in args:\n",
    "        total+=number\n",
    "    return total"
   ]
  },
  {
   "cell_type": "markdown",
   "metadata": {},
   "source": [
    "### Mixing Positional and \\*args parameters\n",
    "\n",
    "* it is allowed to mix positional and \\*args parameters in same function\n",
    "* we can pass only one \\*args parameter per function.\n",
    "* we generally pass \\*args parameter after all positional parameters."
   ]
  },
  {
   "cell_type": "code",
   "execution_count": 57,
   "metadata": {},
   "outputs": [],
   "source": [
    "def fn(x,y=0,*args):\n",
    "    print(f'x={x},y={y},args={args}')"
   ]
  },
  {
   "cell_type": "code",
   "execution_count": 51,
   "metadata": {},
   "outputs": [
    {
     "name": "stdout",
     "output_type": "stream",
     "text": [
      "x=1,y=2,args=(3, 4, 5, 6, 7, 8, 9, 10, 11, 12)\n"
     ]
    }
   ],
   "source": [
    "fn(1,2,3,4,5,6,7,8,9,10,11,12)"
   ]
  },
  {
   "cell_type": "code",
   "execution_count": 52,
   "metadata": {},
   "outputs": [
    {
     "name": "stdout",
     "output_type": "stream",
     "text": [
      "x=1,y=2,args=(3, 4)\n"
     ]
    }
   ],
   "source": [
    "fn(1,2,3,4)"
   ]
  },
  {
   "cell_type": "code",
   "execution_count": 53,
   "metadata": {},
   "outputs": [
    {
     "name": "stdout",
     "output_type": "stream",
     "text": [
      "x=1,y=2,args=(3,)\n"
     ]
    }
   ],
   "source": [
    "fn(1,2,3)"
   ]
  },
  {
   "cell_type": "code",
   "execution_count": 54,
   "metadata": {},
   "outputs": [
    {
     "name": "stdout",
     "output_type": "stream",
     "text": [
      "x=1,y=2,args=()\n"
     ]
    }
   ],
   "source": [
    "fn(1,2)"
   ]
  },
  {
   "cell_type": "code",
   "execution_count": 55,
   "metadata": {},
   "outputs": [
    {
     "name": "stdout",
     "output_type": "stream",
     "text": [
      "x=1,y=0,args=()\n"
     ]
    }
   ],
   "source": [
    "fn(1)"
   ]
  },
  {
   "cell_type": "code",
   "execution_count": 56,
   "metadata": {},
   "outputs": [
    {
     "ename": "TypeError",
     "evalue": "fn() missing 1 required positional argument: 'x'",
     "output_type": "error",
     "traceback": [
      "\u001b[1;31m---------------------------------------------------------------------------\u001b[0m",
      "\u001b[1;31mTypeError\u001b[0m                                 Traceback (most recent call last)",
      "\u001b[1;32md:\\works\\corporate\\202311-bosch-python2\\simple_demos\\notebooks\\07_Function_Part2.ipynb Cell 50\u001b[0m line \u001b[0;36m1\n\u001b[1;32m----> <a href='vscode-notebook-cell:/d%3A/works/corporate/202311-bosch-python2/simple_demos/notebooks/07_Function_Part2.ipynb#Y102sZmlsZQ%3D%3D?line=0'>1</a>\u001b[0m fn()\n",
      "\u001b[1;31mTypeError\u001b[0m: fn() missing 1 required positional argument: 'x'"
     ]
    }
   ],
   "source": [
    "fn()"
   ]
  },
  {
   "cell_type": "markdown",
   "metadata": {},
   "source": [
    "### Assignment 3.1\n",
    "\n",
    "* write an average function to average a group of values.\n",
    "* You MUST use the above **sum** function to sum the values within average function "
   ]
  },
  {
   "cell_type": "markdown",
   "metadata": {},
   "source": []
  },
  {
   "cell_type": "code",
   "execution_count": 63,
   "metadata": {},
   "outputs": [],
   "source": [
    "def sum(*args):\n",
    "    total=0\n",
    "    for number in args:\n",
    "        print(f'Adding {number} to current total {total}')\n",
    "        total+=number\n",
    "    return total"
   ]
  },
  {
   "cell_type": "code",
   "execution_count": 66,
   "metadata": {},
   "outputs": [],
   "source": [
    "def average(*args):\n",
    "    \n",
    "    return sum(*args)/len(args)"
   ]
  },
  {
   "cell_type": "code",
   "execution_count": 68,
   "metadata": {},
   "outputs": [
    {
     "name": "stdout",
     "output_type": "stream",
     "text": [
      "Adding 1 to current total 0\n",
      "Adding 2 to current total 1\n",
      "Adding 3 to current total 3\n",
      "Adding 4 to current total 6\n"
     ]
    },
    {
     "data": {
      "text/plain": [
       "2.5"
      ]
     },
     "execution_count": 68,
     "metadata": {},
     "output_type": "execute_result"
    }
   ],
   "source": [
    "average(1,2,3,4)"
   ]
  },
  {
   "cell_type": "markdown",
   "metadata": {},
   "source": [
    "#### More use cases of spread\n"
   ]
  },
  {
   "cell_type": "code",
   "execution_count": 69,
   "metadata": {},
   "outputs": [],
   "source": [
    "def plus(a,b):\n",
    "    return a+b"
   ]
  },
  {
   "cell_type": "code",
   "execution_count": 70,
   "metadata": {},
   "outputs": [
    {
     "data": {
      "text/plain": [
       "5"
      ]
     },
     "execution_count": 70,
     "metadata": {},
     "output_type": "execute_result"
    }
   ],
   "source": [
    "plus(2,3)"
   ]
  },
  {
   "cell_type": "code",
   "execution_count": 72,
   "metadata": {},
   "outputs": [],
   "source": [
    "values=[9,11]"
   ]
  },
  {
   "cell_type": "code",
   "execution_count": 73,
   "metadata": {},
   "outputs": [
    {
     "ename": "TypeError",
     "evalue": "plus() missing 1 required positional argument: 'b'",
     "output_type": "error",
     "traceback": [
      "\u001b[1;31m---------------------------------------------------------------------------\u001b[0m",
      "\u001b[1;31mTypeError\u001b[0m                                 Traceback (most recent call last)",
      "\u001b[1;32md:\\works\\corporate\\202311-bosch-python2\\simple_demos\\notebooks\\07_Function_Part2.ipynb Cell 60\u001b[0m line \u001b[0;36m1\n\u001b[1;32m----> <a href='vscode-notebook-cell:/d%3A/works/corporate/202311-bosch-python2/simple_demos/notebooks/07_Function_Part2.ipynb#Y121sZmlsZQ%3D%3D?line=0'>1</a>\u001b[0m plus(values)\n",
      "\u001b[1;31mTypeError\u001b[0m: plus() missing 1 required positional argument: 'b'"
     ]
    }
   ],
   "source": [
    "plus(values)"
   ]
  },
  {
   "cell_type": "code",
   "execution_count": 74,
   "metadata": {},
   "outputs": [
    {
     "data": {
      "text/plain": [
       "20"
      ]
     },
     "execution_count": 74,
     "metadata": {},
     "output_type": "execute_result"
    }
   ],
   "source": [
    "plus(values[0],values[1])"
   ]
  },
  {
   "cell_type": "code",
   "execution_count": 75,
   "metadata": {},
   "outputs": [
    {
     "data": {
      "text/plain": [
       "20"
      ]
     },
     "execution_count": 75,
     "metadata": {},
     "output_type": "execute_result"
    }
   ],
   "source": [
    "plus(*values) # spread [9,11] as 9,11"
   ]
  },
  {
   "cell_type": "code",
   "execution_count": 76,
   "metadata": {},
   "outputs": [
    {
     "ename": "TypeError",
     "evalue": "plus() takes 2 positional arguments but 3 were given",
     "output_type": "error",
     "traceback": [
      "\u001b[1;31m---------------------------------------------------------------------------\u001b[0m",
      "\u001b[1;31mTypeError\u001b[0m                                 Traceback (most recent call last)",
      "\u001b[1;32md:\\works\\corporate\\202311-bosch-python2\\simple_demos\\notebooks\\07_Function_Part2.ipynb Cell 63\u001b[0m line \u001b[0;36m2\n\u001b[0;32m      <a href='vscode-notebook-cell:/d%3A/works/corporate/202311-bosch-python2/simple_demos/notebooks/07_Function_Part2.ipynb#Y124sZmlsZQ%3D%3D?line=0'>1</a>\u001b[0m values\u001b[39m=\u001b[39m[\u001b[39m2\u001b[39m,\u001b[39m3\u001b[39m,\u001b[39m9\u001b[39m]\n\u001b[1;32m----> <a href='vscode-notebook-cell:/d%3A/works/corporate/202311-bosch-python2/simple_demos/notebooks/07_Function_Part2.ipynb#Y124sZmlsZQ%3D%3D?line=1'>2</a>\u001b[0m plus(\u001b[39m*\u001b[39;49mvalues) \u001b[39m# it is same as plus(2,3,9)\u001b[39;00m\n",
      "\u001b[1;31mTypeError\u001b[0m: plus() takes 2 positional arguments but 3 were given"
     ]
    }
   ],
   "source": [
    "values=[2,3,9]\n",
    "plus(*values) # it is same as plus(2,3,9)"
   ]
  },
  {
   "cell_type": "code",
   "execution_count": 77,
   "metadata": {},
   "outputs": [
    {
     "data": {
      "text/plain": [
       "5"
      ]
     },
     "execution_count": 77,
     "metadata": {},
     "output_type": "execute_result"
    }
   ],
   "source": [
    "plus(* values[0:2])"
   ]
  },
  {
   "cell_type": "markdown",
   "metadata": {},
   "source": [
    "### Assignment 3.2\n",
    "\n",
    "* How do I write a generic sum or average which can take either **\\*args** parameter or a true sequence.\n",
    "\n",
    "---\n",
    "```python\n",
    "    values=[1,2,3,4]\n",
    "    \n",
    "    sum(values) # 10\n",
    "\n",
    "    sum(1,2,3,4,5) #15\n",
    "\n",
    "    sum((1,2,3)) # 6\n",
    "\n",
    "    average(values) #2.5\n",
    "\n",
    "    average(1,2,3,4,5) #3\n",
    "\n",
    "```\n",
    "--- "
   ]
  },
  {
   "cell_type": "code",
   "execution_count": 78,
   "metadata": {},
   "outputs": [],
   "source": [
    "def sum(*args):\n",
    "    numbers  = args\n",
    "    if len(args)==1 and (type(args[0])==tuple or type(args[0])==list):\n",
    "        numbers=args[0]\n",
    "\n",
    "    total=0\n",
    "    for number in numbers:\n",
    "        total+=number\n",
    "\n",
    "    return total\n"
   ]
  },
  {
   "cell_type": "code",
   "execution_count": 79,
   "metadata": {},
   "outputs": [
    {
     "data": {
      "text/plain": [
       "10"
      ]
     },
     "execution_count": 79,
     "metadata": {},
     "output_type": "execute_result"
    }
   ],
   "source": [
    "sum(1,2,3,4)"
   ]
  },
  {
   "cell_type": "code",
   "execution_count": 80,
   "metadata": {},
   "outputs": [
    {
     "data": {
      "text/plain": [
       "10"
      ]
     },
     "execution_count": 80,
     "metadata": {},
     "output_type": "execute_result"
    }
   ],
   "source": [
    "sum([1,2,3,4])"
   ]
  },
  {
   "cell_type": "code",
   "execution_count": 89,
   "metadata": {},
   "outputs": [],
   "source": [
    "def average(*args):\n",
    "    numbers=args\n",
    "    if len(args)==1 and (type(args[0])==tuple or type(args[0])==list):\n",
    "        numbers=args[0]\n",
    "        \n",
    "    return sum(numbers)/len(numbers)"
   ]
  },
  {
   "cell_type": "code",
   "execution_count": 90,
   "metadata": {},
   "outputs": [
    {
     "data": {
      "text/plain": [
       "2.5"
      ]
     },
     "execution_count": 90,
     "metadata": {},
     "output_type": "execute_result"
    }
   ],
   "source": [
    "average(1,2,3,4)"
   ]
  },
  {
   "cell_type": "code",
   "execution_count": 91,
   "metadata": {},
   "outputs": [
    {
     "data": {
      "text/plain": [
       "2.0"
      ]
     },
     "execution_count": 91,
     "metadata": {},
     "output_type": "execute_result"
    }
   ],
   "source": [
    "average([1,2,3])"
   ]
  },
  {
   "cell_type": "code",
   "execution_count": 92,
   "metadata": {},
   "outputs": [],
   "source": [
    "def check_args(args):\n",
    "    if type(args) is not tuple:\n",
    "        return args\n",
    "    if len(args)==1 and (type(args[0])==tuple or type(args[0])==list or type(args[0])==set):\n",
    "        return args[0]\n",
    "    else:\n",
    "        return args\n",
    "    "
   ]
  },
  {
   "cell_type": "code",
   "execution_count": 93,
   "metadata": {},
   "outputs": [],
   "source": [
    "def sum(*args):\n",
    "    numbers=check_args(args)\n",
    "    total=0\n",
    "    for number in numbers:\n",
    "        total+=number\n",
    "\n",
    "    return total\n",
    "\n",
    "def average(*args):\n",
    "    numbers=check_args(args)\n",
    "    return sum(numbers)/len(numbers)"
   ]
  },
  {
   "cell_type": "code",
   "execution_count": 94,
   "metadata": {},
   "outputs": [
    {
     "data": {
      "text/plain": [
       "10"
      ]
     },
     "execution_count": 94,
     "metadata": {},
     "output_type": "execute_result"
    }
   ],
   "source": [
    "sum(1,2,3,4)"
   ]
  },
  {
   "cell_type": "code",
   "execution_count": 95,
   "metadata": {},
   "outputs": [
    {
     "data": {
      "text/plain": [
       "10"
      ]
     },
     "execution_count": 95,
     "metadata": {},
     "output_type": "execute_result"
    }
   ],
   "source": [
    "sum([1,2,3,4])"
   ]
  },
  {
   "cell_type": "code",
   "execution_count": 96,
   "metadata": {},
   "outputs": [
    {
     "data": {
      "text/plain": [
       "3.0"
      ]
     },
     "execution_count": 96,
     "metadata": {},
     "output_type": "execute_result"
    }
   ],
   "source": [
    "average({1,2,3,4,5})"
   ]
  },
  {
   "cell_type": "markdown",
   "metadata": {},
   "source": [
    "### Passing other parameter after  \\*args\n",
    "\n",
    "* what happens if we do not pass \\*args as the last parameter\n",
    "\n",
    "---\n",
    "```python\n",
    "def fn(*args,x,y):\n",
    "    print(args,x,y)\n",
    "\n",
    "\n",
    "fn(1,2,3,4,5) # args=(1,2,3,4,5), x=?, y=?\n",
    "\n",
    "fn(1,2,3,4,5,6,7) # args=(1,2,3,4,5,6,7), x=?, y=?\n",
    "``` \n",
    "\n",
    "* since args matches every remaining value supplied how do we give value to x and y\n",
    "\n",
    "### Python Version Alert!\n",
    "\n",
    "* In Python 2 it was syntax error and NOT permitted.\n",
    "* In Python 3 it is permitted but values can't be assigned as positional argument.\n",
    "    * The can be assigned using keyword arguments."
   ]
  },
  {
   "cell_type": "code",
   "execution_count": 100,
   "metadata": {},
   "outputs": [],
   "source": [
    "def fn(*args, x, y):\n",
    "    print(f'args={args}, x={x}, y={y}')"
   ]
  },
  {
   "cell_type": "code",
   "execution_count": 101,
   "metadata": {},
   "outputs": [
    {
     "ename": "TypeError",
     "evalue": "fn() missing 2 required keyword-only arguments: 'x' and 'y'",
     "output_type": "error",
     "traceback": [
      "\u001b[1;31m---------------------------------------------------------------------------\u001b[0m",
      "\u001b[1;31mTypeError\u001b[0m                                 Traceback (most recent call last)",
      "\u001b[1;32md:\\works\\corporate\\202311-bosch-python2\\simple_demos\\notebooks\\07_Function_Part2.ipynb Cell 79\u001b[0m line \u001b[0;36m1\n\u001b[1;32m----> <a href='vscode-notebook-cell:/d%3A/works/corporate/202311-bosch-python2/simple_demos/notebooks/07_Function_Part2.ipynb#Y144sZmlsZQ%3D%3D?line=0'>1</a>\u001b[0m fn(\u001b[39m1\u001b[39;49m,\u001b[39m2\u001b[39;49m,\u001b[39m3\u001b[39;49m,\u001b[39m4\u001b[39;49m,\u001b[39m5\u001b[39;49m)\n",
      "\u001b[1;31mTypeError\u001b[0m: fn() missing 2 required keyword-only arguments: 'x' and 'y'"
     ]
    }
   ],
   "source": [
    "fn(1,2,3,4,5)"
   ]
  },
  {
   "cell_type": "code",
   "execution_count": 102,
   "metadata": {},
   "outputs": [
    {
     "name": "stdout",
     "output_type": "stream",
     "text": [
      "args=(1, 2, 3, 4), x=10, y=5\n"
     ]
    }
   ],
   "source": [
    "fn(1,2,3,4, x=10, y=5)"
   ]
  },
  {
   "cell_type": "markdown",
   "metadata": {},
   "source": [
    "### Recommendation. This syntax works great if keyword arguments have defaults"
   ]
  },
  {
   "cell_type": "code",
   "execution_count": 103,
   "metadata": {},
   "outputs": [],
   "source": [
    "def fn(*args, x=0, y=0):\n",
    "    print(f'args={args}, x={x}, y={y}')\n"
   ]
  },
  {
   "cell_type": "code",
   "execution_count": 104,
   "metadata": {},
   "outputs": [
    {
     "name": "stdout",
     "output_type": "stream",
     "text": [
      "args=(1, 2, 3, 4), x=0, y=0\n"
     ]
    }
   ],
   "source": [
    "fn(1,2,3,4)"
   ]
  },
  {
   "cell_type": "code",
   "execution_count": 105,
   "metadata": {},
   "outputs": [
    {
     "name": "stdout",
     "output_type": "stream",
     "text": [
      "args=(1, 2, 3, 4), x=0, y=10\n"
     ]
    }
   ],
   "source": [
    "fn(1,2,3,4, y=10)"
   ]
  },
  {
   "cell_type": "markdown",
   "metadata": {},
   "source": [
    "### Do You Know\n",
    "\n",
    "* print passes \"sep\" and \"end\" using this syntax."
   ]
  },
  {
   "cell_type": "code",
   "execution_count": 106,
   "metadata": {},
   "outputs": [
    {
     "name": "stdout",
     "output_type": "stream",
     "text": [
      "Help on built-in function print in module builtins:\n",
      "\n",
      "print(*args, sep=' ', end='\\n', file=None, flush=False)\n",
      "    Prints the values to a stream, or to sys.stdout by default.\n",
      "\n",
      "    sep\n",
      "      string inserted between values, default a space.\n",
      "    end\n",
      "      string appended after the last value, default a newline.\n",
      "    file\n",
      "      a file-like object (stream); defaults to the current sys.stdout.\n",
      "    flush\n",
      "      whether to forcibly flush the stream.\n",
      "\n"
     ]
    }
   ],
   "source": [
    "help(print)"
   ]
  },
  {
   "cell_type": "markdown",
   "metadata": {},
   "source": [
    "### Variable Keyword Parameters (**kwargs)\n",
    "\n",
    "* We can pass any number of variable Keyword Parameters \n",
    "* Those prameters can get collected as a **dict**\n",
    "* Conventinally this parameter is referred by name **kwargs**\n",
    "* We supply them using double astrix prefix **\\*\\*kwargs**\n",
    "* We spread them using double astrix prefix **\\*\\*kwargs**\n",
    "\n",
    "\n",
    "#### NOTE: Single (\\*) is variable number of positional parameters. double (\\*) is variable number of keyword arguments"
   ]
  },
  {
   "cell_type": "code",
   "execution_count": 107,
   "metadata": {},
   "outputs": [],
   "source": [
    "def fn(a, b= 0, *args, **kwargs):\n",
    "    print(f'a={a}\\tb={b}\\targs={args}\\tkwargs={kwargs}')"
   ]
  },
  {
   "cell_type": "code",
   "execution_count": 108,
   "metadata": {},
   "outputs": [
    {
     "name": "stdout",
     "output_type": "stream",
     "text": [
      "a=1\tb=2\targs=(3, 4, 5)\tkwargs={}\n"
     ]
    }
   ],
   "source": [
    "fn(1,2,3,4,5)"
   ]
  },
  {
   "cell_type": "code",
   "execution_count": 109,
   "metadata": {},
   "outputs": [
    {
     "name": "stdout",
     "output_type": "stream",
     "text": [
      "a=1\tb=2\targs=(3, 4)\tkwargs={'color': 'red', 'fill': False}\n"
     ]
    }
   ],
   "source": [
    "fn(1,2,3,4, color=\"red\", fill=False)"
   ]
  },
  {
   "cell_type": "markdown",
   "metadata": {},
   "source": [
    "### pass statement\n",
    "\n",
    "* sometimes we want to define an empty block of code\n",
    "* we can leave a block as empty"
   ]
  },
  {
   "cell_type": "code",
   "execution_count": 110,
   "metadata": {},
   "outputs": [
    {
     "ename": "IndentationError",
     "evalue": "expected an indented block after 'if' statement on line 2 (3995861827.py, line 4)",
     "output_type": "error",
     "traceback": [
      "\u001b[1;36m  Cell \u001b[1;32mIn[110], line 4\u001b[1;36m\u001b[0m\n\u001b[1;33m    else:\u001b[0m\n\u001b[1;37m    ^\u001b[0m\n\u001b[1;31mIndentationError\u001b[0m\u001b[1;31m:\u001b[0m expected an indented block after 'if' statement on line 2\n"
     ]
    }
   ],
   "source": [
    "age=int(input(\"Age?\"))\n",
    "if age<18:\n",
    "    #do nothing\n",
    "else:\n",
    "    print('Go and Vote!')"
   ]
  },
  {
   "cell_type": "code",
   "execution_count": 111,
   "metadata": {},
   "outputs": [
    {
     "ename": "IndentationError",
     "evalue": "expected an indented block after 'for' statement on line 1 (2281406799.py, line 4)",
     "output_type": "error",
     "traceback": [
      "\u001b[1;36m  Cell \u001b[1;32mIn[111], line 4\u001b[1;36m\u001b[0m\n\u001b[1;33m    print('out of loop')\u001b[0m\n\u001b[1;37m    ^\u001b[0m\n\u001b[1;31mIndentationError\u001b[0m\u001b[1;31m:\u001b[0m expected an indented block after 'for' statement on line 1\n"
     ]
    }
   ],
   "source": [
    "for x in range(100000000):\n",
    "    # do nothing\n",
    "\n",
    "print('out of loop')"
   ]
  },
  {
   "cell_type": "markdown",
   "metadata": {},
   "source": [
    "### pass statement\n",
    "\n",
    "* We can represent the empty nothing doing block with \"pass\""
   ]
  },
  {
   "cell_type": "code",
   "execution_count": 112,
   "metadata": {},
   "outputs": [
    {
     "name": "stdout",
     "output_type": "stream",
     "text": [
      "starting long task...\n",
      "task is over\n"
     ]
    }
   ],
   "source": [
    "print('starting long task...')\n",
    "\n",
    "for x in range(1000000000):\n",
    "    pass\n",
    "\n",
    "print('task is over')"
   ]
  },
  {
   "cell_type": "markdown",
   "metadata": {},
   "source": [
    "#### We can also write a nothing doing function in the same way."
   ]
  },
  {
   "cell_type": "code",
   "execution_count": 114,
   "metadata": {},
   "outputs": [
    {
     "ename": "SyntaxError",
     "evalue": "incomplete input (217910350.py, line 2)",
     "output_type": "error",
     "traceback": [
      "\u001b[1;36m  Cell \u001b[1;32mIn[114], line 2\u001b[1;36m\u001b[0m\n\u001b[1;33m    \u001b[0m\n\u001b[1;37m    ^\u001b[0m\n\u001b[1;31mSyntaxError\u001b[0m\u001b[1;31m:\u001b[0m incomplete input\n"
     ]
    }
   ],
   "source": [
    "def do_nothing():\n",
    "    "
   ]
  },
  {
   "cell_type": "code",
   "execution_count": 115,
   "metadata": {},
   "outputs": [],
   "source": [
    "def do_nothing():\n",
    "    pass"
   ]
  },
  {
   "cell_type": "markdown",
   "metadata": {},
   "source": [
    "### Assignment 3.3\n",
    "\n",
    "* rewrite histogram() function to offer optional customizations\n",
    "\n",
    "##### 1. bar design (default=> \"===\" )\n",
    "    * alternative possiblilties\n",
    "        * :::::\n",
    "        * ++++\n",
    "        * >>>>> \n",
    "\n",
    "<pre>\n",
    " 2 | >>>>>>>>>>>>>>>> 4\n",
    " 9 | >>>>>>>>>>>> 3\n",
    " 3 | >>>> 1\n",
    " 5 | >>>>>>>> 2\n",
    "</pre>\n",
    "\n",
    "#### 2. show the frequency value (default=True)\n",
    "* if set to False\n",
    "\n",
    "<pre>\n",
    " 2 | === === === ===  \n",
    " 9 | === === === \n",
    " 3 | === \n",
    " 5 | === === \n",
    "</pre>\n",
    "\n",
    "#### 3. Align the frequency value (default=False)\n",
    "\n",
    "* if set to True\n",
    "\n",
    "<pre>\n",
    " 2 | === === === ===  4\n",
    " 9 | === === ===      3\n",
    " 3 | ===              1\n",
    " 5 | === ===          2\n",
    "</pre>\n",
    "    \n",
    "\n",
    "* we should be able to provide any or all these customizations at once."
   ]
  },
  {
   "cell_type": "code",
   "execution_count": 119,
   "metadata": {},
   "outputs": [],
   "source": [
    "def histogram(data, design='=== ', show_labels=True):\n",
    "    for key,value in data.items():\n",
    "        label= value if show_labels else ''\n",
    "        print(f'{key}|{design*value} {label}')"
   ]
  },
  {
   "cell_type": "code",
   "execution_count": 120,
   "metadata": {},
   "outputs": [],
   "source": [
    "data={2:8, 3:1, 5:4, 8:2, 9:3}"
   ]
  },
  {
   "cell_type": "code",
   "execution_count": 121,
   "metadata": {},
   "outputs": [
    {
     "name": "stdout",
     "output_type": "stream",
     "text": [
      "2|=== === === === === === === ===  8\n",
      "3|===  1\n",
      "5|=== === === ===  4\n",
      "8|=== ===  2\n",
      "9|=== === ===  3\n"
     ]
    }
   ],
   "source": [
    "histogram(data)"
   ]
  },
  {
   "cell_type": "code",
   "execution_count": 122,
   "metadata": {},
   "outputs": [
    {
     "name": "stdout",
     "output_type": "stream",
     "text": [
      "2|:::::::::::::::::::::::::::::::::::::::: 8\n",
      "3|::::: 1\n",
      "5|:::::::::::::::::::: 4\n",
      "8|:::::::::: 2\n",
      "9|::::::::::::::: 3\n"
     ]
    }
   ],
   "source": [
    "histogram(data, design=\":::::\")"
   ]
  },
  {
   "cell_type": "code",
   "execution_count": 123,
   "metadata": {},
   "outputs": [
    {
     "name": "stdout",
     "output_type": "stream",
     "text": [
      "2|=== === === === === === === ===  \n",
      "3|===  \n",
      "5|=== === === ===  \n",
      "8|=== ===  \n",
      "9|=== === ===  \n"
     ]
    }
   ],
   "source": [
    "histogram(data, show_labels=False)"
   ]
  },
  {
   "cell_type": "code",
   "execution_count": 124,
   "metadata": {},
   "outputs": [
    {
     "name": "stdout",
     "output_type": "stream",
     "text": [
      "2|❚❚❚❚❚❚❚❚❚❚❚❚❚❚❚❚❚❚❚❚❚❚❚❚ \n",
      "3|❚❚❚ \n",
      "5|❚❚❚❚❚❚❚❚❚❚❚❚ \n",
      "8|❚❚❚❚❚❚ \n",
      "9|❚❚❚❚❚❚❚❚❚ \n"
     ]
    }
   ],
   "source": [
    "histogram(data, show_labels=False, design=\"❚❚❚\")"
   ]
  },
  {
   "cell_type": "markdown",
   "metadata": {},
   "source": [
    "### help on user defined codes\n",
    "* python help system can work even for user defined codes.\n"
   ]
  },
  {
   "cell_type": "code",
   "execution_count": 125,
   "metadata": {},
   "outputs": [
    {
     "name": "stdout",
     "output_type": "stream",
     "text": [
      "Help on function histogram in module __main__:\n",
      "\n",
      "histogram(data, design='=== ', show_labels=True)\n",
      "\n"
     ]
    }
   ],
   "source": [
    "help(histogram)"
   ]
  },
  {
   "cell_type": "markdown",
   "metadata": {},
   "source": [
    "### We can make the help more helpful\n",
    "\n",
    "* we can add our own documentation comment in a python function"
   ]
  },
  {
   "cell_type": "code",
   "execution_count": 126,
   "metadata": {},
   "outputs": [],
   "source": [
    "def histogram(data, design='=== ', show_labels=True, align=False):\n",
    "    '''\n",
    "    plots a text based horizontal histogram\n",
    "    Args:\n",
    "        data: A dictionary containing items as key and frequencey as value: {2:3, 4:1,5:7}\n",
    "        design: The design of a single bar unit (default: '===')\n",
    "        show_labels: if we should show the frequency value after the bar (default: True)\n",
    "        align: if frequency values should be aligned. (default: False)\n",
    "\n",
    "    Examples:\n",
    "    >>> histogram({2:4, 3:1, 5:9})\n",
    "    2 |=== === === === 4\n",
    "    3 |=== 1\n",
    "    5 |=== === === === === === === === === 9\n",
    "\n",
    "    >>> histogram({2:4, 3:1, 5:9}, design=\"❚❚❚')\n",
    "    2 |❚❚❚❚❚❚❚❚❚❚❚❚4\n",
    "    3 |❚❚❚1\n",
    "    5 |❚❚❚❚❚❚❚❚❚❚❚❚❚❚❚❚❚❚❚❚❚❚❚❚❚❚❚9\n",
    "\n",
    "    >>> histogram({2:4, 3:1, 5:9}, design=\"❚❚❚', show_labels=False)\n",
    "    2 |❚❚❚❚❚❚❚❚❚❚❚❚\n",
    "    3 |❚❚❚\n",
    "    5 |❚❚❚❚❚❚❚❚❚❚❚❚❚❚❚❚❚❚❚❚❚❚❚❚❚❚❚\n",
    "\n",
    "    >>> histogram({2:4, 3:1, 5:9}, design=\"❚❚❚', align=True)\n",
    "    2 |❚❚❚❚❚❚❚❚❚❚❚❚              4\n",
    "    3 |❚❚❚                     1\n",
    "    5 |❚❚❚❚❚❚❚❚❚❚❚❚❚❚❚❚❚❚❚❚❚❚❚❚❚❚❚  9\n",
    "\n",
    "\n",
    "    '''\n",
    "    for key,value in data.items():\n",
    "        label= value if show_labels else ''\n",
    "        print(f'{key}|{design*value} {label}')"
   ]
  },
  {
   "cell_type": "code",
   "execution_count": 127,
   "metadata": {},
   "outputs": [
    {
     "name": "stdout",
     "output_type": "stream",
     "text": [
      "Help on function histogram in module __main__:\n",
      "\n",
      "histogram(data, design='=== ', show_labels=True, align=False)\n",
      "    plots a text based horizontal histogram\n",
      "    Args:\n",
      "        data: A dictionary containing items as key and frequencey as value: {2:3, 4:1,5:7}\n",
      "        design: The design of a single bar unit (default: '===')\n",
      "        show_labels: if we should show the frequency value after the bar (default: True)\n",
      "        align: if frequency values should be aligned. (default: False)\n",
      "\n",
      "    Examples:\n",
      "    >>> histogram({2:4, 3:1, 5:9})\n",
      "    2 |=== === === === 4\n",
      "    3 |=== 1\n",
      "    5 |=== === === === === === === === === 9\n",
      "\n",
      "    >>> histogram({2:4, 3:1, 5:9}, design=\"❚❚❚')\n",
      "    2 |❚❚❚❚❚❚❚❚❚❚❚❚4\n",
      "    3 |❚❚❚1\n",
      "    5 |❚❚❚❚❚❚❚❚❚❚❚❚❚❚❚❚❚❚❚❚❚❚❚❚❚❚❚9\n",
      "\n",
      "    >>> histogram({2:4, 3:1, 5:9}, design=\"❚❚❚', show_labels=False)\n",
      "    2 |❚❚❚❚❚❚❚❚❚❚❚❚\n",
      "    3 |❚❚❚\n",
      "    5 |❚❚❚❚❚❚❚❚❚❚❚❚❚❚❚❚❚❚❚❚❚❚❚❚❚❚❚\n",
      "\n",
      "    >>> histogram({2:4, 3:1, 5:9}, design=\"❚❚❚', align=True)\n",
      "    2 |❚❚❚❚❚❚❚❚❚❚❚❚              4\n",
      "    3 |❚❚❚                     1\n",
      "    5 |❚❚❚❚❚❚❚❚❚❚❚❚❚❚❚❚❚❚❚❚❚❚❚❚❚❚❚  9\n",
      "\n"
     ]
    }
   ],
   "source": [
    "help(histogram)"
   ]
  },
  {
   "cell_type": "code",
   "execution_count": null,
   "metadata": {},
   "outputs": [],
   "source": []
  },
  {
   "cell_type": "markdown",
   "metadata": {},
   "source": [
    "###"
   ]
  }
 ],
 "metadata": {
  "kernelspec": {
   "display_name": "Python 3",
   "language": "python",
   "name": "python3"
  },
  "language_info": {
   "codemirror_mode": {
    "name": "ipython",
    "version": 3
   },
   "file_extension": ".py",
   "mimetype": "text/x-python",
   "name": "python",
   "nbconvert_exporter": "python",
   "pygments_lexer": "ipython3",
   "version": "3.12.0"
  }
 },
 "nbformat": 4,
 "nbformat_minor": 2
}
