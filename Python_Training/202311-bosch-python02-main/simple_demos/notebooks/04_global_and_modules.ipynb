{
 "cells": [
  {
   "cell_type": "markdown",
   "metadata": {},
   "source": [
    "# Global Problem!\n",
    "\n",
    "* global references can overwrie each other.\n",
    "* every name in python is a reference\n",
    "    * this include function names.\n",
    "* when we assigna  value or redefine a function it overwrites the existing reference with same name."
   ]
  },
  {
   "cell_type": "code",
   "execution_count": 5,
   "metadata": {},
   "outputs": [
    {
     "name": "stdout",
     "output_type": "stream",
     "text": [
      "<class 'int'>\n"
     ]
    }
   ],
   "source": [
    "sum=20\n",
    "print(type(sum))"
   ]
  },
  {
   "cell_type": "markdown",
   "metadata": {},
   "source": [
    "### Now we can redefine sum as a function. \n",
    "\n",
    "* it will overwrite \"int\" value of \"sum\" "
   ]
  },
  {
   "cell_type": "code",
   "execution_count": 6,
   "metadata": {},
   "outputs": [],
   "source": [
    "def sum(x,y):\n",
    "    return x+y"
   ]
  },
  {
   "cell_type": "code",
   "execution_count": 7,
   "metadata": {},
   "outputs": [
    {
     "name": "stdout",
     "output_type": "stream",
     "text": [
      "<function sum at 0x00000176722CCB80>\n",
      "<class 'function'>\n"
     ]
    }
   ],
   "source": [
    "print(sum)\n",
    "print(type(sum))"
   ]
  },
  {
   "cell_type": "code",
   "execution_count": 8,
   "metadata": {},
   "outputs": [
    {
     "data": {
      "text/plain": [
       "3"
      ]
     },
     "execution_count": 8,
     "metadata": {},
     "output_type": "execute_result"
    }
   ],
   "source": [
    "sum(1,2)"
   ]
  },
  {
   "cell_type": "markdown",
   "metadata": {},
   "source": [
    "### We can redfine sum as something else"
   ]
  },
  {
   "cell_type": "code",
   "execution_count": 9,
   "metadata": {},
   "outputs": [
    {
     "name": "stdout",
     "output_type": "stream",
     "text": [
      "The operation to add different values\n",
      "<class 'str'>\n"
     ]
    }
   ],
   "source": [
    "sum='The operation to add different values'\n",
    "print(sum)\n",
    "print(type(sum))"
   ]
  },
  {
   "cell_type": "markdown",
   "metadata": {},
   "source": [
    "### We can overwrite even the standard prefifined functions.\n",
    "\n",
    "* the below code overwrite \"print\" function "
   ]
  },
  {
   "cell_type": "code",
   "execution_count": 10,
   "metadata": {},
   "outputs": [],
   "source": [
    "print=\"Hi\""
   ]
  },
  {
   "cell_type": "markdown",
   "metadata": {},
   "source": [
    "#### Now we have lost the print() function."
   ]
  },
  {
   "cell_type": "code",
   "execution_count": 11,
   "metadata": {},
   "outputs": [
    {
     "ename": "TypeError",
     "evalue": "'str' object is not callable",
     "output_type": "error",
     "traceback": [
      "\u001b[1;31m---------------------------------------------------------------------------\u001b[0m",
      "\u001b[1;31mTypeError\u001b[0m                                 Traceback (most recent call last)",
      "\u001b[1;32md:\\works\\corporate\\202311-bosch-python2\\simple_demos\\notebooks\\04_global_and_modules.ipynb Cell 12\u001b[0m line \u001b[0;36m1\n\u001b[1;32m----> <a href='vscode-notebook-cell:/d%3A/works/corporate/202311-bosch-python2/simple_demos/notebooks/04_global_and_modules.ipynb#X14sZmlsZQ%3D%3D?line=0'>1</a>\u001b[0m \u001b[39mprint\u001b[39;49m(\u001b[39m'\u001b[39;49m\u001b[39mHello World\u001b[39;49m\u001b[39m'\u001b[39;49m)\n",
      "\u001b[1;31mTypeError\u001b[0m: 'str' object is not callable"
     ]
    }
   ],
   "source": [
    "print('Hello World')"
   ]
  },
  {
   "cell_type": "markdown",
   "metadata": {},
   "source": [
    "## Summary\n",
    "\n",
    "* all names in python are references.\n",
    "    * this includes \n",
    "        * user defined variable and function names.\n",
    "        * existing standard python library functions.\n",
    "        * third party libraries\n",
    "\n",
    "\n",
    "* anyone can overwrite the other one.\n",
    "    * last one wins!\n",
    "\n",
    "* this way we may loose some important functionality if we are not careful.\n",
    "\n",
    "* This problem exists only in 'global' scope not in local scope.\n",
    "    * we can overwrite \"print\" inside one function taht doesn't need to print\n",
    "    * other functions can still access global print function.\n",
    "\n",
    "\n",
    "### Use Case python's builtin \"max\" function.\n",
    "\n",
    "1. \"max\" is a buitin pytho function that can find maximum in a given set of values.\n",
    "2. Here in the function find_max we are creating a local variable \"max\"\n",
    "    * it will overwrite global max but only for find_max function\n",
    "    * it is ok because find_max doesn't need global max.\n",
    "\n",
    "3. \"global max\" still refers to the max function."
   ]
  },
  {
   "cell_type": "code",
   "execution_count": 12,
   "metadata": {},
   "outputs": [],
   "source": [
    "def find_max(x,y):\n",
    "    if x>y:\n",
    "        max=x\n",
    "    else: \n",
    "        max=y\n",
    "    return max"
   ]
  },
  {
   "cell_type": "code",
   "execution_count": 13,
   "metadata": {},
   "outputs": [
    {
     "data": {
      "text/plain": [
       "11"
      ]
     },
     "execution_count": 13,
     "metadata": {},
     "output_type": "execute_result"
    }
   ],
   "source": [
    "find_max(2,11)"
   ]
  },
  {
   "cell_type": "code",
   "execution_count": 14,
   "metadata": {},
   "outputs": [
    {
     "data": {
      "text/plain": [
       "9"
      ]
     },
     "execution_count": 14,
     "metadata": {},
     "output_type": "execute_result"
    }
   ],
   "source": [
    "max(5,9,1,8,7)"
   ]
  },
  {
   "cell_type": "markdown",
   "metadata": {},
   "source": [
    "### But if we overwrite max is global. It will be lost for further use."
   ]
  },
  {
   "cell_type": "code",
   "execution_count": 15,
   "metadata": {},
   "outputs": [],
   "source": [
    "max=20"
   ]
  },
  {
   "cell_type": "code",
   "execution_count": 16,
   "metadata": {},
   "outputs": [
    {
     "ename": "TypeError",
     "evalue": "'int' object is not callable",
     "output_type": "error",
     "traceback": [
      "\u001b[1;31m---------------------------------------------------------------------------\u001b[0m",
      "\u001b[1;31mTypeError\u001b[0m                                 Traceback (most recent call last)",
      "\u001b[1;32md:\\works\\corporate\\202311-bosch-python2\\simple_demos\\notebooks\\04_global_and_modules.ipynb Cell 19\u001b[0m line \u001b[0;36m1\n\u001b[1;32m----> <a href='vscode-notebook-cell:/d%3A/works/corporate/202311-bosch-python2/simple_demos/notebooks/04_global_and_modules.ipynb#X24sZmlsZQ%3D%3D?line=0'>1</a>\u001b[0m \u001b[39mmax\u001b[39;49m(\u001b[39m8\u001b[39;49m,\u001b[39m2\u001b[39;49m,\u001b[39m11\u001b[39;49m,\u001b[39m4\u001b[39;49m)\n",
      "\u001b[1;31mTypeError\u001b[0m: 'int' object is not callable"
     ]
    }
   ],
   "source": [
    "max(8,2,11,4)"
   ]
  },
  {
   "cell_type": "markdown",
   "metadata": {},
   "source": [
    "py"
   ]
  },
  {
   "cell_type": "markdown",
   "metadata": {},
   "source": [
    "## Modules.\n",
    "\n",
    "* In python every python script file (.py file) can be considered a module.\n",
    "    * actually they are source with which a module object can be created.\n",
    "\n",
    "* These modules can be **reused** with another module\n",
    "    * Any python file or script can import \n",
    "        * a whole module\n",
    "        * selected items from that module.\n",
    "\n",
    "* Module encapsualates multiple functions in one object\n",
    "\n",
    "* Modules makes global names, local\n",
    "\n",
    "\n",
    "### With Modules, there is NO global.\n",
    "\n",
    "* Everything we decalre in one module (one python file) is part of one scope.\n",
    "* they can be accessed in another scope using a dedicated object.\n",
    "\n",
    "## Modules can be created only using .py file.\n",
    "\n",
    "* they can't be created in a shell like REPL or jupyter.\n",
    "* modules however can be used inside a shell."
   ]
  },
  {
   "cell_type": "markdown",
   "metadata": {},
   "source": [
    "### Two Most import use case of Modules.\n",
    "\n",
    "1. Group related functionalties together.\n",
    "2. Allow the group to be used by other modules of scripts."
   ]
  },
  {
   "cell_type": "markdown",
   "metadata": {},
   "source": []
  },
  {
   "cell_type": "markdown",
   "metadata": {},
   "source": [
    "# Use Case 1\n",
    "\n",
    "* in most applications we  may need a common function to read int value\n",
    "* we may have to define it again and again.\n",
    "* we may write it a script  and use it every other script.\n",
    "* we can name the script file as console.py"
   ]
  },
  {
   "cell_type": "code",
   "execution_count": 17,
   "metadata": {},
   "outputs": [],
   "source": [
    "import primeutils as p"
   ]
  },
  {
   "cell_type": "code",
   "execution_count": 18,
   "metadata": {},
   "outputs": [],
   "source": [
    "import primeutils as p"
   ]
  },
  {
   "cell_type": "code",
   "execution_count": 19,
   "metadata": {},
   "outputs": [
    {
     "data": {
      "text/plain": [
       "True"
      ]
     },
     "execution_count": 19,
     "metadata": {},
     "output_type": "execute_result"
    }
   ],
   "source": [
    "p.is_prime(29)"
   ]
  },
  {
   "cell_type": "code",
   "execution_count": 20,
   "metadata": {},
   "outputs": [
    {
     "ename": "TypeError",
     "evalue": "'str' object is not callable",
     "output_type": "error",
     "traceback": [
      "\u001b[1;31m---------------------------------------------------------------------------\u001b[0m",
      "\u001b[1;31mTypeError\u001b[0m                                 Traceback (most recent call last)",
      "\u001b[1;32md:\\works\\corporate\\202311-bosch-python2\\simple_demos\\notebooks\\04_global_and_modules.ipynb Cell 28\u001b[0m line \u001b[0;36m1\n\u001b[1;32m----> <a href='vscode-notebook-cell:/d%3A/works/corporate/202311-bosch-python2/simple_demos/notebooks/04_global_and_modules.ipynb#X36sZmlsZQ%3D%3D?line=0'>1</a>\u001b[0m \u001b[39mprint\u001b[39;49m(p\u001b[39m.\u001b[39;49mis_prime(\u001b[39m27\u001b[39;49m))\n",
      "\u001b[1;31mTypeError\u001b[0m: 'str' object is not callable"
     ]
    }
   ],
   "source": [
    "print(p.is_prime(27))"
   ]
  },
  {
   "cell_type": "markdown",
   "metadata": {},
   "source": [
    "# IMPORTANT STANDARD MODULES\n",
    "\n",
    "* Python runtime comes with serveral standard modules\n",
    "* In fact python has not declard a single global function.\n",
    "    * everything is part of some module\n",
    "* Important Python modules.\n",
    "    * sys\n",
    "        * includes elements related to python system.\n",
    "        * second most important python mdoule\n",
    "        * includes variable to hold pyhton version number\n",
    "\n",
    "    * os\n",
    "        * includes featues to interact with underlying os\n",
    "        * function to\n",
    "            * get directory list\n",
    "            * create directory\n",
    "            * remove directory\n",
    "            * create file\n",
    "            * remove file\n",
    "            * rename\n",
    "\n",
    "\n",
    "    * json\n",
    "        * handles json data\n",
    "\n",
    "    * csv\n",
    "        * handles csv data\n",
    "\n",
    "    * unittest\n",
    "        * used for unit testing python\n",
    "\n",
    "## Most Importnang Python Module \\_\\_buitlins\\_\\_\n",
    "\n",
    "* this is THE Most importnang Python Module\n",
    "* It includes core language element including\n",
    "    * print\n",
    "    * input\n",
    "    * int\n",
    "    * True\n",
    "    * False\n",
    "    * None\n",
    "\n",
    "* It is so important that it by default imported in every other python module as\n",
    "\n",
    "\n",
    "```python\n",
    "import __builtins__\n",
    "from __builtins__ import *\n",
    "```\n",
    "\n",
    "\n"
   ]
  },
  {
   "cell_type": "code",
   "execution_count": 22,
   "metadata": {},
   "outputs": [],
   "source": [
    "#dir(__builtins__)"
   ]
  },
  {
   "cell_type": "markdown",
   "metadata": {},
   "source": [
    "## How to get back my print funciton?"
   ]
  },
  {
   "cell_type": "code",
   "execution_count": 23,
   "metadata": {},
   "outputs": [
    {
     "ename": "TypeError",
     "evalue": "'str' object is not callable",
     "output_type": "error",
     "traceback": [
      "\u001b[1;31m---------------------------------------------------------------------------\u001b[0m",
      "\u001b[1;31mTypeError\u001b[0m                                 Traceback (most recent call last)",
      "\u001b[1;32md:\\works\\corporate\\202311-bosch-python2\\simple_demos\\notebooks\\04_global_and_modules.ipynb Cell 32\u001b[0m line \u001b[0;36m1\n\u001b[1;32m----> <a href='vscode-notebook-cell:/d%3A/works/corporate/202311-bosch-python2/simple_demos/notebooks/04_global_and_modules.ipynb#X42sZmlsZQ%3D%3D?line=0'>1</a>\u001b[0m \u001b[39mprint\u001b[39;49m(\u001b[39m'\u001b[39;49m\u001b[39mHello World\u001b[39;49m\u001b[39m'\u001b[39;49m)\n",
      "\u001b[1;31mTypeError\u001b[0m: 'str' object is not callable"
     ]
    }
   ],
   "source": [
    "print('Hello World')"
   ]
  },
  {
   "cell_type": "code",
   "execution_count": 24,
   "metadata": {},
   "outputs": [],
   "source": [
    "print=__builtins__.print "
   ]
  },
  {
   "cell_type": "code",
   "execution_count": 25,
   "metadata": {},
   "outputs": [
    {
     "name": "stdout",
     "output_type": "stream",
     "text": [
      "Hello World\n"
     ]
    }
   ],
   "source": [
    "print('Hello World')"
   ]
  },
  {
   "cell_type": "markdown",
   "metadata": {},
   "source": [
    "## Reinventing main()\n",
    "\n",
    "* Python doesn't have the need or concept of \"main()\" function.\n",
    "* But it is a good idea to avoid any global code.\n",
    "* It is better to write all logic inside some function.\n",
    "* As a user defined convention we can create a \"main()\" function even in python and write our logic in that main function.\n",
    "\n",
    "* But since python has no speical meaning for main() it will NOT call this function.\n",
    "\n",
    "* we can manually call this function in global space.\n",
    "    * Let that be the only global code you write"
   ]
  },
  {
   "cell_type": "code",
   "execution_count": 26,
   "metadata": {},
   "outputs": [],
   "source": [
    "def main():\n",
    "    print('This is my main funciton')"
   ]
  },
  {
   "cell_type": "code",
   "execution_count": 27,
   "metadata": {},
   "outputs": [
    {
     "name": "stdout",
     "output_type": "stream",
     "text": [
      "This is my main funciton\n"
     ]
    }
   ],
   "source": [
    "main()"
   ]
  },
  {
   "attachments": {
    "image.png": {
     "image/png": "[encoded data removed]"
    }
   },
   "cell_type": "markdown",
   "metadata": {},
   "source": [
    "## Nested Modules\n",
    "\n",
    "* we can organize our codes in multiple files and folders.\n",
    "* each folder itself will act as module.\n",
    "* each file/subfolder inside the module will act as sub-module\n",
    "* they can be accessed using \".\" \n",
    "\n",
    "![image.png](attachment:image.png)"
   ]
  },
  {
   "cell_type": "markdown",
   "metadata": {},
   "source": [
    "### Now we can import the files in main app using syntax\n",
    "\n",
    "```python\n",
    "from libs.utils.console import read_int\n",
    "import libs.utils.primes as p \n",
    "import libs.stats.frequency as f\n",
    "#from libs.stats.histogram import * # NOT RECOMMENDED. PREFER NEXT LINE\n",
    "\n",
    "from libs.stats.histogram import plot_histogram\n",
    "```"
   ]
  },
  {
   "cell_type": "code",
   "execution_count": 1,
   "metadata": {},
   "outputs": [
    {
     "ename": "NameError",
     "evalue": "name 'histogram' is not defined",
     "output_type": "error",
     "traceback": [
      "\u001b[1;31m---------------------------------------------------------------------------\u001b[0m",
      "\u001b[1;31mNameError\u001b[0m                                 Traceback (most recent call last)",
      "\u001b[1;32md:\\works\\corporate\\202311-bosch-python2\\simple_demos\\notebooks\\04_global_and_modules.ipynb Cell 40\u001b[0m line \u001b[0;36m1\n\u001b[1;32m----> <a href='vscode-notebook-cell:/d%3A/works/corporate/202311-bosch-python2/simple_demos/notebooks/04_global_and_modules.ipynb#X56sZmlsZQ%3D%3D?line=0'>1</a>\u001b[0m histogram({\u001b[39m2\u001b[39m:\u001b[39m7\u001b[39m, \u001b[39m3\u001b[39m:\u001b[39m4\u001b[39m, \u001b[39m5\u001b[39m:\u001b[39m5\u001b[39m})\n",
      "\u001b[1;31mNameError\u001b[0m: name 'histogram' is not defined"
     ]
    }
   ],
   "source": [
    "histogram({2:7, 3:4, 5:5})"
   ]
  },
  {
   "cell_type": "markdown",
   "metadata": {},
   "source": [
    "### Without any PYTHONPATH we can't locate a module which is NOT in the current working directory."
   ]
  },
  {
   "cell_type": "code",
   "execution_count": 2,
   "metadata": {},
   "outputs": [
    {
     "ename": "ModuleNotFoundError",
     "evalue": "No module named 'stats'",
     "output_type": "error",
     "traceback": [
      "\u001b[1;31m---------------------------------------------------------------------------\u001b[0m",
      "\u001b[1;31mModuleNotFoundError\u001b[0m                       Traceback (most recent call last)",
      "\u001b[1;32md:\\works\\corporate\\202311-bosch-python2\\simple_demos\\notebooks\\04_global_and_modules.ipynb Cell 41\u001b[0m line \u001b[0;36m1\n\u001b[1;32m----> <a href='vscode-notebook-cell:/d%3A/works/corporate/202311-bosch-python2/simple_demos/notebooks/04_global_and_modules.ipynb#X55sZmlsZQ%3D%3D?line=0'>1</a>\u001b[0m \u001b[39mfrom\u001b[39;00m \u001b[39mstats\u001b[39;00m\u001b[39m.\u001b[39;00m\u001b[39mhistogram\u001b[39;00m \u001b[39mimport\u001b[39;00m plot_histogram\n",
      "\u001b[1;31mModuleNotFoundError\u001b[0m: No module named 'stats'"
     ]
    }
   ],
   "source": [
    "from stats.histogram import plot_histogram"
   ]
  },
  {
   "cell_type": "markdown",
   "metadata": {},
   "source": [
    "### Getting a list of all directortires where python will search for a module\n",
    "\n",
    "#### sys module\n"
   ]
  },
  {
   "cell_type": "code",
   "execution_count": 3,
   "metadata": {},
   "outputs": [
    {
     "name": "stdout",
     "output_type": "stream",
     "text": [
      "['__breakpointhook__', '__displayhook__', '__doc__', '__excepthook__', '__interactivehook__', '__loader__', '__name__', '__package__', '__spec__', '__stderr__', '__stdin__', '__stdout__', '__unraisablehook__', '_base_executable', '_clear_type_cache', '_current_exceptions', '_current_frames', '_debugmallocstats', '_enablelegacywindowsfsencoding', '_framework', '_getframe', '_getframemodulename', '_git', '_home', '_setprofileallthreads', '_settraceallthreads', '_stdlib_dir', '_vpath', '_xoptions', 'activate_stack_trampoline', 'addaudithook', 'api_version', 'argv', 'audit', 'base_exec_prefix', 'base_prefix', 'breakpointhook', 'builtin_module_names', 'byteorder', 'call_tracing', 'copyright', 'deactivate_stack_trampoline', 'displayhook', 'dllhandle', 'dont_write_bytecode', 'exc_info', 'excepthook', 'exception', 'exec_prefix', 'executable', 'exit', 'flags', 'float_info', 'float_repr_style', 'get_asyncgen_hooks', 'get_coroutine_origin_tracking_depth', 'get_int_max_str_digits', 'getallocatedblocks', 'getdefaultencoding', 'getfilesystemencodeerrors', 'getfilesystemencoding', 'getprofile', 'getrecursionlimit', 'getrefcount', 'getsizeof', 'getswitchinterval', 'gettrace', 'getunicodeinternedsize', 'getwindowsversion', 'hash_info', 'hexversion', 'implementation', 'int_info', 'intern', 'is_finalizing', 'is_stack_trampoline_active', 'last_traceback', 'last_type', 'last_value', 'maxsize', 'maxunicode', 'meta_path', 'modules', 'monitoring', 'orig_argv', 'path', 'path_hooks', 'path_importer_cache', 'platform', 'platlibdir', 'prefix', 'ps1', 'ps2', 'ps3', 'pycache_prefix', 'set_asyncgen_hooks', 'set_coroutine_origin_tracking_depth', 'set_int_max_str_digits', 'setprofile', 'setrecursionlimit', 'setswitchinterval', 'settrace', 'stderr', 'stdin', 'stdlib_module_names', 'stdout', 'thread_info', 'unraisablehook', 'version', 'version_info', 'warnoptions', 'winver']\n"
     ]
    }
   ],
   "source": [
    "import sys\n",
    "print(dir(sys))"
   ]
  },
  {
   "cell_type": "code",
   "execution_count": 4,
   "metadata": {},
   "outputs": [
    {
     "name": "stdout",
     "output_type": "stream",
     "text": [
      "d:\\works\\corporate\\202311-bosch-python2\\simple_demos\\notebooks\n",
      "c:\\Python312\\python312.zip\n",
      "c:\\Python312\\DLLs\n",
      "c:\\Python312\\Lib\n",
      "c:\\Python312\n",
      "\n",
      "c:\\Python312\\Lib\\site-packages\n",
      "c:\\Python312\\Lib\\site-packages\\win32\n",
      "c:\\Python312\\Lib\\site-packages\\win32\\lib\n",
      "c:\\Python312\\Lib\\site-packages\\Pythonwin\n"
     ]
    }
   ],
   "source": [
    "for path in sys.path:\n",
    "    print(path)"
   ]
  },
  {
   "cell_type": "markdown",
   "metadata": {},
   "source": [
    "### How can this information help?\n",
    "\n",
    "* sys.path is a list\n",
    "* list is mutable\n",
    "    * we can add our own entry programetically"
   ]
  },
  {
   "cell_type": "code",
   "execution_count": 5,
   "metadata": {},
   "outputs": [],
   "source": [
    "sys.path.append('../../common_modules_home/')"
   ]
  },
  {
   "cell_type": "markdown",
   "metadata": {},
   "source": [
    "### Next time we import something python will search this path also."
   ]
  },
  {
   "cell_type": "code",
   "execution_count": 7,
   "metadata": {},
   "outputs": [],
   "source": [
    "from stats.histogram import plot_histogram\n",
    "from utils.primes import prime_range\n",
    "from stats.frequency import create_freqency_table"
   ]
  },
  {
   "cell_type": "code",
   "execution_count": 10,
   "metadata": {},
   "outputs": [
    {
     "name": "stdout",
     "output_type": "stream",
     "text": [
      "2|: 1\n",
      "3|:::::::::::::::::::::::::::::::::::::::::: 42\n",
      "5|: 1\n",
      "7|:::::::::::::::::::::::::::::::::::::::::::::: 46\n",
      "1|:::::::::::::::::::::::::::::::::::::::: 40\n",
      "9|:::::::::::::::::::::::::::::::::::::: 38\n"
     ]
    }
   ],
   "source": [
    "primes=[ p%10 for p in prime_range(2,1000)]\n",
    "f_table = create_freqency_table(primes)\n",
    "plot_histogram(f_table,design=\":\")"
   ]
  },
  {
   "cell_type": "markdown",
   "metadata": {},
   "source": []
  },
  {
   "cell_type": "code",
   "execution_count": null,
   "metadata": {},
   "outputs": [],
   "source": []
  }
 ],
 "metadata": {
  "kernelspec": {
   "display_name": "Python 3",
   "language": "python",
   "name": "python3"
  },
  "language_info": {
   "codemirror_mode": {
    "name": "ipython",
    "version": 3
   },
   "file_extension": ".py",
   "mimetype": "text/x-python",
   "name": "python",
   "nbconvert_exporter": "python",
   "pygments_lexer": "ipython3",
   "version": "3.12.0"
  }
 },
 "nbformat": 4,
 "nbformat_minor": 2
}
