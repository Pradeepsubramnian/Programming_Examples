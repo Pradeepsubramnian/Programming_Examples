{
 "cells": [
  {
   "cell_type": "markdown",
   "metadata": {},
   "source": [
    "### Let us write a function to calculate the perimeter of a triangle"
   ]
  },
  {
   "cell_type": "code",
   "execution_count": 1,
   "metadata": {},
   "outputs": [],
   "source": [
    "def perimeter(s1,s2,s3):\n",
    "    return s1 + s2 + s3"
   ]
  },
  {
   "cell_type": "markdown",
   "metadata": {},
   "source": [
    "#### We can test this code with different data"
   ]
  },
  {
   "cell_type": "code",
   "execution_count": 2,
   "metadata": {},
   "outputs": [],
   "source": [
    "t1s1=3\n",
    "t1s2=4\n",
    "t1s3=5\n"
   ]
  },
  {
   "cell_type": "code",
   "execution_count": 3,
   "metadata": {},
   "outputs": [
    {
     "data": {
      "text/plain": [
       "12"
      ]
     },
     "execution_count": 3,
     "metadata": {},
     "output_type": "execute_result"
    }
   ],
   "source": [
    "perimeter(t1s1,t1s2,t1s3)"
   ]
  },
  {
   "cell_type": "code",
   "execution_count": 6,
   "metadata": {},
   "outputs": [],
   "source": [
    "t2s1=3\n",
    "t2s2=6\n",
    "t2s3=12"
   ]
  },
  {
   "cell_type": "code",
   "execution_count": 7,
   "metadata": {},
   "outputs": [
    {
     "data": {
      "text/plain": [
       "21"
      ]
     },
     "execution_count": 7,
     "metadata": {},
     "output_type": "execute_result"
    }
   ],
   "source": [
    "perimeter(t2s1,t2s2,t2s3)"
   ]
  },
  {
   "cell_type": "markdown",
   "metadata": {},
   "source": [
    "##### Problem #1\n",
    "\n",
    "* The sides 3,6,12 **can not** form a valid triangle.\n",
    "* as per the rule --> sum of every two sides of a triangle must be greater than the third.\n",
    "\n",
    "\n",
    "#### Solution to Problem #1\n",
    "\n",
    "* we can include the validation logic for a valid triangle."
   ]
  },
  {
   "cell_type": "code",
   "execution_count": 8,
   "metadata": {},
   "outputs": [],
   "source": [
    "def is_valid(s1,s2,s3):\n",
    "    return s1>0 and s2>0 and s3>0 and \\\n",
    "            s1+s2>s3 and \\\n",
    "            s2+s3>s3 and \\\n",
    "            s1+s3>s2\n",
    "\n",
    "def perimeter(s1,s2,s3):\n",
    "    if is_valid(s1,s2,s3):\n",
    "        return s1+s2+s3\n",
    "    else:\n",
    "        return None"
   ]
  },
  {
   "cell_type": "code",
   "execution_count": 9,
   "metadata": {},
   "outputs": [
    {
     "data": {
      "text/plain": [
       "12"
      ]
     },
     "execution_count": 9,
     "metadata": {},
     "output_type": "execute_result"
    }
   ],
   "source": [
    "perimeter(t1s1,t1s2,t1s3)"
   ]
  },
  {
   "cell_type": "code",
   "execution_count": 11,
   "metadata": {},
   "outputs": [
    {
     "name": "stdout",
     "output_type": "stream",
     "text": [
      "None\n"
     ]
    }
   ],
   "source": [
    "print(perimeter(t2s1,t2s2,t2s3))"
   ]
  },
  {
   "cell_type": "markdown",
   "metadata": {},
   "source": [
    "## Aside: Better way to return error\n",
    "\n",
    "* ideally we shouldn't return a value in case of errors.\n",
    "* we should **raise** an error incase we have one.\n",
    "* **raise** is another word like **return**\n",
    "    * this will raise an exception\n",
    "    * it is similar to **throw** of c++/java \n",
    "* it returns error and aborts the application by default.\n",
    "* there are some predefined error types.\n",
    "    * we can also create custom error types\n",
    "    * we will do it later!\n",
    "\n",
    "\n",
    "#### Let us re-write perimeter"
   ]
  },
  {
   "cell_type": "code",
   "execution_count": 12,
   "metadata": {},
   "outputs": [],
   "source": [
    "\n",
    "def validate(s1,s2,s3):\n",
    "    if s1>0 and s2>0 and s3>0 and \\\n",
    "            s1+s2>s3 and \\\n",
    "            s2+s3>s3 and \\\n",
    "            s1+s3>s2:\n",
    "        return\n",
    "    raise ValueError(\"Invalid Sides\")\n",
    "\n",
    "def perimeter(s1,s2,s3):\n",
    "    validate(s1,s2,s3) # if it raises we won't reach next line\n",
    "    # if we reach here that means sides are valid.\n",
    "    return s1+s2+s3"
   ]
  },
  {
   "cell_type": "code",
   "execution_count": 13,
   "metadata": {},
   "outputs": [
    {
     "data": {
      "text/plain": [
       "12"
      ]
     },
     "execution_count": 13,
     "metadata": {},
     "output_type": "execute_result"
    }
   ],
   "source": [
    "perimeter(t1s1, t1s2,t1s3)"
   ]
  },
  {
   "cell_type": "code",
   "execution_count": 14,
   "metadata": {},
   "outputs": [
    {
     "ename": "ValueError",
     "evalue": "Invalid Sides",
     "output_type": "error",
     "traceback": [
      "\u001b[1;31m---------------------------------------------------------------------------\u001b[0m",
      "\u001b[1;31mValueError\u001b[0m                                Traceback (most recent call last)",
      "\u001b[1;32md:\\works\\corporate\\202311-bosch-python2\\simple_demos\\notebooks\\08_problems_with_non__oo.ipynb Cell 15\u001b[0m line \u001b[0;36m1\n\u001b[1;32m----> <a href='vscode-notebook-cell:/d%3A/works/corporate/202311-bosch-python2/simple_demos/notebooks/08_problems_with_non__oo.ipynb#X20sZmlsZQ%3D%3D?line=0'>1</a>\u001b[0m perimeter(t2s1,t2s2,t2s3)\n",
      "\u001b[1;32md:\\works\\corporate\\202311-bosch-python2\\simple_demos\\notebooks\\08_problems_with_non__oo.ipynb Cell 15\u001b[0m line \u001b[0;36m1\n\u001b[0;32m      <a href='vscode-notebook-cell:/d%3A/works/corporate/202311-bosch-python2/simple_demos/notebooks/08_problems_with_non__oo.ipynb#X20sZmlsZQ%3D%3D?line=8'>9</a>\u001b[0m \u001b[39mdef\u001b[39;00m \u001b[39mperimeter\u001b[39m(s1,s2,s3):\n\u001b[1;32m---> <a href='vscode-notebook-cell:/d%3A/works/corporate/202311-bosch-python2/simple_demos/notebooks/08_problems_with_non__oo.ipynb#X20sZmlsZQ%3D%3D?line=9'>10</a>\u001b[0m     validate(s1,s2,s3) \u001b[39m# if it raises we won't reach next line\u001b[39;00m\n\u001b[0;32m     <a href='vscode-notebook-cell:/d%3A/works/corporate/202311-bosch-python2/simple_demos/notebooks/08_problems_with_non__oo.ipynb#X20sZmlsZQ%3D%3D?line=10'>11</a>\u001b[0m     \u001b[39m# if we reach here that means sides are valid.\u001b[39;00m\n\u001b[0;32m     <a href='vscode-notebook-cell:/d%3A/works/corporate/202311-bosch-python2/simple_demos/notebooks/08_problems_with_non__oo.ipynb#X20sZmlsZQ%3D%3D?line=11'>12</a>\u001b[0m     \u001b[39mreturn\u001b[39;00m s1\u001b[39m+\u001b[39ms2\u001b[39m+\u001b[39ms3\n",
      "\u001b[1;32md:\\works\\corporate\\202311-bosch-python2\\simple_demos\\notebooks\\08_problems_with_non__oo.ipynb Cell 15\u001b[0m line \u001b[0;36m7\n\u001b[0;32m      <a href='vscode-notebook-cell:/d%3A/works/corporate/202311-bosch-python2/simple_demos/notebooks/08_problems_with_non__oo.ipynb#X20sZmlsZQ%3D%3D?line=1'>2</a>\u001b[0m \u001b[39mif\u001b[39;00m s1\u001b[39m>\u001b[39m\u001b[39m0\u001b[39m \u001b[39mand\u001b[39;00m s2\u001b[39m>\u001b[39m\u001b[39m0\u001b[39m \u001b[39mand\u001b[39;00m s3\u001b[39m>\u001b[39m\u001b[39m0\u001b[39m \u001b[39mand\u001b[39;00m \\\n\u001b[0;32m      <a href='vscode-notebook-cell:/d%3A/works/corporate/202311-bosch-python2/simple_demos/notebooks/08_problems_with_non__oo.ipynb#X20sZmlsZQ%3D%3D?line=2'>3</a>\u001b[0m         s1\u001b[39m+\u001b[39ms2\u001b[39m>\u001b[39ms3 \u001b[39mand\u001b[39;00m \\\n\u001b[0;32m      <a href='vscode-notebook-cell:/d%3A/works/corporate/202311-bosch-python2/simple_demos/notebooks/08_problems_with_non__oo.ipynb#X20sZmlsZQ%3D%3D?line=3'>4</a>\u001b[0m         s2\u001b[39m+\u001b[39ms3\u001b[39m>\u001b[39ms3 \u001b[39mand\u001b[39;00m \\\n\u001b[0;32m      <a href='vscode-notebook-cell:/d%3A/works/corporate/202311-bosch-python2/simple_demos/notebooks/08_problems_with_non__oo.ipynb#X20sZmlsZQ%3D%3D?line=4'>5</a>\u001b[0m         s1\u001b[39m+\u001b[39ms3\u001b[39m>\u001b[39ms2:\n\u001b[0;32m      <a href='vscode-notebook-cell:/d%3A/works/corporate/202311-bosch-python2/simple_demos/notebooks/08_problems_with_non__oo.ipynb#X20sZmlsZQ%3D%3D?line=5'>6</a>\u001b[0m     \u001b[39mreturn\u001b[39;00m\n\u001b[1;32m----> <a href='vscode-notebook-cell:/d%3A/works/corporate/202311-bosch-python2/simple_demos/notebooks/08_problems_with_non__oo.ipynb#X20sZmlsZQ%3D%3D?line=6'>7</a>\u001b[0m \u001b[39mraise\u001b[39;00m \u001b[39mValueError\u001b[39;00m(\u001b[39m\"\u001b[39m\u001b[39mInvalid Sides\u001b[39m\u001b[39m\"\u001b[39m)\n",
      "\u001b[1;31mValueError\u001b[0m: Invalid Sides"
     ]
    }
   ],
   "source": [
    "perimeter(t2s1,t2s2,t2s3)"
   ]
  },
  {
   "cell_type": "markdown",
   "metadata": {},
   "source": [
    "#### Problem #2\n",
    "\n",
    "* we can pass unrelated information to perimeter \n",
    "* it will work as long as the numbers follow triangle rule"
   ]
  },
  {
   "cell_type": "code",
   "execution_count": 15,
   "metadata": {},
   "outputs": [
    {
     "data": {
      "text/plain": [
       "17"
      ]
     },
     "execution_count": 15,
     "metadata": {},
     "output_type": "execute_result"
    }
   ],
   "source": [
    "perimeter(t1s1,t2s2, 8)"
   ]
  },
  {
   "cell_type": "code",
   "execution_count": 16,
   "metadata": {},
   "outputs": [
    {
     "data": {
      "text/plain": [
       "204"
      ]
     },
     "execution_count": 16,
     "metadata": {},
     "output_type": "execute_result"
    }
   ],
   "source": [
    "manAge=60\n",
    "manHt=72\n",
    "manWt=72\n",
    "\n",
    "perimeter(manAge,manHt,manWt)"
   ]
  },
  {
   "cell_type": "markdown",
   "metadata": {},
   "source": [
    "## Observation\n",
    "\n",
    "* perimeter is not calulating perimeter of a triangle. \n",
    "    * It is summing 3 numbers\n",
    "    * These numbers may be sides of a triangle\n",
    "        * or they many not have any relationship with a triangle\n",
    "\n",
    "###  What is the main problem?\n",
    "\n",
    "* We don't have a **triangle** \n",
    "    * we have NOT represented the notion of what is a triangle\n",
    "* perimeter doesn't work on **a** triangle\n",
    "    * it works on **three independent numbers**\n",
    "        * we are free to pass any number\n",
    "\n",
    "\n",
    "# Object Oriented Program can represent that business element called Triangle which is NOT a number"
   ]
  },
  {
   "cell_type": "code",
   "execution_count": null,
   "metadata": {},
   "outputs": [],
   "source": []
  }
 ],
 "metadata": {
  "kernelspec": {
   "display_name": "Python 3",
   "language": "python",
   "name": "python3"
  },
  "language_info": {
   "codemirror_mode": {
    "name": "ipython",
    "version": 3
   },
   "file_extension": ".py",
   "mimetype": "text/x-python",
   "name": "python",
   "nbconvert_exporter": "python",
   "pygments_lexer": "ipython3",
   "version": "3.12.0"
  }
 },
 "nbformat": 4,
 "nbformat_minor": 2
}
