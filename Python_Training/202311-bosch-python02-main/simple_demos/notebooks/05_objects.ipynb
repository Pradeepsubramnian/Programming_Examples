{
 "cells": [
  {
   "cell_type": "markdown",
   "metadata": {},
   "source": [
    "## What is an object\n",
    "\n",
    "* in python, everything is defined as object\n",
    "* any kind of value or information you store in memory is essentially an object\n",
    "* This inlcudes\n",
    "    * numbers\n",
    "    * string\n",
    "    * function\n",
    "        * yes, even a function is an object.\n",
    "    * module\n",
    "* every object has \n",
    "    * type\n",
    "    * id\n",
    "        * uniquely identifies one object from another.\n",
    "\n",
    "### Let's check type and identify of an object."
   ]
  },
  {
   "cell_type": "code",
   "execution_count": 2,
   "metadata": {},
   "outputs": [],
   "source": [
    "def info(object):\n",
    "    print(f'object={object}\\n\\ttype: {type(object)}\\tid= {id(object)}')"
   ]
  },
  {
   "cell_type": "code",
   "execution_count": 3,
   "metadata": {},
   "outputs": [
    {
     "name": "stdout",
     "output_type": "stream",
     "text": [
      "object=29\n",
      "\ttype: <class 'int'>\tid= 140730106367288\n"
     ]
    }
   ],
   "source": [
    "info(29)"
   ]
  },
  {
   "cell_type": "code",
   "execution_count": 4,
   "metadata": {},
   "outputs": [
    {
     "name": "stdout",
     "output_type": "stream",
     "text": [
      "object=40.5\n",
      "\ttype: <class 'float'>\tid= 1697644706064\n"
     ]
    }
   ],
   "source": [
    "info(40.5)"
   ]
  },
  {
   "cell_type": "code",
   "execution_count": 5,
   "metadata": {},
   "outputs": [
    {
     "name": "stdout",
     "output_type": "stream",
     "text": [
      "object=hello world\n",
      "\ttype: <class 'str'>\tid= 1697645460336\n"
     ]
    }
   ],
   "source": [
    "info('hello world')"
   ]
  },
  {
   "cell_type": "code",
   "execution_count": 6,
   "metadata": {},
   "outputs": [
    {
     "name": "stdout",
     "output_type": "stream",
     "text": [
      "object=<function info at 0x0000018B44946C00>\n",
      "\ttype: <class 'function'>\tid= 1697662659584\n"
     ]
    }
   ],
   "source": [
    "info(info)"
   ]
  },
  {
   "cell_type": "code",
   "execution_count": 7,
   "metadata": {},
   "outputs": [],
   "source": [
    "import primeutils as p"
   ]
  },
  {
   "cell_type": "code",
   "execution_count": 8,
   "metadata": {},
   "outputs": [
    {
     "name": "stdout",
     "output_type": "stream",
     "text": [
      "object=<module 'primeutils' from 'd:\\\\works\\\\corporate\\\\202311-bosch-python2\\\\simple_demos\\\\notebooks\\\\primeutils.py'>\n",
      "\ttype: <class 'module'>\tid= 1697662823424\n"
     ]
    }
   ],
   "source": [
    "info(p)"
   ]
  },
  {
   "cell_type": "code",
   "execution_count": 9,
   "metadata": {},
   "outputs": [
    {
     "name": "stdout",
     "output_type": "stream",
     "text": [
      "object=<function is_prime at 0x0000018B43918220>\n",
      "\ttype: <class 'function'>\tid= 1697645691424\n"
     ]
    }
   ],
   "source": [
    "info(p.is_prime)"
   ]
  },
  {
   "cell_type": "markdown",
   "metadata": {},
   "source": [
    "## Mutable and Immutable Object\n",
    "\n",
    "* Objects can be classified as mutable (modifiable) and immutable (un-modifiable or readlonly)\n",
    "\n",
    "* A mutable object can be modified in it's place.\n",
    "    * Example\n",
    "        * Car\n",
    "            * we can change the car from stop state to moving state wihtout chaing the the car itself.\n",
    "        * Basket\n",
    "            * we can add new items in an existing basket.\n",
    "\n",
    "    * Most C++/java variables are typically mutable.\n",
    "\n",
    "* Most python's primitive types are immutable including\n",
    "    * int\n",
    "    * str\n",
    "\n",
    "### How can \"int\" be immutable when we can change it."
   ]
  },
  {
   "cell_type": "code",
   "execution_count": 10,
   "metadata": {},
   "outputs": [
    {
     "name": "stdout",
     "output_type": "stream",
     "text": [
      "20\n",
      "21\n"
     ]
    }
   ],
   "source": [
    "x=20\n",
    "print(x)\n",
    "x+=1\n",
    "print(x)"
   ]
  },
  {
   "cell_type": "markdown",
   "metadata": {},
   "source": [
    "### How is int immutable.\n",
    "\n",
    "In the above example\n",
    "\n",
    "* x is intially referring to object 20\n",
    "* when we called x+=1  x started to refer to object 21\n",
    "* object 20 and 21 are different from each other.\n",
    "* you can never change 20 to 21.\n",
    "* Note after we changed the value of x, the id also changed"
   ]
  },
  {
   "cell_type": "code",
   "execution_count": 11,
   "metadata": {},
   "outputs": [
    {
     "name": "stdout",
     "output_type": "stream",
     "text": [
      "object=20\n",
      "\ttype: <class 'int'>\tid= 140730106367000\n",
      "object=21\n",
      "\ttype: <class 'int'>\tid= 140730106367032\n"
     ]
    }
   ],
   "source": [
    "x=20\n",
    "info(x)\n",
    "\n",
    "x+=1\n",
    "info(x)"
   ]
  },
  {
   "cell_type": "markdown",
   "metadata": {},
   "source": [
    "### Why is immutable important.\n",
    "\n",
    "* when runtime knows an object can't change it can reuse (share) the object in different contexts.\n",
    "\n",
    "* It doesn't need to store the same value mulitple times."
   ]
  },
  {
   "cell_type": "code",
   "execution_count": 13,
   "metadata": {},
   "outputs": [
    {
     "name": "stdout",
     "output_type": "stream",
     "text": [
      "object=20\n",
      "\ttype: <class 'int'>\tid= 140730106367000\n"
     ]
    }
   ],
   "source": [
    "info(20)"
   ]
  },
  {
   "cell_type": "markdown",
   "metadata": {},
   "source": [
    "## str is also immutable\n",
    "\n",
    "* we can modify a string in original place\n",
    "* when we manipulate a string, it generates a new string containg the changes."
   ]
  },
  {
   "cell_type": "code",
   "execution_count": 14,
   "metadata": {},
   "outputs": [
    {
     "name": "stdout",
     "output_type": "stream",
     "text": [
      "object=Hello World\n",
      "\ttype: <class 'str'>\tid= 1697662859824\n"
     ]
    }
   ],
   "source": [
    "x=\"Hello World\"\n",
    "info(x)"
   ]
  },
  {
   "cell_type": "code",
   "execution_count": 15,
   "metadata": {},
   "outputs": [
    {
     "name": "stdout",
     "output_type": "stream",
     "text": [
      "object=HELLO WORLD\n",
      "\ttype: <class 'str'>\tid= 1697662847088\n"
     ]
    }
   ],
   "source": [
    "info(x.upper()) # it will be   different string"
   ]
  },
  {
   "cell_type": "code",
   "execution_count": 16,
   "metadata": {},
   "outputs": [
    {
     "name": "stdout",
     "output_type": "stream",
     "text": [
      "object=Hello World\n",
      "\ttype: <class 'str'>\tid= 1697662859824\n"
     ]
    }
   ],
   "source": [
    "#original string remains unchanged\n",
    "info(x)"
   ]
  },
  {
   "cell_type": "markdown",
   "metadata": {},
   "source": [
    "### to use the changed string\n",
    "\n",
    "* we can refer to the new string with same reference."
   ]
  },
  {
   "cell_type": "code",
   "execution_count": 17,
   "metadata": {},
   "outputs": [
    {
     "name": "stdout",
     "output_type": "stream",
     "text": [
      "object=HELLO WORLD\n",
      "\ttype: <class 'str'>\tid= 1697662985968\n"
     ]
    }
   ],
   "source": [
    "x=x.upper()\n",
    "info(x)"
   ]
  },
  {
   "cell_type": "markdown",
   "metadata": {},
   "source": [
    "## A mutable object --> list\n",
    "\n",
    "* A python list (equivalent to a dynamic array) is a mutable object\n",
    "* we can add new items to exisitng object"
   ]
  },
  {
   "cell_type": "code",
   "execution_count": 18,
   "metadata": {},
   "outputs": [
    {
     "name": "stdout",
     "output_type": "stream",
     "text": [
      "object=[2, 3, 9, 2, 6]\n",
      "\ttype: <class 'list'>\tid= 1697662833984\n"
     ]
    }
   ],
   "source": [
    "values=[2,3,9,2,6]\n",
    "\n",
    "info(values)"
   ]
  },
  {
   "cell_type": "code",
   "execution_count": 19,
   "metadata": {},
   "outputs": [
    {
     "name": "stdout",
     "output_type": "stream",
     "text": [
      "object=[2, 9, 2, 6, 11]\n",
      "\ttype: <class 'list'>\tid= 1697662833984\n"
     ]
    }
   ],
   "source": [
    "values.append(11)\n",
    "values.remove(3)\n",
    "info(values)"
   ]
  },
  {
   "cell_type": "markdown",
   "metadata": {},
   "source": []
  }
 ],
 "metadata": {
  "kernelspec": {
   "display_name": "Python 3",
   "language": "python",
   "name": "python3"
  },
  "language_info": {
   "codemirror_mode": {
    "name": "ipython",
    "version": 3
   },
   "file_extension": ".py",
   "mimetype": "text/x-python",
   "name": "python",
   "nbconvert_exporter": "python",
   "pygments_lexer": "ipython3",
   "version": "3.12.0"
  }
 },
 "nbformat": 4,
 "nbformat_minor": 2
}
