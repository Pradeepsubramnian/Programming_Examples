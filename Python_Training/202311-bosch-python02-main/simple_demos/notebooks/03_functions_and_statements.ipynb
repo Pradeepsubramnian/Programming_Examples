{
 "cells": [
  {
   "cell_type": "markdown",
   "metadata": {},
   "source": [
    "\n",
    "## Rule of semicolon\n",
    "* Unlike C style language python statements doesn't end with a semicolon\n",
    "* however simicolons are allowed as separator between two statements written in same line.\n",
    "* there is no error in putting a semicolon at the end of a statement\n",
    "\n",
    "### Need of semicolons\n",
    "\n",
    "* Here we are initalizing to variables.\n",
    "* By default we can't do them in the same line\n",
    "* In python, by default, 1 line-> 1 statement"
   ]
  },
  {
   "cell_type": "code",
   "execution_count": 1,
   "metadata": {},
   "outputs": [
    {
     "ename": "SyntaxError",
     "evalue": "invalid syntax (3011309859.py, line 1)",
     "output_type": "error",
     "traceback": [
      "\u001b[1;36m  Cell \u001b[1;32mIn[1], line 1\u001b[1;36m\u001b[0m\n\u001b[1;33m    a=20  b=30\u001b[0m\n\u001b[1;37m          ^\u001b[0m\n\u001b[1;31mSyntaxError\u001b[0m\u001b[1;31m:\u001b[0m invalid syntax\n"
     ]
    }
   ],
   "source": [
    "a=20  b=30"
   ]
  },
  {
   "cell_type": "markdown",
   "metadata": {},
   "source": [
    "#### semicolon allows multiple statements per line.\n",
    "\n",
    "* while it is permitted, generally it is NOT a recommended practice."
   ]
  },
  {
   "cell_type": "code",
   "execution_count": 2,
   "metadata": {},
   "outputs": [
    {
     "name": "stdout",
     "output_type": "stream",
     "text": [
      "20 30\n"
     ]
    }
   ],
   "source": [
    "a=20 ; b=30;  print(a,b)"
   ]
  },
  {
   "cell_type": "markdown",
   "metadata": {},
   "source": [
    "### statement continuation\n",
    "\n",
    "* by default a statement must end in the same line.\n",
    "* it is not permitted to overlow in the second line"
   ]
  },
  {
   "cell_type": "code",
   "execution_count": 3,
   "metadata": {},
   "outputs": [
    {
     "ename": "SyntaxError",
     "evalue": "invalid syntax (491624683.py, line 1)",
     "output_type": "error",
     "traceback": [
      "\u001b[1;36m  Cell \u001b[1;32mIn[3], line 1\u001b[1;36m\u001b[0m\n\u001b[1;33m    a=\u001b[0m\n\u001b[1;37m      ^\u001b[0m\n\u001b[1;31mSyntaxError\u001b[0m\u001b[1;31m:\u001b[0m invalid syntax\n"
     ]
    }
   ],
   "source": [
    "a=\n",
    "20"
   ]
  },
  {
   "cell_type": "markdown",
   "metadata": {},
   "source": [
    "### In case of large statement\n",
    "\n",
    "* in case a statement is large and can't fit in one line without scrolling we may continue it no next line by adding **\\** continuation character at the end of previous line"
   ]
  },
  {
   "cell_type": "code",
   "execution_count": 4,
   "metadata": {},
   "outputs": [
    {
     "name": "stdout",
     "output_type": "stream",
     "text": [
      "20\n"
     ]
    }
   ],
   "source": [
    "a=\\\n",
    "20\n",
    "\n",
    "print(a)"
   ]
  },
  {
   "cell_type": "markdown",
   "metadata": {},
   "source": [
    "### Rule of Indent\n",
    "\n",
    "* Unlike C style langauge where a blank space can be replaced with any number or combination whitespaces (\\n,\\r,\\t), python has a rule of indent.\n",
    "\n",
    "* All statement at same indent level are considered as block of code.\n",
    "\n",
    "* Anything with a greater indent is considered as child statement or nested block.\n",
    "    * used for defining\n",
    "        * conditional statements\n",
    "        * loops\n",
    "        * functions\n",
    "        * ...\n",
    "\n",
    "#### You can't indent or unident without specific reason"
   ]
  },
  {
   "cell_type": "code",
   "execution_count": 5,
   "metadata": {},
   "outputs": [
    {
     "ename": "IndentationError",
     "evalue": "unexpected indent (1116970655.py, line 2)",
     "output_type": "error",
     "traceback": [
      "\u001b[1;36m  Cell \u001b[1;32mIn[5], line 2\u001b[1;36m\u001b[0m\n\u001b[1;33m    print('World')\u001b[0m\n\u001b[1;37m    ^\u001b[0m\n\u001b[1;31mIndentationError\u001b[0m\u001b[1;31m:\u001b[0m unexpected indent\n"
     ]
    }
   ],
   "source": [
    "print('Hello')\n",
    "    print('World')"
   ]
  },
  {
   "cell_type": "markdown",
   "metadata": {},
   "source": [
    "## Functions\n",
    "\n",
    "* are the basic building blocks of any application.\n",
    "* they represent a re-usable set of named logic.\n",
    "* A function has\n",
    "    * \"def\" is the defininging keyword for a function\n",
    "    * a name\n",
    "    * one or more arguments\n",
    "    * A set of statements that defines it's task/logic\n",
    "    * a return value\n",
    "\n",
    "* Everything except def and function name is optional.    \n",
    "\n",
    "### greet funciton\n",
    "\n",
    "* Here we have a function named **greet**\n",
    "    * def defines the function\n",
    "\n",
    "* the function takes no input\n",
    "\n",
    "* funciton prints a message\n",
    "\n",
    "* it returns nothing (None)\n",
    "\n",
    "\n",
    "#### Note: Note the colon **:** sign at the end of the greet().\n",
    "\n",
    "* every statement header ends with a colon.\n",
    "* this rule will apply to statements like: if, while, etc."
   ]
  },
  {
   "cell_type": "code",
   "execution_count": 7,
   "metadata": {},
   "outputs": [],
   "source": [
    "def greet():\n",
    "    print('Hello World')"
   ]
  },
  {
   "cell_type": "markdown",
   "metadata": {},
   "source": [
    "### Once created we can call this function multiple times"
   ]
  },
  {
   "cell_type": "code",
   "execution_count": 8,
   "metadata": {},
   "outputs": [
    {
     "name": "stdout",
     "output_type": "stream",
     "text": [
      "Hello World\n"
     ]
    }
   ],
   "source": [
    "greet()"
   ]
  },
  {
   "cell_type": "code",
   "execution_count": 9,
   "metadata": {},
   "outputs": [
    {
     "name": "stdout",
     "output_type": "stream",
     "text": [
      "Hello World\n",
      "Hello World\n",
      "Hello World\n"
     ]
    }
   ],
   "source": [
    "greet()\n",
    "greet()\n",
    "greet()"
   ]
  },
  {
   "cell_type": "markdown",
   "metadata": {},
   "source": [
    "### Function can take  parameters\n",
    "\n",
    "* A function can take 0 or more parameters.\n",
    "* parameters are like references.\n",
    "* we can use them in our function"
   ]
  },
  {
   "cell_type": "code",
   "execution_count": 10,
   "metadata": {},
   "outputs": [],
   "source": [
    "def greet(name):\n",
    "    print(f'Hello {name}! Welcome to Python Functions')"
   ]
  },
  {
   "cell_type": "code",
   "execution_count": 11,
   "metadata": {},
   "outputs": [
    {
     "name": "stdout",
     "output_type": "stream",
     "text": [
      "Hello Bosch! Welcome to Python Functions\n",
      "Hello World! Welcome to Python Functions\n"
     ]
    }
   ],
   "source": [
    "greet('Bosch')\n",
    "greet('World')"
   ]
  },
  {
   "cell_type": "markdown",
   "metadata": {},
   "source": [
    "### Not passing an argument (value) for a parameter by default is an error"
   ]
  },
  {
   "cell_type": "code",
   "execution_count": 12,
   "metadata": {},
   "outputs": [
    {
     "ename": "TypeError",
     "evalue": "greet() missing 1 required positional argument: 'name'",
     "output_type": "error",
     "traceback": [
      "\u001b[1;31m---------------------------------------------------------------------------\u001b[0m",
      "\u001b[1;31mTypeError\u001b[0m                                 Traceback (most recent call last)",
      "\u001b[1;32md:\\works\\corporate\\202311-bosch-python2\\simple_demos\\notebooks\\03_functions_and_statements.ipynb Cell 20\u001b[0m line \u001b[0;36m1\n\u001b[1;32m----> <a href='vscode-notebook-cell:/d%3A/works/corporate/202311-bosch-python2/simple_demos/notebooks/03_functions_and_statements.ipynb#X31sZmlsZQ%3D%3D?line=0'>1</a>\u001b[0m greet()\n",
      "\u001b[1;31mTypeError\u001b[0m: greet() missing 1 required positional argument: 'name'"
     ]
    }
   ],
   "source": [
    "greet()"
   ]
  },
  {
   "cell_type": "markdown",
   "metadata": {},
   "source": [
    "### Hey don't we have two greet functions\n",
    "    \n",
    "* In python (unlike c++/java) there is NO function overloading.\n",
    "* If you define a new function it overwrites the old one.\n",
    "* we first wrote \"greet\" without any parameter.\n",
    "    * it worked.\n",
    "* when we wrote greet with name parameter it replaced the old greet function.\n",
    "* Now we have only the parameterized greet.\n",
    "\n",
    "### default argument functions.\n",
    "\n",
    "* Python (like C++) allows us to provide a default for a given parameter.\n",
    "* if the argument is not supplied, default value is used."
   ]
  },
  {
   "cell_type": "code",
   "execution_count": 13,
   "metadata": {},
   "outputs": [],
   "source": [
    "def greet(name='World'):\n",
    "    print(f'Hello {name}! Welcome to Python World')"
   ]
  },
  {
   "cell_type": "code",
   "execution_count": 14,
   "metadata": {},
   "outputs": [
    {
     "name": "stdout",
     "output_type": "stream",
     "text": [
      "Hello Bosch! Welcome to Python World\n",
      "Hello World! Welcome to Python World\n"
     ]
    }
   ],
   "source": [
    "greet('Bosch') # name= 'Bosch'\n",
    "\n",
    "greet() # name = 'World'"
   ]
  },
  {
   "cell_type": "markdown",
   "metadata": {},
   "source": [
    "#### Function returning Value\n",
    "* A funciton may return a value if needed.\n",
    "* If we don't return a value Function return None"
   ]
  },
  {
   "cell_type": "code",
   "execution_count": 16,
   "metadata": {},
   "outputs": [
    {
     "name": "stdout",
     "output_type": "stream",
     "text": [
      "Hello Bosch! Welcome to Python World\n",
      "None\n"
     ]
    }
   ],
   "source": [
    "x=greet('Bosch') #prints message. returns None.\n",
    "print(x)"
   ]
  },
  {
   "cell_type": "code",
   "execution_count": 17,
   "metadata": {},
   "outputs": [],
   "source": [
    "def plus(x,y):\n",
    "    return x+y"
   ]
  },
  {
   "cell_type": "code",
   "execution_count": 18,
   "metadata": {},
   "outputs": [
    {
     "name": "stdout",
     "output_type": "stream",
     "text": [
      "7\n"
     ]
    }
   ],
   "source": [
    "print(plus(3,4))"
   ]
  },
  {
   "cell_type": "code",
   "execution_count": 19,
   "metadata": {},
   "outputs": [
    {
     "name": "stdout",
     "output_type": "stream",
     "text": [
      "13\n"
     ]
    }
   ],
   "source": [
    "print(plus(11,2))"
   ]
  },
  {
   "cell_type": "code",
   "execution_count": 20,
   "metadata": {},
   "outputs": [
    {
     "ename": "TypeError",
     "evalue": "plus() takes 2 positional arguments but 4 were given",
     "output_type": "error",
     "traceback": [
      "\u001b[1;31m---------------------------------------------------------------------------\u001b[0m",
      "\u001b[1;31mTypeError\u001b[0m                                 Traceback (most recent call last)",
      "\u001b[1;32md:\\works\\corporate\\202311-bosch-python2\\simple_demos\\notebooks\\03_functions_and_statements.ipynb Cell 29\u001b[0m line \u001b[0;36m1\n\u001b[1;32m----> <a href='vscode-notebook-cell:/d%3A/works/corporate/202311-bosch-python2/simple_demos/notebooks/03_functions_and_statements.ipynb#X45sZmlsZQ%3D%3D?line=0'>1</a>\u001b[0m \u001b[39mprint\u001b[39m(plus(\u001b[39m11\u001b[39;49m,\u001b[39m2\u001b[39;49m,\u001b[39m3\u001b[39;49m,\u001b[39m4\u001b[39;49m))\n",
      "\u001b[1;31mTypeError\u001b[0m: plus() takes 2 positional arguments but 4 were given"
     ]
    }
   ],
   "source": [
    "print(plus(11,2,3,4))"
   ]
  },
  {
   "cell_type": "code",
   "execution_count": 21,
   "metadata": {},
   "outputs": [
    {
     "ename": "TypeError",
     "evalue": "plus() missing 1 required positional argument: 'y'",
     "output_type": "error",
     "traceback": [
      "\u001b[1;31m---------------------------------------------------------------------------\u001b[0m",
      "\u001b[1;31mTypeError\u001b[0m                                 Traceback (most recent call last)",
      "\u001b[1;32md:\\works\\corporate\\202311-bosch-python2\\simple_demos\\notebooks\\03_functions_and_statements.ipynb Cell 30\u001b[0m line \u001b[0;36m1\n\u001b[1;32m----> <a href='vscode-notebook-cell:/d%3A/works/corporate/202311-bosch-python2/simple_demos/notebooks/03_functions_and_statements.ipynb#X46sZmlsZQ%3D%3D?line=0'>1</a>\u001b[0m \u001b[39mprint\u001b[39m(plus(\u001b[39m11\u001b[39;49m))\n",
      "\u001b[1;31mTypeError\u001b[0m: plus() missing 1 required positional argument: 'y'"
     ]
    }
   ],
   "source": [
    "print(plus(11))"
   ]
  },
  {
   "cell_type": "markdown",
   "metadata": {},
   "source": [
    "### Conditional and Loops Statements\n",
    "\n",
    "* python supports \n",
    "    * **if**\n",
    "    * **while**\n",
    "    * **for**\n",
    "\n",
    "* It doesn't support \n",
    "    * ~~switch-case~~\n",
    "    * ~~do-while~~\n",
    "    \n",
    "* python believes in providing one way to do a job.\n",
    "\n",
    "\n",
    "#### if statement\n",
    "\n",
    "* allows us to conditionally execute a statement.\n",
    "\n",
    "```python\n",
    "if condition:\n",
    "    statement1\n",
    "    statement2\n",
    "    statement3\n",
    "\n",
    "statement4\n",
    "\n",
    "```\n",
    "\n",
    "* Here statement1,2,3 will execute only if condition is true\n",
    "* statment4 will execute regardless of whether condition is true\n",
    "\n",
    "#### Note\n",
    "\n",
    "*  a colon after condtion\n",
    "*  indent for if statement codes."
   ]
  },
  {
   "cell_type": "code",
   "execution_count": 23,
   "metadata": {},
   "outputs": [
    {
     "name": "stdout",
     "output_type": "stream",
     "text": [
      "You should vote\n",
      "end\n"
     ]
    }
   ],
   "source": [
    "age= int(input('Age?'))\n",
    "\n",
    "if age>18:\n",
    "    print('You should vote')\n",
    "\n",
    "print('end')"
   ]
  },
  {
   "cell_type": "markdown",
   "metadata": {},
   "source": [
    "### if-elif-else\n",
    "\n",
    "* we can have multiple condtions\n",
    "* else--> when condition is NOT true\n",
    "* elif --> else if condtion.\n",
    "\n",
    "```python\n",
    "if condition1:\n",
    "    statement1\n",
    "    statement2\n",
    "elif condition2:\n",
    "    statement3\n",
    "    statement4\n",
    "elif condition3:\n",
    "    statement5\n",
    "else:\n",
    "    statement6\n",
    "\n",
    "statement7\n",
    "\n",
    "```\n",
    "\n",
    "### Note Nested Indented Code"
   ]
  },
  {
   "cell_type": "code",
   "execution_count": 24,
   "metadata": {},
   "outputs": [],
   "source": [
    "def is_even(number):\n",
    "    if number%2==0:\n",
    "        return True\n",
    "    else:\n",
    "        return False"
   ]
  },
  {
   "cell_type": "code",
   "execution_count": 25,
   "metadata": {},
   "outputs": [
    {
     "name": "stdout",
     "output_type": "stream",
     "text": [
      "False\n",
      "True\n"
     ]
    }
   ],
   "source": [
    "print(is_even(29))\n",
    "\n",
    "print(is_even(74))"
   ]
  },
  {
   "cell_type": "markdown",
   "metadata": {},
   "source": [
    "### A word on indent.\n",
    "\n",
    "* A indent can be one or more tab or blank spaces used together.\n",
    "* it is strongly recommended to use tabls instead of spaces"
   ]
  },
  {
   "cell_type": "code",
   "execution_count": 27,
   "metadata": {},
   "outputs": [],
   "source": [
    "def print_odd_even(number):\n",
    "    if is_even(number):\n",
    "            print(number, end=\" \")\n",
    "            print('is even')\n",
    "    else:\n",
    "        print(number, end=\" \")\n",
    "        print('is odd')"
   ]
  },
  {
   "cell_type": "code",
   "execution_count": 28,
   "metadata": {},
   "outputs": [
    {
     "name": "stdout",
     "output_type": "stream",
     "text": [
      "20 is even\n",
      "31 is odd\n"
     ]
    }
   ],
   "source": [
    "print_odd_even(20)\n",
    "print_odd_even(31)"
   ]
  },
  {
   "cell_type": "markdown",
   "metadata": {},
   "source": [
    "### Bad (un) indent"
   ]
  },
  {
   "cell_type": "code",
   "execution_count": 30,
   "metadata": {},
   "outputs": [
    {
     "ename": "IndentationError",
     "evalue": "unindent does not match any outer indentation level (<string>, line 4)",
     "output_type": "error",
     "traceback": [
      "\u001b[1;36m  File \u001b[1;32m<string>:4\u001b[1;36m\u001b[0m\n\u001b[1;33m    print('is even')\u001b[0m\n\u001b[1;37m                    ^\u001b[0m\n\u001b[1;31mIndentationError\u001b[0m\u001b[1;31m:\u001b[0m unindent does not match any outer indentation level\n"
     ]
    }
   ],
   "source": [
    "def print_odd_even(number):\n",
    "    if is_even(number):\n",
    "            print(number, end=\" \")\n",
    "        print('is even')\n",
    "    else:\n",
    "        print(number, end=\" \")\n",
    "        print('is odd')"
   ]
  },
  {
   "cell_type": "markdown",
   "metadata": {},
   "source": [
    "### while loop.\n",
    "\n",
    "* A while loop allows us to repeat a block of code as long as the conditon is true.\n",
    "\n",
    "```python\n",
    "while condition:\n",
    "    statement1\n",
    "    statement2\n",
    "    statement3\n",
    "\n",
    "statement4\n",
    "```\n",
    "\n",
    "* A while loop will continously repeat statement1, statement2, statement3 as long as conditon remains true.\n",
    "    * one of the while statement must change the condition.\n",
    "\n",
    "* statement4 is executed once condtion becomes false."
   ]
  },
  {
   "cell_type": "code",
   "execution_count": 31,
   "metadata": {},
   "outputs": [],
   "source": [
    "def greet(name,times=1):\n",
    "    count=0\n",
    "    while count<times:\n",
    "        print(f'Hello {name}, Welcome to Python Loops')\n",
    "        count+=1 # increase count by 1"
   ]
  },
  {
   "cell_type": "code",
   "execution_count": 32,
   "metadata": {},
   "outputs": [
    {
     "name": "stdout",
     "output_type": "stream",
     "text": [
      "Hello Bosch, Welcome to Python Loops\n",
      "Hello Bosch, Welcome to Python Loops\n",
      "Hello Bosch, Welcome to Python Loops\n",
      "Hello Bosch, Welcome to Python Loops\n",
      "Hello Bosch, Welcome to Python Loops\n"
     ]
    }
   ],
   "source": [
    "greet('Bosch',5)"
   ]
  },
  {
   "cell_type": "code",
   "execution_count": 33,
   "metadata": {},
   "outputs": [
    {
     "name": "stdout",
     "output_type": "stream",
     "text": [
      "Hello World, Welcome to Python Loops\n"
     ]
    }
   ],
   "source": [
    "greet('World') # greets World a single time"
   ]
  },
  {
   "cell_type": "markdown",
   "metadata": {},
   "source": [
    "### break statement\n",
    "\n",
    "* python support break statement inside while (or for loop)\n",
    "* when enountered it exists the loop immediately\n",
    "    * condition doesn't matter!\n",
    "\n",
    "* We MUST NEVER USE break without a if condition.\n",
    "\n",
    "\n",
    "### Example:  count between min-max but exit if count passes 20."
   ]
  },
  {
   "cell_type": "code",
   "execution_count": 42,
   "metadata": {},
   "outputs": [],
   "source": [
    "def count(min,max):\n",
    "    value=min\n",
    "    while value<=max:\n",
    "        if value>20:\n",
    "            print(f'breaking for {value}')\n",
    "            break\n",
    "        print(value)\n",
    "        value+=1\n",
    "        "
   ]
  },
  {
   "cell_type": "code",
   "execution_count": 43,
   "metadata": {},
   "outputs": [
    {
     "name": "stdout",
     "output_type": "stream",
     "text": [
      "5\n",
      "6\n",
      "7\n",
      "8\n",
      "9\n",
      "10\n"
     ]
    }
   ],
   "source": [
    "count(5,10)"
   ]
  },
  {
   "cell_type": "code",
   "execution_count": 44,
   "metadata": {},
   "outputs": [
    {
     "name": "stdout",
     "output_type": "stream",
     "text": [
      "15\n",
      "16\n",
      "17\n",
      "18\n",
      "19\n",
      "20\n",
      "breaking for 21\n"
     ]
    }
   ],
   "source": [
    "count(15,25)"
   ]
  },
  {
   "cell_type": "markdown",
   "metadata": {},
   "source": [
    "### continue statement.\n",
    "\n",
    "* A continue is also used like break in loops.\n",
    "* continue continues the loop skipping the rest of the statements present after it inside the loop.\n",
    "* we must \n",
    "    * use continue conditinally (using if)\n",
    "    * make sure loop condtion changes  before you condinue.\n",
    "\n",
    "\n",
    "### Use Case: Let us skip all multiples of 5 while counting"
   ]
  },
  {
   "cell_type": "markdown",
   "metadata": {},
   "source": []
  },
  {
   "cell_type": "code",
   "execution_count": 47,
   "metadata": {},
   "outputs": [],
   "source": [
    "def count(min,max):\n",
    "    value=min\n",
    "    while value<=max:\n",
    "        if value%5==0:\n",
    "            value+=1\n",
    "            continue\n",
    "\n",
    "        if value>20:\n",
    "            print(f'breaking for {value}')\n",
    "            break\n",
    "        print(value)\n",
    "        value+=1\n",
    "        "
   ]
  },
  {
   "cell_type": "code",
   "execution_count": 48,
   "metadata": {},
   "outputs": [
    {
     "name": "stdout",
     "output_type": "stream",
     "text": [
      "7\n",
      "8\n",
      "9\n",
      "11\n",
      "12\n",
      "13\n",
      "14\n",
      "16\n",
      "17\n"
     ]
    }
   ],
   "source": [
    "count(7,17)"
   ]
  },
  {
   "cell_type": "markdown",
   "metadata": {},
   "source": [
    "## Scropes\n",
    "\n",
    "* there are two scopes.\n",
    "\n",
    "### 1. Local\n",
    "* defined inside a function\n",
    "* accessible inside the function\n",
    "* different funcions can have local with same name\n",
    "    * They are unrelated and doesn't conflict."
   ]
  },
  {
   "cell_type": "markdown",
   "metadata": {},
   "source": []
  },
  {
   "cell_type": "code",
   "execution_count": 51,
   "metadata": {},
   "outputs": [],
   "source": [
    "def f1():\n",
    "    local=1 # will be created on each call of f1()\n",
    "    print(f'in f1, local={local}')\n",
    "    local+=1 # will be destroyed after f1 finishes\n",
    "\n",
    "def f2():\n",
    "    local=\"Hi\"\n",
    "    print(f'in f2, local={local}')\n",
    "\n"
   ]
  },
  {
   "cell_type": "code",
   "execution_count": 52,
   "metadata": {},
   "outputs": [
    {
     "name": "stdout",
     "output_type": "stream",
     "text": [
      "in f1, local=1\n",
      "in f2, local=Hi\n",
      "in f1, local=1\n",
      "in f2, local=Hi\n"
     ]
    }
   ],
   "source": [
    "f1()\n",
    "f2()\n",
    "f1()\n",
    "f2()\n"
   ]
  },
  {
   "cell_type": "markdown",
   "metadata": {},
   "source": [
    "### Global Variables\n",
    "\n",
    "* A global variable is declared outside function.\n",
    "* They have two different scopes.\n",
    "\n",
    "### Global variable for Reading (accessing)\n",
    "\n",
    "* Any function can access the current value of a global variable.\n",
    "* It is available to everyone for \"readonly\" purpose by default."
   ]
  },
  {
   "cell_type": "code",
   "execution_count": 53,
   "metadata": {},
   "outputs": [],
   "source": [
    "g=\"I am a global\"\n",
    "\n",
    "def f1():\n",
    "    print(f'global is \"{g}\"')\n",
    "\n",
    "def f2():\n",
    "    print(f'global capitalized is \"{g.upper()}\"')\n",
    "\n"
   ]
  },
  {
   "cell_type": "code",
   "execution_count": 54,
   "metadata": {},
   "outputs": [
    {
     "name": "stdout",
     "output_type": "stream",
     "text": [
      "global is \"I am a global\"\n",
      "global capitalized is \"I AM A GLOBAL\"\n"
     ]
    }
   ],
   "source": [
    "f1()\n",
    "f2()"
   ]
  },
  {
   "cell_type": "markdown",
   "metadata": {},
   "source": [
    "### Hey didn't we say readonly?\n",
    "\n",
    "* Here we can access the current value of \"g\"\n",
    "* g.upper() doesn't modify \"g\"\n",
    "    * it creates a new string which would be the upper case version of current string.\n",
    "* \"g\" is no modified here.\n",
    "\n",
    "\n",
    "## **By default** No function can modify \"global value\"\n",
    "\n",
    "* if we try to modify a variable's value, python assumes it to be a local variable.\n",
    "* it creates a local variable.\n",
    "* it ignores the global one."
   ]
  },
  {
   "cell_type": "code",
   "execution_count": 57,
   "metadata": {},
   "outputs": [],
   "source": [
    "g=1\n",
    "\n",
    "def f1():\n",
    "    g=100 # this is not global 'g' but a local variable\n",
    "    print(f'in f1() g is {g}')\n",
    "\n",
    "def f2():\n",
    "    print(f'in f2() g is {g}') # this is global 'g'"
   ]
  },
  {
   "cell_type": "code",
   "execution_count": 58,
   "metadata": {},
   "outputs": [
    {
     "name": "stdout",
     "output_type": "stream",
     "text": [
      "in f1() g is 100\n",
      "in f2() g is 1\n"
     ]
    }
   ],
   "source": [
    "f1()\n",
    "f2()"
   ]
  },
  {
   "cell_type": "markdown",
   "metadata": {},
   "source": [
    "### The Problem.\n",
    "\n",
    "* If we first try to access the global value and then modify it, we will see the problem.\n",
    "\n",
    "1. On Line#5 we are trying to display a variable named \"g\"\n",
    "    * if we don't modify the value anywhere in the code it will be assumed as global \"g\"\n",
    "\n",
    "2. On Line #6 we are trying to modify the variable \"g\"\n",
    "    * This tells function f1() to create a local variable named \"g\"\n",
    "        * But that means we tried to acces a local \"g\" on line#5 before it was created."
   ]
  },
  {
   "cell_type": "code",
   "execution_count": 59,
   "metadata": {},
   "outputs": [],
   "source": [
    "g='global'\n",
    "\n",
    "def f1():\n",
    "    print(f'in f1, before modification: g is \"{g}\"') #how can we access something before creation?\n",
    "\n",
    "    g=\"Global Modified\" # a local variable is created.\n",
    "\n",
    "    print(f'in f1, after modification: g is \"{g}\"')"
   ]
  },
  {
   "cell_type": "code",
   "execution_count": 60,
   "metadata": {},
   "outputs": [
    {
     "ename": "UnboundLocalError",
     "evalue": "cannot access local variable 'g' where it is not associated with a value",
     "output_type": "error",
     "traceback": [
      "\u001b[1;31m---------------------------------------------------------------------------\u001b[0m",
      "\u001b[1;31mUnboundLocalError\u001b[0m                         Traceback (most recent call last)",
      "\u001b[1;32md:\\works\\corporate\\202311-bosch-python2\\simple_demos\\notebooks\\03_functions_and_statements.ipynb Cell 65\u001b[0m line \u001b[0;36m1\n\u001b[1;32m----> <a href='vscode-notebook-cell:/d%3A/works/corporate/202311-bosch-python2/simple_demos/notebooks/03_functions_and_statements.ipynb#Y124sZmlsZQ%3D%3D?line=0'>1</a>\u001b[0m f1()\n",
      "\u001b[1;32md:\\works\\corporate\\202311-bosch-python2\\simple_demos\\notebooks\\03_functions_and_statements.ipynb Cell 65\u001b[0m line \u001b[0;36m4\n\u001b[0;32m      <a href='vscode-notebook-cell:/d%3A/works/corporate/202311-bosch-python2/simple_demos/notebooks/03_functions_and_statements.ipynb#Y124sZmlsZQ%3D%3D?line=2'>3</a>\u001b[0m \u001b[39mdef\u001b[39;00m \u001b[39mf1\u001b[39m():\n\u001b[1;32m----> <a href='vscode-notebook-cell:/d%3A/works/corporate/202311-bosch-python2/simple_demos/notebooks/03_functions_and_statements.ipynb#Y124sZmlsZQ%3D%3D?line=3'>4</a>\u001b[0m     \u001b[39mprint\u001b[39m(\u001b[39mf\u001b[39m\u001b[39m'\u001b[39m\u001b[39min f1, before modification: g is \u001b[39m\u001b[39m\"\u001b[39m\u001b[39m{\u001b[39;00mg\u001b[39m}\u001b[39;00m\u001b[39m\"\u001b[39m\u001b[39m'\u001b[39m) \u001b[39m#how can we access something before creation?\u001b[39;00m\n\u001b[0;32m      <a href='vscode-notebook-cell:/d%3A/works/corporate/202311-bosch-python2/simple_demos/notebooks/03_functions_and_statements.ipynb#Y124sZmlsZQ%3D%3D?line=5'>6</a>\u001b[0m     g\u001b[39m=\u001b[39m\u001b[39m\"\u001b[39m\u001b[39mGlobal Modified\u001b[39m\u001b[39m\"\u001b[39m \u001b[39m# a local variable is created.\u001b[39;00m\n\u001b[0;32m      <a href='vscode-notebook-cell:/d%3A/works/corporate/202311-bosch-python2/simple_demos/notebooks/03_functions_and_statements.ipynb#Y124sZmlsZQ%3D%3D?line=7'>8</a>\u001b[0m     \u001b[39mprint\u001b[39m(\u001b[39mf\u001b[39m\u001b[39m'\u001b[39m\u001b[39min f1, after modification: g is \u001b[39m\u001b[39m\"\u001b[39m\u001b[39m{\u001b[39;00mg\u001b[39m}\u001b[39;00m\u001b[39m\"\u001b[39m\u001b[39m'\u001b[39m)\n",
      "\u001b[1;31mUnboundLocalError\u001b[0m: cannot access local variable 'g' where it is not associated with a value"
     ]
    }
   ],
   "source": [
    "f1()"
   ]
  },
  {
   "cell_type": "markdown",
   "metadata": {},
   "source": [
    "## Can we modify global?\n",
    "\n",
    "* YES\n",
    "* But we need to declare our intention explicitly that we want to modify the global variable and not create (Default) a local variable."
   ]
  },
  {
   "cell_type": "code",
   "execution_count": 63,
   "metadata": {},
   "outputs": [],
   "source": [
    "g=1\n",
    "\n",
    "def f1():\n",
    "    global g #I want to modify global \"g\"\n",
    "    g=100 # this is not global 'g' but a local variable\n",
    "    print(f'in f1() g is {g}')\n",
    "\n",
    "def f2():\n",
    "    print(f'in f2() g is {g}') # this is global 'g'"
   ]
  },
  {
   "cell_type": "code",
   "execution_count": 64,
   "metadata": {},
   "outputs": [
    {
     "name": "stdout",
     "output_type": "stream",
     "text": [
      "in f1() g is 100\n",
      "in f2() g is 100\n"
     ]
    }
   ],
   "source": [
    "f1()\n",
    "f2()"
   ]
  },
  {
   "cell_type": "code",
   "execution_count": 65,
   "metadata": {},
   "outputs": [
    {
     "data": {
      "text/plain": [
       "100"
      ]
     },
     "execution_count": 65,
     "metadata": {},
     "output_type": "execute_result"
    }
   ],
   "source": [
    "g"
   ]
  },
  {
   "cell_type": "markdown",
   "metadata": {},
   "source": [
    "### Recommendation\n",
    "\n",
    "* python intentionally made modifications of a global variable inside local difficult and explicit.\n",
    "\n",
    "* since every function can access global it is difficult to keep track of accidental changes in them\n",
    "\n",
    "* As a best practice avoid working with global variables."
   ]
  },
  {
   "cell_type": "markdown",
   "metadata": {},
   "source": [
    "## Assignment 2.1 "
   ]
  },
  {
   "cell_type": "code",
   "execution_count": 66,
   "metadata": {},
   "outputs": [],
   "source": [
    "def pattern(n):\n",
    "    star=' * '\n",
    "    max_width= n*len(star)\n",
    "    count=0\n",
    "    while count<n:\n",
    "        count+=1\n",
    "        line= star * count\n",
    "        print(line.center(max_width))\n",
    "        \n",
    "\n",
    "    "
   ]
  },
  {
   "cell_type": "code",
   "execution_count": 67,
   "metadata": {},
   "outputs": [
    {
     "name": "stdout",
     "output_type": "stream",
     "text": [
      "       *       \n",
      "      *  *     \n",
      "    *  *  *    \n",
      "   *  *  *  *  \n",
      " *  *  *  *  * \n"
     ]
    }
   ],
   "source": [
    "pattern(5)"
   ]
  },
  {
   "cell_type": "code",
   "execution_count": 68,
   "metadata": {},
   "outputs": [
    {
     "name": "stdout",
     "output_type": "stream",
     "text": [
      "          *          \n",
      "         *  *        \n",
      "       *  *  *       \n",
      "      *  *  *  *     \n",
      "    *  *  *  *  *    \n",
      "   *  *  *  *  *  *  \n",
      " *  *  *  *  *  *  * \n"
     ]
    }
   ],
   "source": [
    "pattern(7)"
   ]
  },
  {
   "cell_type": "markdown",
   "metadata": {},
   "source": []
  }
 ],
 "metadata": {
  "kernelspec": {
   "display_name": "Python 3",
   "language": "python",
   "name": "python3"
  },
  "language_info": {
   "codemirror_mode": {
    "name": "ipython",
    "version": 3
   },
   "file_extension": ".py",
   "mimetype": "text/x-python",
   "name": "python",
   "nbconvert_exporter": "python",
   "pygments_lexer": "ipython3",
   "version": "3.12.0"
  }
 },
 "nbformat": 4,
 "nbformat_minor": 2
}
