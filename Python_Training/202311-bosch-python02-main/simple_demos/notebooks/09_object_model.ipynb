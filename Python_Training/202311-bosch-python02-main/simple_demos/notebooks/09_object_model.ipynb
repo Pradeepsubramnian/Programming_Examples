{
 "cells": [
  {
   "cell_type": "markdown",
   "metadata": {},
   "source": [
    "### Object Oreinted Model\n",
    "\n",
    "* Python's Object Model (OOP) is very different from C++ like languages (C++/Java/C#)\n",
    "\n",
    "### C++/Java Model of OOP\n",
    "\n",
    "* To create any object we need to define a class\n",
    "* class contains all the properties and methods that object will require\n",
    "* we create object based on the class definition.\n",
    "* every object of the class will have exactly same set of properties and methods\n",
    "    * there can't be any addition or deletion.\n",
    "\n",
    "#### Problem in this model\n",
    "\n",
    "* This model can be considered more as **class oriened programming** and not **object oriented programming**\n",
    "* classes are static elements and can't be modified at runtime.\n",
    "    * this limits in how much we can modify the object.\n",
    "\n",
    "### Python OO Model.\n",
    "\n",
    "* In python also, OO model starts with a class.\n",
    "* But unlike C++ model, python class's main job is **NOT** to define the property or behavior of object\n",
    "* Its main job is to \n",
    "    * create the object\n",
    "    * give it a type identity \n",
    "        * **who are you**\n",
    "        * ~~what properties or behavior you have~~\n",
    "\n",
    "\n",
    "### Simplest Triangle class "
   ]
  },
  {
   "cell_type": "code",
   "execution_count": 1,
   "metadata": {},
   "outputs": [],
   "source": [
    "class Triangle:\n",
    "    pass"
   ]
  },
  {
   "cell_type": "markdown",
   "metadata": {},
   "source": [
    "#### What can an empty class do?\n",
    "\n",
    "##### 1. It can help me create the object."
   ]
  },
  {
   "cell_type": "code",
   "execution_count": 2,
   "metadata": {},
   "outputs": [],
   "source": [
    "t=Triangle()"
   ]
  },
  {
   "cell_type": "markdown",
   "metadata": {},
   "source": [
    "##### 2. It can help me identify object **type**"
   ]
  },
  {
   "cell_type": "code",
   "execution_count": 3,
   "metadata": {},
   "outputs": [
    {
     "name": "stdout",
     "output_type": "stream",
     "text": [
      "<__main__.Triangle object at 0x00000220EAEDC650>\n",
      "<class '__main__.Triangle'>\n"
     ]
    }
   ],
   "source": [
    "print(t)\n",
    "print(type(t))"
   ]
  },
  {
   "cell_type": "code",
   "execution_count": 4,
   "metadata": {},
   "outputs": [
    {
     "data": {
      "text/plain": [
       "True"
      ]
     },
     "execution_count": 4,
     "metadata": {},
     "output_type": "execute_result"
    }
   ],
   "source": [
    "isinstance(t,Triangle)"
   ]
  },
  {
   "cell_type": "code",
   "execution_count": 5,
   "metadata": {},
   "outputs": [
    {
     "data": {
      "text/plain": [
       "False"
      ]
     },
     "execution_count": 5,
     "metadata": {},
     "output_type": "execute_result"
    }
   ],
   "source": [
    "isinstance(t,list)"
   ]
  },
  {
   "cell_type": "markdown",
   "metadata": {},
   "source": [
    "#### How is ths different from C++ model\n",
    "\n",
    "* We can defined the properties of an object after it is created.\n",
    "* Here we are going provide sides s1,s2,s3 in triangle\n",
    "* they are not defined in Triangle class\n",
    "* we are adding them **after** triangle object is created."
   ]
  },
  {
   "cell_type": "code",
   "execution_count": 26,
   "metadata": {},
   "outputs": [],
   "source": [
    "# object is created without any property\n",
    "t= Triangle()\n",
    "\n",
    "#properties can be added after object is created.\n",
    "#this allows us to evolve an object dynamically.\n",
    "t.s1=3\n",
    "t.s2=4\n",
    "t.s3=5"
   ]
  },
  {
   "cell_type": "markdown",
   "metadata": {},
   "source": [
    "### We can find out all proeprties of an object using **our object_info() function**"
   ]
  },
  {
   "cell_type": "code",
   "execution_count": 31,
   "metadata": {},
   "outputs": [
    {
     "data": {
      "text/plain": [
       "['__class__',\n",
       " '__delattr__',\n",
       " '__dict__',\n",
       " '__dir__',\n",
       " '__doc__',\n",
       " '__eq__',\n",
       " '__format__',\n",
       " '__ge__',\n",
       " '__getattribute__',\n",
       " '__getstate__',\n",
       " '__gt__',\n",
       " '__hash__',\n",
       " '__init__',\n",
       " '__init_subclass__',\n",
       " '__le__',\n",
       " '__lt__',\n",
       " '__module__',\n",
       " '__ne__',\n",
       " '__new__',\n",
       " '__reduce__',\n",
       " '__reduce_ex__',\n",
       " '__repr__',\n",
       " '__setattr__',\n",
       " '__sizeof__',\n",
       " '__str__',\n",
       " '__subclasshook__',\n",
       " '__weakref__',\n",
       " 's1',\n",
       " 's2',\n",
       " 's3']"
      ]
     },
     "execution_count": 31,
     "metadata": {},
     "output_type": "execute_result"
    }
   ],
   "source": [
    "dir(t)"
   ]
  },
  {
   "cell_type": "markdown",
   "metadata": {},
   "source": [
    "### Let us simplify the list\n",
    "* every object contains few predefined special properties\n",
    "* they are prefixed and suffixed with double underscores.\n",
    "* we will discuss about them later.\n",
    "* for simplicity, let us see the list of our own defined properties by excluding them"
   ]
  },
  {
   "cell_type": "code",
   "execution_count": 32,
   "metadata": {},
   "outputs": [],
   "source": [
    "def object_info(obj):\n",
    "    return [property for property in dir(obj) if not property.endswith(\"__\")]"
   ]
  },
  {
   "cell_type": "code",
   "execution_count": 33,
   "metadata": {},
   "outputs": [
    {
     "data": {
      "text/plain": [
       "['s1', 's2', 's3']"
      ]
     },
     "execution_count": 33,
     "metadata": {},
     "output_type": "execute_result"
    }
   ],
   "source": [
    "object_info(t)"
   ]
  },
  {
   "cell_type": "code",
   "execution_count": 34,
   "metadata": {},
   "outputs": [
    {
     "name": "stdout",
     "output_type": "stream",
     "text": [
      "3 4 5\n"
     ]
    }
   ],
   "source": [
    "print(t.s1,t.s2,t.s3)"
   ]
  },
  {
   "cell_type": "markdown",
   "metadata": {},
   "source": [
    "### How does this help in perimeter calculation?\n",
    "\n",
    "* Now our validate and perimeter is taking **One** object that contains **s1,s2,s3**\n",
    "* We can't pass \n",
    "    * sides of different triangles\n",
    "        * we can pass a single object here\n",
    "    * details of a human like age, ht, wt\n",
    "        * it is looking for s1,s2,s3 not ht,wt,age"
   ]
  },
  {
   "cell_type": "code",
   "execution_count": 12,
   "metadata": {},
   "outputs": [],
   "source": [
    "def validate(t):\n",
    "    if t.s1>0 and t.s2>0 and t.s3>0 and \\\n",
    "            t.s1+t.s2>t.s3 and \\\n",
    "            t.s2+t.s3>t.s3 and \\\n",
    "            t.s1+t.s3>t.s2:\n",
    "        return\n",
    "    raise ValueError(\"Invalid Sides\")\n",
    "\n",
    "def perimeter(t):\n",
    "    validate(t) # if it raises we won't reach next line\n",
    "    # if we reach here that means sides are valid.\n",
    "    return t.s1+t.s2+t.s3"
   ]
  },
  {
   "cell_type": "code",
   "execution_count": 13,
   "metadata": {},
   "outputs": [
    {
     "data": {
      "text/plain": [
       "12"
      ]
     },
     "execution_count": 13,
     "metadata": {},
     "output_type": "execute_result"
    }
   ],
   "source": [
    "t1=Triangle()\n",
    "t1.s1=3\n",
    "t1.s2=4\n",
    "t1.s3=5\n",
    "\n",
    "perimeter(t1)"
   ]
  },
  {
   "cell_type": "code",
   "execution_count": 14,
   "metadata": {},
   "outputs": [
    {
     "ename": "ValueError",
     "evalue": "Invalid Sides",
     "output_type": "error",
     "traceback": [
      "\u001b[1;31m---------------------------------------------------------------------------\u001b[0m",
      "\u001b[1;31mValueError\u001b[0m                                Traceback (most recent call last)",
      "\u001b[1;32md:\\works\\corporate\\202311-bosch-python2\\simple_demos\\notebooks\\09_object_model.ipynb Cell 18\u001b[0m line \u001b[0;36m6\n\u001b[0;32m      <a href='vscode-notebook-cell:/d%3A/works/corporate/202311-bosch-python2/simple_demos/notebooks/09_object_model.ipynb#X23sZmlsZQ%3D%3D?line=2'>3</a>\u001b[0m t2\u001b[39m.\u001b[39ms2\u001b[39m=\u001b[39m\u001b[39m6\u001b[39m\n\u001b[0;32m      <a href='vscode-notebook-cell:/d%3A/works/corporate/202311-bosch-python2/simple_demos/notebooks/09_object_model.ipynb#X23sZmlsZQ%3D%3D?line=3'>4</a>\u001b[0m t2\u001b[39m.\u001b[39ms3\u001b[39m=\u001b[39m\u001b[39m12\u001b[39m\n\u001b[1;32m----> <a href='vscode-notebook-cell:/d%3A/works/corporate/202311-bosch-python2/simple_demos/notebooks/09_object_model.ipynb#X23sZmlsZQ%3D%3D?line=5'>6</a>\u001b[0m perimeter(t2)\n",
      "\u001b[1;32md:\\works\\corporate\\202311-bosch-python2\\simple_demos\\notebooks\\09_object_model.ipynb Cell 18\u001b[0m line \u001b[0;36m1\n\u001b[0;32m      <a href='vscode-notebook-cell:/d%3A/works/corporate/202311-bosch-python2/simple_demos/notebooks/09_object_model.ipynb#X23sZmlsZQ%3D%3D?line=8'>9</a>\u001b[0m \u001b[39mdef\u001b[39;00m \u001b[39mperimeter\u001b[39m(t):\n\u001b[1;32m---> <a href='vscode-notebook-cell:/d%3A/works/corporate/202311-bosch-python2/simple_demos/notebooks/09_object_model.ipynb#X23sZmlsZQ%3D%3D?line=9'>10</a>\u001b[0m     validate(t) \u001b[39m# if it raises we won't reach next line\u001b[39;00m\n\u001b[0;32m     <a href='vscode-notebook-cell:/d%3A/works/corporate/202311-bosch-python2/simple_demos/notebooks/09_object_model.ipynb#X23sZmlsZQ%3D%3D?line=10'>11</a>\u001b[0m     \u001b[39m# if we reach here that means sides are valid.\u001b[39;00m\n\u001b[0;32m     <a href='vscode-notebook-cell:/d%3A/works/corporate/202311-bosch-python2/simple_demos/notebooks/09_object_model.ipynb#X23sZmlsZQ%3D%3D?line=11'>12</a>\u001b[0m     \u001b[39mreturn\u001b[39;00m t\u001b[39m.\u001b[39ms1\u001b[39m+\u001b[39mt\u001b[39m.\u001b[39ms2\u001b[39m+\u001b[39mt\u001b[39m.\u001b[39ms3\n",
      "\u001b[1;32md:\\works\\corporate\\202311-bosch-python2\\simple_demos\\notebooks\\09_object_model.ipynb Cell 18\u001b[0m line \u001b[0;36m7\n\u001b[0;32m      <a href='vscode-notebook-cell:/d%3A/works/corporate/202311-bosch-python2/simple_demos/notebooks/09_object_model.ipynb#X23sZmlsZQ%3D%3D?line=1'>2</a>\u001b[0m \u001b[39mif\u001b[39;00m t\u001b[39m.\u001b[39ms1\u001b[39m>\u001b[39m\u001b[39m0\u001b[39m \u001b[39mand\u001b[39;00m t\u001b[39m.\u001b[39ms2\u001b[39m>\u001b[39m\u001b[39m0\u001b[39m \u001b[39mand\u001b[39;00m t\u001b[39m.\u001b[39ms3\u001b[39m>\u001b[39m\u001b[39m0\u001b[39m \u001b[39mand\u001b[39;00m \\\n\u001b[0;32m      <a href='vscode-notebook-cell:/d%3A/works/corporate/202311-bosch-python2/simple_demos/notebooks/09_object_model.ipynb#X23sZmlsZQ%3D%3D?line=2'>3</a>\u001b[0m         t\u001b[39m.\u001b[39ms1\u001b[39m+\u001b[39mt\u001b[39m.\u001b[39ms2\u001b[39m>\u001b[39mt\u001b[39m.\u001b[39ms3 \u001b[39mand\u001b[39;00m \\\n\u001b[0;32m      <a href='vscode-notebook-cell:/d%3A/works/corporate/202311-bosch-python2/simple_demos/notebooks/09_object_model.ipynb#X23sZmlsZQ%3D%3D?line=3'>4</a>\u001b[0m         t\u001b[39m.\u001b[39ms2\u001b[39m+\u001b[39mt\u001b[39m.\u001b[39ms3\u001b[39m>\u001b[39mt\u001b[39m.\u001b[39ms3 \u001b[39mand\u001b[39;00m \\\n\u001b[0;32m      <a href='vscode-notebook-cell:/d%3A/works/corporate/202311-bosch-python2/simple_demos/notebooks/09_object_model.ipynb#X23sZmlsZQ%3D%3D?line=4'>5</a>\u001b[0m         t\u001b[39m.\u001b[39ms1\u001b[39m+\u001b[39mt\u001b[39m.\u001b[39ms3\u001b[39m>\u001b[39mt\u001b[39m.\u001b[39ms2:\n\u001b[0;32m      <a href='vscode-notebook-cell:/d%3A/works/corporate/202311-bosch-python2/simple_demos/notebooks/09_object_model.ipynb#X23sZmlsZQ%3D%3D?line=5'>6</a>\u001b[0m     \u001b[39mreturn\u001b[39;00m\n\u001b[1;32m----> <a href='vscode-notebook-cell:/d%3A/works/corporate/202311-bosch-python2/simple_demos/notebooks/09_object_model.ipynb#X23sZmlsZQ%3D%3D?line=6'>7</a>\u001b[0m \u001b[39mraise\u001b[39;00m \u001b[39mValueError\u001b[39;00m(\u001b[39m\"\u001b[39m\u001b[39mInvalid Sides\u001b[39m\u001b[39m\"\u001b[39m)\n",
      "\u001b[1;31mValueError\u001b[0m: Invalid Sides"
     ]
    }
   ],
   "source": [
    "t2=Triangle()\n",
    "t2.s1=3\n",
    "t2.s2=6\n",
    "t2.s3=12\n",
    "\n",
    "perimeter(t2)"
   ]
  },
  {
   "cell_type": "markdown",
   "metadata": {},
   "source": [
    "#### Good things.\n",
    "\n",
    "* we can't pass sides of different triangles"
   ]
  },
  {
   "cell_type": "code",
   "execution_count": 15,
   "metadata": {},
   "outputs": [
    {
     "ename": "TypeError",
     "evalue": "perimeter() takes 1 positional argument but 3 were given",
     "output_type": "error",
     "traceback": [
      "\u001b[1;31m---------------------------------------------------------------------------\u001b[0m",
      "\u001b[1;31mTypeError\u001b[0m                                 Traceback (most recent call last)",
      "\u001b[1;32md:\\works\\corporate\\202311-bosch-python2\\simple_demos\\notebooks\\09_object_model.ipynb Cell 20\u001b[0m line \u001b[0;36m1\n\u001b[1;32m----> <a href='vscode-notebook-cell:/d%3A/works/corporate/202311-bosch-python2/simple_demos/notebooks/09_object_model.ipynb#X24sZmlsZQ%3D%3D?line=0'>1</a>\u001b[0m perimeter(t1\u001b[39m.\u001b[39;49ms1,t2\u001b[39m.\u001b[39;49ms2,\u001b[39m8\u001b[39;49m)\n",
      "\u001b[1;31mTypeError\u001b[0m: perimeter() takes 1 positional argument but 3 were given"
     ]
    }
   ],
   "source": [
    "perimeter(t1.s1,t2.s2,8)"
   ]
  },
  {
   "cell_type": "markdown",
   "metadata": {},
   "source": [
    "### But How do I ensure that user is passing a Triangle and not something else?"
   ]
  },
  {
   "cell_type": "code",
   "execution_count": 16,
   "metadata": {},
   "outputs": [
    {
     "ename": "AttributeError",
     "evalue": "'Circle' object has no attribute 's1'",
     "output_type": "error",
     "traceback": [
      "\u001b[1;31m---------------------------------------------------------------------------\u001b[0m",
      "\u001b[1;31mAttributeError\u001b[0m                            Traceback (most recent call last)",
      "\u001b[1;32md:\\works\\corporate\\202311-bosch-python2\\simple_demos\\notebooks\\09_object_model.ipynb Cell 22\u001b[0m line \u001b[0;36m6\n\u001b[0;32m      <a href='vscode-notebook-cell:/d%3A/works/corporate/202311-bosch-python2/simple_demos/notebooks/09_object_model.ipynb#X26sZmlsZQ%3D%3D?line=1'>2</a>\u001b[0m     \u001b[39mpass\u001b[39;00m\n\u001b[0;32m      <a href='vscode-notebook-cell:/d%3A/works/corporate/202311-bosch-python2/simple_demos/notebooks/09_object_model.ipynb#X26sZmlsZQ%3D%3D?line=3'>4</a>\u001b[0m c\u001b[39m=\u001b[39mCircle()\n\u001b[1;32m----> <a href='vscode-notebook-cell:/d%3A/works/corporate/202311-bosch-python2/simple_demos/notebooks/09_object_model.ipynb#X26sZmlsZQ%3D%3D?line=5'>6</a>\u001b[0m perimeter(c)\n",
      "\u001b[1;32md:\\works\\corporate\\202311-bosch-python2\\simple_demos\\notebooks\\09_object_model.ipynb Cell 22\u001b[0m line \u001b[0;36m1\n\u001b[0;32m      <a href='vscode-notebook-cell:/d%3A/works/corporate/202311-bosch-python2/simple_demos/notebooks/09_object_model.ipynb#X26sZmlsZQ%3D%3D?line=8'>9</a>\u001b[0m \u001b[39mdef\u001b[39;00m \u001b[39mperimeter\u001b[39m(t):\n\u001b[1;32m---> <a href='vscode-notebook-cell:/d%3A/works/corporate/202311-bosch-python2/simple_demos/notebooks/09_object_model.ipynb#X26sZmlsZQ%3D%3D?line=9'>10</a>\u001b[0m     validate(t) \u001b[39m# if it raises we won't reach next line\u001b[39;00m\n\u001b[0;32m     <a href='vscode-notebook-cell:/d%3A/works/corporate/202311-bosch-python2/simple_demos/notebooks/09_object_model.ipynb#X26sZmlsZQ%3D%3D?line=10'>11</a>\u001b[0m     \u001b[39m# if we reach here that means sides are valid.\u001b[39;00m\n\u001b[0;32m     <a href='vscode-notebook-cell:/d%3A/works/corporate/202311-bosch-python2/simple_demos/notebooks/09_object_model.ipynb#X26sZmlsZQ%3D%3D?line=11'>12</a>\u001b[0m     \u001b[39mreturn\u001b[39;00m t\u001b[39m.\u001b[39ms1\u001b[39m+\u001b[39mt\u001b[39m.\u001b[39ms2\u001b[39m+\u001b[39mt\u001b[39m.\u001b[39ms3\n",
      "\u001b[1;32md:\\works\\corporate\\202311-bosch-python2\\simple_demos\\notebooks\\09_object_model.ipynb Cell 22\u001b[0m line \u001b[0;36m2\n\u001b[0;32m      <a href='vscode-notebook-cell:/d%3A/works/corporate/202311-bosch-python2/simple_demos/notebooks/09_object_model.ipynb#X26sZmlsZQ%3D%3D?line=0'>1</a>\u001b[0m \u001b[39mdef\u001b[39;00m \u001b[39mvalidate\u001b[39m(t):\n\u001b[1;32m----> <a href='vscode-notebook-cell:/d%3A/works/corporate/202311-bosch-python2/simple_demos/notebooks/09_object_model.ipynb#X26sZmlsZQ%3D%3D?line=1'>2</a>\u001b[0m     \u001b[39mif\u001b[39;00m t\u001b[39m.\u001b[39;49ms1\u001b[39m>\u001b[39m\u001b[39m0\u001b[39m \u001b[39mand\u001b[39;00m t\u001b[39m.\u001b[39ms2\u001b[39m>\u001b[39m\u001b[39m0\u001b[39m \u001b[39mand\u001b[39;00m t\u001b[39m.\u001b[39ms3\u001b[39m>\u001b[39m\u001b[39m0\u001b[39m \u001b[39mand\u001b[39;00m \\\n\u001b[0;32m      <a href='vscode-notebook-cell:/d%3A/works/corporate/202311-bosch-python2/simple_demos/notebooks/09_object_model.ipynb#X26sZmlsZQ%3D%3D?line=2'>3</a>\u001b[0m             t\u001b[39m.\u001b[39ms1\u001b[39m+\u001b[39mt\u001b[39m.\u001b[39ms2\u001b[39m>\u001b[39mt\u001b[39m.\u001b[39ms3 \u001b[39mand\u001b[39;00m \\\n\u001b[0;32m      <a href='vscode-notebook-cell:/d%3A/works/corporate/202311-bosch-python2/simple_demos/notebooks/09_object_model.ipynb#X26sZmlsZQ%3D%3D?line=3'>4</a>\u001b[0m             t\u001b[39m.\u001b[39ms2\u001b[39m+\u001b[39mt\u001b[39m.\u001b[39ms3\u001b[39m>\u001b[39mt\u001b[39m.\u001b[39ms3 \u001b[39mand\u001b[39;00m \\\n\u001b[0;32m      <a href='vscode-notebook-cell:/d%3A/works/corporate/202311-bosch-python2/simple_demos/notebooks/09_object_model.ipynb#X26sZmlsZQ%3D%3D?line=4'>5</a>\u001b[0m             t\u001b[39m.\u001b[39ms1\u001b[39m+\u001b[39mt\u001b[39m.\u001b[39ms3\u001b[39m>\u001b[39mt\u001b[39m.\u001b[39ms2:\n\u001b[0;32m      <a href='vscode-notebook-cell:/d%3A/works/corporate/202311-bosch-python2/simple_demos/notebooks/09_object_model.ipynb#X26sZmlsZQ%3D%3D?line=5'>6</a>\u001b[0m         \u001b[39mreturn\u001b[39;00m\n\u001b[0;32m      <a href='vscode-notebook-cell:/d%3A/works/corporate/202311-bosch-python2/simple_demos/notebooks/09_object_model.ipynb#X26sZmlsZQ%3D%3D?line=6'>7</a>\u001b[0m     \u001b[39mraise\u001b[39;00m \u001b[39mValueError\u001b[39;00m(\u001b[39m\"\u001b[39m\u001b[39mInvalid Sides\u001b[39m\u001b[39m\"\u001b[39m)\n",
      "\u001b[1;31mAttributeError\u001b[0m: 'Circle' object has no attribute 's1'"
     ]
    }
   ],
   "source": [
    "class Circle:\n",
    "    pass\n",
    "\n",
    "c=Circle()\n",
    "\n",
    "perimeter(c)"
   ]
  },
  {
   "cell_type": "markdown",
   "metadata": {},
   "source": [
    "### validating the type"
   ]
  },
  {
   "cell_type": "code",
   "execution_count": 18,
   "metadata": {},
   "outputs": [],
   "source": [
    "def validate(t):\n",
    "    if not isinstance(t, Triangle):\n",
    "        raise TypeError(\"t must be a Triangle\")\n",
    "    \n",
    "    if t.s1>0 and t.s2>0 and t.s3>0 and \\\n",
    "            t.s1+t.s2>t.s3 and \\\n",
    "            t.s2+t.s3>t.s3 and \\\n",
    "            t.s1+t.s3>t.s2:\n",
    "        return\n",
    "    raise ValueError(\"Invalid Sides\")\n",
    "\n",
    "def perimeter(t):\n",
    "    validate(t) # if it raises we won't reach next line\n",
    "    # if we reach here that means sides are valid.\n",
    "    return t.s1+t.s2+t.s3\n",
    "\n",
    "\n",
    "def create_triangle(s1,s2,s3):\n",
    "    t=Triangle()\n",
    "    t.s1=s1\n",
    "    t.s2=s2\n",
    "    t.s3=s3\n",
    "    return t"
   ]
  },
  {
   "cell_type": "code",
   "execution_count": 19,
   "metadata": {},
   "outputs": [
    {
     "data": {
      "text/plain": [
       "12"
      ]
     },
     "execution_count": 19,
     "metadata": {},
     "output_type": "execute_result"
    }
   ],
   "source": [
    "t1=create_triangle(3,4,5)\n",
    "perimeter(t1)"
   ]
  },
  {
   "cell_type": "code",
   "execution_count": 20,
   "metadata": {},
   "outputs": [
    {
     "ename": "ValueError",
     "evalue": "Invalid Sides",
     "output_type": "error",
     "traceback": [
      "\u001b[1;31m---------------------------------------------------------------------------\u001b[0m",
      "\u001b[1;31mValueError\u001b[0m                                Traceback (most recent call last)",
      "\u001b[1;32md:\\works\\corporate\\202311-bosch-python2\\simple_demos\\notebooks\\09_object_model.ipynb Cell 26\u001b[0m line \u001b[0;36m2\n\u001b[0;32m      <a href='vscode-notebook-cell:/d%3A/works/corporate/202311-bosch-python2/simple_demos/notebooks/09_object_model.ipynb#X34sZmlsZQ%3D%3D?line=0'>1</a>\u001b[0m t2\u001b[39m=\u001b[39mcreate_triangle(\u001b[39m3\u001b[39m,\u001b[39m6\u001b[39m,\u001b[39m12\u001b[39m) \u001b[39m#invalid sides\u001b[39;00m\n\u001b[1;32m----> <a href='vscode-notebook-cell:/d%3A/works/corporate/202311-bosch-python2/simple_demos/notebooks/09_object_model.ipynb#X34sZmlsZQ%3D%3D?line=1'>2</a>\u001b[0m perimeter(t2)\n",
      "\u001b[1;32md:\\works\\corporate\\202311-bosch-python2\\simple_demos\\notebooks\\09_object_model.ipynb Cell 26\u001b[0m line \u001b[0;36m1\n\u001b[0;32m     <a href='vscode-notebook-cell:/d%3A/works/corporate/202311-bosch-python2/simple_demos/notebooks/09_object_model.ipynb#X34sZmlsZQ%3D%3D?line=11'>12</a>\u001b[0m \u001b[39mdef\u001b[39;00m \u001b[39mperimeter\u001b[39m(t):\n\u001b[1;32m---> <a href='vscode-notebook-cell:/d%3A/works/corporate/202311-bosch-python2/simple_demos/notebooks/09_object_model.ipynb#X34sZmlsZQ%3D%3D?line=12'>13</a>\u001b[0m     validate(t) \u001b[39m# if it raises we won't reach next line\u001b[39;00m\n\u001b[0;32m     <a href='vscode-notebook-cell:/d%3A/works/corporate/202311-bosch-python2/simple_demos/notebooks/09_object_model.ipynb#X34sZmlsZQ%3D%3D?line=13'>14</a>\u001b[0m     \u001b[39m# if we reach here that means sides are valid.\u001b[39;00m\n\u001b[0;32m     <a href='vscode-notebook-cell:/d%3A/works/corporate/202311-bosch-python2/simple_demos/notebooks/09_object_model.ipynb#X34sZmlsZQ%3D%3D?line=14'>15</a>\u001b[0m     \u001b[39mreturn\u001b[39;00m t\u001b[39m.\u001b[39ms1\u001b[39m+\u001b[39mt\u001b[39m.\u001b[39ms2\u001b[39m+\u001b[39mt\u001b[39m.\u001b[39ms3\n",
      "\u001b[1;32md:\\works\\corporate\\202311-bosch-python2\\simple_demos\\notebooks\\09_object_model.ipynb Cell 26\u001b[0m line \u001b[0;36m1\n\u001b[0;32m      <a href='vscode-notebook-cell:/d%3A/works/corporate/202311-bosch-python2/simple_demos/notebooks/09_object_model.ipynb#X34sZmlsZQ%3D%3D?line=4'>5</a>\u001b[0m \u001b[39mif\u001b[39;00m t\u001b[39m.\u001b[39ms1\u001b[39m>\u001b[39m\u001b[39m0\u001b[39m \u001b[39mand\u001b[39;00m t\u001b[39m.\u001b[39ms2\u001b[39m>\u001b[39m\u001b[39m0\u001b[39m \u001b[39mand\u001b[39;00m t\u001b[39m.\u001b[39ms3\u001b[39m>\u001b[39m\u001b[39m0\u001b[39m \u001b[39mand\u001b[39;00m \\\n\u001b[0;32m      <a href='vscode-notebook-cell:/d%3A/works/corporate/202311-bosch-python2/simple_demos/notebooks/09_object_model.ipynb#X34sZmlsZQ%3D%3D?line=5'>6</a>\u001b[0m         t\u001b[39m.\u001b[39ms1\u001b[39m+\u001b[39mt\u001b[39m.\u001b[39ms2\u001b[39m>\u001b[39mt\u001b[39m.\u001b[39ms3 \u001b[39mand\u001b[39;00m \\\n\u001b[0;32m      <a href='vscode-notebook-cell:/d%3A/works/corporate/202311-bosch-python2/simple_demos/notebooks/09_object_model.ipynb#X34sZmlsZQ%3D%3D?line=6'>7</a>\u001b[0m         t\u001b[39m.\u001b[39ms2\u001b[39m+\u001b[39mt\u001b[39m.\u001b[39ms3\u001b[39m>\u001b[39mt\u001b[39m.\u001b[39ms3 \u001b[39mand\u001b[39;00m \\\n\u001b[0;32m      <a href='vscode-notebook-cell:/d%3A/works/corporate/202311-bosch-python2/simple_demos/notebooks/09_object_model.ipynb#X34sZmlsZQ%3D%3D?line=7'>8</a>\u001b[0m         t\u001b[39m.\u001b[39ms1\u001b[39m+\u001b[39mt\u001b[39m.\u001b[39ms3\u001b[39m>\u001b[39mt\u001b[39m.\u001b[39ms2:\n\u001b[0;32m      <a href='vscode-notebook-cell:/d%3A/works/corporate/202311-bosch-python2/simple_demos/notebooks/09_object_model.ipynb#X34sZmlsZQ%3D%3D?line=8'>9</a>\u001b[0m     \u001b[39mreturn\u001b[39;00m\n\u001b[1;32m---> <a href='vscode-notebook-cell:/d%3A/works/corporate/202311-bosch-python2/simple_demos/notebooks/09_object_model.ipynb#X34sZmlsZQ%3D%3D?line=9'>10</a>\u001b[0m \u001b[39mraise\u001b[39;00m \u001b[39mValueError\u001b[39;00m(\u001b[39m\"\u001b[39m\u001b[39mInvalid Sides\u001b[39m\u001b[39m\"\u001b[39m)\n",
      "\u001b[1;31mValueError\u001b[0m: Invalid Sides"
     ]
    }
   ],
   "source": [
    "t2=create_triangle(3,6,12) #invalid sides\n",
    "perimeter(t2)"
   ]
  },
  {
   "cell_type": "code",
   "execution_count": 21,
   "metadata": {},
   "outputs": [
    {
     "ename": "TypeError",
     "evalue": "t must be a Triangle",
     "output_type": "error",
     "traceback": [
      "\u001b[1;31m---------------------------------------------------------------------------\u001b[0m",
      "\u001b[1;31mTypeError\u001b[0m                                 Traceback (most recent call last)",
      "\u001b[1;32md:\\works\\corporate\\202311-bosch-python2\\simple_demos\\notebooks\\09_object_model.ipynb Cell 27\u001b[0m line \u001b[0;36m2\n\u001b[0;32m      <a href='vscode-notebook-cell:/d%3A/works/corporate/202311-bosch-python2/simple_demos/notebooks/09_object_model.ipynb#X35sZmlsZQ%3D%3D?line=0'>1</a>\u001b[0m c\u001b[39m=\u001b[39mCircle()\n\u001b[1;32m----> <a href='vscode-notebook-cell:/d%3A/works/corporate/202311-bosch-python2/simple_demos/notebooks/09_object_model.ipynb#X35sZmlsZQ%3D%3D?line=1'>2</a>\u001b[0m perimeter(c)\n",
      "\u001b[1;32md:\\works\\corporate\\202311-bosch-python2\\simple_demos\\notebooks\\09_object_model.ipynb Cell 27\u001b[0m line \u001b[0;36m1\n\u001b[0;32m     <a href='vscode-notebook-cell:/d%3A/works/corporate/202311-bosch-python2/simple_demos/notebooks/09_object_model.ipynb#X35sZmlsZQ%3D%3D?line=11'>12</a>\u001b[0m \u001b[39mdef\u001b[39;00m \u001b[39mperimeter\u001b[39m(t):\n\u001b[1;32m---> <a href='vscode-notebook-cell:/d%3A/works/corporate/202311-bosch-python2/simple_demos/notebooks/09_object_model.ipynb#X35sZmlsZQ%3D%3D?line=12'>13</a>\u001b[0m     validate(t) \u001b[39m# if it raises we won't reach next line\u001b[39;00m\n\u001b[0;32m     <a href='vscode-notebook-cell:/d%3A/works/corporate/202311-bosch-python2/simple_demos/notebooks/09_object_model.ipynb#X35sZmlsZQ%3D%3D?line=13'>14</a>\u001b[0m     \u001b[39m# if we reach here that means sides are valid.\u001b[39;00m\n\u001b[0;32m     <a href='vscode-notebook-cell:/d%3A/works/corporate/202311-bosch-python2/simple_demos/notebooks/09_object_model.ipynb#X35sZmlsZQ%3D%3D?line=14'>15</a>\u001b[0m     \u001b[39mreturn\u001b[39;00m t\u001b[39m.\u001b[39ms1\u001b[39m+\u001b[39mt\u001b[39m.\u001b[39ms2\u001b[39m+\u001b[39mt\u001b[39m.\u001b[39ms3\n",
      "\u001b[1;32md:\\works\\corporate\\202311-bosch-python2\\simple_demos\\notebooks\\09_object_model.ipynb Cell 27\u001b[0m line \u001b[0;36m3\n\u001b[0;32m      <a href='vscode-notebook-cell:/d%3A/works/corporate/202311-bosch-python2/simple_demos/notebooks/09_object_model.ipynb#X35sZmlsZQ%3D%3D?line=0'>1</a>\u001b[0m \u001b[39mdef\u001b[39;00m \u001b[39mvalidate\u001b[39m(t):\n\u001b[0;32m      <a href='vscode-notebook-cell:/d%3A/works/corporate/202311-bosch-python2/simple_demos/notebooks/09_object_model.ipynb#X35sZmlsZQ%3D%3D?line=1'>2</a>\u001b[0m     \u001b[39mif\u001b[39;00m \u001b[39mnot\u001b[39;00m \u001b[39misinstance\u001b[39m(t, Triangle):\n\u001b[1;32m----> <a href='vscode-notebook-cell:/d%3A/works/corporate/202311-bosch-python2/simple_demos/notebooks/09_object_model.ipynb#X35sZmlsZQ%3D%3D?line=2'>3</a>\u001b[0m         \u001b[39mraise\u001b[39;00m \u001b[39mTypeError\u001b[39;00m(\u001b[39m\"\u001b[39m\u001b[39mt must be a Triangle\u001b[39m\u001b[39m\"\u001b[39m)\n\u001b[0;32m      <a href='vscode-notebook-cell:/d%3A/works/corporate/202311-bosch-python2/simple_demos/notebooks/09_object_model.ipynb#X35sZmlsZQ%3D%3D?line=4'>5</a>\u001b[0m     \u001b[39mif\u001b[39;00m t\u001b[39m.\u001b[39ms1\u001b[39m>\u001b[39m\u001b[39m0\u001b[39m \u001b[39mand\u001b[39;00m t\u001b[39m.\u001b[39ms2\u001b[39m>\u001b[39m\u001b[39m0\u001b[39m \u001b[39mand\u001b[39;00m t\u001b[39m.\u001b[39ms3\u001b[39m>\u001b[39m\u001b[39m0\u001b[39m \u001b[39mand\u001b[39;00m \\\n\u001b[0;32m      <a href='vscode-notebook-cell:/d%3A/works/corporate/202311-bosch-python2/simple_demos/notebooks/09_object_model.ipynb#X35sZmlsZQ%3D%3D?line=5'>6</a>\u001b[0m             t\u001b[39m.\u001b[39ms1\u001b[39m+\u001b[39mt\u001b[39m.\u001b[39ms2\u001b[39m>\u001b[39mt\u001b[39m.\u001b[39ms3 \u001b[39mand\u001b[39;00m \\\n\u001b[0;32m      <a href='vscode-notebook-cell:/d%3A/works/corporate/202311-bosch-python2/simple_demos/notebooks/09_object_model.ipynb#X35sZmlsZQ%3D%3D?line=6'>7</a>\u001b[0m             t\u001b[39m.\u001b[39ms2\u001b[39m+\u001b[39mt\u001b[39m.\u001b[39ms3\u001b[39m>\u001b[39mt\u001b[39m.\u001b[39ms3 \u001b[39mand\u001b[39;00m \\\n\u001b[0;32m      <a href='vscode-notebook-cell:/d%3A/works/corporate/202311-bosch-python2/simple_demos/notebooks/09_object_model.ipynb#X35sZmlsZQ%3D%3D?line=7'>8</a>\u001b[0m             t\u001b[39m.\u001b[39ms1\u001b[39m+\u001b[39mt\u001b[39m.\u001b[39ms3\u001b[39m>\u001b[39mt\u001b[39m.\u001b[39ms2:\n\u001b[0;32m      <a href='vscode-notebook-cell:/d%3A/works/corporate/202311-bosch-python2/simple_demos/notebooks/09_object_model.ipynb#X35sZmlsZQ%3D%3D?line=8'>9</a>\u001b[0m         \u001b[39mreturn\u001b[39;00m\n",
      "\u001b[1;31mTypeError\u001b[0m: t must be a Triangle"
     ]
    }
   ],
   "source": [
    "c=Circle()\n",
    "perimeter(c)"
   ]
  },
  {
   "cell_type": "code",
   "execution_count": 22,
   "metadata": {},
   "outputs": [
    {
     "ename": "TypeError",
     "evalue": "t must be a Triangle",
     "output_type": "error",
     "traceback": [
      "\u001b[1;31m---------------------------------------------------------------------------\u001b[0m",
      "\u001b[1;31mTypeError\u001b[0m                                 Traceback (most recent call last)",
      "\u001b[1;32md:\\works\\corporate\\202311-bosch-python2\\simple_demos\\notebooks\\09_object_model.ipynb Cell 28\u001b[0m line \u001b[0;36m2\n\u001b[0;32m      <a href='vscode-notebook-cell:/d%3A/works/corporate/202311-bosch-python2/simple_demos/notebooks/09_object_model.ipynb#X36sZmlsZQ%3D%3D?line=0'>1</a>\u001b[0m l\u001b[39m=\u001b[39m[\u001b[39m3\u001b[39m,\u001b[39m4\u001b[39m,\u001b[39m5\u001b[39m]\n\u001b[1;32m----> <a href='vscode-notebook-cell:/d%3A/works/corporate/202311-bosch-python2/simple_demos/notebooks/09_object_model.ipynb#X36sZmlsZQ%3D%3D?line=1'>2</a>\u001b[0m perimeter(l)\n",
      "\u001b[1;32md:\\works\\corporate\\202311-bosch-python2\\simple_demos\\notebooks\\09_object_model.ipynb Cell 28\u001b[0m line \u001b[0;36m1\n\u001b[0;32m     <a href='vscode-notebook-cell:/d%3A/works/corporate/202311-bosch-python2/simple_demos/notebooks/09_object_model.ipynb#X36sZmlsZQ%3D%3D?line=11'>12</a>\u001b[0m \u001b[39mdef\u001b[39;00m \u001b[39mperimeter\u001b[39m(t):\n\u001b[1;32m---> <a href='vscode-notebook-cell:/d%3A/works/corporate/202311-bosch-python2/simple_demos/notebooks/09_object_model.ipynb#X36sZmlsZQ%3D%3D?line=12'>13</a>\u001b[0m     validate(t) \u001b[39m# if it raises we won't reach next line\u001b[39;00m\n\u001b[0;32m     <a href='vscode-notebook-cell:/d%3A/works/corporate/202311-bosch-python2/simple_demos/notebooks/09_object_model.ipynb#X36sZmlsZQ%3D%3D?line=13'>14</a>\u001b[0m     \u001b[39m# if we reach here that means sides are valid.\u001b[39;00m\n\u001b[0;32m     <a href='vscode-notebook-cell:/d%3A/works/corporate/202311-bosch-python2/simple_demos/notebooks/09_object_model.ipynb#X36sZmlsZQ%3D%3D?line=14'>15</a>\u001b[0m     \u001b[39mreturn\u001b[39;00m t\u001b[39m.\u001b[39ms1\u001b[39m+\u001b[39mt\u001b[39m.\u001b[39ms2\u001b[39m+\u001b[39mt\u001b[39m.\u001b[39ms3\n",
      "\u001b[1;32md:\\works\\corporate\\202311-bosch-python2\\simple_demos\\notebooks\\09_object_model.ipynb Cell 28\u001b[0m line \u001b[0;36m3\n\u001b[0;32m      <a href='vscode-notebook-cell:/d%3A/works/corporate/202311-bosch-python2/simple_demos/notebooks/09_object_model.ipynb#X36sZmlsZQ%3D%3D?line=0'>1</a>\u001b[0m \u001b[39mdef\u001b[39;00m \u001b[39mvalidate\u001b[39m(t):\n\u001b[0;32m      <a href='vscode-notebook-cell:/d%3A/works/corporate/202311-bosch-python2/simple_demos/notebooks/09_object_model.ipynb#X36sZmlsZQ%3D%3D?line=1'>2</a>\u001b[0m     \u001b[39mif\u001b[39;00m \u001b[39mnot\u001b[39;00m \u001b[39misinstance\u001b[39m(t, Triangle):\n\u001b[1;32m----> <a href='vscode-notebook-cell:/d%3A/works/corporate/202311-bosch-python2/simple_demos/notebooks/09_object_model.ipynb#X36sZmlsZQ%3D%3D?line=2'>3</a>\u001b[0m         \u001b[39mraise\u001b[39;00m \u001b[39mTypeError\u001b[39;00m(\u001b[39m\"\u001b[39m\u001b[39mt must be a Triangle\u001b[39m\u001b[39m\"\u001b[39m)\n\u001b[0;32m      <a href='vscode-notebook-cell:/d%3A/works/corporate/202311-bosch-python2/simple_demos/notebooks/09_object_model.ipynb#X36sZmlsZQ%3D%3D?line=4'>5</a>\u001b[0m     \u001b[39mif\u001b[39;00m t\u001b[39m.\u001b[39ms1\u001b[39m>\u001b[39m\u001b[39m0\u001b[39m \u001b[39mand\u001b[39;00m t\u001b[39m.\u001b[39ms2\u001b[39m>\u001b[39m\u001b[39m0\u001b[39m \u001b[39mand\u001b[39;00m t\u001b[39m.\u001b[39ms3\u001b[39m>\u001b[39m\u001b[39m0\u001b[39m \u001b[39mand\u001b[39;00m \\\n\u001b[0;32m      <a href='vscode-notebook-cell:/d%3A/works/corporate/202311-bosch-python2/simple_demos/notebooks/09_object_model.ipynb#X36sZmlsZQ%3D%3D?line=5'>6</a>\u001b[0m             t\u001b[39m.\u001b[39ms1\u001b[39m+\u001b[39mt\u001b[39m.\u001b[39ms2\u001b[39m>\u001b[39mt\u001b[39m.\u001b[39ms3 \u001b[39mand\u001b[39;00m \\\n\u001b[0;32m      <a href='vscode-notebook-cell:/d%3A/works/corporate/202311-bosch-python2/simple_demos/notebooks/09_object_model.ipynb#X36sZmlsZQ%3D%3D?line=6'>7</a>\u001b[0m             t\u001b[39m.\u001b[39ms2\u001b[39m+\u001b[39mt\u001b[39m.\u001b[39ms3\u001b[39m>\u001b[39mt\u001b[39m.\u001b[39ms3 \u001b[39mand\u001b[39;00m \\\n\u001b[0;32m      <a href='vscode-notebook-cell:/d%3A/works/corporate/202311-bosch-python2/simple_demos/notebooks/09_object_model.ipynb#X36sZmlsZQ%3D%3D?line=7'>8</a>\u001b[0m             t\u001b[39m.\u001b[39ms1\u001b[39m+\u001b[39mt\u001b[39m.\u001b[39ms3\u001b[39m>\u001b[39mt\u001b[39m.\u001b[39ms2:\n\u001b[0;32m      <a href='vscode-notebook-cell:/d%3A/works/corporate/202311-bosch-python2/simple_demos/notebooks/09_object_model.ipynb#X36sZmlsZQ%3D%3D?line=8'>9</a>\u001b[0m         \u001b[39mreturn\u001b[39;00m\n",
      "\u001b[1;31mTypeError\u001b[0m: t must be a Triangle"
     ]
    }
   ],
   "source": [
    "l=[3,4,5]\n",
    "perimeter(l)"
   ]
  },
  {
   "cell_type": "code",
   "execution_count": 24,
   "metadata": {},
   "outputs": [
    {
     "name": "stdout",
     "output_type": "stream",
     "text": [
      "t1 ['color', 's1', 's2', 's3']\n",
      "t2 ['s1', 's2', 's3']\n"
     ]
    }
   ],
   "source": [
    "t1=create_triangle(3,4,5)\n",
    "\n",
    "t1.color=\"red\"\n",
    "\n",
    "t2=create_triangle(3,4,10)\n",
    "\n",
    "print(\"t1\",object_info(t1))\n",
    "print(\"t2\",object_info(t2))"
   ]
  },
  {
   "cell_type": "code",
   "execution_count": 25,
   "metadata": {},
   "outputs": [
    {
     "data": {
      "text/plain": [
       "__main__.Triangle"
      ]
     },
     "execution_count": 25,
     "metadata": {},
     "output_type": "execute_result"
    }
   ],
   "source": [
    "type(t1)"
   ]
  },
  {
   "cell_type": "markdown",
   "metadata": {},
   "source": [
    "### Assignment 3.4 \n",
    "\n",
    "* define area() and draw() for triangle\n",
    "* draw() can simply print triangle info using print()\n",
    "\n",
    "### Assignment 3.5\n",
    "\n",
    "* create a similar model for Circle and include\n",
    "    * area()\n",
    "    * perimeter()\n",
    "    * draw()\n",
    "\n",
    "* we want to calculate area() and perimeter() for both circle and triangle\n",
    "\n",
    "\n",
    "#### IMPORTANT NOTE\n",
    "\n",
    "* do the entire assignment in a single jupyter notebook.\n",
    "\n",
    "\n",
    "## defining details for Triangle."
   ]
  },
  {
   "cell_type": "code",
   "execution_count": 35,
   "metadata": {},
   "outputs": [],
   "source": [
    "import math\n",
    "\n",
    "class Triangle:\n",
    "    pass\n",
    "\n",
    "def validate(t):\n",
    "    if not isinstance(t, Triangle):\n",
    "        raise TypeError(\"t must be a Triangle\")\n",
    "    \n",
    "    if t.s1>0 and t.s2>0 and t.s3>0 and \\\n",
    "            t.s1+t.s2>t.s3 and \\\n",
    "            t.s2+t.s3>t.s3 and \\\n",
    "            t.s1+t.s3>t.s2:\n",
    "        return\n",
    "    raise ValueError(\"Invalid Sides\")\n",
    "\n",
    "def perimeter(t):\n",
    "    validate(t) # if it raises we won't reach next line\n",
    "    # if we reach here that means sides are valid.\n",
    "    return t.s1+t.s2+t.s3\n",
    "\n",
    "\n",
    "def create_triangle(s1,s2,s3):\n",
    "    t=Triangle()\n",
    "    t.s1=s1\n",
    "    t.s2=s2\n",
    "    t.s3=s3\n",
    "    return t\n",
    "\n",
    "def area(t):\n",
    "    validate(t)\n",
    "    s=perimeter(t)/2\n",
    "    return math.sqrt(s*(s-t.s1)*(s-t.s2)*(s-t.s3))\n",
    "\n",
    "def draw(t):\n",
    "    validate(t)\n",
    "    print(f'Triangle<{t.s1},{t.s2},{t.s3}>')"
   ]
  },
  {
   "cell_type": "markdown",
   "metadata": {},
   "source": [
    "#### Test Function"
   ]
  },
  {
   "cell_type": "code",
   "execution_count": 39,
   "metadata": {},
   "outputs": [],
   "source": [
    "def test_triangle(s1,s2=None,s3=None):\n",
    "    if s2 is None and s3 is None:\n",
    "        t=s1 # we have passed a triangle\n",
    "    else:\n",
    "        t=create_triangle(s1,s2,s3)\n",
    "    draw(t)\n",
    "    print(f'area={area(t)}')\n",
    "    print(f'periemter={perimeter(t)}')\n",
    "    "
   ]
  },
  {
   "cell_type": "code",
   "execution_count": 40,
   "metadata": {},
   "outputs": [
    {
     "name": "stdout",
     "output_type": "stream",
     "text": [
      "Triangle<3,4,5>\n",
      "area=6.0\n",
      "periemter=12\n"
     ]
    }
   ],
   "source": [
    "test_triangle(3,4,5)"
   ]
  },
  {
   "cell_type": "code",
   "execution_count": 41,
   "metadata": {},
   "outputs": [
    {
     "name": "stdout",
     "output_type": "stream",
     "text": [
      "Triangle<5,12,13>\n",
      "area=30.0\n",
      "periemter=30\n"
     ]
    }
   ],
   "source": [
    "test_triangle(create_triangle(5,12,13))"
   ]
  },
  {
   "cell_type": "code",
   "execution_count": 42,
   "metadata": {},
   "outputs": [
    {
     "ename": "ValueError",
     "evalue": "Invalid Sides",
     "output_type": "error",
     "traceback": [
      "\u001b[1;31m---------------------------------------------------------------------------\u001b[0m",
      "\u001b[1;31mValueError\u001b[0m                                Traceback (most recent call last)",
      "\u001b[1;32md:\\works\\corporate\\202311-bosch-python2\\simple_demos\\notebooks\\09_object_model.ipynb Cell 39\u001b[0m line \u001b[0;36m1\n\u001b[1;32m----> <a href='vscode-notebook-cell:/d%3A/works/corporate/202311-bosch-python2/simple_demos/notebooks/09_object_model.ipynb#X56sZmlsZQ%3D%3D?line=0'>1</a>\u001b[0m test_triangle(create_triangle(\u001b[39m3\u001b[39;49m,\u001b[39m6\u001b[39;49m,\u001b[39m12\u001b[39;49m))\n",
      "\u001b[1;32md:\\works\\corporate\\202311-bosch-python2\\simple_demos\\notebooks\\09_object_model.ipynb Cell 39\u001b[0m line \u001b[0;36m6\n\u001b[0;32m      <a href='vscode-notebook-cell:/d%3A/works/corporate/202311-bosch-python2/simple_demos/notebooks/09_object_model.ipynb#X56sZmlsZQ%3D%3D?line=3'>4</a>\u001b[0m \u001b[39melse\u001b[39;00m:\n\u001b[0;32m      <a href='vscode-notebook-cell:/d%3A/works/corporate/202311-bosch-python2/simple_demos/notebooks/09_object_model.ipynb#X56sZmlsZQ%3D%3D?line=4'>5</a>\u001b[0m     t\u001b[39m=\u001b[39mcreate_triangle(s1,s2,s3)\n\u001b[1;32m----> <a href='vscode-notebook-cell:/d%3A/works/corporate/202311-bosch-python2/simple_demos/notebooks/09_object_model.ipynb#X56sZmlsZQ%3D%3D?line=5'>6</a>\u001b[0m draw(t)\n\u001b[0;32m      <a href='vscode-notebook-cell:/d%3A/works/corporate/202311-bosch-python2/simple_demos/notebooks/09_object_model.ipynb#X56sZmlsZQ%3D%3D?line=6'>7</a>\u001b[0m \u001b[39mprint\u001b[39m(\u001b[39mf\u001b[39m\u001b[39m'\u001b[39m\u001b[39marea=\u001b[39m\u001b[39m{\u001b[39;00marea(t)\u001b[39m}\u001b[39;00m\u001b[39m'\u001b[39m)\n\u001b[0;32m      <a href='vscode-notebook-cell:/d%3A/works/corporate/202311-bosch-python2/simple_demos/notebooks/09_object_model.ipynb#X56sZmlsZQ%3D%3D?line=7'>8</a>\u001b[0m \u001b[39mprint\u001b[39m(\u001b[39mf\u001b[39m\u001b[39m'\u001b[39m\u001b[39mperiemter=\u001b[39m\u001b[39m{\u001b[39;00mperimeter(t)\u001b[39m}\u001b[39;00m\u001b[39m'\u001b[39m)\n",
      "\u001b[1;32md:\\works\\corporate\\202311-bosch-python2\\simple_demos\\notebooks\\09_object_model.ipynb Cell 39\u001b[0m line \u001b[0;36m3\n\u001b[0;32m     <a href='vscode-notebook-cell:/d%3A/works/corporate/202311-bosch-python2/simple_demos/notebooks/09_object_model.ipynb#X56sZmlsZQ%3D%3D?line=34'>35</a>\u001b[0m \u001b[39mdef\u001b[39;00m \u001b[39mdraw\u001b[39m(t):\n\u001b[1;32m---> <a href='vscode-notebook-cell:/d%3A/works/corporate/202311-bosch-python2/simple_demos/notebooks/09_object_model.ipynb#X56sZmlsZQ%3D%3D?line=35'>36</a>\u001b[0m     validate(t)\n\u001b[0;32m     <a href='vscode-notebook-cell:/d%3A/works/corporate/202311-bosch-python2/simple_demos/notebooks/09_object_model.ipynb#X56sZmlsZQ%3D%3D?line=36'>37</a>\u001b[0m     \u001b[39mprint\u001b[39m(\u001b[39mf\u001b[39m\u001b[39m'\u001b[39m\u001b[39mTriangle<\u001b[39m\u001b[39m{\u001b[39;00mt\u001b[39m.\u001b[39ms1\u001b[39m}\u001b[39;00m\u001b[39m,\u001b[39m\u001b[39m{\u001b[39;00mt\u001b[39m.\u001b[39ms2\u001b[39m}\u001b[39;00m\u001b[39m,\u001b[39m\u001b[39m{\u001b[39;00mt\u001b[39m.\u001b[39ms3\u001b[39m}\u001b[39;00m\u001b[39m>\u001b[39m\u001b[39m'\u001b[39m)\n",
      "\u001b[1;32md:\\works\\corporate\\202311-bosch-python2\\simple_demos\\notebooks\\09_object_model.ipynb Cell 39\u001b[0m line \u001b[0;36m1\n\u001b[0;32m     <a href='vscode-notebook-cell:/d%3A/works/corporate/202311-bosch-python2/simple_demos/notebooks/09_object_model.ipynb#X56sZmlsZQ%3D%3D?line=9'>10</a>\u001b[0m \u001b[39mif\u001b[39;00m t\u001b[39m.\u001b[39ms1\u001b[39m>\u001b[39m\u001b[39m0\u001b[39m \u001b[39mand\u001b[39;00m t\u001b[39m.\u001b[39ms2\u001b[39m>\u001b[39m\u001b[39m0\u001b[39m \u001b[39mand\u001b[39;00m t\u001b[39m.\u001b[39ms3\u001b[39m>\u001b[39m\u001b[39m0\u001b[39m \u001b[39mand\u001b[39;00m \\\n\u001b[0;32m     <a href='vscode-notebook-cell:/d%3A/works/corporate/202311-bosch-python2/simple_demos/notebooks/09_object_model.ipynb#X56sZmlsZQ%3D%3D?line=10'>11</a>\u001b[0m         t\u001b[39m.\u001b[39ms1\u001b[39m+\u001b[39mt\u001b[39m.\u001b[39ms2\u001b[39m>\u001b[39mt\u001b[39m.\u001b[39ms3 \u001b[39mand\u001b[39;00m \\\n\u001b[0;32m     <a href='vscode-notebook-cell:/d%3A/works/corporate/202311-bosch-python2/simple_demos/notebooks/09_object_model.ipynb#X56sZmlsZQ%3D%3D?line=11'>12</a>\u001b[0m         t\u001b[39m.\u001b[39ms2\u001b[39m+\u001b[39mt\u001b[39m.\u001b[39ms3\u001b[39m>\u001b[39mt\u001b[39m.\u001b[39ms3 \u001b[39mand\u001b[39;00m \\\n\u001b[0;32m     <a href='vscode-notebook-cell:/d%3A/works/corporate/202311-bosch-python2/simple_demos/notebooks/09_object_model.ipynb#X56sZmlsZQ%3D%3D?line=12'>13</a>\u001b[0m         t\u001b[39m.\u001b[39ms1\u001b[39m+\u001b[39mt\u001b[39m.\u001b[39ms3\u001b[39m>\u001b[39mt\u001b[39m.\u001b[39ms2:\n\u001b[0;32m     <a href='vscode-notebook-cell:/d%3A/works/corporate/202311-bosch-python2/simple_demos/notebooks/09_object_model.ipynb#X56sZmlsZQ%3D%3D?line=13'>14</a>\u001b[0m     \u001b[39mreturn\u001b[39;00m\n\u001b[1;32m---> <a href='vscode-notebook-cell:/d%3A/works/corporate/202311-bosch-python2/simple_demos/notebooks/09_object_model.ipynb#X56sZmlsZQ%3D%3D?line=14'>15</a>\u001b[0m \u001b[39mraise\u001b[39;00m \u001b[39mValueError\u001b[39;00m(\u001b[39m\"\u001b[39m\u001b[39mInvalid Sides\u001b[39m\u001b[39m\"\u001b[39m)\n",
      "\u001b[1;31mValueError\u001b[0m: Invalid Sides"
     ]
    }
   ],
   "source": [
    "test_triangle(create_triangle(3,6,12))"
   ]
  },
  {
   "cell_type": "code",
   "execution_count": 43,
   "metadata": {},
   "outputs": [
    {
     "ename": "TypeError",
     "evalue": "t must be a Triangle",
     "output_type": "error",
     "traceback": [
      "\u001b[1;31m---------------------------------------------------------------------------\u001b[0m",
      "\u001b[1;31mTypeError\u001b[0m                                 Traceback (most recent call last)",
      "\u001b[1;32md:\\works\\corporate\\202311-bosch-python2\\simple_demos\\notebooks\\09_object_model.ipynb Cell 40\u001b[0m line \u001b[0;36m1\n\u001b[1;32m----> <a href='vscode-notebook-cell:/d%3A/works/corporate/202311-bosch-python2/simple_demos/notebooks/09_object_model.ipynb#X61sZmlsZQ%3D%3D?line=0'>1</a>\u001b[0m test_triangle(Circle())\n",
      "\u001b[1;32md:\\works\\corporate\\202311-bosch-python2\\simple_demos\\notebooks\\09_object_model.ipynb Cell 40\u001b[0m line \u001b[0;36m6\n\u001b[0;32m      <a href='vscode-notebook-cell:/d%3A/works/corporate/202311-bosch-python2/simple_demos/notebooks/09_object_model.ipynb#X61sZmlsZQ%3D%3D?line=3'>4</a>\u001b[0m \u001b[39melse\u001b[39;00m:\n\u001b[0;32m      <a href='vscode-notebook-cell:/d%3A/works/corporate/202311-bosch-python2/simple_demos/notebooks/09_object_model.ipynb#X61sZmlsZQ%3D%3D?line=4'>5</a>\u001b[0m     t\u001b[39m=\u001b[39mcreate_triangle(s1,s2,s3)\n\u001b[1;32m----> <a href='vscode-notebook-cell:/d%3A/works/corporate/202311-bosch-python2/simple_demos/notebooks/09_object_model.ipynb#X61sZmlsZQ%3D%3D?line=5'>6</a>\u001b[0m draw(t)\n\u001b[0;32m      <a href='vscode-notebook-cell:/d%3A/works/corporate/202311-bosch-python2/simple_demos/notebooks/09_object_model.ipynb#X61sZmlsZQ%3D%3D?line=6'>7</a>\u001b[0m \u001b[39mprint\u001b[39m(\u001b[39mf\u001b[39m\u001b[39m'\u001b[39m\u001b[39marea=\u001b[39m\u001b[39m{\u001b[39;00marea(t)\u001b[39m}\u001b[39;00m\u001b[39m'\u001b[39m)\n\u001b[0;32m      <a href='vscode-notebook-cell:/d%3A/works/corporate/202311-bosch-python2/simple_demos/notebooks/09_object_model.ipynb#X61sZmlsZQ%3D%3D?line=7'>8</a>\u001b[0m \u001b[39mprint\u001b[39m(\u001b[39mf\u001b[39m\u001b[39m'\u001b[39m\u001b[39mperiemter=\u001b[39m\u001b[39m{\u001b[39;00mperimeter(t)\u001b[39m}\u001b[39;00m\u001b[39m'\u001b[39m)\n",
      "\u001b[1;32md:\\works\\corporate\\202311-bosch-python2\\simple_demos\\notebooks\\09_object_model.ipynb Cell 40\u001b[0m line \u001b[0;36m3\n\u001b[0;32m     <a href='vscode-notebook-cell:/d%3A/works/corporate/202311-bosch-python2/simple_demos/notebooks/09_object_model.ipynb#X61sZmlsZQ%3D%3D?line=34'>35</a>\u001b[0m \u001b[39mdef\u001b[39;00m \u001b[39mdraw\u001b[39m(t):\n\u001b[1;32m---> <a href='vscode-notebook-cell:/d%3A/works/corporate/202311-bosch-python2/simple_demos/notebooks/09_object_model.ipynb#X61sZmlsZQ%3D%3D?line=35'>36</a>\u001b[0m     validate(t)\n\u001b[0;32m     <a href='vscode-notebook-cell:/d%3A/works/corporate/202311-bosch-python2/simple_demos/notebooks/09_object_model.ipynb#X61sZmlsZQ%3D%3D?line=36'>37</a>\u001b[0m     \u001b[39mprint\u001b[39m(\u001b[39mf\u001b[39m\u001b[39m'\u001b[39m\u001b[39mTriangle<\u001b[39m\u001b[39m{\u001b[39;00mt\u001b[39m.\u001b[39ms1\u001b[39m}\u001b[39;00m\u001b[39m,\u001b[39m\u001b[39m{\u001b[39;00mt\u001b[39m.\u001b[39ms2\u001b[39m}\u001b[39;00m\u001b[39m,\u001b[39m\u001b[39m{\u001b[39;00mt\u001b[39m.\u001b[39ms3\u001b[39m}\u001b[39;00m\u001b[39m>\u001b[39m\u001b[39m'\u001b[39m)\n",
      "\u001b[1;32md:\\works\\corporate\\202311-bosch-python2\\simple_demos\\notebooks\\09_object_model.ipynb Cell 40\u001b[0m line \u001b[0;36m8\n\u001b[0;32m      <a href='vscode-notebook-cell:/d%3A/works/corporate/202311-bosch-python2/simple_demos/notebooks/09_object_model.ipynb#X61sZmlsZQ%3D%3D?line=5'>6</a>\u001b[0m \u001b[39mdef\u001b[39;00m \u001b[39mvalidate\u001b[39m(t):\n\u001b[0;32m      <a href='vscode-notebook-cell:/d%3A/works/corporate/202311-bosch-python2/simple_demos/notebooks/09_object_model.ipynb#X61sZmlsZQ%3D%3D?line=6'>7</a>\u001b[0m     \u001b[39mif\u001b[39;00m \u001b[39mnot\u001b[39;00m \u001b[39misinstance\u001b[39m(t, Triangle):\n\u001b[1;32m----> <a href='vscode-notebook-cell:/d%3A/works/corporate/202311-bosch-python2/simple_demos/notebooks/09_object_model.ipynb#X61sZmlsZQ%3D%3D?line=7'>8</a>\u001b[0m         \u001b[39mraise\u001b[39;00m \u001b[39mTypeError\u001b[39;00m(\u001b[39m\"\u001b[39m\u001b[39mt must be a Triangle\u001b[39m\u001b[39m\"\u001b[39m)\n\u001b[0;32m     <a href='vscode-notebook-cell:/d%3A/works/corporate/202311-bosch-python2/simple_demos/notebooks/09_object_model.ipynb#X61sZmlsZQ%3D%3D?line=9'>10</a>\u001b[0m     \u001b[39mif\u001b[39;00m t\u001b[39m.\u001b[39ms1\u001b[39m>\u001b[39m\u001b[39m0\u001b[39m \u001b[39mand\u001b[39;00m t\u001b[39m.\u001b[39ms2\u001b[39m>\u001b[39m\u001b[39m0\u001b[39m \u001b[39mand\u001b[39;00m t\u001b[39m.\u001b[39ms3\u001b[39m>\u001b[39m\u001b[39m0\u001b[39m \u001b[39mand\u001b[39;00m \\\n\u001b[0;32m     <a href='vscode-notebook-cell:/d%3A/works/corporate/202311-bosch-python2/simple_demos/notebooks/09_object_model.ipynb#X61sZmlsZQ%3D%3D?line=10'>11</a>\u001b[0m             t\u001b[39m.\u001b[39ms1\u001b[39m+\u001b[39mt\u001b[39m.\u001b[39ms2\u001b[39m>\u001b[39mt\u001b[39m.\u001b[39ms3 \u001b[39mand\u001b[39;00m \\\n\u001b[0;32m     <a href='vscode-notebook-cell:/d%3A/works/corporate/202311-bosch-python2/simple_demos/notebooks/09_object_model.ipynb#X61sZmlsZQ%3D%3D?line=11'>12</a>\u001b[0m             t\u001b[39m.\u001b[39ms2\u001b[39m+\u001b[39mt\u001b[39m.\u001b[39ms3\u001b[39m>\u001b[39mt\u001b[39m.\u001b[39ms3 \u001b[39mand\u001b[39;00m \\\n\u001b[0;32m     <a href='vscode-notebook-cell:/d%3A/works/corporate/202311-bosch-python2/simple_demos/notebooks/09_object_model.ipynb#X61sZmlsZQ%3D%3D?line=12'>13</a>\u001b[0m             t\u001b[39m.\u001b[39ms1\u001b[39m+\u001b[39mt\u001b[39m.\u001b[39ms3\u001b[39m>\u001b[39mt\u001b[39m.\u001b[39ms2:\n\u001b[0;32m     <a href='vscode-notebook-cell:/d%3A/works/corporate/202311-bosch-python2/simple_demos/notebooks/09_object_model.ipynb#X61sZmlsZQ%3D%3D?line=13'>14</a>\u001b[0m         \u001b[39mreturn\u001b[39;00m\n",
      "\u001b[1;31mTypeError\u001b[0m: t must be a Triangle"
     ]
    }
   ],
   "source": [
    "test_triangle(Circle())"
   ]
  },
  {
   "cell_type": "markdown",
   "metadata": {},
   "source": [
    "### Let's define the Circle"
   ]
  },
  {
   "cell_type": "code",
   "execution_count": 44,
   "metadata": {},
   "outputs": [],
   "source": [
    "import math\n",
    "\n",
    "class Circle:\n",
    "    pass\n",
    "\n",
    "def validate(circle):\n",
    "    if not isinstance(circle, Circle):\n",
    "        raise TypeError(f\"{type(circle)} Not a Cricle\")\n",
    "    if circle.radius<=0:\n",
    "        raise ValueError(f'Invalid Radius: {circle.radius}')\n",
    "\n",
    "def create_circle(radius):\n",
    "    c=Circle()\n",
    "    c.radius=radius\n",
    "    validate(c)\n",
    "    return c\n",
    "\n",
    "def perimeter(circle):\n",
    "    validate(circle)\n",
    "    return 2* math.pi*circle.radius\n",
    "\n",
    "def area(circle):\n",
    "    validate(circle)\n",
    "    return math.pi*circle.radius*circle.radius\n",
    "\n",
    "def draw(circle):\n",
    "    validate(circle)\n",
    "    print(f'Circle({circle.radius})')\n",
    "    "
   ]
  },
  {
   "cell_type": "markdown",
   "metadata": {},
   "source": [
    "##### Test Function"
   ]
  },
  {
   "cell_type": "code",
   "execution_count": 45,
   "metadata": {},
   "outputs": [],
   "source": [
    "def test_circle(c):\n",
    "    draw(c)\n",
    "    print(f'area={area(c)}')\n",
    "    print(f'Perimeter={perimeter(c)}')"
   ]
  },
  {
   "cell_type": "code",
   "execution_count": 46,
   "metadata": {},
   "outputs": [
    {
     "name": "stdout",
     "output_type": "stream",
     "text": [
      "Circle(7)\n",
      "area=153.93804002589985\n",
      "Perimeter=43.982297150257104\n"
     ]
    }
   ],
   "source": [
    "test_circle(create_circle(7))"
   ]
  },
  {
   "cell_type": "code",
   "execution_count": 47,
   "metadata": {},
   "outputs": [
    {
     "ename": "ValueError",
     "evalue": "Invalid Radius: 0",
     "output_type": "error",
     "traceback": [
      "\u001b[1;31m---------------------------------------------------------------------------\u001b[0m",
      "\u001b[1;31mValueError\u001b[0m                                Traceback (most recent call last)",
      "\u001b[1;32md:\\works\\corporate\\202311-bosch-python2\\simple_demos\\notebooks\\09_object_model.ipynb Cell 46\u001b[0m line \u001b[0;36m1\n\u001b[1;32m----> <a href='vscode-notebook-cell:/d%3A/works/corporate/202311-bosch-python2/simple_demos/notebooks/09_object_model.ipynb#X65sZmlsZQ%3D%3D?line=0'>1</a>\u001b[0m test_circle(create_circle(\u001b[39m0\u001b[39;49m))\n",
      "\u001b[1;32md:\\works\\corporate\\202311-bosch-python2\\simple_demos\\notebooks\\09_object_model.ipynb Cell 46\u001b[0m line \u001b[0;36m1\n\u001b[0;32m     <a href='vscode-notebook-cell:/d%3A/works/corporate/202311-bosch-python2/simple_demos/notebooks/09_object_model.ipynb#X65sZmlsZQ%3D%3D?line=12'>13</a>\u001b[0m c\u001b[39m=\u001b[39mCircle()\n\u001b[0;32m     <a href='vscode-notebook-cell:/d%3A/works/corporate/202311-bosch-python2/simple_demos/notebooks/09_object_model.ipynb#X65sZmlsZQ%3D%3D?line=13'>14</a>\u001b[0m c\u001b[39m.\u001b[39mradius\u001b[39m=\u001b[39mradius\n\u001b[1;32m---> <a href='vscode-notebook-cell:/d%3A/works/corporate/202311-bosch-python2/simple_demos/notebooks/09_object_model.ipynb#X65sZmlsZQ%3D%3D?line=14'>15</a>\u001b[0m validate(c)\n\u001b[0;32m     <a href='vscode-notebook-cell:/d%3A/works/corporate/202311-bosch-python2/simple_demos/notebooks/09_object_model.ipynb#X65sZmlsZQ%3D%3D?line=15'>16</a>\u001b[0m \u001b[39mreturn\u001b[39;00m c\n",
      "\u001b[1;32md:\\works\\corporate\\202311-bosch-python2\\simple_demos\\notebooks\\09_object_model.ipynb Cell 46\u001b[0m line \u001b[0;36m1\n\u001b[0;32m      <a href='vscode-notebook-cell:/d%3A/works/corporate/202311-bosch-python2/simple_demos/notebooks/09_object_model.ipynb#X65sZmlsZQ%3D%3D?line=7'>8</a>\u001b[0m     \u001b[39mraise\u001b[39;00m \u001b[39mTypeError\u001b[39;00m(\u001b[39mf\u001b[39m\u001b[39m\"\u001b[39m\u001b[39m{\u001b[39;00m\u001b[39mtype\u001b[39m(circle)\u001b[39m}\u001b[39;00m\u001b[39m Not a Cricle\u001b[39m\u001b[39m\"\u001b[39m)\n\u001b[0;32m      <a href='vscode-notebook-cell:/d%3A/works/corporate/202311-bosch-python2/simple_demos/notebooks/09_object_model.ipynb#X65sZmlsZQ%3D%3D?line=8'>9</a>\u001b[0m \u001b[39mif\u001b[39;00m circle\u001b[39m.\u001b[39mradius\u001b[39m<\u001b[39m\u001b[39m=\u001b[39m\u001b[39m0\u001b[39m:\n\u001b[1;32m---> <a href='vscode-notebook-cell:/d%3A/works/corporate/202311-bosch-python2/simple_demos/notebooks/09_object_model.ipynb#X65sZmlsZQ%3D%3D?line=9'>10</a>\u001b[0m     \u001b[39mraise\u001b[39;00m \u001b[39mValueError\u001b[39;00m(\u001b[39mf\u001b[39m\u001b[39m'\u001b[39m\u001b[39mInvalid Radius: \u001b[39m\u001b[39m{\u001b[39;00mcircle\u001b[39m.\u001b[39mradius\u001b[39m}\u001b[39;00m\u001b[39m'\u001b[39m)\n",
      "\u001b[1;31mValueError\u001b[0m: Invalid Radius: 0"
     ]
    }
   ],
   "source": [
    "test_circle(create_circle(0))"
   ]
  },
  {
   "cell_type": "markdown",
   "metadata": {},
   "source": [
    "### Let us test triangle Again!"
   ]
  },
  {
   "cell_type": "code",
   "execution_count": 48,
   "metadata": {},
   "outputs": [],
   "source": [
    "t=create_triangle(3,4,5)"
   ]
  },
  {
   "cell_type": "code",
   "execution_count": 49,
   "metadata": {},
   "outputs": [
    {
     "ename": "TypeError",
     "evalue": "<class '__main__.Triangle'> Not a Cricle",
     "output_type": "error",
     "traceback": [
      "\u001b[1;31m---------------------------------------------------------------------------\u001b[0m",
      "\u001b[1;31mTypeError\u001b[0m                                 Traceback (most recent call last)",
      "\u001b[1;32md:\\works\\corporate\\202311-bosch-python2\\simple_demos\\notebooks\\09_object_model.ipynb Cell 49\u001b[0m line \u001b[0;36m1\n\u001b[1;32m----> <a href='vscode-notebook-cell:/d%3A/works/corporate/202311-bosch-python2/simple_demos/notebooks/09_object_model.ipynb#Y102sZmlsZQ%3D%3D?line=0'>1</a>\u001b[0m test_triangle(t)\n",
      "\u001b[1;32md:\\works\\corporate\\202311-bosch-python2\\simple_demos\\notebooks\\09_object_model.ipynb Cell 49\u001b[0m line \u001b[0;36m6\n\u001b[0;32m      <a href='vscode-notebook-cell:/d%3A/works/corporate/202311-bosch-python2/simple_demos/notebooks/09_object_model.ipynb#Y102sZmlsZQ%3D%3D?line=3'>4</a>\u001b[0m \u001b[39melse\u001b[39;00m:\n\u001b[0;32m      <a href='vscode-notebook-cell:/d%3A/works/corporate/202311-bosch-python2/simple_demos/notebooks/09_object_model.ipynb#Y102sZmlsZQ%3D%3D?line=4'>5</a>\u001b[0m     t\u001b[39m=\u001b[39mcreate_triangle(s1,s2,s3)\n\u001b[1;32m----> <a href='vscode-notebook-cell:/d%3A/works/corporate/202311-bosch-python2/simple_demos/notebooks/09_object_model.ipynb#Y102sZmlsZQ%3D%3D?line=5'>6</a>\u001b[0m draw(t)\n\u001b[0;32m      <a href='vscode-notebook-cell:/d%3A/works/corporate/202311-bosch-python2/simple_demos/notebooks/09_object_model.ipynb#Y102sZmlsZQ%3D%3D?line=6'>7</a>\u001b[0m \u001b[39mprint\u001b[39m(\u001b[39mf\u001b[39m\u001b[39m'\u001b[39m\u001b[39marea=\u001b[39m\u001b[39m{\u001b[39;00marea(t)\u001b[39m}\u001b[39;00m\u001b[39m'\u001b[39m)\n\u001b[0;32m      <a href='vscode-notebook-cell:/d%3A/works/corporate/202311-bosch-python2/simple_demos/notebooks/09_object_model.ipynb#Y102sZmlsZQ%3D%3D?line=7'>8</a>\u001b[0m \u001b[39mprint\u001b[39m(\u001b[39mf\u001b[39m\u001b[39m'\u001b[39m\u001b[39mperiemter=\u001b[39m\u001b[39m{\u001b[39;00mperimeter(t)\u001b[39m}\u001b[39;00m\u001b[39m'\u001b[39m)\n",
      "\u001b[1;32md:\\works\\corporate\\202311-bosch-python2\\simple_demos\\notebooks\\09_object_model.ipynb Cell 49\u001b[0m line \u001b[0;36m2\n\u001b[0;32m     <a href='vscode-notebook-cell:/d%3A/works/corporate/202311-bosch-python2/simple_demos/notebooks/09_object_model.ipynb#Y102sZmlsZQ%3D%3D?line=25'>26</a>\u001b[0m \u001b[39mdef\u001b[39;00m \u001b[39mdraw\u001b[39m(circle):\n\u001b[1;32m---> <a href='vscode-notebook-cell:/d%3A/works/corporate/202311-bosch-python2/simple_demos/notebooks/09_object_model.ipynb#Y102sZmlsZQ%3D%3D?line=26'>27</a>\u001b[0m     validate(circle)\n\u001b[0;32m     <a href='vscode-notebook-cell:/d%3A/works/corporate/202311-bosch-python2/simple_demos/notebooks/09_object_model.ipynb#Y102sZmlsZQ%3D%3D?line=27'>28</a>\u001b[0m     \u001b[39mprint\u001b[39m(\u001b[39mf\u001b[39m\u001b[39m'\u001b[39m\u001b[39mCircle(\u001b[39m\u001b[39m{\u001b[39;00mcircle\u001b[39m.\u001b[39mradius\u001b[39m}\u001b[39;00m\u001b[39m)\u001b[39m\u001b[39m'\u001b[39m)\n",
      "\u001b[1;32md:\\works\\corporate\\202311-bosch-python2\\simple_demos\\notebooks\\09_object_model.ipynb Cell 49\u001b[0m line \u001b[0;36m8\n\u001b[0;32m      <a href='vscode-notebook-cell:/d%3A/works/corporate/202311-bosch-python2/simple_demos/notebooks/09_object_model.ipynb#Y102sZmlsZQ%3D%3D?line=5'>6</a>\u001b[0m \u001b[39mdef\u001b[39;00m \u001b[39mvalidate\u001b[39m(circle):\n\u001b[0;32m      <a href='vscode-notebook-cell:/d%3A/works/corporate/202311-bosch-python2/simple_demos/notebooks/09_object_model.ipynb#Y102sZmlsZQ%3D%3D?line=6'>7</a>\u001b[0m     \u001b[39mif\u001b[39;00m \u001b[39mnot\u001b[39;00m \u001b[39misinstance\u001b[39m(circle, Circle):\n\u001b[1;32m----> <a href='vscode-notebook-cell:/d%3A/works/corporate/202311-bosch-python2/simple_demos/notebooks/09_object_model.ipynb#Y102sZmlsZQ%3D%3D?line=7'>8</a>\u001b[0m         \u001b[39mraise\u001b[39;00m \u001b[39mTypeError\u001b[39;00m(\u001b[39mf\u001b[39m\u001b[39m\"\u001b[39m\u001b[39m{\u001b[39;00m\u001b[39mtype\u001b[39m(circle)\u001b[39m}\u001b[39;00m\u001b[39m Not a Cricle\u001b[39m\u001b[39m\"\u001b[39m)\n\u001b[0;32m      <a href='vscode-notebook-cell:/d%3A/works/corporate/202311-bosch-python2/simple_demos/notebooks/09_object_model.ipynb#Y102sZmlsZQ%3D%3D?line=8'>9</a>\u001b[0m     \u001b[39mif\u001b[39;00m circle\u001b[39m.\u001b[39mradius\u001b[39m<\u001b[39m\u001b[39m=\u001b[39m\u001b[39m0\u001b[39m:\n\u001b[0;32m     <a href='vscode-notebook-cell:/d%3A/works/corporate/202311-bosch-python2/simple_demos/notebooks/09_object_model.ipynb#Y102sZmlsZQ%3D%3D?line=9'>10</a>\u001b[0m         \u001b[39mraise\u001b[39;00m \u001b[39mValueError\u001b[39;00m(\u001b[39mf\u001b[39m\u001b[39m'\u001b[39m\u001b[39mInvalid Radius: \u001b[39m\u001b[39m{\u001b[39;00mcircle\u001b[39m.\u001b[39mradius\u001b[39m}\u001b[39;00m\u001b[39m'\u001b[39m)\n",
      "\u001b[1;31mTypeError\u001b[0m: <class '__main__.Triangle'> Not a Cricle"
     ]
    }
   ],
   "source": [
    "test_triangle(t)"
   ]
  },
  {
   "cell_type": "markdown",
   "metadata": {},
   "source": [
    "## Problem\n",
    "\n",
    "* the functions area(circle), perimeter(circle), validate(circle) and draw(circle) respectively overwrote corresponding fucntion for triangle that we created earlier.\n",
    "\n",
    "* python **doesn't support overloading** \n",
    "* We can't have two functions with exactly same name in the same context in python.\n",
    "\n",
    "## Solutions\n",
    "\n",
    "* There can be three possible solutions to this problem.\n",
    "\n",
    "\n",
    "##### Solution #1 Use prefixed names [**NOT RECOMMENDED**]\n",
    "\n",
    "* We can use object type prefix to the function names\n",
    "    * triangle_area(triangle) and circle_area(circle)\n",
    "    * triangle_perimeter(triangle) and circle_perimeter(circle)\n",
    "\n",
    "* Since the names are unique, they are \n",
    "    * easier to identify.\n",
    "    * support better intellisense.\n",
    "        * triangle_ will return all functions with same prefix.\n",
    "\n",
    "    * No risk of collisions or overwriting.\n",
    "\n",
    "    * this has been a popular practice in languages like c.\n",
    "        * Example\n",
    "            * string related function\n",
    "                * strcpy\n",
    "                * strcat\n",
    "                * strcmp\n",
    "            * memory related function\n",
    "                * memcpy\n",
    "                * memcmp\n",
    "\n",
    "            * file related funciton\n",
    "                * fopen\n",
    "                * fclose\n",
    "                * fprintf\n",
    "\n",
    "##### If it is popular why it isn't recommended.\n",
    "\n",
    "* It is not a object oriented approach\n",
    "* prefixes are not removable.\n",
    "* There are better and cleaner ways available.\n",
    "\n",
    "\n",
    "### Solution #2 Use Modules.\n",
    "\n",
    "* create separate modules\n",
    "    * circle.py\n",
    "    * triangle.py\n",
    "\n",
    "* One of the core goal of module is eliminate the risk of collision.\n",
    "\n",
    "\n",
    "## ASIDE: Jupyter Notebook feature.\n",
    "* We can save the content of a cell in jupyter in a physical file\n",
    "* This allows a good documentation and file creation together\n",
    "* It is a notebook feature and NOT python feature\n",
    "* we should add special directive in the cell : %%file file_name\n",
    "#### Note:\n",
    "* content of this cell is saved to file.\n",
    "* It is **NOT** executed\n",
    "    * Any function defined here, will not become available to next cell by default"
   ]
  },
  {
   "cell_type": "code",
   "execution_count": 50,
   "metadata": {},
   "outputs": [
    {
     "name": "stdout",
     "output_type": "stream",
     "text": [
      "Writing triangle.py\n"
     ]
    }
   ],
   "source": [
    "%%file triangle.py\n",
    "\n",
    "import math\n",
    "\n",
    "class Triangle:\n",
    "    pass\n",
    "\n",
    "def validate(t):\n",
    "    if not isinstance(t, Triangle):\n",
    "        raise TypeError(\"t must be a Triangle\")\n",
    "    \n",
    "    if t.s1>0 and t.s2>0 and t.s3>0 and \\\n",
    "            t.s1+t.s2>t.s3 and \\\n",
    "            t.s2+t.s3>t.s3 and \\\n",
    "            t.s1+t.s3>t.s2:\n",
    "        return\n",
    "    raise ValueError(\"Invalid Sides\")\n",
    "\n",
    "def perimeter(t):\n",
    "    validate(t) # if it raises we won't reach next line\n",
    "    # if we reach here that means sides are valid.\n",
    "    return t.s1+t.s2+t.s3\n",
    "\n",
    "\n",
    "def create(s1,s2,s3):\n",
    "    t=Triangle()\n",
    "    t.s1=s1\n",
    "    t.s2=s2\n",
    "    t.s3=s3\n",
    "    return t\n",
    "\n",
    "def area(t):\n",
    "    validate(t)\n",
    "    s=perimeter(t)/2\n",
    "    return math.sqrt(s*(s-t.s1)*(s-t.s2)*(s-t.s3))\n",
    "\n",
    "def draw(t):\n",
    "    validate(t)\n",
    "    print(f'Triangle<{t.s1},{t.s2},{t.s3}>')"
   ]
  },
  {
   "cell_type": "code",
   "execution_count": 51,
   "metadata": {},
   "outputs": [
    {
     "name": "stdout",
     "output_type": "stream",
     "text": [
      "Overwriting circle.py\n"
     ]
    }
   ],
   "source": [
    "%%file circle.py\n",
    "\n",
    "import math\n",
    "\n",
    "class Circle:\n",
    "    pass\n",
    "\n",
    "def validate(circle):\n",
    "    if not isinstance(circle, Circle):\n",
    "        raise TypeError(f\"{type(circle)} Not a Cricle\")\n",
    "    if circle.radius<=0:\n",
    "        raise ValueError(f'Invalid Radius: {circle.radius}')\n",
    "\n",
    "def create(radius):\n",
    "    c=Circle()\n",
    "    c.radius=radius\n",
    "    validate(c)\n",
    "    return c\n",
    "\n",
    "def perimeter(circle):\n",
    "    validate(circle)\n",
    "    return 2* math.pi*circle.radius\n",
    "\n",
    "def area(circle):\n",
    "    validate(circle)\n",
    "    return math.pi*circle.radius*circle.radius\n",
    "\n",
    "def draw(circle):\n",
    "    validate(circle)\n",
    "    print(f'Circle({circle.radius})')\n",
    "    "
   ]
  },
  {
   "cell_type": "markdown",
   "metadata": {},
   "source": [
    "### How to use them in jupyter?\n",
    "\n",
    "* Now that we have python files, we can import them as modules."
   ]
  },
  {
   "cell_type": "code",
   "execution_count": 55,
   "metadata": {},
   "outputs": [],
   "source": [
    "import circle\n",
    "import triangle  "
   ]
  },
  {
   "cell_type": "code",
   "execution_count": 56,
   "metadata": {},
   "outputs": [],
   "source": [
    "def test_triangle(x):\n",
    "    triangle.draw(x)\n",
    "    print(f'area is {triangle.area(x)}')\n",
    "    print(f'perimeter is {triangle.perimeter(x)}')\n",
    "\n",
    "\n",
    "def test_circle(c):\n",
    "    circle.draw(c)\n",
    "    print(f'area is {circle.area(c)}')\n",
    "    print(f'perimeter is {circle.perimeter(c)}')"
   ]
  },
  {
   "cell_type": "code",
   "execution_count": 57,
   "metadata": {},
   "outputs": [],
   "source": [
    "t1=triangle.create(3,4,5)\n",
    "c1=circle.create(7)"
   ]
  },
  {
   "cell_type": "code",
   "execution_count": 58,
   "metadata": {},
   "outputs": [
    {
     "name": "stdout",
     "output_type": "stream",
     "text": [
      "Triangle<3,4,5>\n",
      "area is 6.0\n",
      "perimeter is 12\n"
     ]
    }
   ],
   "source": [
    "test_triangle(t1)"
   ]
  },
  {
   "cell_type": "code",
   "execution_count": 59,
   "metadata": {},
   "outputs": [
    {
     "name": "stdout",
     "output_type": "stream",
     "text": [
      "Circle(7)\n",
      "area is 153.93804002589985\n",
      "perimeter is 43.982297150257104\n"
     ]
    }
   ],
   "source": [
    "test_circle(c1)"
   ]
  },
  {
   "cell_type": "markdown",
   "metadata": {},
   "source": [
    "### What have we learnt.\n",
    "\n",
    "* The role of class in python is to define a new **type**\n",
    "* We can use this type to create a new object\n",
    "* The new object will be identified as instance of that class.\n",
    "* class doesn't need to define any property or behavior.\n",
    "* properties are attached to the object after it is created.\n",
    "* We can pass our object to related function\n",
    "* If two different objects will need similar functionalities there is a risk  of name collision (one set overwriting the other)\n",
    "* we can avoid that collision by\n",
    "    1. using name prefixes \n",
    "    2. modules\n",
    "        * The role of module is to group related elements."
   ]
  },
  {
   "cell_type": "markdown",
   "metadata": {},
   "source": []
  }
 ],
 "metadata": {
  "kernelspec": {
   "display_name": "Python 3",
   "language": "python",
   "name": "python3"
  },
  "language_info": {
   "codemirror_mode": {
    "name": "ipython",
    "version": 3
   },
   "file_extension": ".py",
   "mimetype": "text/x-python",
   "name": "python",
   "nbconvert_exporter": "python",
   "pygments_lexer": "ipython3",
   "version": "3.12.0"
  }
 },
 "nbformat": 4,
 "nbformat_minor": 2
}
