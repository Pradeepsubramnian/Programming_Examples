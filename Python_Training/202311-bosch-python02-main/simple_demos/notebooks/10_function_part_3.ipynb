{
 "cells": [
  {
   "cell_type": "markdown",
   "metadata": {},
   "source": [
    "### Advanced Function Concepts.\n",
    "\n",
    "* In python, like everthing else, if a function is an object.\n",
    "* They have a type"
   ]
  },
  {
   "cell_type": "code",
   "execution_count": 4,
   "metadata": {},
   "outputs": [],
   "source": [
    "def plus(x,y):\n",
    "    return x+y"
   ]
  },
  {
   "cell_type": "code",
   "execution_count": 5,
   "metadata": {},
   "outputs": [
    {
     "data": {
      "text/plain": [
       "5"
      ]
     },
     "execution_count": 5,
     "metadata": {},
     "output_type": "execute_result"
    }
   ],
   "source": [
    "plus(2,3)"
   ]
  },
  {
   "cell_type": "code",
   "execution_count": 6,
   "metadata": {},
   "outputs": [
    {
     "name": "stdout",
     "output_type": "stream",
     "text": [
      "<class 'function'>\n"
     ]
    }
   ],
   "source": [
    "print(type(plus))"
   ]
  },
  {
   "cell_type": "markdown",
   "metadata": {},
   "source": [
    "### What happens when we create a \"plus\" function in python.\n",
    "\n",
    "* Python create a function \"plus\" in memory.\n",
    "    * Think of this as an object or value.\n",
    "    * This object has a special property called \"\\_\\_name\\_\\_\" with value \"plus\"\n",
    "\n",
    "* Then python create a reference to this object \n",
    "    * the reference is also called \"plus\"\n",
    "\n"
   ]
  },
  {
   "cell_type": "code",
   "execution_count": 7,
   "metadata": {},
   "outputs": [
    {
     "data": {
      "text/plain": [
       "'plus'"
      ]
     },
     "execution_count": 7,
     "metadata": {},
     "output_type": "execute_result"
    }
   ],
   "source": [
    "plus.__name__ "
   ]
  },
  {
   "cell_type": "markdown",
   "metadata": {},
   "source": [
    "### When we create a function we create two things.\n",
    "\n",
    "\n",
    "1. We create a function.\n",
    "2. We create a reference to that function.\n",
    "\n",
    "* both are given same name.\n",
    "\n",
    "\n",
    "```python\n",
    "def plus(x,y):\n",
    "    return x + y\n",
    "```\n",
    "\n",
    "\n",
    "\n",
    "* The reference \"plus\" is like any other reference.\n",
    "    * it can refer to something else later.\n",
    "\n",
    "* The object \"plus\" is like any value.\n",
    "    * multiple reference can refer to it.\n",
    "\n",
    "* if we write a code\n",
    "\n",
    "```python\n",
    "add=plus\n",
    "plus=20\n",
    "```\n",
    "* add becomes a reference that refers to plus function\n",
    "* plus reference (not function) refers to 20.\n",
    "\n"
   ]
  },
  {
   "cell_type": "code",
   "execution_count": 8,
   "metadata": {},
   "outputs": [],
   "source": [
    "add=plus  # add is another reference to plus function in memory\n",
    "plus=20 # plus reference now refers to 20.  the plus function can still be accessed using \"add\" reference"
   ]
  },
  {
   "cell_type": "code",
   "execution_count": 9,
   "metadata": {},
   "outputs": [
    {
     "name": "stdout",
     "output_type": "stream",
     "text": [
      "20 <class 'int'>\n"
     ]
    }
   ],
   "source": [
    "print(plus, type(plus))"
   ]
  },
  {
   "cell_type": "code",
   "execution_count": 10,
   "metadata": {},
   "outputs": [
    {
     "name": "stdout",
     "output_type": "stream",
     "text": [
      "<function plus at 0x0000025ACE409300> <class 'function'>\n"
     ]
    }
   ],
   "source": [
    "print(add, type(add))"
   ]
  },
  {
   "cell_type": "code",
   "execution_count": 11,
   "metadata": {},
   "outputs": [
    {
     "data": {
      "text/plain": [
       "'plus'"
      ]
     },
     "execution_count": 11,
     "metadata": {},
     "output_type": "execute_result"
    }
   ],
   "source": [
    "add.__name__  # add is a reference to function which was created with name plus."
   ]
  },
  {
   "cell_type": "code",
   "execution_count": 12,
   "metadata": {},
   "outputs": [
    {
     "data": {
      "text/plain": [
       "5"
      ]
     },
     "execution_count": 12,
     "metadata": {},
     "output_type": "execute_result"
    }
   ],
   "source": [
    "add(2,3)"
   ]
  },
  {
   "cell_type": "markdown",
   "metadata": {},
   "source": [
    "### How can \"function is object\" help us?\n",
    "\n",
    "* We can assign a function to different references (we have already seen this)\n",
    "\n",
    "\n",
    "#### Use case #2 create a list of functions."
   ]
  },
  {
   "cell_type": "code",
   "execution_count": 13,
   "metadata": {},
   "outputs": [],
   "source": [
    "def plus(x,y):\n",
    "    return x+y\n",
    "\n",
    "def minus(x,y):\n",
    "    return x-y\n",
    "\n",
    "def multiply(x,y):\n",
    "    return x*y\n",
    "\n",
    "def divide(x,y):\n",
    "    return x/y"
   ]
  },
  {
   "cell_type": "code",
   "execution_count": 14,
   "metadata": {},
   "outputs": [],
   "source": [
    "operators=[plus,minus,multiply,divide]"
   ]
  },
  {
   "cell_type": "markdown",
   "metadata": {},
   "source": [
    "##### Now we can loop thorugh them."
   ]
  },
  {
   "cell_type": "code",
   "execution_count": 15,
   "metadata": {},
   "outputs": [
    {
     "name": "stdout",
     "output_type": "stream",
     "text": [
      "65\n",
      "35\n",
      "750\n",
      "3.3333333333333335\n"
     ]
    }
   ],
   "source": [
    "x=50\n",
    "y=15\n",
    "\n",
    "for i in range(len(operators)):\n",
    "    result = operators[i](x,y)\n",
    "    print(result)\n"
   ]
  },
  {
   "cell_type": "markdown",
   "metadata": {},
   "source": [
    "### using standard for loop"
   ]
  },
  {
   "cell_type": "code",
   "execution_count": 16,
   "metadata": {},
   "outputs": [
    {
     "name": "stdout",
     "output_type": "stream",
     "text": [
      "50 plus 15 = 65\n",
      "50 minus 15 = 35\n",
      "50 multiply 15 = 750\n",
      "50 divide 15 = 3.3333333333333335\n"
     ]
    }
   ],
   "source": [
    "x=50\n",
    "y=15\n",
    "for operator in operators:\n",
    "    result=operator(x,y)\n",
    "    print(f'{x} {operator.__name__} {y} = {result}')"
   ]
  },
  {
   "cell_type": "markdown",
   "metadata": {},
   "source": [
    "### Assignment 4.1\n",
    "\n",
    "* write a function to search and return all \n",
    "    1. even numbers from a number list\n",
    "    2. prime numbers from a number list\n",
    "    \n",
    "\n",
    "```python\n",
    "\n",
    "numbers=[2,3,11,8,4,17,6,13]\n",
    "\n",
    "evens= search_evens(numbers) # [2,8,4,6]\n",
    "\n",
    "primes= search_primes(numbers) # [2,3,11,17,13]\n",
    "\n",
    "```"
   ]
  },
  {
   "cell_type": "code",
   "execution_count": 17,
   "metadata": {},
   "outputs": [],
   "source": [
    "numbers=[2,3,11,8,4,17,6,13]"
   ]
  },
  {
   "cell_type": "code",
   "execution_count": 18,
   "metadata": {},
   "outputs": [],
   "source": [
    "def search_evens(list):\n",
    "    result=[]\n",
    "    for value in list:\n",
    "        if value%2==0:\n",
    "            result.append(value)\n",
    "    return result"
   ]
  },
  {
   "cell_type": "code",
   "execution_count": 19,
   "metadata": {},
   "outputs": [],
   "source": [
    "import primeutils as p\n",
    "def search_primes(list):\n",
    "    result=[]\n",
    "    for value in list:\n",
    "        if p.is_prime(value):\n",
    "            result.append(value)\n",
    "    return result"
   ]
  },
  {
   "cell_type": "code",
   "execution_count": 20,
   "metadata": {},
   "outputs": [
    {
     "data": {
      "text/plain": [
       "[2, 8, 4, 6]"
      ]
     },
     "execution_count": 20,
     "metadata": {},
     "output_type": "execute_result"
    }
   ],
   "source": [
    "search_evens(numbers)"
   ]
  },
  {
   "cell_type": "code",
   "execution_count": 21,
   "metadata": {},
   "outputs": [
    {
     "data": {
      "text/plain": [
       "[2, 3, 11, 17, 13]"
      ]
     },
     "execution_count": 21,
     "metadata": {},
     "output_type": "execute_result"
    }
   ],
   "source": [
    "search_primes(numbers)"
   ]
  },
  {
   "cell_type": "markdown",
   "metadata": {},
   "source": []
  },
  {
   "cell_type": "code",
   "execution_count": 22,
   "metadata": {},
   "outputs": [],
   "source": [
    "import sys\n",
    "sys.path.append('../libs')"
   ]
  },
  {
   "cell_type": "code",
   "execution_count": 23,
   "metadata": {},
   "outputs": [],
   "source": [
    "import books as b"
   ]
  },
  {
   "cell_type": "code",
   "execution_count": 24,
   "metadata": {},
   "outputs": [
    {
     "name": "stdout",
     "output_type": "stream",
     "text": [
      "                                        Original List                                        \n",
      "\n",
      "---------------------------------------------------------------------------------------------\n",
      "|           Title           |           Author          |      Price      |      Rating     |\n",
      "---------------------------------------------------------------------------------------------\n",
      "|     The Acccursed God     |     Vivek Dutta Mishra    |           299   |           4.6   |\n",
      "|        Rashmirathi        |   Ramdhari Singh Dinkar   |           109   |           4.8   |\n",
      "|           Asura           |        Neelkanthan        |           499   |           3.6   |\n",
      "|           Manas           |     Vivek Dutta Mishra    |           199   |           4.5   |\n",
      "|  One Night at Call Center |       Chetan Bhagat       |           399   |           3.9   |\n",
      "|        Kuruksehtra        |   Ramdhari Singh Dinkar   |            99   |           4.1   |\n",
      "---------------------------------------------------------------------------------------------\n",
      "\n"
     ]
    }
   ],
   "source": [
    "books=b.get_books()\n",
    "b.print_books(books,'Original List')"
   ]
  },
  {
   "cell_type": "code",
   "execution_count": 25,
   "metadata": {},
   "outputs": [
    {
     "ename": "NameError",
     "evalue": "name 'search_by_author' is not defined",
     "output_type": "error",
     "traceback": [
      "\u001b[1;31m---------------------------------------------------------------------------\u001b[0m",
      "\u001b[1;31mNameError\u001b[0m                                 Traceback (most recent call last)",
      "\u001b[1;32md:\\works\\corporate\\202311-bosch-python2\\simple_demos\\notebooks\\10_function_part_3.ipynb Cell 30\u001b[0m line \u001b[0;36m1\n\u001b[1;32m----> <a href='vscode-notebook-cell:/d%3A/works/corporate/202311-bosch-python2/simple_demos/notebooks/10_function_part_3.ipynb#X41sZmlsZQ%3D%3D?line=0'>1</a>\u001b[0m result \u001b[39m=\u001b[39m search_by_author(books, \u001b[39m'\u001b[39m\u001b[39mVivek\u001b[39m\u001b[39m'\u001b[39m)\n\u001b[0;32m      <a href='vscode-notebook-cell:/d%3A/works/corporate/202311-bosch-python2/simple_demos/notebooks/10_function_part_3.ipynb#X41sZmlsZQ%3D%3D?line=1'>2</a>\u001b[0m b\u001b[39m.\u001b[39mprint_books(result,\u001b[39m'\u001b[39m\u001b[39mBooks by Vivek\u001b[39m\u001b[39m'\u001b[39m)\n",
      "\u001b[1;31mNameError\u001b[0m: name 'search_by_author' is not defined"
     ]
    }
   ],
   "source": [
    "result = search_by_author(books, 'Vivek')\n",
    "b.print_books(result,'Books by Vivek')"
   ]
  },
  {
   "cell_type": "markdown",
   "metadata": {},
   "source": [
    "### Search books by given author"
   ]
  },
  {
   "cell_type": "code",
   "execution_count": 26,
   "metadata": {},
   "outputs": [],
   "source": [
    "def search_by_author(list, author):\n",
    "    result=[]\n",
    "    for value in list:\n",
    "        if author.lower() in value.author.lower():\n",
    "            result.append(value)\n",
    "    return result \n"
   ]
  },
  {
   "cell_type": "code",
   "execution_count": 27,
   "metadata": {},
   "outputs": [
    {
     "name": "stdout",
     "output_type": "stream",
     "text": [
      "                                        Books by Vivek                                       \n",
      "\n",
      "---------------------------------------------------------------------------------------------\n",
      "|           Title           |           Author          |      Price      |      Rating     |\n",
      "---------------------------------------------------------------------------------------------\n",
      "|     The Acccursed God     |     Vivek Dutta Mishra    |           299   |           4.6   |\n",
      "|           Manas           |     Vivek Dutta Mishra    |           199   |           4.5   |\n",
      "---------------------------------------------------------------------------------------------\n",
      "\n"
     ]
    }
   ],
   "source": [
    "result = search_by_author(books, 'Vivek')\n",
    "b.print_books(result,  'Books by Vivek')"
   ]
  },
  {
   "cell_type": "markdown",
   "metadata": {},
   "source": [
    "### How do I write a generic search function\n",
    "\n",
    "* A search function has 5 core steps\n",
    "    1. create an empty result list\n",
    "    2. loop through each item in original list\n",
    "    3. check if **current value is a match**\n",
    "    4. if yes, add to the result\n",
    "    5. return the result\n",
    "    \n",
    "* Here steps 1,2,4,5 are common across all searches.\n",
    "    * they represent process of search\n",
    "    * how to search\n",
    "\n",
    "* Step 3 doesn't search, it identifies **what we are looking for**\n",
    "    * varies with different business requirement\n",
    "    * A function taht identifies **what we are looking for**\n",
    "\n",
    "* We can separate the two step in two different  parts\n",
    "    \n",
    "    * different match functions\n",
    "        * is_even(number)\n",
    "        * is_prime(number)\n",
    "        * is_cheap(book)\n",
    "        * is_high_rated(book)\n",
    "\n",
    "    * A single generic search\n",
    "        * takes the list\n",
    "        * takes a match function\n",
    "        * uses match function in step 3\n",
    "        * returns the result\n",
    "\n"
   ]
  },
  {
   "cell_type": "code",
   "execution_count": 28,
   "metadata": {},
   "outputs": [],
   "source": [
    "def search(values, criteria):\n",
    "    result=[]\n",
    "    for value in values:\n",
    "        if criteria(value) is True:\n",
    "            result.append(value)\n",
    "    return result"
   ]
  },
  {
   "cell_type": "code",
   "execution_count": 29,
   "metadata": {},
   "outputs": [],
   "source": [
    "numbers=[2,3,9,11,8,5,6,19]"
   ]
  },
  {
   "cell_type": "code",
   "execution_count": 30,
   "metadata": {},
   "outputs": [
    {
     "data": {
      "text/plain": [
       "[2, 3, 11, 5, 19]"
      ]
     },
     "execution_count": 30,
     "metadata": {},
     "output_type": "execute_result"
    }
   ],
   "source": [
    "search(numbers, p.is_prime)"
   ]
  },
  {
   "cell_type": "code",
   "execution_count": 31,
   "metadata": {},
   "outputs": [
    {
     "data": {
      "text/plain": [
       "[2, 8, 6]"
      ]
     },
     "execution_count": 31,
     "metadata": {},
     "output_type": "execute_result"
    }
   ],
   "source": [
    "def is_even(x):\n",
    "    return x%2==0\n",
    "\n",
    "search(numbers, is_even)"
   ]
  },
  {
   "cell_type": "code",
   "execution_count": 32,
   "metadata": {},
   "outputs": [
    {
     "name": "stdout",
     "output_type": "stream",
     "text": [
      "                                       High Rated Books                                      \n",
      "\n",
      "---------------------------------------------------------------------------------------------\n",
      "|           Title           |           Author          |      Price      |      Rating     |\n",
      "---------------------------------------------------------------------------------------------\n",
      "|     The Acccursed God     |     Vivek Dutta Mishra    |           299   |           4.6   |\n",
      "|        Rashmirathi        |   Ramdhari Singh Dinkar   |           109   |           4.8   |\n",
      "|           Manas           |     Vivek Dutta Mishra    |           199   |           4.5   |\n",
      "---------------------------------------------------------------------------------------------\n",
      "\n"
     ]
    }
   ],
   "source": [
    "def high_rated(book):\n",
    "    return book.rating>=4.5\n",
    "\n",
    "result= search(books, high_rated)\n",
    "b.print_books(result,\"High Rated Books\")"
   ]
  },
  {
   "cell_type": "markdown",
   "metadata": {},
   "source": [
    "### Callback Function/Object\n",
    "\n",
    "* It represents a function object (function treated as object) that can be passed to another funciton\n",
    "* another function can execute this function at their convinience to perform some task\n",
    "* Generally it is used in scenario of partially redundeant logic\n",
    "    * we write the common generic logic in a **service** function\n",
    "    * we pass the client specific logic as a **callback** function\n",
    "        * It contains client's specific logic.\n",
    "        * client doesn't call the function directly\n",
    "        * it passes this function as an argument to generic service function\n",
    "\n",
    "    * service function calls the client callback to handle client-specific needs.\n",
    "\n",
    "* Most of the Behavioral design patterns are based on the principles of call back.\n"
   ]
  },
  {
   "cell_type": "markdown",
   "metadata": {},
   "source": [
    "#"
   ]
  },
  {
   "cell_type": "markdown",
   "metadata": {},
   "source": [
    "### How to find books \n",
    "    \n",
    "* in a given price range\n",
    "* by a particular author\n",
    "\n",
    "\n",
    "#### What is the main challenge?\n",
    "\n",
    "* these search criteria required additional information\n",
    "    * price range search needs min,max\n",
    "    * by a given author needs author name\n",
    "\n",
    "```python\n",
    "def in_price_range(book, min,max):\n",
    "    return min <= book.price < max\n",
    "\n",
    "def by_author(book, author):\n",
    "    return author.lower() in book.author.lower()\n",
    "```\n",
    "\n",
    "* but thsese functions are not called directly.\n",
    "    * they will be called by search function.\n",
    "\n",
    "```python\n",
    "def search(values, criteria):\n",
    "    result=[]\n",
    "    for value in values:\n",
    "        if criteria(value) is True:\n",
    "            result.append(value)\n",
    "    return result\n",
    "\n",
    "```\n",
    "\n",
    "* search function passes only one parameter (the item to be matched)\n",
    "    * it doesn't have  and cannot pass \n",
    "        * other criteria related parameters."
   ]
  },
  {
   "cell_type": "code",
   "execution_count": 33,
   "metadata": {},
   "outputs": [],
   "source": [
    "def in_price_range(book, min,max):\n",
    "    return min <= book.price < max\n",
    "\n",
    "def by_author(book, author):\n",
    "    return author.lower() in book.author.lower()"
   ]
  },
  {
   "cell_type": "code",
   "execution_count": 34,
   "metadata": {},
   "outputs": [
    {
     "ename": "TypeError",
     "evalue": "search() takes 2 positional arguments but 4 were given",
     "output_type": "error",
     "traceback": [
      "\u001b[1;31m---------------------------------------------------------------------------\u001b[0m",
      "\u001b[1;31mTypeError\u001b[0m                                 Traceback (most recent call last)",
      "\u001b[1;32md:\\works\\corporate\\202311-bosch-python2\\simple_demos\\notebooks\\10_function_part_3.ipynb Cell 44\u001b[0m line \u001b[0;36m1\n\u001b[1;32m----> <a href='vscode-notebook-cell:/d%3A/works/corporate/202311-bosch-python2/simple_demos/notebooks/10_function_part_3.ipynb#X61sZmlsZQ%3D%3D?line=0'>1</a>\u001b[0m result \u001b[39m=\u001b[39m search(books,in_price_range, \u001b[39m200\u001b[39;49m, \u001b[39m400\u001b[39;49m) \u001b[39m# how do I tell 200-400\u001b[39;00m\n",
      "\u001b[1;31mTypeError\u001b[0m: search() takes 2 positional arguments but 4 were given"
     ]
    }
   ],
   "source": [
    "result = search(books,in_price_range, 200, 400) # how do I tell 200-400"
   ]
  },
  {
   "cell_type": "markdown",
   "metadata": {},
   "source": [
    "### Approach #1\n",
    "\n",
    "1. My criteria may need additional arguments like min,max etc.\n",
    "2. since search function is calling **criteria** function, search must pass these arguments (Line 4)\n",
    "    * since we don't know what arguments, we can pass as \\*args (any number of arguments)\n",
    "\n",
    "3. but this information is not present in search, \n",
    "    * search takes these additional arguments as \\*args (line #1)\n",
    "    * it delegates all additional argument to the criteria.\n",
    "\n",
    "\n",
    "* Whatever additional argument user passes to search, search passes them to criteria.\n",
    "    * arguments are required by criteria \n",
    "    * but we pass them to search."
   ]
  },
  {
   "cell_type": "code",
   "execution_count": 35,
   "metadata": {},
   "outputs": [],
   "source": [
    "def search(values, criteria, *args):\n",
    "    result=[]\n",
    "    for value in values:\n",
    "        if criteria(value, *args) is True:\n",
    "            result.append(value)\n",
    "    return result"
   ]
  },
  {
   "cell_type": "code",
   "execution_count": 36,
   "metadata": {},
   "outputs": [
    {
     "name": "stdout",
     "output_type": "stream",
     "text": [
      "                                 Books in price range:200-400                                \n",
      "\n",
      "---------------------------------------------------------------------------------------------\n",
      "|           Title           |           Author          |      Price      |      Rating     |\n",
      "---------------------------------------------------------------------------------------------\n",
      "|     The Acccursed God     |     Vivek Dutta Mishra    |           299   |           4.6   |\n",
      "|  One Night at Call Center |       Chetan Bhagat       |           399   |           3.9   |\n",
      "---------------------------------------------------------------------------------------------\n",
      "\n"
     ]
    }
   ],
   "source": [
    "result= search(books, in_price_range, 200,400)\n",
    "b.print_books(result,\"Books in price range:200-400\")"
   ]
  },
  {
   "cell_type": "code",
   "execution_count": 37,
   "metadata": {},
   "outputs": [
    {
     "name": "stdout",
     "output_type": "stream",
     "text": [
      "                                       By Author Vivek                                       \n",
      "\n",
      "---------------------------------------------------------------------------------------------\n",
      "|           Title           |           Author          |      Price      |      Rating     |\n",
      "---------------------------------------------------------------------------------------------\n",
      "|     The Acccursed God     |     Vivek Dutta Mishra    |           299   |           4.6   |\n",
      "|           Manas           |     Vivek Dutta Mishra    |           199   |           4.5   |\n",
      "---------------------------------------------------------------------------------------------\n",
      "\n"
     ]
    }
   ],
   "source": [
    "result = search(books,by_author,'Vivek')\n",
    "b.print_books(result,'By Author Vivek')"
   ]
  },
  {
   "cell_type": "markdown",
   "metadata": {},
   "source": [
    "### Lambda Function\n",
    "\n",
    "* python supports lambda function which are \n",
    "    * anonymous \n",
    "    * onliner\n",
    "    * function expression\n",
    "    * with implicit return \n",
    "\n",
    "\n",
    "* Lambda can replace a single one liner function like the below one"
   ]
  },
  {
   "cell_type": "code",
   "execution_count": null,
   "metadata": {},
   "outputs": [],
   "source": [
    "def sum(a,b):\n",
    "    return a+b"
   ]
  },
  {
   "cell_type": "markdown",
   "metadata": {},
   "source": [
    "### with an expression like"
   ]
  },
  {
   "cell_type": "code",
   "execution_count": null,
   "metadata": {},
   "outputs": [],
   "source": [
    "plus = lambda a,b : a+b"
   ]
  },
  {
   "cell_type": "markdown",
   "metadata": {},
   "source": [
    "#### Both will work in the same way"
   ]
  },
  {
   "cell_type": "code",
   "execution_count": null,
   "metadata": {},
   "outputs": [
    {
     "name": "stdout",
     "output_type": "stream",
     "text": [
      "6\n",
      "5\n"
     ]
    }
   ],
   "source": [
    "print(sum(2,4))\n",
    "print(plus(2,3))"
   ]
  },
  {
   "cell_type": "markdown",
   "metadata": {},
   "source": [
    "#### Advantage of Lambda\n",
    "\n",
    "* they can be written anywhere an expression can be written\n",
    "* they can be directly passed to another function cas callback"
   ]
  },
  {
   "cell_type": "markdown",
   "metadata": {},
   "source": [
    "#### Search Approach #2 (Lambda Function)"
   ]
  },
  {
   "cell_type": "code",
   "execution_count": 39,
   "metadata": {},
   "outputs": [
    {
     "name": "stdout",
     "output_type": "stream",
     "text": [
      "                                       Low rated books                                       \n",
      "\n",
      "---------------------------------------------------------------------------------------------\n",
      "|           Title           |           Author          |      Price      |      Rating     |\n",
      "---------------------------------------------------------------------------------------------\n",
      "|           Asura           |        Neelkanthan        |           499   |           3.6   |\n",
      "|  One Night at Call Center |       Chetan Bhagat       |           399   |           3.9   |\n",
      "---------------------------------------------------------------------------------------------\n",
      "\n"
     ]
    }
   ],
   "source": [
    "low_rated_books= search(books, lambda book: book.rating<4)\n",
    "b.print_books(low_rated_books, \"Low rated books\")"
   ]
  },
  {
   "cell_type": "code",
   "execution_count": 40,
   "metadata": {},
   "outputs": [
    {
     "name": "stdout",
     "output_type": "stream",
     "text": [
      "                                       Books by Dinkar                                       \n",
      "\n",
      "---------------------------------------------------------------------------------------------\n",
      "|           Title           |           Author          |      Price      |      Rating     |\n",
      "---------------------------------------------------------------------------------------------\n",
      "|        Rashmirathi        |   Ramdhari Singh Dinkar   |           109   |           4.8   |\n",
      "|        Kuruksehtra        |   Ramdhari Singh Dinkar   |            99   |           4.1   |\n",
      "---------------------------------------------------------------------------------------------\n",
      "\n"
     ]
    }
   ],
   "source": [
    "dinkar_books= search(books, lambda b: \"dinkar\" in b.author.lower())\n",
    "\n",
    "b.print_books(dinkar_books, \"Books by Dinkar\")"
   ]
  },
  {
   "cell_type": "markdown",
   "metadata": {},
   "source": [
    "#### Limitations\n",
    "\n",
    "* Lambda can be just one liner.\n",
    "* It has implicit return "
   ]
  },
  {
   "cell_type": "code",
   "execution_count": null,
   "metadata": {},
   "outputs": [],
   "source": []
  }
 ],
 "metadata": {
  "kernelspec": {
   "display_name": "Python 3",
   "language": "python",
   "name": "python3"
  },
  "language_info": {
   "codemirror_mode": {
    "name": "ipython",
    "version": 3
   },
   "file_extension": ".py",
   "mimetype": "text/x-python",
   "name": "python",
   "nbconvert_exporter": "python",
   "pygments_lexer": "ipython3",
   "version": "3.12.0"
  }
 },
 "nbformat": 4,
 "nbformat_minor": 2
}
