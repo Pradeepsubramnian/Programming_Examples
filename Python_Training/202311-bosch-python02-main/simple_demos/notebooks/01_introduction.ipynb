{
 "cells": [
  {
   "cell_type": "markdown",
   "id": "902248e9-40f2-4867-af57-e2628acf01af",
   "metadata": {},
   "source": [
    "## Hello World, Python\n",
    "\n",
    "* In this notebook, we shall be discussing some basic features of python\n",
    "* We will be including\n",
    "  * Notes\n",
    "  * Code\n",
    "  * Output"
   ]
  },
  {
   "cell_type": "code",
   "execution_count": 1,
   "id": "572dfc69-96e2-4b62-9ab6-162610ad3bf0",
   "metadata": {},
   "outputs": [
    {
     "name": "stdout",
     "output_type": "stream",
     "text": [
      "Hello World\n"
     ]
    }
   ],
   "source": [
    "print('Hello World')"
   ]
  },
  {
   "cell_type": "markdown",
   "id": "25ab9cb6-2301-4b28-ac7e-a485b05b8edc",
   "metadata": {},
   "source": [
    "### Python 3 doesn't support old python 2 print syntax\n",
    "\n",
    "* you will get the error if you try to run this code."
   ]
  },
  {
   "cell_type": "code",
   "execution_count": 2,
   "id": "e256f2e6-69be-47f2-a956-2b138bcda7a1",
   "metadata": {},
   "outputs": [
    {
     "ename": "SyntaxError",
     "evalue": "Missing parentheses in call to 'print'. Did you mean print(...)? (729776420.py, line 1)",
     "output_type": "error",
     "traceback": [
      "\u001b[1;36m  Cell \u001b[1;32mIn[2], line 1\u001b[1;36m\u001b[0m\n\u001b[1;33m    print 'Hello World'\u001b[0m\n\u001b[1;37m    ^\u001b[0m\n\u001b[1;31mSyntaxError\u001b[0m\u001b[1;31m:\u001b[0m Missing parentheses in call to 'print'. Did you mean print(...)?\n"
     ]
    }
   ],
   "source": [
    "print 'Hello World'"
   ]
  },
  {
   "cell_type": "markdown",
   "id": "eb07b1fc-d477-4377-8c71-27414d091134",
   "metadata": {},
   "source": [
    "### Jupyter notebooks are like shell/REPL\n",
    "\n",
    "* They automatically print the result without needing a print statement\n",
    "* This is not possible in a true python script\n",
    "* As a habit, use print where you need."
   ]
  },
  {
   "cell_type": "code",
   "execution_count": 3,
   "id": "206941c3-0e9c-4ece-80e0-bc55f6310401",
   "metadata": {},
   "outputs": [
    {
     "data": {
      "text/plain": [
       "5"
      ]
     },
     "execution_count": 3,
     "metadata": {},
     "output_type": "execute_result"
    }
   ],
   "source": [
    "2+3"
   ]
  },
  {
   "cell_type": "code",
   "execution_count": 4,
   "id": "8ac9e32e-1357-4bc3-9039-0b3519a6e85b",
   "metadata": {},
   "outputs": [
    {
     "data": {
      "text/plain": [
       "64"
      ]
     },
     "execution_count": 4,
     "metadata": {},
     "output_type": "execute_result"
    }
   ],
   "source": [
    "8*8"
   ]
  },
  {
   "cell_type": "code",
   "execution_count": 5,
   "id": "6a4dcde2-ba2b-4179-8e30-e009ea738031",
   "metadata": {},
   "outputs": [
    {
     "name": "stdout",
     "output_type": "stream",
     "text": [
      "64\n"
     ]
    }
   ],
   "source": [
    "print(8*8)"
   ]
  },
  {
   "cell_type": "markdown",
   "id": "efb6ad51-700f-489d-83da-759e12be7fa7",
   "metadata": {},
   "source": [
    "### If there are multiple expressions in same cell\n",
    "\n",
    "* REPL will print the result of last expression only\n",
    "* It will compute everything but will print last one.\n",
    "* In the below cell it will print the result of division"
   ]
  },
  {
   "cell_type": "code",
   "execution_count": 6,
   "id": "74f8860c-030d-4bad-92ad-613486a1d887",
   "metadata": {},
   "outputs": [
    {
     "data": {
      "text/plain": [
       "0.6666666666666666"
      ]
     },
     "execution_count": 6,
     "metadata": {},
     "output_type": "execute_result"
    }
   ],
   "source": [
    "2+3\n",
    "2-3\n",
    "2*3\n",
    "2/3"
   ]
  },
  {
   "cell_type": "markdown",
   "id": "43ed89d2-b5a4-48f8-ba81-a19ad0f4fa81",
   "metadata": {},
   "source": [
    "### To print all result use print\n",
    "\n",
    "* The above code will give NO output in script mode\n",
    "* The below code will work in both REPL and script mode"
   ]
  },
  {
   "cell_type": "code",
   "execution_count": 7,
   "id": "b8dd7973-2d7c-4475-a522-4e8204d6135e",
   "metadata": {},
   "outputs": [
    {
     "name": "stdout",
     "output_type": "stream",
     "text": [
      "5\n",
      "-1\n",
      "6\n",
      "0.6666666666666666\n"
     ]
    }
   ],
   "source": [
    "print(2+3)\n",
    "print(2-3)\n",
    "print(2*3)\n",
    "print(2/3)"
   ]
  },
  {
   "cell_type": "code",
   "execution_count": null,
   "id": "d916fbf1-b36f-4668-976b-6a760eddcc41",
   "metadata": {},
   "outputs": [],
   "source": []
  }
 ],
 "metadata": {
  "kernelspec": {
   "display_name": "Python 3 (ipykernel)",
   "language": "python",
   "name": "python3"
  },
  "language_info": {
   "codemirror_mode": {
    "name": "ipython",
    "version": 3
   },
   "file_extension": ".py",
   "mimetype": "text/x-python",
   "name": "python",
   "nbconvert_exporter": "python",
   "pygments_lexer": "ipython3",
   "version": "3.12.0"
  }
 },
 "nbformat": 4,
 "nbformat_minor": 5
}
