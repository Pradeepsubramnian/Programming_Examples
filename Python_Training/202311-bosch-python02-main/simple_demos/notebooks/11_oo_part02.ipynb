{
 "cells": [
  {
   "cell_type": "markdown",
   "metadata": {},
   "source": [
    "### A Class itself is an object \n",
    "\n",
    "* Since everything is an object in python, a class too is an object.\n",
    "* it has it's type and id."
   ]
  },
  {
   "cell_type": "code",
   "execution_count": 1,
   "metadata": {},
   "outputs": [],
   "source": [
    "class Triangle:\n",
    "    pass"
   ]
  },
  {
   "cell_type": "code",
   "execution_count": 2,
   "metadata": {},
   "outputs": [
    {
     "name": "stdout",
     "output_type": "stream",
     "text": [
      "type <class 'type'>\n",
      "id 1903351356144\n"
     ]
    }
   ],
   "source": [
    "print('type',type(Triangle))\n",
    "print('id',id(Triangle))"
   ]
  },
  {
   "cell_type": "markdown",
   "metadata": {},
   "source": [
    "### How does it help?\n",
    "\n",
    "* Let us create Triangle class and related functions (like previous notebook)"
   ]
  },
  {
   "cell_type": "code",
   "execution_count": 29,
   "metadata": {},
   "outputs": [],
   "source": [
    "import math\n",
    "class Triangle:\n",
    "    pass\n",
    "\n",
    "def validate(t):\n",
    "    if not isinstance(t, Triangle):\n",
    "        raise TypeError(\"t must be a Triangle\")\n",
    "    \n",
    "    if t.s1>0 and t.s2>0 and t.s3>0 and \\\n",
    "            t.s1+t.s2>t.s3 and \\\n",
    "            t.s2+t.s3>t.s3 and \\\n",
    "            t.s1+t.s3>t.s2:\n",
    "        return\n",
    "    raise ValueError(\"Invalid Sides\")\n",
    "\n",
    "def perimeter(t):\n",
    "    validate(t) # if it raises we won't reach next line\n",
    "    # if we reach here that means sides are valid.\n",
    "    return t.s1+t.s2+t.s3\n",
    "\n",
    "\n",
    "def create(s1,s2,s3):\n",
    "    t=Triangle()\n",
    "    t.s1=s1\n",
    "    t.s2=s2\n",
    "    t.s3=s3\n",
    "    return t\n",
    "\n",
    "def area(t):\n",
    "    validate(t)\n",
    "    s=perimeter(t)/2\n",
    "    return math.sqrt(s*(s-t.s1)*(s-t.s2)*(s-t.s3))\n",
    "\n",
    "def draw(t, surface):\n",
    "    validate(t)\n",
    "    print(f'Triangle<{t.s1},{t.s2},{t.s3}> drawn on {surface}')\n"
   ]
  },
  {
   "cell_type": "markdown",
   "metadata": {},
   "source": [
    "### Now we can attach these functions to Triangle class \n",
    "\n",
    "* we can attach properties to any object\n",
    "\n",
    "* since a class is also an object,  we can attach properties to a class also.\n",
    "* functions are also object\n",
    "    * so they can also be attached to a class.\n",
    "\n"
   ]
  },
  {
   "cell_type": "code",
   "execution_count": 30,
   "metadata": {},
   "outputs": [],
   "source": [
    "Triangle.create=create\n",
    "Triangle.area=area\n",
    "Triangle.perimeter=perimeter\n",
    "Triangle.draw=draw\n",
    "Triangle.validate=validate"
   ]
  },
  {
   "cell_type": "markdown",
   "metadata": {},
   "source": [
    "### Now we can use Triangle.create as a secondary referenc to create function."
   ]
  },
  {
   "cell_type": "code",
   "execution_count": 32,
   "metadata": {},
   "outputs": [
    {
     "name": "stdout",
     "output_type": "stream",
     "text": [
      "Triangle<3,4,5> drawn on paper\n",
      "Area 6.0\n"
     ]
    }
   ],
   "source": [
    "t1 = Triangle.create(3,4,5)\n",
    "Triangle.draw(t1,'paper')\n",
    "print('Area',Triangle.area(t1))"
   ]
  },
  {
   "cell_type": "markdown",
   "metadata": {},
   "source": [
    "### IMPORTANT\n",
    "* At this point class Triangle is acting like a module.\n",
    "* It is grouping a list of related functions together.\n",
    "* All Triangle functiosn are not added to Triangle class.\n",
    "* Now we don't need a separate module system.\n",
    "\n",
    "#### Think what happens when we create area\n",
    "\n",
    "```python\n",
    "\n",
    "def area(circle):\n",
    "    return math.pi*circle.radius*circle.radius\n",
    "```\n",
    "\n",
    "* A new \"area(circle)\" function will be created.\n",
    "* the global \"area\" reference will now refer to area(circle) \n",
    "    * global area reference WILL STOP REFERRING to area(triangle)\n",
    "* But we still have a reference \"Triangle.area\" which referes to area(triangle)\n",
    "    * thus the referencde is NOT lost."
   ]
  },
  {
   "cell_type": "markdown",
   "metadata": {},
   "source": [
    "### A compact syntax to create class with associated methods.\n",
    "\n",
    "* instead of creating an empty class and then associateing global methods, we can write methods directly inside the class definition.\n",
    "\n",
    "* this is just a compact syntax for the above work done."
   ]
  },
  {
   "cell_type": "code",
   "execution_count": 37,
   "metadata": {},
   "outputs": [],
   "source": [
    "class Circle:\n",
    "    def create(radius):\n",
    "        c=Circle()\n",
    "        c.radius=radius\n",
    "        Circle.validate(c)\n",
    "        return c\n",
    "    \n",
    "    def validate(circle):\n",
    "        if not isinstance(circle, Circle):\n",
    "            raise TypeError(\"{type(circle)} Must be a Circle\")\n",
    "        if circle.radius<=0:\n",
    "            raise ValueError(\"Circle's radius must be positive\")\n",
    "    \n",
    "    def perimeter(circle):\n",
    "        Circle.validate(circle)\n",
    "        return 2*math.pi*circle.radius\n",
    "    \n",
    "    def area(circle):\n",
    "        Circle.validate(circle)\n",
    "        return math.pi*circle.radius**2\n",
    "    \n",
    "    def draw(circle, surface):\n",
    "        Circle.validate(circle)\n",
    "        print(f'Circle({circle.radius}) drawn on {surface}')"
   ]
  },
  {
   "cell_type": "code",
   "execution_count": 38,
   "metadata": {},
   "outputs": [],
   "source": [
    "def test_shape(Type,shape):\n",
    "    Type.draw(shape,\"screen\")\n",
    "    print(f'Area is {Type.area(shape)}')\n",
    "    print(f'Perimeter is {Type.perimeter(shape)}')\n",
    "    print()\n",
    "    \n",
    "    "
   ]
  },
  {
   "cell_type": "code",
   "execution_count": 39,
   "metadata": {},
   "outputs": [
    {
     "name": "stdout",
     "output_type": "stream",
     "text": [
      "Triangle<3,4,5> drawn on screen\n",
      "Area is 6.0\n",
      "Perimeter is 12\n",
      "\n"
     ]
    }
   ],
   "source": [
    "test_shape(Triangle, Triangle.create(3,4,5))"
   ]
  },
  {
   "cell_type": "code",
   "execution_count": 40,
   "metadata": {},
   "outputs": [
    {
     "name": "stdout",
     "output_type": "stream",
     "text": [
      "Circle(7) drawn on screen\n",
      "Area is 153.93804002589985\n",
      "Perimeter is 43.982297150257104\n",
      "\n"
     ]
    }
   ],
   "source": [
    "test_shape(Circle, Circle.create(7))"
   ]
  },
  {
   "cell_type": "markdown",
   "metadata": {},
   "source": [
    "### Story so far...\n",
    "\n",
    "* A class can also an object.\n",
    "    * It is an object that can create other object\n",
    "    * Type of class is **type**\n",
    "\n",
    "* A class can have properties associated with it.\n",
    "    * those properties are references\n",
    "    * A reference may refer to some function.\n",
    "\n",
    "* We can use compact way to attach a property to a class by using nesting.\n",
    "\n",
    "* A class will generally contain the defintions of methods\n",
    "    * this way class acts more like module to group.\n",
    "\n",
    "* Fields are generally associated to the object using some creator method\n",
    "    * they are no associated with class (Generally) unless you want to associate it with class object"
   ]
  },
  {
   "cell_type": "markdown",
   "metadata": {},
   "source": [
    "### Redundant syntax.\n",
    "\n",
    "* consider the syntax of calling Triangle.area()\n",
    "\n",
    "```python\n",
    "\n",
    "t= Triangle.create(3,4,5)\n",
    "\n",
    "a = Triangle.area(t)\n",
    "\n",
    "```\n",
    "\n",
    "* Note, triangle world is redundant in this example.\n",
    "    * \"Triangle\" refers to Triangle class which contains area function.\n",
    "    * \"t\" refers to \"Triangle\" object whose area is being calculated.\n",
    "\n",
    "    * both \"Triangle\" and \"t\" represent the same idea of Triangle.\n",
    "\n",
    "\n",
    "### Python Object Notation Syntax.\n",
    "\n",
    "* If a class function takes the object of the same class as the first parameter, it can be used as invoking object.\n",
    "\n",
    "* A good example will be \"area()\" Triangle.area() takes \"triangle\" object as first parameter.\n",
    "\n"
   ]
  },
  {
   "cell_type": "code",
   "execution_count": 41,
   "metadata": {},
   "outputs": [
    {
     "name": "stdout",
     "output_type": "stream",
     "text": [
      "6.0\n"
     ]
    }
   ],
   "source": [
    "t= Triangle.create(3,4,5)\n",
    "\n",
    "a= Triangle.area(t)\n",
    "\n",
    "print(a)"
   ]
  },
  {
   "cell_type": "markdown",
   "metadata": {},
   "source": [
    "### This can be written as"
   ]
  },
  {
   "cell_type": "code",
   "execution_count": 42,
   "metadata": {},
   "outputs": [
    {
     "name": "stdout",
     "output_type": "stream",
     "text": [
      "6.0\n"
     ]
    }
   ],
   "source": [
    "t= Triangle.create(3,4,5)\n",
    "\n",
    "a= t.area() # expands to Triangle.area(t)\n",
    "\n",
    "print(a)"
   ]
  },
  {
   "cell_type": "markdown",
   "metadata": {},
   "source": [
    "#### If the function takes additional parameters\n",
    "\n",
    "* those parameters are passed normally."
   ]
  },
  {
   "cell_type": "code",
   "execution_count": 43,
   "metadata": {},
   "outputs": [
    {
     "name": "stdout",
     "output_type": "stream",
     "text": [
      "Triangle<3,4,5> drawn on sand\n"
     ]
    }
   ],
   "source": [
    "t.draw(\"sand\") # Triangle.draw(t,\"sand\")"
   ]
  },
  {
   "cell_type": "markdown",
   "metadata": {},
   "source": [
    "#### NOTE: This approach will NOT workd for \"create\" function.\n",
    "\n",
    "* Triangle.create(s1,s2,s3) doesn't take triangle object as a parameter.\n",
    "* it takes a number as first parameter."
   ]
  },
  {
   "cell_type": "code",
   "execution_count": 44,
   "metadata": {},
   "outputs": [
    {
     "ename": "TypeError",
     "evalue": "create() takes 3 positional arguments but 4 were given",
     "output_type": "error",
     "traceback": [
      "\u001b[1;31m---------------------------------------------------------------------------\u001b[0m",
      "\u001b[1;31mTypeError\u001b[0m                                 Traceback (most recent call last)",
      "\u001b[1;32md:\\works\\corporate\\202311-bosch-python2\\simple_demos\\notebooks\\11_oo_part02.ipynb Cell 24\u001b[0m line \u001b[0;36m3\n\u001b[0;32m      <a href='vscode-notebook-cell:/d%3A/works/corporate/202311-bosch-python2/simple_demos/notebooks/11_oo_part02.ipynb#X34sZmlsZQ%3D%3D?line=0'>1</a>\u001b[0m t\u001b[39m=\u001b[39mTriangle()\n\u001b[1;32m----> <a href='vscode-notebook-cell:/d%3A/works/corporate/202311-bosch-python2/simple_demos/notebooks/11_oo_part02.ipynb#X34sZmlsZQ%3D%3D?line=2'>3</a>\u001b[0m t\u001b[39m.\u001b[39;49mcreate(\u001b[39m3\u001b[39;49m,\u001b[39m4\u001b[39;49m,\u001b[39m5\u001b[39;49m) \u001b[39m# Triangle.create(t,3,4,5) --> we passed 4 arguments instead of required 3.\u001b[39;00m\n",
      "\u001b[1;31mTypeError\u001b[0m: create() takes 3 positional arguments but 4 were given"
     ]
    }
   ],
   "source": [
    "t=Triangle()\n",
    "\n",
    "t.create(3,4,5) # Triangle.create(t,3,4,5) --> we passed 4 arguments instead of required 3."
   ]
  },
  {
   "cell_type": "markdown",
   "metadata": {},
   "source": [
    "## Naming Convention : **self**\n",
    "\n",
    "* Instead of everytime using the phrase \"If a class method takes object of same class as first parameter...\"\n",
    "* we name this first parameter as **self**\n",
    "* It is just a coding convention and code works without using any name instead of **self**\n",
    "    * in our exampel we have used the word \"circle\"\n",
    "\n",
    "* **self** is a reminder that this method works on object.\n",
    "    * It has a similar use case as **this** in c++/java/c#\n",
    "\n",
    "\n",
    "### This vs self.\n",
    "\n",
    "* **this** is a language keyword in C++/Java \n",
    "    * **self** is a conventional name not supported by the language.\n",
    "* **this** is fixed.\n",
    "    * we can't change this name,\n",
    "    * we can't use it for any other purpose\n",
    "\n",
    "* **self** is not a keyword.\n",
    "    * we can use any other word we like.\n",
    "    * we may use **self** for any other purpose.\n",
    "\n",
    "* **this** is implicit. We don't pass it explicitly. \n",
    "    * **self** must be supplied explicitly.\n",
    "\n",
    "* **this** is optional. We may use it only to avoid ambiguity.\n",
    "    * **self** is NOT optional. \n",
    "        * we must use it all the time when trying to access object property.\n",
    "    "
   ]
  },
  {
   "cell_type": "markdown",
   "metadata": {},
   "source": [
    "#### Assignment 4.3  Change the create function so that it can be used with self. \n",
    "\n",
    "* since we are passing a circle (self) to create function it is not required from the function to\n",
    "    * create the object\n",
    "    * return the object\n",
    "\n",
    "* All it needs is to set the radius and validate it.\n",
    "\n",
    "```python\n",
    "\n",
    "class Circle:\n",
    "    def create(radius):\n",
    "        c=Circle()\n",
    "        c.radius=radius\n",
    "        Circle.validate(c)\n",
    "        return c       \n",
    "\n",
    "```\n",
    "\n",
    "* can now be written as\n",
    "\n",
    "\n",
    "```python\n",
    "\n",
    "class Circle:\n",
    "    def create(self,radius):\n",
    "        #c=Circle()\n",
    "        self.radius=radius\n",
    "        self.validate() # Circle.validate(c)\n",
    "        #return c       \n",
    "\n",
    "```\n",
    "\n"
   ]
  },
  {
   "cell_type": "code",
   "execution_count": 45,
   "metadata": {},
   "outputs": [],
   "source": [
    "def create(self,radius):\n",
    "    self.radius=radius\n",
    "    self.validate()\n",
    "\n",
    "Circle.create=create "
   ]
  },
  {
   "cell_type": "markdown",
   "metadata": {},
   "source": [
    "### How do I use it?"
   ]
  },
  {
   "cell_type": "code",
   "execution_count": 46,
   "metadata": {},
   "outputs": [
    {
     "name": "stdout",
     "output_type": "stream",
     "text": [
      "Circle(7) drawn on paper\n"
     ]
    }
   ],
   "source": [
    "c= Circle()\n",
    "\n",
    "c.create(7)\n",
    "\n",
    "c.draw(\"paper\")"
   ]
  },
  {
   "cell_type": "markdown",
   "metadata": {},
   "source": [
    "### When is the circle created : LIne #1 or  Line #3?\n",
    "\n",
    "#### If it is created on Line#1\n",
    "\n",
    "* what is the circles radius?\n",
    "* what will be drawn if we try to draw it on Line#2?\n",
    "* what is line#3 doing?\n",
    "\n",
    "\n",
    "#### If it is created on Line#3\n",
    "\n",
    "* What did we do on Line#1?\n",
    "* Will there be a type and id of c on line#2?\n",
    "\n",
    "### There are two Circles\n",
    "\n",
    "##### 1. Python Object in Memory.\n",
    "\n",
    "* It is created on Line#1\n",
    "* But it is not completely ready to be used yet.\n",
    "    * it doesn't have required information.\n",
    "\n",
    "##### 2. Domain Object (As needed by my business)\n",
    "\n",
    "* This object must follow rules of triangle.\n",
    "* it should have valid radius.\n",
    "* object can't really work without reaching this stage.\n",
    "\n",
    "\n",
    "#### Problem \n",
    "\n",
    "* There shouln't be gap between the two creation.\n",
    "* this will lead triangle to remain in a invalid state for sometime.\n",
    "* We may forget to to call **create** function, which is not compulsory.\n",
    "\n",
    "\n",
    "### After a change is sytnax, is **create** still a valid name for what it is doing?\n",
    "\n",
    "```python\n",
    "def create(self,radius):\n",
    "    # self=Circle()\n",
    "    self.radius=radius\n",
    "    self.validate()\n",
    "    # return self\n",
    "```\n",
    "\n",
    "* It is **initializing** an existing object (that was created on line#1)"
   ]
  },
  {
   "cell_type": "markdown",
   "metadata": {},
   "source": [
    "### Python special function \\_\\_init\\_\\_()\n",
    "\n",
    "* python defines a special class method \\_\\_init\\_\\_() in every python class\n",
    "* It is by default a do nothing funciton.\n",
    "* It is called everytime after creating an object to initialize the object.\n",
    "* People normally compare it (and misidentify it) to the constructor of C++/Java\n",
    "    * It has the same job, but not the same design.\n",
    "\n",
    "* this function is called everytime you create the object\n",
    "\n",
    "```python\n",
    "c=Circle() # internally calls c.__init__()\n",
    "```"
   ]
  },
  {
   "cell_type": "code",
   "execution_count": 50,
   "metadata": {},
   "outputs": [],
   "source": [
    "class Circle:\n",
    "    def __init__(self,radius):\n",
    "        self.radius=radius\n",
    "\n",
    "    def draw(self,surface):\n",
    "        print(f'Circle({self.radius}) drawn on {surface}')\n"
   ]
  },
  {
   "cell_type": "markdown",
   "metadata": {},
   "source": [
    "### Now that we have our __init__, python will call it during object creation.\n",
    "* Note this function takes a parameter \n",
    "* We must supply it to Circle constructor so that constructor can supply it to \\_\\_init\\_\\_"
   ]
  },
  {
   "cell_type": "code",
   "execution_count": 51,
   "metadata": {},
   "outputs": [
    {
     "ename": "TypeError",
     "evalue": "Circle.__init__() missing 1 required positional argument: 'radius'",
     "output_type": "error",
     "traceback": [
      "\u001b[1;31m---------------------------------------------------------------------------\u001b[0m",
      "\u001b[1;31mTypeError\u001b[0m                                 Traceback (most recent call last)",
      "\u001b[1;32md:\\works\\corporate\\202311-bosch-python2\\simple_demos\\notebooks\\11_oo_part02.ipynb Cell 34\u001b[0m line \u001b[0;36m1\n\u001b[1;32m----> <a href='vscode-notebook-cell:/d%3A/works/corporate/202311-bosch-python2/simple_demos/notebooks/11_oo_part02.ipynb#X52sZmlsZQ%3D%3D?line=0'>1</a>\u001b[0m c\u001b[39m=\u001b[39mCircle() \u001b[39m# internally calls c.__init__()\u001b[39;00m\n",
      "\u001b[1;31mTypeError\u001b[0m: Circle.__init__() missing 1 required positional argument: 'radius'"
     ]
    }
   ],
   "source": [
    "c=Circle() # internally calls c.__init__()"
   ]
  },
  {
   "cell_type": "code",
   "execution_count": 52,
   "metadata": {},
   "outputs": [
    {
     "name": "stdout",
     "output_type": "stream",
     "text": [
      "Circle(7) drawn on Paper\n"
     ]
    }
   ],
   "source": [
    "c=Circle(7)\n",
    "\n",
    "c.draw('Paper')"
   ]
  },
  {
   "cell_type": "markdown",
   "metadata": {},
   "source": [
    "#### \\_\\_init\\_\\_ vs constructor\n",
    "\n",
    "* We often think \\_\\_init\\_\\_ is same as c++ constructor.\n",
    "    * While they have a similar job, they are different.\n",
    "* Python has a separate constructor which is not modifiable.\n",
    "* This constructor internally calls two functions.\n",
    "* constructors have same name as that of class. but \\_\\_init\\_\\_ is a fixed name across class.\n",
    "\n",
    "* Here is a psudo code for that constructor\n",
    "\n",
    "\n",
    "```python\n",
    "def Circle(self, *args,**kwargs):\n",
    "    obj = Circle.__new__() #speical method that creates the object\n",
    "\n",
    "    obj.__init__(*args,**kwargs)\n",
    "\n",
    "    return obj\n",
    "\n",
    "```\n",
    "\n",
    "\n",
    "## Story so far\n",
    "\n",
    "1. A class generally contains all functions required by the object\n",
    "2. Those functions that take a \"self\" parameter\n",
    "    * are known as object's behavior.\n",
    "    * They  ~~can be~~ **should be** called using object reference\n",
    "        * while you can, avoid calling them using class reference\n",
    "3. Those functions that do not take self parameter can be called only using class reference\n",
    "    * they are known as class level methods.\n",
    "\n",
    "4. Fields or information are generally not part of the class, but object.\n",
    "    * they are generally initialized by special class function \\_\\_init\\_\\_\n",
    "        * it has a similar job to that of the constructor\n",
    "        * but it is not  a constructor."
   ]
  },
  {
   "cell_type": "markdown",
   "metadata": {},
   "source": []
  }
 ],
 "metadata": {
  "kernelspec": {
   "display_name": "Python 3",
   "language": "python",
   "name": "python3"
  },
  "language_info": {
   "codemirror_mode": {
    "name": "ipython",
    "version": 3
   },
   "file_extension": ".py",
   "mimetype": "text/x-python",
   "name": "python",
   "nbconvert_exporter": "python",
   "pygments_lexer": "ipython3",
   "version": "3.12.0"
  }
 },
 "nbformat": 4,
 "nbformat_minor": 2
}
