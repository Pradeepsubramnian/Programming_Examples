{
 "cells": [
  {
   "cell_type": "markdown",
   "metadata": {},
   "source": [
    "### Scopes in OO Programming\n",
    "\n",
    "* C++ style programming language provides several scopes to allow accessibility of class members.\n",
    "    * private: accessible only inside the class\n",
    "    * public: accessible from entire code\n",
    "    * protected: accessible by class and subclasses.\n",
    "    * static : class level members.\n",
    "\n",
    "## Python Doesn't have scope Rule.\n",
    "\n",
    "* All members are always public and accessible.\n",
    "\n",
    "## Conventional Coding Practices.\n",
    "\n",
    "* since python doesn't have a scope rule, we implement certain convention.\n",
    "* Any member that is to be treated as **private** should begin with **underscore**\n",
    "* This doesn't really make the member private,\n",
    "    * it tells the users not to access it from outside."
   ]
  },
  {
   "cell_type": "code",
   "execution_count": 2,
   "metadata": {},
   "outputs": [],
   "source": [
    "class Employee:\n",
    "    def __init__(self,id,name,password,salary):\n",
    "        self.id= id # ok to access from outside\n",
    "        self.name=name\n",
    "        self._password=password # please don't access it from outside\n",
    "        self._salary=salary # don't access it from outside\n",
    "\n",
    "    def info(self):\n",
    "        return f'Employee {self.id}\\t{self.name}\\t{self._salary}'\n",
    "\n"
   ]
  },
  {
   "cell_type": "code",
   "execution_count": 3,
   "metadata": {},
   "outputs": [
    {
     "name": "stdout",
     "output_type": "stream",
     "text": [
      "Employee 1\tSanjay\t200000\n"
     ]
    }
   ],
   "source": [
    "e1=Employee(1,'Sanjay','p@ss',200000)\n",
    "print(e1.info())"
   ]
  },
  {
   "cell_type": "code",
   "execution_count": 5,
   "metadata": {},
   "outputs": [
    {
     "name": "stdout",
     "output_type": "stream",
     "text": [
      "1\n"
     ]
    }
   ],
   "source": [
    "print(e1.id)"
   ]
  },
  {
   "cell_type": "code",
   "execution_count": 6,
   "metadata": {},
   "outputs": [
    {
     "name": "stdout",
     "output_type": "stream",
     "text": [
      "p@ss\n"
     ]
    }
   ],
   "source": [
    "print(e1._password) # We shouldn't but We can access it."
   ]
  },
  {
   "cell_type": "markdown",
   "metadata": {},
   "source": [
    "### A more private member.\n",
    "\n",
    "* If you member should protected from external access, we may use double underscore prefix instread of a single underscore.\n",
    "\n",
    "* accessing such information is less easier."
   ]
  },
  {
   "cell_type": "code",
   "execution_count": 7,
   "metadata": {},
   "outputs": [],
   "source": [
    "class Employee:\n",
    "    def __init__(self,id,name,password,salary):\n",
    "        self.id= id # ok to access from outside\n",
    "        self.name=name\n",
    "        self.__password=password # please don't access it from outside\n",
    "        self._salary=salary # don't access it from outside\n",
    "\n",
    "    def info(self):\n",
    "        return f'Employee {self.id}\\t{self.name}\\t{self._salary}'\n",
    "    \n",
    "    def authenticate(self,password):\n",
    "        return self.__password==password\n",
    "\n"
   ]
  },
  {
   "cell_type": "code",
   "execution_count": 8,
   "metadata": {},
   "outputs": [
    {
     "name": "stdout",
     "output_type": "stream",
     "text": [
      "Employee 1\tPrabhat\t20000\n"
     ]
    }
   ],
   "source": [
    "e=Employee(1,'Prabhat','p@ss',20000)\n",
    "print(e.info())"
   ]
  },
  {
   "cell_type": "code",
   "execution_count": 9,
   "metadata": {},
   "outputs": [
    {
     "data": {
      "text/plain": [
       "True"
      ]
     },
     "execution_count": 9,
     "metadata": {},
     "output_type": "execute_result"
    }
   ],
   "source": [
    "e.authenticate(\"p@ss\")"
   ]
  },
  {
   "cell_type": "code",
   "execution_count": 10,
   "metadata": {},
   "outputs": [
    {
     "data": {
      "text/plain": [
       "False"
      ]
     },
     "execution_count": 10,
     "metadata": {},
     "output_type": "execute_result"
    }
   ],
   "source": [
    "e.authenticate(\"wrong-password\")"
   ]
  },
  {
   "cell_type": "markdown",
   "metadata": {},
   "source": [
    "#### What if we try to modify the password?"
   ]
  },
  {
   "cell_type": "code",
   "execution_count": 11,
   "metadata": {},
   "outputs": [],
   "source": [
    "e.__password=\"hacked\""
   ]
  },
  {
   "cell_type": "code",
   "execution_count": 12,
   "metadata": {},
   "outputs": [
    {
     "name": "stdout",
     "output_type": "stream",
     "text": [
      "hacked\n"
     ]
    }
   ],
   "source": [
    "print(e.__password)"
   ]
  },
  {
   "cell_type": "markdown",
   "metadata": {},
   "source": [
    "### Looks like password has changed.\n",
    "\n",
    "#### But the new value is being ingored bhy authenticate\n",
    "\n",
    "* it is still working with the old value."
   ]
  },
  {
   "cell_type": "code",
   "execution_count": 16,
   "metadata": {},
   "outputs": [
    {
     "data": {
      "text/plain": [
       "False"
      ]
     },
     "execution_count": 16,
     "metadata": {},
     "output_type": "execute_result"
    }
   ],
   "source": [
    "e.authenticate('hacked')"
   ]
  },
  {
   "cell_type": "code",
   "execution_count": 17,
   "metadata": {},
   "outputs": [
    {
     "data": {
      "text/plain": [
       "True"
      ]
     },
     "execution_count": 17,
     "metadata": {},
     "output_type": "execute_result"
    }
   ],
   "source": [
    "e.authenticate(\"p@ss\")"
   ]
  },
  {
   "cell_type": "markdown",
   "metadata": {},
   "source": [
    "### Explanation!\n",
    "\n",
    "* python internally stored double underscored fields differently.\n",
    "* i changes there name internally.\n",
    "    * The name gets additional prefix of **\\_ClassName**\n",
    "\n"
   ]
  },
  {
   "cell_type": "code",
   "execution_count": 32,
   "metadata": {},
   "outputs": [],
   "source": [
    "\n",
    "class Employee:\n",
    "    def __init__(self, id, name, password):\n",
    "        self.id= id  # stored as self.id\n",
    "        self._name=name # stored as self._name\n",
    "\n",
    "        self.__pasword=password # stored as self._Employee__password\n",
    "\n",
    "    def authenticate(self, password):\n",
    "        return self.__password==password # internall changes to:  self._Employee__password==password.\n",
    "    \n",
    "    def info(self):\n",
    "        return f'Employee {self.id}\\t{self._name}'\n"
   ]
  },
  {
   "cell_type": "code",
   "execution_count": 33,
   "metadata": {},
   "outputs": [],
   "source": [
    "def object_info(object):\n",
    "    return [ prop for prop in dir(object) if not prop.endswith(\"__\")]"
   ]
  },
  {
   "cell_type": "code",
   "execution_count": 34,
   "metadata": {},
   "outputs": [],
   "source": [
    "e1 = Employee(1, 'Prabhat',\"p@ss\")"
   ]
  },
  {
   "cell_type": "code",
   "execution_count": 35,
   "metadata": {},
   "outputs": [
    {
     "data": {
      "text/plain": [
       "['_Employee__pasword', '_name', 'authenticate', 'id', 'info']"
      ]
     },
     "execution_count": 35,
     "metadata": {},
     "output_type": "execute_result"
    }
   ],
   "source": [
    "object_info(e1)"
   ]
  },
  {
   "cell_type": "markdown",
   "metadata": {},
   "source": [
    "### This name change happens only in class methods.\n",
    "\n",
    "* Now if we assign value to **e.\\_\\_password**, it creates a new field."
   ]
  },
  {
   "cell_type": "code",
   "execution_count": 36,
   "metadata": {},
   "outputs": [],
   "source": [
    "e1.__password='hacked'"
   ]
  },
  {
   "cell_type": "code",
   "execution_count": 37,
   "metadata": {},
   "outputs": [
    {
     "data": {
      "text/plain": [
       "['_Employee__pasword', '__password', '_name', 'authenticate', 'id', 'info']"
      ]
     },
     "execution_count": 37,
     "metadata": {},
     "output_type": "execute_result"
    }
   ],
   "source": [
    "object_info(e1)"
   ]
  },
  {
   "cell_type": "code",
   "execution_count": 38,
   "metadata": {},
   "outputs": [
    {
     "data": {
      "text/plain": [
       "'hacked'"
      ]
     },
     "execution_count": 38,
     "metadata": {},
     "output_type": "execute_result"
    }
   ],
   "source": [
    "e.__password"
   ]
  },
  {
   "cell_type": "markdown",
   "metadata": {},
   "source": [
    "### The new field is not used by class internals like authenticate.\n",
    "\n",
    "* since the new filed is not being used. its values are UNIMPORTANT.\n",
    "\n",
    "## But now that you know it, you can brak it."
   ]
  },
  {
   "cell_type": "markdown",
   "metadata": {},
   "source": []
  },
  {
   "cell_type": "code",
   "execution_count": 39,
   "metadata": {},
   "outputs": [
    {
     "data": {
      "text/plain": [
       "'hacked'"
      ]
     },
     "execution_count": 39,
     "metadata": {},
     "output_type": "execute_result"
    }
   ],
   "source": [
    "e._Employee__password"
   ]
  },
  {
   "cell_type": "code",
   "execution_count": 40,
   "metadata": {},
   "outputs": [],
   "source": [
    "e._Employee__password='hacked'"
   ]
  },
  {
   "cell_type": "code",
   "execution_count": 41,
   "metadata": {},
   "outputs": [
    {
     "data": {
      "text/plain": [
       "True"
      ]
     },
     "execution_count": 41,
     "metadata": {},
     "output_type": "execute_result"
    }
   ],
   "source": [
    "e.authenticate('hacked')"
   ]
  },
  {
   "cell_type": "markdown",
   "metadata": {},
   "source": [
    "### Do you see any problem in the below code?"
   ]
  },
  {
   "cell_type": "code",
   "execution_count": 42,
   "metadata": {},
   "outputs": [
    {
     "name": "stdout",
     "output_type": "stream",
     "text": [
      "Employee 1\tSanjay\n",
      "Employee 1\tPrabhat\n"
     ]
    }
   ],
   "source": [
    "e1=Employee(1,'Sanjay',\"p@ss\")\n",
    "e2=Employee(1,'Prabhat',\"p@ss\")\n",
    "\n",
    "print(e1.info())\n",
    "print(e2.info())"
   ]
  },
  {
   "cell_type": "markdown",
   "metadata": {},
   "source": [
    "#### Employees shouldn't have same id\n",
    "\n",
    "* it must be unique\n",
    "* instead of taking id as parameter we can auto generate it.\n",
    "* we can stored the last id generated somewhere and increment it everytime I need."
   ]
  },
  {
   "cell_type": "markdown",
   "metadata": {},
   "source": [
    "## C++ satic fields.\n",
    "\n",
    "* C++ generally allows a class level field prefixed with static.\n",
    "* A single copy of this field is maintain for class.\n",
    "* It can be used for sharing some information between all objects of the class.\n",
    "* All objects can access this shared  information\n",
    "\n",
    "\n",
    "### Python Model\n",
    "\n",
    "* python doesn't have **static** keyword.\n",
    "* But it does have a similar concept.\n",
    "* You can attach a field to a class in the same way as you attach methods.\n",
    "* Such fields will have only one copy that can be accessed using\n",
    "    * class reference\n",
    "    * self reference."
   ]
  },
  {
   "cell_type": "code",
   "execution_count": 54,
   "metadata": {},
   "outputs": [],
   "source": [
    "\n",
    "class Employee:\n",
    "    _last_id=0 #class level field.\n",
    "\n",
    "    def __init__(self,  name, password):\n",
    "        Employee._last_id+=1 # using class reference.\n",
    "\n",
    "        self.id= self._last_id  # accessed using self. reference.\n",
    "        self._name=name # stored as self._name\n",
    "\n",
    "        self.__pasword=password # stored as self._Employee__password\n",
    "\n",
    "\n",
    "    def get_last_id(self):\n",
    "        return self._last_id #using self reference\n",
    "    \n",
    "    def employee_count():\n",
    "        return Employee._last_id # using class reference.\n",
    "\n",
    "    def authenticate(self, password):\n",
    "        return self.__password==password # internall changes to:  self._Employee__password==password.\n",
    "    \n",
    "    def info(self):\n",
    "        return f'Employee {self.id}\\t{self._name}'\n"
   ]
  },
  {
   "cell_type": "code",
   "execution_count": 55,
   "metadata": {},
   "outputs": [
    {
     "name": "stdout",
     "output_type": "stream",
     "text": [
      "Employee 1\tVivek\n",
      "Employee 2\tSanjay\n"
     ]
    }
   ],
   "source": [
    "e1=Employee('Vivek','p@ss')\n",
    "e2=Employee('Sanjay','p@ss')\n",
    "\n",
    "print(e1.info())\n",
    "print(e2.info())"
   ]
  },
  {
   "cell_type": "code",
   "execution_count": 56,
   "metadata": {},
   "outputs": [
    {
     "name": "stdout",
     "output_type": "stream",
     "text": [
      "2\n",
      "2\n",
      "2\n"
     ]
    }
   ],
   "source": [
    "print(Employee.employee_count())\n",
    "print(e1.get_last_id())\n",
    "print(e2.get_last_id())"
   ]
  },
  {
   "cell_type": "markdown",
   "metadata": {},
   "source": [
    "### class level fields with self.\n",
    "\n",
    "* A class level field can be accessed either using\n",
    "    * class as reference\n",
    "    * object/self as reference.\n",
    "\n",
    "* According to best practices guidelines\n",
    "    * **A class level field should always be accessed  using  class reference and shouldn't be accessed using object/self reference**\n",
    "        * since it is class level, and not associated with the object, why should we use it with object?\n",
    "\n",
    "\n",
    "### self with class level fields.\n",
    "\n",
    "* Self behaves differently with class level fields when it comes to access or modify a value.\n",
    "\n",
    "### Accessing values using self.\n",
    "\n",
    "* When we try to say **print(self.soemthing))**\n",
    "    1. python checks if **something** is defined for he object \"self\"\n",
    "        * if yes, it is used.\n",
    "\n",
    "    2. if **something** is not defined for the object, python checks if **something** is defined for class of the object.\n",
    "        * if yes, it is used.\n",
    "\n",
    "    3. If it is not found in class or object, ti throws an error"
   ]
  },
  {
   "cell_type": "code",
   "execution_count": 57,
   "metadata": {},
   "outputs": [
    {
     "name": "stdout",
     "output_type": "stream",
     "text": [
      "1\n"
     ]
    }
   ],
   "source": [
    "print(e1.id) # \"id\" is part of object e."
   ]
  },
  {
   "cell_type": "code",
   "execution_count": 58,
   "metadata": {},
   "outputs": [
    {
     "name": "stdout",
     "output_type": "stream",
     "text": [
      "2\n"
     ]
    }
   ],
   "source": [
    "print(e1._last_id) # there is no e._last_id. But there is a Employee._last_id. The same is returned."
   ]
  },
  {
   "cell_type": "markdown",
   "metadata": {},
   "source": [
    "### setting a value for object\n",
    "\n",
    "* when we try to write **e.something=10**\n",
    "    * python attaches this value to \"e\" object\n",
    "    * it doesn't try to see if this property is present in the class or not."
   ]
  },
  {
   "cell_type": "code",
   "execution_count": 59,
   "metadata": {},
   "outputs": [
    {
     "data": {
      "text/plain": [
       "['_Employee__pasword',\n",
       " '_last_id',\n",
       " '_name',\n",
       " 'authenticate',\n",
       " 'employee_count',\n",
       " 'get_last_id',\n",
       " 'id',\n",
       " 'info']"
      ]
     },
     "execution_count": 59,
     "metadata": {},
     "output_type": "execute_result"
    }
   ],
   "source": [
    "object_info(e1)"
   ]
  },
  {
   "cell_type": "code",
   "execution_count": 60,
   "metadata": {},
   "outputs": [],
   "source": [
    "e1._last_id=100  # this value is set only for e1 not for e2 or Employee"
   ]
  },
  {
   "cell_type": "code",
   "execution_count": 61,
   "metadata": {},
   "outputs": [
    {
     "name": "stdout",
     "output_type": "stream",
     "text": [
      "2\n",
      "100\n",
      "2\n"
     ]
    }
   ],
   "source": [
    "print(Employee._last_id)\n",
    "print(e1._last_id)\n",
    "print(e2._last_id)"
   ]
  },
  {
   "cell_type": "markdown",
   "metadata": {},
   "source": [
    "### This may cause unintended consequences\n",
    "\n",
    "* It is strongly recommended that when using class level fields use class reference."
   ]
  },
  {
   "cell_type": "code",
   "execution_count": 62,
   "metadata": {},
   "outputs": [
    {
     "name": "stdout",
     "output_type": "stream",
     "text": [
      "Employee 3\tVinod\n"
     ]
    }
   ],
   "source": [
    "e3=Employee('Vinod',20000)\n",
    "print(e3.info())"
   ]
  },
  {
   "cell_type": "code",
   "execution_count": 63,
   "metadata": {},
   "outputs": [
    {
     "name": "stdout",
     "output_type": "stream",
     "text": [
      "Employee 51\tShivanshi\n"
     ]
    }
   ],
   "source": [
    "Employee._last_id = 50\n",
    "e4=Employee('Shivanshi',10000)\n",
    "print(e4.info())"
   ]
  },
  {
   "cell_type": "code",
   "execution_count": null,
   "metadata": {},
   "outputs": [],
   "source": []
  }
 ],
 "metadata": {
  "kernelspec": {
   "display_name": "Python 3",
   "language": "python",
   "name": "python3"
  },
  "language_info": {
   "codemirror_mode": {
    "name": "ipython",
    "version": 3
   },
   "file_extension": ".py",
   "mimetype": "text/x-python",
   "name": "python",
   "nbconvert_exporter": "python",
   "pygments_lexer": "ipython3",
   "version": "3.12.0"
  }
 },
 "nbformat": 4,
 "nbformat_minor": 2
}
